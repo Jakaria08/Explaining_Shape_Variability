{
 "cells": [
  {
   "cell_type": "code",
   "execution_count": 1,
   "metadata": {
    "tags": []
   },
   "outputs": [
    {
     "name": "stdout",
     "output_type": "stream",
     "text": [
      "Jupyter environment detected. Enabling Open3D WebVisualizer.\n",
      "[Open3D INFO] WebRTC GUI backend enabled.\n",
      "[Open3D INFO] WebRTCWindowSystem: HTTP handshake server disabled.\n"
     ]
    }
   ],
   "source": [
    "import os, sys\n",
    "\n",
    "from math import ceil\n",
    "\n",
    "import numpy as np\n",
    "import meshplot as mp\n",
    "import ipywidgets\n",
    "from skimage import measure\n",
    "from scipy.ndimage import zoom\n",
    "from scipy.interpolate import interpn\n",
    "from IPython.display import display\n",
    "from einops import rearrange\n",
    "import igl\n",
    "from tqdm import tqdm\n",
    "from sklearn.preprocessing import MinMaxScaler\n",
    "import torch\n",
    "from scipy import stats\n",
    "import matplotlib.pyplot as plt\n",
    "import pandas\n",
    "import open3d as o3d"
   ]
  },
  {
   "cell_type": "code",
   "execution_count": 2,
   "metadata": {},
   "outputs": [],
   "source": [
    "# Meshplot left an annoying print statement in their code. Using this context manager to supress it...\n",
    "class HiddenPrints:\n",
    "    def __enter__(self):\n",
    "        self._original_stdout = sys.stdout\n",
    "        sys.stdout = open(os.devnull, 'w')\n",
    "\n",
    "    def __exit__(self, exc_type, exc_val, exc_tb):\n",
    "        sys.stdout.close()\n",
    "        sys.stdout = self._original_stdout"
   ]
  },
  {
   "cell_type": "code",
   "execution_count": 3,
   "metadata": {},
   "outputs": [],
   "source": [
    "# Dot product on the first dimension of n-dimensional arrays x and y\n",
    "def dot(x, y):\n",
    "    return np.einsum('i..., i... -> ...', x, y)\n",
    "\n",
    "# Signed distance functions from Inigo Quilez https://iquilezles.org/articles/distfunctions/\n",
    "# You could implement the smooth minimum operation as well to compose shapes together for more complex situations\n",
    "def sdf_sphere(x, radius):\n",
    "    return np.linalg.norm(x, axis=0) - radius\n",
    "\n",
    "def sdf_capsule(x, a, b, r):\n",
    "    xa = coords - a\n",
    "    ba = coords - a\n",
    "    h = np.clip(dot(xa, ba) / dot(ba, ba), 0., 1.)\n",
    "    return np.linalg.norm(xa - ba * h) - r\n",
    "\n",
    "def sdf_torus(x, radius, thickness):\n",
    "    \n",
    "    q = np.stack([np.linalg.norm(x[[0, 1]], axis=0) - radius, x[2]])\n",
    "    return np.linalg.norm(q, axis=0) - thickness\n",
    "\n",
    "# Crop an n-dimensional image with a centered cropping region\n",
    "def center_crop(img, shape):\n",
    "    start = [a // 2 - da // 2 for a, da in zip(img.shape, shape)]\n",
    "    end = [a + b for a, b in zip(start, shape)]\n",
    "    slices = tuple([slice(a, b) for a, b in zip(start, end)])\n",
    "    return img[slices]\n",
    "\n",
    "# Add noise to coordinates\n",
    "def gradient_noise(x, scale, strength, seed=None):\n",
    "    shape = [ceil(s / scale) for s in x.shape[1:]]\n",
    "    if seed:\n",
    "        np.random.seed(seed)\n",
    "    scalar_noise = np.random.randn(*shape)\n",
    "    scalar_noise = zoom(scalar_noise, zoom=scale)\n",
    "    scalar_noise = center_crop(scalar_noise, shape=x.shape[1:])\n",
    "    vector_noise = np.stack(np.gradient(scalar_noise))\n",
    "    return vector_noise * strength\n",
    "\n"
   ]
  },
  {
   "cell_type": "code",
   "execution_count": 7,
   "metadata": {},
   "outputs": [
    {
     "data": {
      "application/vnd.jupyter.widget-view+json": {
       "model_id": "d0e48aeb657b45089d5ad5ad5ea1247f",
       "version_major": 2,
       "version_minor": 0
      },
      "text/plain": [
       "interactive(children=(FloatSlider(value=0.25, description='radius', max=0.5, step=0.01), FloatSlider(value=0.1…"
      ]
     },
     "metadata": {},
     "output_type": "display_data"
    }
   ],
   "source": [
    "plot=None\n",
    "@mp.interact(\n",
    "    radius=(0, 0.5, 0.01), \n",
    "    thickness=(0.1, 0.25, 0.01), \n",
    "    noise_scale=(5, 25), \n",
    "    noise_strength=(0.0, 0.4, 0.05),\n",
    "    seed=(1, 100)\n",
    ")\n",
    "def show(radius, thickness, noise_scale, noise_strength, seed):\n",
    "    global plot\n",
    "    global sdf\n",
    "    coords = np.linspace(-1, 1, 100)\n",
    "    x = np.stack(np.meshgrid(coords, coords, coords))\n",
    "    x = x + gradient_noise(x, noise_scale, noise_strength, seed)\n",
    "    sdf = sdf_torus(x, radius, thickness)\n",
    "    verts, faces, normals, values = measure.marching_cubes(sdf, level=0)\n",
    "    \n",
    "    if plot is None:\n",
    "        plot = mp.plot(verts, faces, return_plot=True)\n",
    "    else:\n",
    "        with HiddenPrints():\n",
    "            plot.update_object(vertices=verts, faces=faces)\n",
    "        display(plot._renderer)"
   ]
  },
  {
   "cell_type": "code",
   "execution_count": 6,
   "metadata": {},
   "outputs": [
    {
     "data": {
      "application/vnd.jupyter.widget-view+json": {
       "model_id": "9cc7e58560704a5f8092d94a6a81b28c",
       "version_major": 2,
       "version_minor": 0
      },
      "text/plain": [
       "interactive(children=(FloatSlider(value=0.25, description='radius', max=0.5, step=0.01), FloatSlider(value=0.1…"
      ]
     },
     "metadata": {},
     "output_type": "display_data"
    }
   ],
   "source": [
    "plot=None\n",
    "@mp.interact(\n",
    "    radius=(0, 0.5, 0.01), \n",
    "    thickness=(0.01, 0.25, 0.01), \n",
    "    noise_scale=(0.0, 40, 1),\n",
    "    noise_strength=(0.0, 40, 1),\n",
    "    seed=(1, 100),\n",
    "    bump_angle=(-1., 1., 0.01),\n",
    "    bump_width=(0.01, 0.02, 0.001),\n",
    "    bump_height=(0.01, 50.),\n",
    ")\n",
    "def show(radius, thickness, noise_scale, noise_strength, seed, bump_angle, bump_width, bump_height):\n",
    "    global plot\n",
    "    coords = np.linspace(-1, 1, 100)\n",
    "    x = np.stack(np.meshgrid(coords, coords, coords))\n",
    "    sdf = sdf_torus(x, radius, thickness)\n",
    "    verts, faces, normals, values = measure.marching_cubes(sdf, level=0)\n",
    "    \n",
    "    x_warp = gradient_noise(x, noise_scale, noise_strength, seed)\n",
    "    print(x_warp.shape)\n",
    "    \n",
    "    angle = np.pi * bump_angle\n",
    "    gaussian_center = np.array([np.sin(angle), 0., np.cos(angle)]) * radius\n",
    "    print(gaussian_center.shape)\n",
    "    x_dist = np.linalg.norm((x - gaussian_center[:, None, None, None]), axis=0)\n",
    "    print(x_dist.shape)\n",
    "    x_bump = bump_height * np.e ** -(1. / bump_width * x_dist ** 2)\n",
    "    print(x_bump.shape)\n",
    "    x_warp += -np.stack(np.gradient(x_bump))\n",
    "    \n",
    "    x_warp = rearrange(x_warp, 'v h w d -> h w d v')\n",
    "    vertex_noise = interpn([np.arange(100) for _ in range(3)], x_warp, verts)\n",
    "    verts += vertex_noise\n",
    "    \n",
    "    if plot is None:\n",
    "        plot = mp.plot(verts, faces, return_plot=True)\n",
    "    else:\n",
    "        with HiddenPrints():\n",
    "            plot.update_object(vertices=verts, faces=faces)\n",
    "        display(plot._renderer)"
   ]
  },
  {
   "cell_type": "markdown",
   "metadata": {},
   "source": [
    "## Save torus data into file"
   ]
  },
  {
   "cell_type": "code",
   "execution_count": 6,
   "metadata": {
    "tags": []
   },
   "outputs": [
    {
     "name": "stderr",
     "output_type": "stream",
     "text": [
      "500it [06:11,  1.34it/s]\n"
     ]
    }
   ],
   "source": [
    "radius=0.25 \n",
    "thickness=0.10\n",
    "noise_scale=20\n",
    "noise_strength=0\n",
    "seed=50\n",
    "bump_width=0.01\n",
    "bump_height=30.0\n",
    "\n",
    "for idx, bump_angle in tqdm(enumerate(np.linspace(-1, 1, 500))):\n",
    "    coords = np.linspace(-1, 1, 100)\n",
    "    x = np.stack(np.meshgrid(coords, coords, coords))\n",
    "    sdf = sdf_torus(x, radius, thickness)\n",
    "    verts, faces, normals, values = measure.marching_cubes(sdf, level=0)    \n",
    "   \n",
    "    x_warp = gradient_noise(x, noise_scale, noise_strength, seed)\n",
    "    \n",
    "    angle = np.pi * bump_angle\n",
    "    gaussian_center = np.array([np.sin(angle), 0., np.cos(angle)]) * radius\n",
    "    x_dist = np.linalg.norm((x - gaussian_center[:, None, None, None]), axis=0)\n",
    "    x_bump = bump_height * np.e ** -(1. / bump_width * x_dist ** 2)\n",
    "    x_warp += -np.stack(np.gradient(x_bump))\n",
    "    \n",
    "    x_warp = rearrange(x_warp, 'v h w d -> h w d v')\n",
    "    vertex_noise = interpn([np.arange(100) for _ in range(3)], x_warp, verts)\n",
    "    verts += vertex_noise\n",
    "    \n",
    "    igl.write_triangle_mesh(f\"torus_bump_500/torus_bump_{idx}.ply\", verts, faces)"
   ]
  },
  {
   "cell_type": "markdown",
   "metadata": {
    "tags": []
   },
   "source": [
    "## Save template into file"
   ]
  },
  {
   "cell_type": "code",
   "execution_count": 146,
   "metadata": {},
   "outputs": [
    {
     "data": {
      "text/plain": [
       "True"
      ]
     },
     "execution_count": 146,
     "metadata": {},
     "output_type": "execute_result"
    }
   ],
   "source": [
    "radius=0.25 \n",
    "thickness=0.10\n",
    "noise_scale=20\n",
    "noise_strength=0\n",
    "seed=50\n",
    "bump_width=0.01\n",
    "bump_height=0.01\n",
    "\n",
    "coords = np.linspace(-1, 1, 100)\n",
    "x = np.stack(np.meshgrid(coords, coords, coords))\n",
    "sdf = sdf_torus(x, radius, thickness)\n",
    "verts, faces, normals, values = measure.marching_cubes(sdf, level=0)    \n",
    "\n",
    "x_warp = gradient_noise(x, noise_scale, noise_strength, seed)\n",
    "\n",
    "angle = np.pi * bump_angle\n",
    "gaussian_center = np.array([np.sin(angle), 0., np.cos(angle)]) * radius\n",
    "x_dist = np.linalg.norm((x - gaussian_center[:, None, None, None]), axis=0)\n",
    "x_bump = bump_height * np.e ** -(1. / bump_width * x_dist ** 2)\n",
    "x_warp += -np.stack(np.gradient(x_bump))\n",
    "\n",
    "x_warp = rearrange(x_warp, 'v h w d -> h w d v')\n",
    "vertex_noise = interpn([np.arange(100) for _ in range(3)], x_warp, verts)\n",
    "verts += vertex_noise\n",
    "\n",
    "igl.write_triangle_mesh(f\"torus_bump_500/template.ply\", verts, faces)"
   ]
  },
  {
   "cell_type": "markdown",
   "metadata": {},
   "source": [
    "## Save (min-max-scaled) labels into file"
   ]
  },
  {
   "cell_type": "code",
   "execution_count": 131,
   "metadata": {},
   "outputs": [],
   "source": [
    "scaler = MinMaxScaler()\n",
    "labels = scaler.fit_transform(np.linspace(-1, 1, 500).reshape(-1,1))\n",
    "torch.save(labels.reshape(-1), \"torus_bump_500/labels.pt\")"
   ]
  },
  {
   "cell_type": "code",
   "execution_count": 141,
   "metadata": {},
   "outputs": [],
   "source": [
    "labels = torch.load(\"torus_bump_500/labels.pt\")"
   ]
  },
  {
   "cell_type": "code",
   "execution_count": null,
   "metadata": {},
   "outputs": [],
   "source": []
  },
  {
   "cell_type": "code",
   "execution_count": null,
   "metadata": {},
   "outputs": [],
   "source": []
  },
  {
   "cell_type": "code",
   "execution_count": null,
   "metadata": {},
   "outputs": [],
   "source": []
  },
  {
   "cell_type": "code",
   "execution_count": null,
   "metadata": {},
   "outputs": [],
   "source": []
  },
  {
   "cell_type": "code",
   "execution_count": null,
   "metadata": {},
   "outputs": [],
   "source": []
  },
  {
   "cell_type": "code",
   "execution_count": null,
   "metadata": {},
   "outputs": [],
   "source": []
  },
  {
   "cell_type": "code",
   "execution_count": null,
   "metadata": {},
   "outputs": [],
   "source": []
  },
  {
   "cell_type": "code",
   "execution_count": null,
   "metadata": {},
   "outputs": [],
   "source": []
  },
  {
   "cell_type": "code",
   "execution_count": null,
   "metadata": {},
   "outputs": [],
   "source": []
  },
  {
   "cell_type": "code",
   "execution_count": null,
   "metadata": {},
   "outputs": [],
   "source": []
  },
  {
   "cell_type": "code",
   "execution_count": null,
   "metadata": {},
   "outputs": [],
   "source": []
  },
  {
   "cell_type": "code",
   "execution_count": null,
   "metadata": {},
   "outputs": [],
   "source": []
  },
  {
   "cell_type": "code",
   "execution_count": 104,
   "metadata": {},
   "outputs": [],
   "source": [
    "x_coords = np.linspace(-1, 1, 50)\n",
    "y_coords = np.linspace(-1, 1, 50)\n",
    "z_coords = np.linspace(-1, 1, 50)\n",
    "x = np.stack(np.meshgrid(x_coords, y_coords, z_coords))"
   ]
  },
  {
   "cell_type": "code",
   "execution_count": 105,
   "metadata": {},
   "outputs": [
    {
     "data": {
      "text/plain": [
       "(3, 50, 50, 50)"
      ]
     },
     "execution_count": 105,
     "metadata": {},
     "output_type": "execute_result"
    }
   ],
   "source": [
    "x.shape"
   ]
  },
  {
   "cell_type": "code",
   "execution_count": 106,
   "metadata": {},
   "outputs": [],
   "source": [
    "def _length(a):\n",
    "    return np.linalg.norm(a, axis=0)"
   ]
  },
  {
   "cell_type": "code",
   "execution_count": 107,
   "metadata": {},
   "outputs": [],
   "source": [
    "def sdf_torus(x, radius, thickness):\n",
    "    q = np.stack([np.linalg.norm(x[[0, 2]], axis=0) - radius, x[1]])\n",
    "    return np.linalg.norm(q, axis=0) - thickness"
   ]
  },
  {
   "cell_type": "code",
   "execution_count": 108,
   "metadata": {},
   "outputs": [],
   "source": [
    "_min = np.minimum\n",
    "_max = np.maximum"
   ]
  },
  {
   "cell_type": "code",
   "execution_count": 109,
   "metadata": {},
   "outputs": [],
   "source": [
    "def sdf_box(x):\n",
    "    q = np.abs(x) -1\n",
    "    print(q.shape)\n",
    "    return _length(_max(q, 0)) + _min(np.amax(q, axis=0), 1)"
   ]
  },
  {
   "cell_type": "code",
   "execution_count": 110,
   "metadata": {},
   "outputs": [],
   "source": [
    "def sdf_box2(x):\n",
    "    q = np.abs(x)-1.5\n",
    "    print(q.shape)\n",
    "    return _length(_max(q, 0)) + _min(np.amax(q, axis=0), 1)"
   ]
  },
  {
   "cell_type": "code",
   "execution_count": 111,
   "metadata": {},
   "outputs": [
    {
     "name": "stdout",
     "output_type": "stream",
     "text": [
      "(3, 50, 50, 50)\n"
     ]
    }
   ],
   "source": [
    "sdf = sdf_box(x)"
   ]
  },
  {
   "cell_type": "code",
   "execution_count": 112,
   "metadata": {},
   "outputs": [
    {
     "data": {
      "text/plain": [
       "(50, 50, 50)"
      ]
     },
     "execution_count": 112,
     "metadata": {},
     "output_type": "execute_result"
    }
   ],
   "source": [
    "sdf.shape"
   ]
  },
  {
   "cell_type": "code",
   "execution_count": 113,
   "metadata": {},
   "outputs": [],
   "source": [
    "verts, faces, normals, values = measure.marching_cubes(sdf)\n",
    "verts = verts - 24.5\n",
    "verts = verts / 12.5"
   ]
  },
  {
   "cell_type": "code",
   "execution_count": 114,
   "metadata": {},
   "outputs": [
    {
     "name": "stderr",
     "output_type": "stream",
     "text": [
      "/home/hannes/anaconda3/envs/torus/lib/python3.9/site-packages/jupyter_client/session.py:716: UserWarning: Message serialization failed with:\n",
      "Out of range float values are not JSON compliant\n",
      "Supporting this message is deprecated in jupyter-client 7, please make sure your message is JSON-compliant\n",
      "  content = self.pack(content)\n"
     ]
    },
    {
     "data": {
      "application/vnd.jupyter.widget-view+json": {
       "model_id": "6f22e71a3c6f4e6687f46210f2b84d84",
       "version_major": 2,
       "version_minor": 0
      },
      "text/plain": [
       "Renderer(camera=PerspectiveCamera(children=(DirectionalLight(color='white', intensity=0.6, position=(0.0, 0.0,…"
      ]
     },
     "metadata": {},
     "output_type": "display_data"
    },
    {
     "data": {
      "text/plain": [
       "<meshplot.Viewer.Viewer at 0x7f6fb6213760>"
      ]
     },
     "execution_count": 114,
     "metadata": {},
     "output_type": "execute_result"
    }
   ],
   "source": [
    "mp.plot(v=verts, f=faces)"
   ]
  },
  {
   "cell_type": "code",
   "execution_count": 137,
   "metadata": {},
   "outputs": [],
   "source": [
    "from scipy.spatial import distance\n",
    "scale = []\n",
    "distances = []\n",
    "center = np.array([0,0,1])\n",
    "\n",
    "for i in range(verts.shape[0]):\n",
    "    \n",
    "    dist = distance.euclidean(center, verts[i])\n",
    "    \n",
    "    if dist < 0.3:\n",
    "        scale.append(True)\n",
    "        distances.append(dist)\n",
    "    else:\n",
    "        scale.append(False)\n",
    "        #distances.append(dist)\n",
    "\n"
   ]
  },
  {
   "cell_type": "code",
   "execution_count": 139,
   "metadata": {
    "tags": []
   },
   "outputs": [
    {
     "data": {
      "text/plain": [
       "44"
      ]
     },
     "execution_count": 139,
     "metadata": {},
     "output_type": "execute_result"
    }
   ],
   "source": [
    "len(distances)"
   ]
  },
  {
   "cell_type": "code",
   "execution_count": 130,
   "metadata": {},
   "outputs": [],
   "source": [
    "scale_indices = np.nonzero(np.array(scale))[0]"
   ]
  },
  {
   "cell_type": "code",
   "execution_count": 131,
   "metadata": {},
   "outputs": [
    {
     "data": {
      "text/plain": [
       "(44,)"
      ]
     },
     "execution_count": 131,
     "metadata": {},
     "output_type": "execute_result"
    }
   ],
   "source": [
    "scale_indices.shape"
   ]
  },
  {
   "cell_type": "code",
   "execution_count": 132,
   "metadata": {},
   "outputs": [
    {
     "data": {
      "text/plain": [
       "array([1663, 1665, 1763, 1765, 1767, 1769, 1771, 1773, 1867, 1869, 1871,\n",
       "       1873, 1875, 1877, 1969, 1971, 1973, 1975, 1977, 1979, 1981, 1983,\n",
       "       2073, 2075, 2077, 2079, 2081, 2083, 2085, 2087, 2179, 2181, 2183,\n",
       "       2185, 2187, 2189, 2283, 2285, 2287, 2289, 2291, 2293, 2391, 2393])"
      ]
     },
     "execution_count": 132,
     "metadata": {},
     "output_type": "execute_result"
    }
   ],
   "source": [
    "scale_indices"
   ]
  },
  {
   "cell_type": "code",
   "execution_count": 133,
   "metadata": {},
   "outputs": [],
   "source": [
    "scale_verts = verts[scale_indices]"
   ]
  },
  {
   "cell_type": "code",
   "execution_count": 134,
   "metadata": {},
   "outputs": [
    {
     "data": {
      "text/plain": [
       "array([[-0.28, -0.04,  1.  ],\n",
       "       [-0.28,  0.04,  1.  ],\n",
       "       [-0.2 , -0.2 ,  1.  ],\n",
       "       [-0.2 , -0.12,  1.  ],\n",
       "       [-0.2 , -0.04,  1.  ],\n",
       "       [-0.2 ,  0.04,  1.  ],\n",
       "       [-0.2 ,  0.12,  1.  ],\n",
       "       [-0.2 ,  0.2 ,  1.  ],\n",
       "       [-0.12, -0.2 ,  1.  ],\n",
       "       [-0.12, -0.12,  1.  ],\n",
       "       [-0.12, -0.04,  1.  ],\n",
       "       [-0.12,  0.04,  1.  ],\n",
       "       [-0.12,  0.12,  1.  ],\n",
       "       [-0.12,  0.2 ,  1.  ],\n",
       "       [-0.04, -0.28,  1.  ],\n",
       "       [-0.04, -0.2 ,  1.  ],\n",
       "       [-0.04, -0.12,  1.  ],\n",
       "       [-0.04, -0.04,  1.  ],\n",
       "       [-0.04,  0.04,  1.  ],\n",
       "       [-0.04,  0.12,  1.  ],\n",
       "       [-0.04,  0.2 ,  1.  ],\n",
       "       [-0.04,  0.28,  1.  ],\n",
       "       [ 0.04, -0.28,  1.  ],\n",
       "       [ 0.04, -0.2 ,  1.  ],\n",
       "       [ 0.04, -0.12,  1.  ],\n",
       "       [ 0.04, -0.04,  1.  ],\n",
       "       [ 0.04,  0.04,  1.  ],\n",
       "       [ 0.04,  0.12,  1.  ],\n",
       "       [ 0.04,  0.2 ,  1.  ],\n",
       "       [ 0.04,  0.28,  1.  ],\n",
       "       [ 0.12, -0.2 ,  1.  ],\n",
       "       [ 0.12, -0.12,  1.  ],\n",
       "       [ 0.12, -0.04,  1.  ],\n",
       "       [ 0.12,  0.04,  1.  ],\n",
       "       [ 0.12,  0.12,  1.  ],\n",
       "       [ 0.12,  0.2 ,  1.  ],\n",
       "       [ 0.2 , -0.2 ,  1.  ],\n",
       "       [ 0.2 , -0.12,  1.  ],\n",
       "       [ 0.2 , -0.04,  1.  ],\n",
       "       [ 0.2 ,  0.04,  1.  ],\n",
       "       [ 0.2 ,  0.12,  1.  ],\n",
       "       [ 0.2 ,  0.2 ,  1.  ],\n",
       "       [ 0.28, -0.04,  1.  ],\n",
       "       [ 0.28,  0.04,  1.  ]], dtype=float32)"
      ]
     },
     "execution_count": 134,
     "metadata": {},
     "output_type": "execute_result"
    }
   ],
   "source": [
    "scale_verts"
   ]
  },
  {
   "cell_type": "code",
   "execution_count": 160,
   "metadata": {},
   "outputs": [],
   "source": [
    "new_verts = []\n",
    "for i in range(scale_verts.shape[0]):\n",
    "    factor = 5 * np.exp(-distances[i]/0.1)\n",
    "    new_verts.append(factor*verts[scale_indices][i][2])\n",
    "    "
   ]
  },
  {
   "cell_type": "code",
   "execution_count": 161,
   "metadata": {},
   "outputs": [
    {
     "data": {
      "text/plain": [
       "[0.2955287296958802,\n",
       " 0.2955287296958802,\n",
       " 0.2955287203541767,\n",
       " 0.4853219192206699,\n",
       " 0.6503985693006651,\n",
       " 0.6503985693006651,\n",
       " 0.4853219192206699,\n",
       " 0.2955287203541767,\n",
       " 0.4853219192206699,\n",
       " 0.916110466941587,\n",
       " 1.411322032261202,\n",
       " 1.411322032261202,\n",
       " 0.916110466941587,\n",
       " 0.4853219192206699,\n",
       " 0.2955287296958802,\n",
       " 0.6503985693006651,\n",
       " 1.411322032261202,\n",
       " 2.8398535959682243,\n",
       " 2.8398535959682243,\n",
       " 1.411322032261202,\n",
       " 0.6503985693006651,\n",
       " 0.2955287296958802,\n",
       " 0.2955287296958802,\n",
       " 0.6503985693006651,\n",
       " 1.411322032261202,\n",
       " 2.8398535959682243,\n",
       " 2.8398535959682243,\n",
       " 1.411322032261202,\n",
       " 0.6503985693006651,\n",
       " 0.2955287296958802,\n",
       " 0.4853219192206699,\n",
       " 0.916110466941587,\n",
       " 1.411322032261202,\n",
       " 1.411322032261202,\n",
       " 0.916110466941587,\n",
       " 0.4853219192206699,\n",
       " 0.2955287203541767,\n",
       " 0.4853219192206699,\n",
       " 0.6503985693006651,\n",
       " 0.6503985693006651,\n",
       " 0.4853219192206699,\n",
       " 0.2955287203541767,\n",
       " 0.2955287296958802,\n",
       " 0.2955287296958802]"
      ]
     },
     "execution_count": 161,
     "metadata": {},
     "output_type": "execute_result"
    }
   ],
   "source": [
    "new_verts"
   ]
  },
  {
   "cell_type": "code",
   "execution_count": null,
   "metadata": {},
   "outputs": [],
   "source": [
    "x_dist = np.linalg.norm((x - gaussian_center[:, None, None, None]), axis=0)\n",
    "    print(x_dist.shape)\n",
    "    x_bump = bump_height * np.e ** -(1. / bump_width * x_dist ** 2)"
   ]
  },
  {
   "cell_type": "code",
   "execution_count": null,
   "metadata": {},
   "outputs": [],
   "source": [
    "keep_indices = np.nonzero(np.array(keep))[0]\n",
    "\n",
    "x = np.asarray(box_with_bump.points)[:,0]\n",
    "y = np.asarray(box_with_bump.points)[:,1]\n",
    "z = np.asarray(box_with_bump.points)[:,2]\n",
    "\n",
    "x = x[keep_indices]\n",
    "y = y[keep_indices]\n",
    "z = z[keep_indices]\n",
    "\n",
    "box_with_bump.points = o3d.utility.Vector3dVector(np.stack([x, y, z], axis=1))\n",
    "box_with_bump.estimate_normals()\n",
    "o3d.visualization.draw_geometries([box_with_bump], point_show_normal=True)"
   ]
  },
  {
   "cell_type": "code",
   "execution_count": 116,
   "metadata": {},
   "outputs": [
    {
     "data": {
      "text/html": [
       "<div>\n",
       "<style scoped>\n",
       "    .dataframe tbody tr th:only-of-type {\n",
       "        vertical-align: middle;\n",
       "    }\n",
       "\n",
       "    .dataframe tbody tr th {\n",
       "        vertical-align: top;\n",
       "    }\n",
       "\n",
       "    .dataframe thead th {\n",
       "        text-align: right;\n",
       "    }\n",
       "</style>\n",
       "<table border=\"1\" class=\"dataframe\">\n",
       "  <thead>\n",
       "    <tr style=\"text-align: right;\">\n",
       "      <th></th>\n",
       "      <th>x</th>\n",
       "      <th>y</th>\n",
       "      <th>z</th>\n",
       "    </tr>\n",
       "  </thead>\n",
       "  <tbody>\n",
       "    <tr>\n",
       "      <th>count</th>\n",
       "      <td>4.056000e+03</td>\n",
       "      <td>4.056000e+03</td>\n",
       "      <td>4.056000e+03</td>\n",
       "    </tr>\n",
       "    <tr>\n",
       "      <th>mean</th>\n",
       "      <td>3.009623e-08</td>\n",
       "      <td>-4.232283e-09</td>\n",
       "      <td>-1.881014e-09</td>\n",
       "    </tr>\n",
       "    <tr>\n",
       "      <th>std</th>\n",
       "      <td>7.572811e-01</td>\n",
       "      <td>7.572811e-01</td>\n",
       "      <td>7.572811e-01</td>\n",
       "    </tr>\n",
       "    <tr>\n",
       "      <th>min</th>\n",
       "      <td>-1.000000e+00</td>\n",
       "      <td>-1.000000e+00</td>\n",
       "      <td>-1.000000e+00</td>\n",
       "    </tr>\n",
       "    <tr>\n",
       "      <th>25%</th>\n",
       "      <td>-7.600000e-01</td>\n",
       "      <td>-7.600000e-01</td>\n",
       "      <td>-7.600000e-01</td>\n",
       "    </tr>\n",
       "    <tr>\n",
       "      <th>50%</th>\n",
       "      <td>0.000000e+00</td>\n",
       "      <td>0.000000e+00</td>\n",
       "      <td>0.000000e+00</td>\n",
       "    </tr>\n",
       "    <tr>\n",
       "      <th>75%</th>\n",
       "      <td>7.600000e-01</td>\n",
       "      <td>7.600000e-01</td>\n",
       "      <td>7.600000e-01</td>\n",
       "    </tr>\n",
       "    <tr>\n",
       "      <th>max</th>\n",
       "      <td>1.000000e+00</td>\n",
       "      <td>1.000000e+00</td>\n",
       "      <td>1.000000e+00</td>\n",
       "    </tr>\n",
       "  </tbody>\n",
       "</table>\n",
       "</div>"
      ],
      "text/plain": [
       "                  x             y             z\n",
       "count  4.056000e+03  4.056000e+03  4.056000e+03\n",
       "mean   3.009623e-08 -4.232283e-09 -1.881014e-09\n",
       "std    7.572811e-01  7.572811e-01  7.572811e-01\n",
       "min   -1.000000e+00 -1.000000e+00 -1.000000e+00\n",
       "25%   -7.600000e-01 -7.600000e-01 -7.600000e-01\n",
       "50%    0.000000e+00  0.000000e+00  0.000000e+00\n",
       "75%    7.600000e-01  7.600000e-01  7.600000e-01\n",
       "max    1.000000e+00  1.000000e+00  1.000000e+00"
      ]
     },
     "execution_count": 116,
     "metadata": {},
     "output_type": "execute_result"
    }
   ],
   "source": [
    "df = pd.DataFrame(verts, columns=[\"x\", \"y\", \"z\"])\n",
    "df.describe()"
   ]
  },
  {
   "cell_type": "code",
   "execution_count": 87,
   "metadata": {},
   "outputs": [
    {
     "data": {
      "text/html": [
       "<div>\n",
       "<style scoped>\n",
       "    .dataframe tbody tr th:only-of-type {\n",
       "        vertical-align: middle;\n",
       "    }\n",
       "\n",
       "    .dataframe tbody tr th {\n",
       "        vertical-align: top;\n",
       "    }\n",
       "\n",
       "    .dataframe thead th {\n",
       "        text-align: right;\n",
       "    }\n",
       "</style>\n",
       "<table border=\"1\" class=\"dataframe\">\n",
       "  <thead>\n",
       "    <tr style=\"text-align: right;\">\n",
       "      <th></th>\n",
       "      <th>x</th>\n",
       "      <th>y</th>\n",
       "      <th>z</th>\n",
       "    </tr>\n",
       "  </thead>\n",
       "  <tbody>\n",
       "  </tbody>\n",
       "</table>\n",
       "</div>"
      ],
      "text/plain": [
       "Empty DataFrame\n",
       "Columns: [x, y, z]\n",
       "Index: []"
      ]
     },
     "execution_count": 87,
     "metadata": {},
     "output_type": "execute_result"
    }
   ],
   "source": [
    "df[(df.x == 24) & (df.y == 25) & (df.z == 24)]"
   ]
  },
  {
   "cell_type": "code",
   "execution_count": 63,
   "metadata": {},
   "outputs": [
    {
     "data": {
      "text/plain": [
       "<AxesSubplot:ylabel='Frequency'>"
      ]
     },
     "execution_count": 63,
     "metadata": {},
     "output_type": "execute_result"
    },
    {
     "data": {
      "image/png": "[encoded data removed]",
      "text/plain": [
       "<Figure size 432x288 with 1 Axes>"
      ]
     },
     "metadata": {
      "needs_background": "light"
     },
     "output_type": "display_data"
    }
   ],
   "source": [
    "pd.DataFrame(verts).plot.hist()"
   ]
  },
  {
   "cell_type": "code",
   "execution_count": 34,
   "metadata": {
    "tags": []
   },
   "outputs": [
    {
     "data": {
      "text/plain": [
       "(4056, 3)"
      ]
     },
     "execution_count": 34,
     "metadata": {},
     "output_type": "execute_result"
    }
   ],
   "source": [
    "verts.shape"
   ]
  },
  {
   "cell_type": "code",
   "execution_count": 45,
   "metadata": {},
   "outputs": [],
   "source": [
    "verts[1000] = verts[1000]+20"
   ]
  },
  {
   "cell_type": "code",
   "execution_count": 46,
   "metadata": {},
   "outputs": [
    {
     "data": {
      "application/vnd.jupyter.widget-view+json": {
       "model_id": "69b65473f3f948b091f4c2d5b53b27f7",
       "version_major": 2,
       "version_minor": 0
      },
      "text/plain": [
       "Renderer(camera=PerspectiveCamera(children=(DirectionalLight(color='white', intensity=0.6, position=(24.5, 24.…"
      ]
     },
     "metadata": {},
     "output_type": "display_data"
    },
    {
     "data": {
      "text/plain": [
       "<meshplot.Viewer.Viewer at 0x7f6ff73c9610>"
      ]
     },
     "execution_count": 46,
     "metadata": {},
     "output_type": "execute_result"
    }
   ],
   "source": [
    "mp.plot(v=verts, f=faces)"
   ]
  },
  {
   "cell_type": "code",
   "execution_count": null,
   "metadata": {},
   "outputs": [],
   "source": []
  }
 ],
 "metadata": {
  "kernelspec": {
   "display_name": "Python 3 (ipykernel)",
   "language": "python",
   "name": "python3"
  },
  "language_info": {
   "codemirror_mode": {
    "name": "ipython",
    "version": 3
   },
   "file_extension": ".py",
   "mimetype": "text/x-python",
   "name": "python",
   "nbconvert_exporter": "python",
   "pygments_lexer": "ipython3",
   "version": "3.9.12"
  }
 },
 "nbformat": 4,
 "nbformat_minor": 4
}
