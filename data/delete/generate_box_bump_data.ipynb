{
 "cells": [
  {
   "cell_type": "code",
   "execution_count": 1,
   "id": "98c563f5-acc6-4fa8-9b73-799bb663b499",
   "metadata": {},
   "outputs": [],
   "source": [
    "import os, sys\n",
    "\n",
    "from math import ceil\n",
    "\n",
    "import numpy as np\n",
    "import meshplot as mp\n",
    "import ipywidgets\n",
    "from skimage import measure\n",
    "from scipy.ndimage import zoom\n",
    "from scipy.interpolate import interpn\n",
    "from IPython.display import display\n",
    "from einops import rearrange\n",
    "import igl\n",
    "from tqdm import tqdm\n",
    "from sklearn.preprocessing import MinMaxScaler\n",
    "import torch\n",
    "from scipy import stats\n",
    "import matplotlib.pyplot as plt\n",
    "import meshio\n",
    "from sdf import *\n"
   ]
  },
  {
   "cell_type": "code",
   "execution_count": 10,
   "id": "23fb3315-6b73-4c44-aae2-982a2c944d47",
   "metadata": {},
   "outputs": [],
   "source": [
    "#x_coords = np.linspace(-1.5, 1.5, 50)\n",
    "#y_coords = np.linspace(-1.5, 1.5, 50)\n",
    "#z_coords = np.linspace(-1, 1, 50)\n",
    "#x = np.stack(np.meshgrid(x_coords, y_coords, z_coords))"
   ]
  },
  {
   "cell_type": "code",
   "execution_count": 11,
   "id": "0d0812c0-95f0-4c69-b93e-bd04a91a8dbe",
   "metadata": {},
   "outputs": [],
   "source": [
    "def _length(a):\n",
    "    return np.linalg.norm(a, axis=0)"
   ]
  },
  {
   "cell_type": "code",
   "execution_count": 12,
   "id": "919b38fb-ec54-466c-8823-ef57e1b8db92",
   "metadata": {},
   "outputs": [],
   "source": [
    "_min = np.minimum\n",
    "_max = np.maximum\n",
    "\n",
    "def sdf_box(x, height, width, depth):\n",
    "    q = np.abs(x) - 1\n",
    "    print(q.shape)\n",
    "    return _length(_max(q, 0)) + _min(np.amax(q, axis=0), 1)"
   ]
  },
  {
   "cell_type": "code",
   "execution_count": 13,
   "id": "f2199090-cc6b-4f11-a127-9edc8c719f3e",
   "metadata": {},
   "outputs": [],
   "source": [
    "def center_crop(img, shape):\n",
    "    start = [a // 2 - da // 2 for a, da in zip(img.shape, shape)]\n",
    "    end = [a + b for a, b in zip(start, shape)]\n",
    "    slices = tuple([slice(a, b) for a, b in zip(start, end)])\n",
    "    return img[slices]"
   ]
  },
  {
   "cell_type": "code",
   "execution_count": 14,
   "id": "8ff79157-a000-465e-ba55-032cea2ba4eb",
   "metadata": {},
   "outputs": [],
   "source": [
    "# Add noise to coordinates\n",
    "def gradient_noise(x, scale, strength, seed=None):\n",
    "    shape = [ceil(s / scale) for s in x.shape[1:]]\n",
    "    if seed:\n",
    "        np.random.seed(seed)\n",
    "    scalar_noise = np.random.randn(*shape)\n",
    "    scalar_noise = zoom(scalar_noise, zoom=scale)\n",
    "    #scalar_noise = center_crop(scalar_noise, shape=x.shape[1:])\n",
    "    vector_noise = np.stack(np.gradient(scalar_noise))\n",
    "    return vector_noise * strength"
   ]
  },
  {
   "cell_type": "code",
   "execution_count": 15,
   "id": "9179a62b-8b2b-46d1-8eda-dbacf21633a3",
   "metadata": {},
   "outputs": [],
   "source": [
    "class HiddenPrints:\n",
    "    def __enter__(self):\n",
    "        self._original_stdout = sys.stdout\n",
    "        sys.stdout = open(os.devnull, 'w')\n",
    "\n",
    "    def __exit__(self, exc_type, exc_val, exc_tb):\n",
    "        sys.stdout.close()\n",
    "        sys.stdout = self._original_stdout"
   ]
  },
  {
   "cell_type": "code",
   "execution_count": 16,
   "id": "c4c847e5-252c-4727-b34c-d062ed768823",
   "metadata": {},
   "outputs": [
    {
     "data": {
      "application/vnd.jupyter.widget-view+json": {
       "model_id": "13cc4286ea2e4102916db90d86c6e0b5",
       "version_major": 2,
       "version_minor": 0
      },
      "text/plain": [
       "interactive(children=(FloatSlider(value=2.0, description='height', max=3.0, min=1.0, step=0.5), FloatSlider(va…"
      ]
     },
     "metadata": {},
     "output_type": "display_data"
    }
   ],
   "source": [
    "plot=None\n",
    "@mp.interact(height=(1, 3, 0.5),\n",
    "             width=(1, 3, 0.5),\n",
    "             depth=(1, 3, 0.5),\n",
    "             noise_scale=(1, 1), \n",
    "             noise_strength=(0.0, 0.01, 0.001),\n",
    "             seed=(1, 100)\n",
    "            )\n",
    "def show(height, width, depth, noise_scale, noise_strength, seed):\n",
    "    global plot\n",
    "    x_coords = np.linspace(-height, height, 50)\n",
    "    y_coords = np.linspace(-width, width, 50)\n",
    "    z_coords = np.linspace(-depth, depth, 50)\n",
    "    x = np.stack(np.meshgrid(x_coords, y_coords, z_coords))\n",
    "    \n",
    "    x = x + gradient_noise(x, noise_scale, noise_strength, seed)\n",
    "    \n",
    "    #x = x + gradient_noise(x, noise_scale, noise_strength, seed)\n",
    "    sdf = sdf_box(x, height, width, depth)\n",
    "    verts, faces, normals, values = measure.marching_cubes(sdf, level=0)\n",
    "    \n",
    "    if plot is None:\n",
    "        plot = mp.plot(verts, faces, return_plot=True)\n",
    "    else:\n",
    "        with HiddenPrints():\n",
    "            plot.update_object(vertices=verts, faces=faces)\n",
    "        display(plot._renderer)"
   ]
  },
  {
   "cell_type": "code",
   "execution_count": 37,
   "id": "8e8bcd58-7cbe-419e-bc8f-330ad74956df",
   "metadata": {},
   "outputs": [
    {
     "data": {
      "application/vnd.jupyter.widget-view+json": {
       "model_id": "b275c78a54444c558c6356082dd3771c",
       "version_major": 2,
       "version_minor": 0
      },
      "text/plain": [
       "interactive(children=(FloatSlider(value=2.0, description='height', max=3.0, min=1.0, step=0.5), FloatSlider(va…"
      ]
     },
     "metadata": {},
     "output_type": "display_data"
    }
   ],
   "source": [
    "plot=None\n",
    "@mp.interact(height=(1, 3, 0.5),\n",
    "             width=(1, 3, 0.5),\n",
    "             depth=(1, 3, 0.5),\n",
    "             noise_scale=(1, 1), \n",
    "             noise_strength=(0.0, 0.01, 0.001),\n",
    "             seed=(1, 100),\n",
    "             position=(-0.5, 0.5, 0.1),\n",
    "             bump_width=(0.01, 0.02, 0.001),\n",
    "             bump_height=(0.01, 50.)\n",
    "            )\n",
    "def show(height, width, depth, noise_scale, noise_strength, seed, position, bump_width, bump_height):\n",
    "    global plot\n",
    "    x_coords = np.linspace(-height, height, 50)\n",
    "    y_coords = np.linspace(-width, width, 50)\n",
    "    z_coords = np.linspace(-depth, depth, 50)\n",
    "    x = np.stack(np.meshgrid(x_coords, y_coords, z_coords))\n",
    "    sdf = sdf_box(x, height, width, depth)\n",
    "    verts, faces, normals, values = measure.marching_cubes(sdf, level=0)\n",
    "    \n",
    "    x_warp = gradient_noise(x, noise_scale, noise_strength, seed)\n",
    "    \n",
    "    center = np.array([position, 0., 0.])\n",
    "    x_dist = np.linalg.norm((x - center[:, None, None, None]), axis=0)\n",
    "    x_bump = bump_height * np.e ** -(1. / bump_width * x_dist ** 2)\n",
    "    x_warp += -np.stack(np.gradient(x_bump))\n",
    "    \n",
    "    x_warp = rearrange(x_warp, 'v h w d -> h w d v')\n",
    "    vertex_noise = interpn([np.arange(50) for _ in range(3)], x_warp, verts)\n",
    "    verts += vertex_noise\n",
    "    \n",
    "    #x = x + gradient_noise(x, noise_scale, noise_strength, seed)\n",
    "    #sdf = sdf_box(x)\n",
    "    #verts, faces, normals, values = measure.marching_cubes(sdf, level=0)\n",
    "    \n",
    "    if plot is None:\n",
    "        plot = mp.plot(verts, faces, return_plot=True)\n",
    "    else:\n",
    "        with HiddenPrints():\n",
    "            plot.update_object(vertices=verts, faces=faces)\n",
    "        display(plot._renderer)"
   ]
  },
  {
   "cell_type": "code",
   "execution_count": null,
   "id": "98a19733-43e9-4a47-80ca-73dfff9d6edf",
   "metadata": {},
   "outputs": [],
   "source": []
  },
  {
   "cell_type": "code",
   "execution_count": 7,
   "id": "b48da220-2c3d-44e3-b5a9-f208b923ea2f",
   "metadata": {},
   "outputs": [
    {
     "name": "stdout",
     "output_type": "stream",
     "text": [
      "(3, 50, 50, 50)\n"
     ]
    },
    {
     "ename": "RuntimeError",
     "evalue": "No surface found at the given iso value.",
     "output_type": "error",
     "traceback": [
      "\u001b[0;31m---------------------------------------------------------------------------\u001b[0m",
      "\u001b[0;31mRuntimeError\u001b[0m                              Traceback (most recent call last)",
      "Input \u001b[0;32mIn [7]\u001b[0m, in \u001b[0;36m<cell line: 6>\u001b[0;34m()\u001b[0m\n\u001b[1;32m      4\u001b[0m x \u001b[38;5;241m=\u001b[39m np\u001b[38;5;241m.\u001b[39mstack(np\u001b[38;5;241m.\u001b[39mmeshgrid(x_coords, y_coords, z_coords))\n\u001b[1;32m      5\u001b[0m sdf \u001b[38;5;241m=\u001b[39m sdf_box(x, \u001b[38;5;241m1\u001b[39m, \u001b[38;5;241m1\u001b[39m, \u001b[38;5;241m1\u001b[39m)\n\u001b[0;32m----> 6\u001b[0m verts, faces, normals, values \u001b[38;5;241m=\u001b[39m \u001b[43mmeasure\u001b[49m\u001b[38;5;241;43m.\u001b[39;49m\u001b[43mmarching_cubes\u001b[49m\u001b[43m(\u001b[49m\u001b[43msdf\u001b[49m\u001b[43m,\u001b[49m\u001b[43m \u001b[49m\u001b[43mlevel\u001b[49m\u001b[38;5;241;43m=\u001b[39;49m\u001b[38;5;241;43m0\u001b[39;49m\u001b[43m)\u001b[49m\n",
      "File \u001b[0;32m~/anaconda3/envs/torus/lib/python3.9/site-packages/skimage/measure/_marching_cubes_lewiner.py:133\u001b[0m, in \u001b[0;36mmarching_cubes\u001b[0;34m(volume, level, spacing, gradient_direction, step_size, allow_degenerate, method, mask)\u001b[0m\n\u001b[1;32m     13\u001b[0m \u001b[38;5;124;03m\"\"\"Marching cubes algorithm to find surfaces in 3d volumetric data.\u001b[39;00m\n\u001b[1;32m     14\u001b[0m \n\u001b[1;32m     15\u001b[0m \u001b[38;5;124;03mIn contrast with Lorensen et al. approach [2]_, Lewiner et\u001b[39;00m\n\u001b[0;32m   (...)\u001b[0m\n\u001b[1;32m    129\u001b[0m \n\u001b[1;32m    130\u001b[0m \u001b[38;5;124;03m\"\"\"\u001b[39;00m\n\u001b[1;32m    132\u001b[0m \u001b[38;5;28;01mif\u001b[39;00m method \u001b[38;5;241m==\u001b[39m \u001b[38;5;124m'\u001b[39m\u001b[38;5;124mlewiner\u001b[39m\u001b[38;5;124m'\u001b[39m:\n\u001b[0;32m--> 133\u001b[0m     \u001b[38;5;28;01mreturn\u001b[39;00m \u001b[43m_marching_cubes_lewiner\u001b[49m\u001b[43m(\u001b[49m\u001b[43mvolume\u001b[49m\u001b[43m,\u001b[49m\u001b[43m \u001b[49m\u001b[43mlevel\u001b[49m\u001b[43m,\u001b[49m\u001b[43m \u001b[49m\u001b[43mspacing\u001b[49m\u001b[43m,\u001b[49m\n\u001b[1;32m    134\u001b[0m \u001b[43m                                   \u001b[49m\u001b[43mgradient_direction\u001b[49m\u001b[43m,\u001b[49m\u001b[43m \u001b[49m\u001b[43mstep_size\u001b[49m\u001b[43m,\u001b[49m\n\u001b[1;32m    135\u001b[0m \u001b[43m                                   \u001b[49m\u001b[43mallow_degenerate\u001b[49m\u001b[43m,\u001b[49m\u001b[43m \u001b[49m\u001b[43muse_classic\u001b[49m\u001b[38;5;241;43m=\u001b[39;49m\u001b[38;5;28;43;01mFalse\u001b[39;49;00m\u001b[43m,\u001b[49m\n\u001b[1;32m    136\u001b[0m \u001b[43m                                   \u001b[49m\u001b[43mmask\u001b[49m\u001b[38;5;241;43m=\u001b[39;49m\u001b[43mmask\u001b[49m\u001b[43m)\u001b[49m\n\u001b[1;32m    137\u001b[0m \u001b[38;5;28;01melif\u001b[39;00m method \u001b[38;5;241m==\u001b[39m \u001b[38;5;124m'\u001b[39m\u001b[38;5;124mlorensen\u001b[39m\u001b[38;5;124m'\u001b[39m:\n\u001b[1;32m    138\u001b[0m     \u001b[38;5;28;01mreturn\u001b[39;00m _marching_cubes_lewiner(volume, level, spacing,\n\u001b[1;32m    139\u001b[0m                                    gradient_direction, step_size,\n\u001b[1;32m    140\u001b[0m                                    allow_degenerate, use_classic\u001b[38;5;241m=\u001b[39m\u001b[38;5;28;01mTrue\u001b[39;00m,\n\u001b[1;32m    141\u001b[0m                                    mask\u001b[38;5;241m=\u001b[39mmask)\n",
      "File \u001b[0;32m~/anaconda3/envs/torus/lib/python3.9/site-packages/skimage/measure/_marching_cubes_lewiner.py:202\u001b[0m, in \u001b[0;36m_marching_cubes_lewiner\u001b[0;34m(volume, level, spacing, gradient_direction, step_size, allow_degenerate, use_classic, mask)\u001b[0m\n\u001b[1;32m    198\u001b[0m vertices, faces, normals, values \u001b[38;5;241m=\u001b[39m func(volume, level, L,\n\u001b[1;32m    199\u001b[0m                                         step_size, use_classic, mask)\n\u001b[1;32m    201\u001b[0m \u001b[38;5;28;01mif\u001b[39;00m \u001b[38;5;129;01mnot\u001b[39;00m \u001b[38;5;28mlen\u001b[39m(vertices):\n\u001b[0;32m--> 202\u001b[0m     \u001b[38;5;28;01mraise\u001b[39;00m \u001b[38;5;167;01mRuntimeError\u001b[39;00m(\u001b[38;5;124m'\u001b[39m\u001b[38;5;124mNo surface found at the given iso value.\u001b[39m\u001b[38;5;124m'\u001b[39m)\n\u001b[1;32m    204\u001b[0m \u001b[38;5;66;03m# Output in z-y-x order, as is common in skimage\u001b[39;00m\n\u001b[1;32m    205\u001b[0m vertices \u001b[38;5;241m=\u001b[39m np\u001b[38;5;241m.\u001b[39mfliplr(vertices)\n",
      "\u001b[0;31mRuntimeError\u001b[0m: No surface found at the given iso value."
     ]
    }
   ],
   "source": [
    "x_coords = np.linspace(-1, 1, 50)\n",
    "y_coords = np.linspace(-1, 1, 50)\n",
    "z_coords = np.linspace(-1, 1, 50)\n",
    "x = np.stack(np.meshgrid(x_coords, y_coords, z_coords))\n",
    "sdf = sdf_box(x, 1, 1, 1)\n",
    "verts, faces, normals, values = measure.marching_cubes(sdf, level=0)"
   ]
  },
  {
   "cell_type": "code",
   "execution_count": null,
   "id": "5b4a7188-d5ff-4d23-92dd-2cac9ab2d7c9",
   "metadata": {},
   "outputs": [],
   "source": []
  },
  {
   "cell_type": "code",
   "execution_count": null,
   "id": "2717209f-7e56-4c09-a5b8-0c9e690c293b",
   "metadata": {},
   "outputs": [],
   "source": []
  },
  {
   "cell_type": "code",
   "execution_count": 18,
   "id": "88477163-beb2-4272-943e-a95eaa6163ee",
   "metadata": {},
   "outputs": [],
   "source": [
    "def get_vertices_faces(points):\n",
    "    points, cells = np.unique(points, axis=0, return_inverse=True)\n",
    "    cells = [('triangle', cells.reshape((-1, 3)))]\n",
    "    mesh = meshio.Mesh(points, cells)\n",
    "    mesh.write(\"temp.stl\")\n",
    "    vertices, faces = igl.read_triangle_mesh(\"temp.stl\")\n",
    "    os.remove(\"temp.stl\")\n",
    "    return vertices, faces"
   ]
  },
  {
   "cell_type": "markdown",
   "id": "29c91c84-50f4-401e-a14c-7fc168be1a2c",
   "metadata": {},
   "source": [
    "## Box"
   ]
  },
  {
   "cell_type": "code",
   "execution_count": 19,
   "id": "f9129ed1-83b6-4243-8292-5bfaf6dec927",
   "metadata": {},
   "outputs": [
    {
     "name": "stdout",
     "output_type": "stream",
     "text": [
      "min -1.05679, -0.621132, -0.621132\n",
      "max 1.05679, 0.621133, 0.621133\n",
      "step 0.00919593, 0.00919593, 0.00919593\n",
      "4645200 samples in 200 batches with 8 workers\n",
      "  100% (200 of 200) [##############################] 0:00:01 0:00:00    \n",
      "21 skipped, 87 empty, 92 nonempty\n",
      "234140 triangles in 0.959407 seconds\n"
     ]
    },
    {
     "data": {
      "application/vnd.jupyter.widget-view+json": {
       "model_id": "1f25da6de89744899043fd8433bb2233",
       "version_major": 2,
       "version_minor": 0
      },
      "text/plain": [
       "Renderer(camera=PerspectiveCamera(children=(DirectionalLight(color='white', intensity=0.6, position=(0.0, 0.0,…"
      ]
     },
     "metadata": {},
     "output_type": "display_data"
    },
    {
     "data": {
      "text/plain": [
       "<meshplot.Viewer.Viewer at 0x7fdf45037880>"
      ]
     },
     "execution_count": 19,
     "metadata": {},
     "output_type": "execute_result"
    }
   ],
   "source": [
    "a = box((2, 1, 1))\n",
    "a = a.generate()\n",
    "a = np.stack(a)\n",
    "vertices, faces = get_vertices_faces(a)\n",
    "mp.plot(v=vertices, f=faces)"
   ]
  },
  {
   "cell_type": "markdown",
   "id": "d2d193b0-6704-4e63-a2bf-3e9cc6cf450d",
   "metadata": {},
   "source": [
    "## Sphere"
   ]
  },
  {
   "cell_type": "code",
   "execution_count": 20,
   "id": "2353ab6c-e28b-4674-a0b5-a5a8c857adc6",
   "metadata": {},
   "outputs": [
    {
     "name": "stdout",
     "output_type": "stream",
     "text": [
      "min -1.05679, -1.05679, -1.05679\n",
      "max 1.05679, 1.05679, 1.05679\n",
      "step 0.0131058, 0.0131058, 0.0131058\n",
      "4657463 samples in 216 batches with 8 workers\n",
      "  100% (216 of 216) [##############################] 0:00:01 0:00:00    \n",
      "91 skipped, 27 empty, 98 nonempty\n",
      "219284 triangles in 0.921696 seconds\n"
     ]
    },
    {
     "data": {
      "application/vnd.jupyter.widget-view+json": {
       "model_id": "92bd4c33b9d346858acc45cb8d88b6a8",
       "version_major": 2,
       "version_minor": 0
      },
      "text/plain": [
       "Renderer(camera=PerspectiveCamera(children=(DirectionalLight(color='white', intensity=0.6, position=(0.0, 0.0,…"
      ]
     },
     "metadata": {},
     "output_type": "display_data"
    },
    {
     "data": {
      "text/plain": [
       "<meshplot.Viewer.Viewer at 0x7fdf0dcc4580>"
      ]
     },
     "execution_count": 20,
     "metadata": {},
     "output_type": "execute_result"
    }
   ],
   "source": [
    "b = sphere()\n",
    "b = b.generate()\n",
    "b = np.stack(b)\n",
    "vertices, faces = get_vertices_faces(b)\n",
    "mp.plot(v=vertices, f=faces)"
   ]
  },
  {
   "cell_type": "markdown",
   "id": "07285f90-325f-4598-8dcc-cc058cb949b1",
   "metadata": {},
   "source": [
    "## Half Sphere"
   ]
  },
  {
   "cell_type": "code",
   "execution_count": 21,
   "id": "0cf2a9bb-51e4-411e-aa81-88aeaf6b1e17",
   "metadata": {},
   "outputs": [
    {
     "name": "stdout",
     "output_type": "stream",
     "text": [
      "min -1.05679, -1.05679, -0.0947075\n",
      "max 1.05679, 1.05679, 1.13649\n",
      "step 0.0109455, 0.0109455, 0.0109455\n",
      "4640000 samples in 196 batches with 8 workers\n",
      "  100% (196 of 196) [##############################] 0:00:02 0:00:00    \n",
      "77 skipped, 27 empty, 92 nonempty\n",
      "209940 triangles in 1.816 seconds\n"
     ]
    },
    {
     "data": {
      "application/vnd.jupyter.widget-view+json": {
       "model_id": "b0a14d6641d24fff96cb67beb805f2fe",
       "version_major": 2,
       "version_minor": 0
      },
      "text/plain": [
       "Renderer(camera=PerspectiveCamera(children=(DirectionalLight(color='white', intensity=0.6, position=(0.0, 0.0,…"
      ]
     },
     "metadata": {},
     "output_type": "display_data"
    },
    {
     "data": {
      "text/plain": [
       "<meshplot.Viewer.Viewer at 0x7fdfebdd5040>"
      ]
     },
     "execution_count": 21,
     "metadata": {},
     "output_type": "execute_result"
    }
   ],
   "source": [
    "f = sphere() & plane()\n",
    "f = f.generate()\n",
    "f = np.stack(f)\n",
    "vertices, faces = get_vertices_faces(f)\n",
    "mp.plot(v=vertices, f=faces)"
   ]
  },
  {
   "cell_type": "markdown",
   "id": "dd72defc-37e6-4130-b1d2-c8f9c683eba1",
   "metadata": {},
   "source": [
    "## Box with Bump"
   ]
  },
  {
   "cell_type": "code",
   "execution_count": 23,
   "id": "871b1e91-582e-4ab8-b98a-9849519ae705",
   "metadata": {
    "tags": []
   },
   "outputs": [
    {
     "name": "stdout",
     "output_type": "stream",
     "text": [
      "min -1.05679, -0.621132, -0.641534\n",
      "max 1.05679, 0.621133, 0.769503\n",
      "step 0.00959482, 0.00959482, 0.00959482\n",
      "4623536 samples in 175 batches with 8 workers\n",
      "  100% (175 of 175) [##############################] 0:00:01 0:00:00    \n",
      "27 skipped, 52 empty, 96 nonempty\n",
      "224132 triangles in 1.41249 seconds\n"
     ]
    },
    {
     "data": {
      "application/vnd.jupyter.widget-view+json": {
       "model_id": "f2d9b0db90534c649afc7f35e9871e2a",
       "version_major": 2,
       "version_minor": 0
      },
      "text/plain": [
       "Renderer(camera=PerspectiveCamera(children=(DirectionalLight(color='white', intensity=0.6, position=(0.0, 0.0,…"
      ]
     },
     "metadata": {},
     "output_type": "display_data"
    },
    {
     "data": {
      "text/plain": [
       "<meshplot.Viewer.Viewer at 0x7fdf43d4c190>"
      ]
     },
     "execution_count": 23,
     "metadata": {},
     "output_type": "execute_result"
    }
   ],
   "source": [
    "a = box((2, 1, 1))\n",
    "b = sphere(radius=0.2, center=(-0.5, 0, 0.5))\n",
    "\n",
    "#f = a | b.k(0.25)\n",
    "f = union(a, b, k=0.2) # equivalent\n",
    "\n",
    "f = f.generate()\n",
    "f = np.stack(f)\n",
    "vertices, faces = get_vertices_faces(f)\n",
    "mp.plot(v=vertices, f=faces)"
   ]
  },
  {
   "cell_type": "markdown",
   "id": "4fae80e5-027d-40bc-affb-cb461b0edee8",
   "metadata": {},
   "source": [
    "## Generate & Save Boxes with Bumps"
   ]
  },
  {
   "cell_type": "code",
   "execution_count": 4,
   "id": "46fb7431-1b55-4e2e-bded-e687ef0ecbc2",
   "metadata": {},
   "outputs": [
    {
     "name": "stderr",
     "output_type": "stream",
     "text": [
      "100%|███████████████████████████████████████████████████████████████████████████████████| 10/10 [00:46<00:00,  4.66s/it]\n"
     ]
    }
   ],
   "source": [
    "for idx, x_coor in enumerate(tqdm(np.arange(-0.5, 0.5, 0.1))):\n",
    "    with HiddenPrints():\n",
    "        a = box((2, 1, 1))\n",
    "        b = sphere(radius=0.2, center=(x_coor, 0, 0.5))\n",
    "        f = union(a, b, k=0)\n",
    "\n",
    "        f = f.generate()\n",
    "        points = np.stack(f)\n",
    "\n",
    "        points, cells = np.unique(points, axis=0, return_inverse=True)\n",
    "        cells = [('triangle', cells.reshape((-1, 3)))]\n",
    "        mesh = meshio.Mesh(points, cells)\n",
    "        mesh.write(f\"box_bump_100/box_bump_{idx}.stl\")\n",
    "    \n",
    "    #vertices, faces = get_vertices_faces(f)\n",
    "    #igl.write_triangle_mesh(f\"box_bump_100/box_bump_{idx}.ply\", vertices, faces)\n",
    "    "
   ]
  },
  {
   "cell_type": "code",
   "execution_count": null,
   "id": "342c0772-12e8-4653-8ef4-9f2cd7386ec2",
   "metadata": {},
   "outputs": [],
   "source": []
  }
 ],
 "metadata": {
  "kernelspec": {
   "display_name": "Python 3 (ipykernel)",
   "language": "python",
   "name": "python3"
  },
  "language_info": {
   "codemirror_mode": {
    "name": "ipython",
    "version": 3
   },
   "file_extension": ".py",
   "mimetype": "text/x-python",
   "name": "python",
   "nbconvert_exporter": "python",
   "pygments_lexer": "ipython3",
   "version": "3.9.12"
  }
 },
 "nbformat": 4,
 "nbformat_minor": 5
}
