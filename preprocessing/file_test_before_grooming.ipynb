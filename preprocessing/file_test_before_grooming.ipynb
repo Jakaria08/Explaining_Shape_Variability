{
 "cells": [
  {
   "cell_type": "code",
   "execution_count": null,
   "metadata": {},
   "outputs": [],
   "source": [
    "import os\n",
    "import gzip\n",
    "import argparse\n",
    "#import shapeworks as sw\n",
    "\n",
    "from tqdm import tqdm\n",
    "from glob import glob\n",
    "from contextlib import redirect_stdout, redirect_stderr, contextmanager, ExitStack\n",
    "\n",
    "\n",
    "\"\"\"Start Unzipping --- When necessary\"\"\"\n",
    "#extract_gz_files(args.data_dir)\n",
    "\"\"\"Start data grooming pipeline.\"\"\"\n",
    "search_pattern = os.path.join('C:\\\\Users\\\\Jakar\\\\Downloads\\\\Hippocampus_Study\\\\disease_progression\\\\Hippo_Predictions\\\\subjects\\\\', \"**\", \"*whole_roi.nii\")\n",
    "matching_files = glob(search_pattern, recursive=True)\n",
    "print(len(matching_files))\n",
    "mesh_dict = {}\n",
    "i = 0\n",
    "for segmentation in tqdm(matching_files):\n",
    "    if os.path.getsize(segmentation) > 0:\n",
    "        # Load the .nii file\n",
    "        nii_file_path = segmentation\n",
    "        img = nib.load(nii_file_path)\n",
    "\n",
    "        # Access the image data (as a numpy array)\n",
    "        image_data = img.get_fdata()\n",
    "        image_data = 1 - image_data\n",
    "        # Create a new NIfTI image from the 'image_data' array\n",
    "        new_img = nib.Nifti1Image(image_data, affine=img.affine, header=img.header)  # The 'affine' is set to None, we can provide a valid affine matrix if needed.\n",
    "\n",
    "        # Save the new NIfTI image to a file\n",
    "        output_nii_file = segmentation  # Replace .nii' with the desired output file path\n",
    "        nib.save(new_img, output_nii_file)\n"
   ]
  },
  {
   "cell_type": "code",
   "execution_count": null,
   "metadata": {},
   "outputs": [],
   "source": []
  }
 ],
 "metadata": {
  "language_info": {
   "name": "python"
  },
  "orig_nbformat": 4
 },
 "nbformat": 4,
 "nbformat_minor": 2
}
