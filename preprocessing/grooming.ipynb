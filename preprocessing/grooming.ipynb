{
 "cells": [
  {
   "cell_type": "code",
   "execution_count": 1,
   "id": "7522838d",
   "metadata": {},
   "outputs": [
    {
     "name": "stdout",
     "output_type": "stream",
     "text": [
      "Jupyter environment detected. Enabling Open3D WebVisualizer.\n",
      "[Open3D INFO] WebRTC GUI backend enabled.\n",
      "[Open3D INFO] WebRTCWindowSystem: HTTP handshake server disabled.\n"
     ]
    }
   ],
   "source": [
    "import shapeworks as sw\n",
    "import os\n",
    "import numpy as np\n",
    "from glob import glob\n",
    "import nibabel as nib\n",
    "from nibabel.testing import data_path\n",
    "import open3d as o3d\n",
    "import numpy as np\n",
    "import matplotlib.pyplot as plt\n",
    "#from mpl_toolkits.mplot3d.art3d import Poly3DCollection\n",
    "from skimage import measure\n",
    "from skimage.draw import ellipsoid\n",
    "import meshplot as mp\n",
    "import igl\n",
    "import gzip\n",
    "import shutil\n",
    "from scipy.spatial.transform import Rotation as R\n",
    "import trimesh\n",
    "from tqdm import tqdm\n",
    "from sdf import *\n",
    "import SimpleITK as sitk\n",
    "import vtk\n",
    "import copy\n",
    "from contextlib import contextmanager\n",
    "import sys\n",
    "from ipywidgets import interact, widgets\n",
    "import pymeshlab\n",
    "import pyvista as pv\n",
    "from tqdm import tqdm\n",
    "import pandas as pd"
   ]
  },
  {
   "cell_type": "code",
   "execution_count": 2,
   "id": "76318655",
   "metadata": {},
   "outputs": [],
   "source": [
    "@contextmanager\n",
    "def suppress_stdout():\n",
    "    with open(os.devnull, \"w\") as devnull:\n",
    "        old_stdout = sys.stdout\n",
    "        sys.stdout = devnull\n",
    "        try:  \n",
    "            yield\n",
    "        finally:\n",
    "            sys.stdout = old_stdout"
   ]
  },
  {
   "cell_type": "code",
   "execution_count": 3,
   "id": "20e11405",
   "metadata": {},
   "outputs": [],
   "source": [
    "def nii_2_mesh (filename_nii, filename_stl, label):\n",
    "\n",
    "    \"\"\"\n",
    "    Read a nifti file including a binary map of a segmented organ with label id = label. \n",
    "    Convert it to a smoothed mesh of type stl.\n",
    "    filename_nii     : Input nifti binary map \n",
    "    filename_stl     : Output mesh name in stl format\n",
    "    label            : segmented label id \n",
    "    https://github.com/MahsaShk/MeshProcessing/blob/master/nii_2_mesh_conversion.py\n",
    "    \"\"\"\n",
    "\n",
    "    # read the file\n",
    "    reader = vtk.vtkNIFTIImageReader()\n",
    "    reader.SetFileName(filename_nii)\n",
    "    reader.Update()\n",
    "    \n",
    "    # apply marching cube surface generation\n",
    "    surf = vtk.vtkDiscreteMarchingCubes()\n",
    "    surf.SetInputConnection(reader.GetOutputPort())\n",
    "    surf.SetValue(0, label) # use surf.GenerateValues function if more than one contour is available in the file\n",
    "    surf.Update()\n",
    "    \n",
    "    #smoothing the mesh\n",
    "    smoother= vtk.vtkWindowedSincPolyDataFilter()\n",
    "    if vtk.VTK_MAJOR_VERSION <= 5:\n",
    "        smoother.SetInput(surf.GetOutput())\n",
    "    else:\n",
    "        smoother.SetInputConnection(surf.GetOutputPort())\n",
    "    smoother.SetNumberOfIterations(30) \n",
    "    smoother.NonManifoldSmoothingOn()\n",
    "    smoother.NormalizeCoordinatesOn() #The positions can be translated and scaled such that they fit within a range of [-1, 1] prior to the smoothing computation\n",
    "    smoother.GenerateErrorScalarsOn()\n",
    "    smoother.Update()\n",
    "     \n",
    "    # save the output\n",
    "    writer = vtk.vtkSTLWriter()\n",
    "    writer.SetInputConnection(smoother.GetOutputPort())\n",
    "    writer.SetFileTypeToASCII()\n",
    "    writer.SetFileName(filename_stl)\n",
    "    writer.Write()"
   ]
  },
  {
   "cell_type": "code",
   "execution_count": 4,
   "id": "934f82ca",
   "metadata": {},
   "outputs": [],
   "source": [
    "def nrrd2mesh(nrrd_file_path, output_stl_path):\n",
    "    \"https://discourse.slicer.org/t/converting-nrrd-file-to-stl-using-python/24166/2\"\n",
    "    label = 255\n",
    "\n",
    "    reader = vtk.vtkNrrdReader()\n",
    "    reader.SetFileName(nrrd_file_path)\n",
    "    reader.Update()\n",
    "    img = read.GetOutput()\n",
    "\n",
    "    marching_cubes_filter = vtk.vtkDiscreteMarchingCubes()\n",
    "    marching_cubes_filter.SetInputData(img)\n",
    "    marching_cubes_filter.SetValue(0, 255)\n",
    "    marching_cubes_filter.Update()\n",
    "    polydata = marching_cubes_filter.GetOutput()\n",
    "\n",
    "    writer = vtk.vtkSTLWriter()\n",
    "    writer.SetInputData(polydata)\n",
    "    writer.SetFileName(output_stl_path)\n",
    "    writer.Write()"
   ]
  },
  {
   "cell_type": "code",
   "execution_count": 5,
   "id": "b109f46e",
   "metadata": {},
   "outputs": [],
   "source": [
    "def nrrd2nii(filename_nrrd, filename_nii):\n",
    "    img = sitk.ReadImage(\"subjects/ab300_070/groomed/standard_DT.nrrd\")\n",
    "    sitk.WriteImage(img, \"your_image.nii\")\n",
    "    "
   ]
  },
  {
   "cell_type": "markdown",
   "id": "87e3a1c2",
   "metadata": {},
   "source": [
    "## Copy all binary segmentation files into one directory"
   ]
  },
  {
   "cell_type": "code",
   "execution_count": 82,
   "id": "8e93e695",
   "metadata": {},
   "outputs": [
    {
     "name": "stderr",
     "output_type": "stream",
     "text": [
      "100%|█████████████████████████████████████████████████████████████████████████████████| 511/511 [03:25<00:00,  2.48it/s]\n"
     ]
    }
   ],
   "source": [
    "for segmentation in tqdm(glob(\"subjects/*/standard.nii\")):\n",
    "    dst = \"binary_segmentations/\" + segmentation.split(\"/\")[1] + \"_\" + segmentation.split(\"/\")[-1]\n",
    "    shutil.copyfile(segmentation, dst)"
   ]
  },
  {
   "cell_type": "markdown",
   "id": "a82ce576",
   "metadata": {},
   "source": [
    "## Apply ShapeWorks grooming (currently done in ShapeWorks Studio)\n",
    "- Padding: 10\n",
    "- Antialias: 10\n",
    "- Distance Transform\n",
    "- Blur: Sigma=1,00"
   ]
  },
  {
   "cell_type": "code",
   "execution_count": 1,
   "id": "4f4853dd",
   "metadata": {},
   "outputs": [],
   "source": [
    "# define parameters that controls the plotter\n",
    "off_screen=None,\n",
    "full_screen=False,\n",
    "screenshot=None,\n",
    "interactive=True,\n",
    "cpos=None,\n",
    "window_size=None,\n",
    "show_bounds=False,\n",
    "show_axes=True,\n",
    "notebook=None,\n",
    "background=None,\n",
    "text='',\n",
    "return_img=False,\n",
    "eye_dome_lighting=False,\n",
    "volume=False,\n",
    "parallel_projection=False,\n",
    "use_ipyvtk=None,\n",
    "jupyter_backend=None,\n",
    "return_viewer=False,\n",
    "jupyter_kwargs={},"
   ]
  },
  {
   "cell_type": "code",
   "execution_count": 12,
   "id": "935c0cb1",
   "metadata": {},
   "outputs": [
    {
     "name": "stdout",
     "output_type": "stream",
     "text": [
      "[0. 1. 2.]\n"
     ]
    },
    {
     "data": {
      "application/vnd.jupyter.widget-view+json": {
       "model_id": "9d7f259501f24bb9a7ad6e1bdad38038",
       "version_major": 2,
       "version_minor": 0
      },
      "text/plain": [
       "ViewInteractiveWidget(height=768, layout=Layout(height='auto', width='100%'), width=1024)"
      ]
     },
     "metadata": {},
     "output_type": "display_data"
    }
   ],
   "source": [
    "seg = sw.Image(\"binary_segmentations/ab300_001_standard.nii\")\n",
    "print(np.unique(seg.toArray()))\n",
    "seg_vtk = sw.sw2vtkImage(seg)\n",
    "seg_vtk.slice(normal='z').plot()"
   ]
  },
  {
   "cell_type": "code",
   "execution_count": 13,
   "id": "30c519a0",
   "metadata": {},
   "outputs": [
    {
     "name": "stdout",
     "output_type": "stream",
     "text": [
      "[0. 1.]\n"
     ]
    },
    {
     "data": {
      "application/vnd.jupyter.widget-view+json": {
       "model_id": "4087efcfb5444cecb08485053559e0eb",
       "version_major": 2,
       "version_minor": 0
      },
      "text/plain": [
       "ViewInteractiveWidget(height=768, layout=Layout(height='auto', width='100%'), width=1024)"
      ]
     },
     "metadata": {},
     "output_type": "display_data"
    }
   ],
   "source": [
    "seg = seg.binarize(0)\n",
    "print(np.unique(seg.toArray()))\n",
    "seg_vtk = sw.sw2vtkImage(seg)\n",
    "seg_vtk.slice(normal='z').plot()"
   ]
  },
  {
   "cell_type": "code",
   "execution_count": 204,
   "id": "670763d5",
   "metadata": {},
   "outputs": [
    {
     "data": {
      "application/vnd.jupyter.widget-view+json": {
       "model_id": "907f6c695d204b5ab7708649d217e66d",
       "version_major": 2,
       "version_minor": 0
      },
      "text/plain": [
       "ViewInteractiveWidget(height=768, layout=Layout(height='auto', width='100%'), width=1024)"
      ]
     },
     "metadata": {},
     "output_type": "display_data"
    }
   ],
   "source": [
    "seg = seg.pad(10, 0)\n",
    "seg_vtk = sw.sw2vtkImage(seg)\n",
    "seg_vtk.slice(normal='z').plot()"
   ]
  },
  {
   "cell_type": "code",
   "execution_count": 14,
   "id": "b7ded32b",
   "metadata": {},
   "outputs": [
    {
     "name": "stdout",
     "output_type": "stream",
     "text": [
      "[-0.0000000e+00  1.7014117e+38]\n"
     ]
    },
    {
     "data": {
      "application/vnd.jupyter.widget-view+json": {
       "model_id": "327ca30f28c541ec982082171fe3e5ef",
       "version_major": 2,
       "version_minor": 0
      },
      "text/plain": [
       "ViewInteractiveWidget(height=768, layout=Layout(height='auto', width='100%'), width=1024)"
      ]
     },
     "metadata": {},
     "output_type": "display_data"
    }
   ],
   "source": [
    "seg = seg.computeDT(0)\n",
    "print(np.unique(seg.toArray()))\n",
    "seg_vtk = sw.sw2vtkImage(seg)\n",
    "seg_vtk.slice(normal='z').plot()"
   ]
  },
  {
   "cell_type": "code",
   "execution_count": 17,
   "id": "a57759fa",
   "metadata": {},
   "outputs": [
    {
     "data": {
      "application/vnd.jupyter.widget-view+json": {
       "model_id": "8c3d5e154b944650a94cdd26526991d9",
       "version_major": 2,
       "version_minor": 0
      },
      "text/plain": [
       "ViewInteractiveWidget(height=768, layout=Layout(height='auto', width='100%'), width=1024)"
      ]
     },
     "metadata": {},
     "output_type": "display_data"
    }
   ],
   "source": [
    "seg = seg.gaussianBlur(1)\n",
    "seg_vtk = sw.sw2vtkImage(seg)\n",
    "seg_vtk.slice(normal='z').plot()"
   ]
  },
  {
   "cell_type": "code",
   "execution_count": 98,
   "id": "b0022162",
   "metadata": {},
   "outputs": [
    {
     "data": {
      "text/plain": [
       "{\n",
       "\tdims: [220, 216, 20],\n",
       "\torigin: [-47.3771, -54.954, -44.8817],\n",
       "\tsize: [220, 216, 20],\n",
       "\tspacing: [1, 1, 1]\n",
       "}"
      ]
     },
     "execution_count": 98,
     "metadata": {},
     "output_type": "execute_result"
    }
   ],
   "source": [
    "seg.binarize()"
   ]
  },
  {
   "cell_type": "code",
   "execution_count": 100,
   "id": "2d5aa2fd",
   "metadata": {},
   "outputs": [
    {
     "data": {
      "text/plain": [
       "{\n",
       "\tdims: [220, 216, 20],\n",
       "\torigin: [-47.3771, -54.954, -44.8817],\n",
       "\tsize: [220, 216, 20],\n",
       "\tspacing: [1, 1, 1]\n",
       "}"
      ]
     },
     "execution_count": 100,
     "metadata": {},
     "output_type": "execute_result"
    }
   ],
   "source": [
    "seg.computeDT()"
   ]
  },
  {
   "cell_type": "code",
   "execution_count": 105,
   "id": "ebef1289",
   "metadata": {},
   "outputs": [
    {
     "data": {
      "text/plain": [
       "{\n",
       "\tdims: [220, 216, 20],\n",
       "\torigin: [-47.3771, -54.954, -44.8817],\n",
       "\tsize: [220, 216, 20],\n",
       "\tspacing: [1, 1, 1]\n",
       "}"
      ]
     },
     "execution_count": 105,
     "metadata": {},
     "output_type": "execute_result"
    }
   ],
   "source": [
    "seg.gaussianBlur(1)"
   ]
  },
  {
   "cell_type": "code",
   "execution_count": 57,
   "id": "86d42409",
   "metadata": {},
   "outputs": [
    {
     "data": {
      "text/plain": [
       "{\n",
       "\tmin: [28.0591, 30.4239, -9.90815],\n",
       "\tmax: [98.3362, 82.965, 11.7234]\n",
       "}"
      ]
     },
     "execution_count": 57,
     "metadata": {},
     "output_type": "execute_result"
    }
   ],
   "source": [
    "bb"
   ]
  },
  {
   "cell_type": "code",
   "execution_count": 67,
   "id": "ae41ee34",
   "metadata": {},
   "outputs": [],
   "source": [
    "bb = sw.ImageUtils.boundingBox([seg], 1.5)"
   ]
  },
  {
   "cell_type": "code",
   "execution_count": null,
   "id": "588f4459",
   "metadata": {},
   "outputs": [],
   "source": [
    "segs_bounding_box = sw.ImageUtils.boundingBox(shape_seg_list, iso_value)\n",
    "shape_seg         = sw.Image(in_shape_filename)"
   ]
  },
  {
   "cell_type": "code",
   "execution_count": 68,
   "id": "9a4c5724",
   "metadata": {},
   "outputs": [
    {
     "ename": "ValueError",
     "evalue": "Invalid region specified (it may lie outside physical bounds of image).",
     "output_type": "error",
     "traceback": [
      "\u001b[1;31m---------------------------------------------------------------------------\u001b[0m",
      "\u001b[1;31mValueError\u001b[0m                                Traceback (most recent call last)",
      "\u001b[1;32m~\\AppData\\Local\\Temp\\ipykernel_18936\\1902665157.py\u001b[0m in \u001b[0;36m<module>\u001b[1;34m\u001b[0m\n\u001b[1;32m----> 1\u001b[1;33m \u001b[0mseg\u001b[0m \u001b[1;33m=\u001b[0m \u001b[0mseg\u001b[0m\u001b[1;33m.\u001b[0m\u001b[0mcrop\u001b[0m\u001b[1;33m(\u001b[0m\u001b[0mbb\u001b[0m\u001b[1;33m,\u001b[0m \u001b[1;36m10\u001b[0m\u001b[1;33m)\u001b[0m\u001b[1;33m\u001b[0m\u001b[1;33m\u001b[0m\u001b[0m\n\u001b[0m",
      "\u001b[1;31mValueError\u001b[0m: Invalid region specified (it may lie outside physical bounds of image)."
     ]
    }
   ],
   "source": [
    "seg = seg.crop(bb, 10)"
   ]
  },
  {
   "cell_type": "code",
   "execution_count": 106,
   "id": "eb4895bd",
   "metadata": {},
   "outputs": [],
   "source": [
    "# define parameters that controls the plotter\n",
    "use_same_window = False # plot using multiple rendering windows if false\n",
    "notebook        = False # True will enable the plots to lie inline\n",
    "show_borders    = True  # show borders for each rendering window\n",
    "shade_volumes   = True  # use shading when performing volume rendering\n",
    "color_map       = \"bone\" # color map for volume rendering, e.g., 'bone', 'coolwarm', 'cool', 'viridis', 'magma'\n",
    "show_axes       = True  # show a vtk axes widget for each rendering window\n",
    "show_bounds     = True  # show volume bounding box\n",
    "show_all_edges  = True  # add an unlabeled and unticked box at the boundaries of plot. \n",
    "font_size       = 10    # text font size for windows\n",
    "link_views      = True  # link all rendering windows so that they share same camera and axes boundaries\n",
    "\n",
    "# plot all segmentations in the shape list\n",
    "sw.plot_volumes([seg],    \n",
    "             #volumeNames     = shapeNames, \n",
    "             use_same_window = use_same_window,\n",
    "             notebook        = notebook,\n",
    "             show_borders    = show_borders,  \n",
    "             shade_volumes   = shade_volumes, \n",
    "             color_map       = color_map,\n",
    "             show_axes       = show_axes,  \n",
    "             show_bounds     = True,\n",
    "             show_all_edges  = show_all_edges, \n",
    "             font_size       = font_size,   \n",
    "             link_views      = link_views\n",
    "             )"
   ]
  },
  {
   "cell_type": "code",
   "execution_count": 4,
   "id": "634ec80d",
   "metadata": {},
   "outputs": [],
   "source": [
    "shapeSeg_vtk = sw.sw2vtkImage(seg)"
   ]
  },
  {
   "cell_type": "code",
   "execution_count": 5,
   "id": "a470b25c",
   "metadata": {},
   "outputs": [
    {
     "data": {
      "text/plain": [
       "[(7.2474084086859625, 197.3816356709508, 339.612200362855),\n",
       " (62.12286376953125, 52.545982360839844, -35.38167953491211),\n",
       " (-0.46010076522453935, -0.848790688944597, 0.26050269135030113)]"
      ]
     },
     "execution_count": 5,
     "metadata": {},
     "output_type": "execute_result"
    }
   ],
   "source": [
    "import pyvista as pv\n",
    "\n",
    "notebook = False # True will bring the renderings inline\n",
    "# click r to reset the view after zooming\n",
    "shapeSeg_vtk.plot(volume     = True,     # volume render\n",
    "                  shade      = True,\n",
    "                  notebook = notebook,\n",
    "                  show_bounds=True)     # enable shading"
   ]
  },
  {
   "cell_type": "code",
   "execution_count": null,
   "id": "0ad1127d",
   "metadata": {},
   "outputs": [],
   "source": [
    "notebook = False # True will bring the renderings inline\n",
    "# click r to reset the view after zooming\n",
    "sw.plot_volumes(seg,\n",
    "                notebook = notebook, \n",
    "                show_borders   = show_borders,  \n",
    "                shade_volumes  = shade_volumes,  \n",
    "                show_axes      = show_axes,  \n",
    "                show_bounds    = show_bounds,\n",
    "                show_all_edges = show_all_edges, \n",
    "                font_size      = font_size,   \n",
    "                link_views     = True )     # enable shading"
   ]
  },
  {
   "cell_type": "code",
   "execution_count": 6,
   "id": "648834cd",
   "metadata": {},
   "outputs": [
    {
     "data": {
      "text/plain": [
       "{\n",
       "\tdims: [240, 236, 40],\n",
       "\torigin: [-47.3771, -54.954, -44.8817],\n",
       "\tsize: [240, 236, 40],\n",
       "\tspacing: [1, 1, 1]\n",
       "}"
      ]
     },
     "execution_count": 6,
     "metadata": {},
     "output_type": "execute_result"
    }
   ],
   "source": [
    "seg.pad(10, 0)"
   ]
  },
  {
   "cell_type": "code",
   "execution_count": 83,
   "id": "054aecda",
   "metadata": {},
   "outputs": [],
   "source": [
    "shapeSeg2_vtk = sw.sw2vtkImage(seg)"
   ]
  },
  {
   "cell_type": "code",
   "execution_count": null,
   "id": "e0354782",
   "metadata": {},
   "outputs": [],
   "source": []
  },
  {
   "cell_type": "code",
   "execution_count": 84,
   "id": "004b17f3",
   "metadata": {},
   "outputs": [
    {
     "data": {
      "text/html": [
       "<table><tr><th>Header</th><th>Data Arrays</th></tr><tr><td>\n",
       "<table>\n",
       "<tr><th>UniformGrid</th><th>Information</th></tr>\n",
       "<tr><td>N Cells</td><td>894615</td></tr>\n",
       "<tr><td>N Points</td><td>950400</td></tr>\n",
       "<tr><td>X Bounds</td><td>-4.738e+01, 1.716e+02</td></tr>\n",
       "<tr><td>Y Bounds</td><td>-5.495e+01, 1.600e+02</td></tr>\n",
       "<tr><td>Z Bounds</td><td>-4.488e+01, -2.588e+01</td></tr>\n",
       "<tr><td>Dimensions</td><td>220, 216, 20</td></tr>\n",
       "<tr><td>Spacing</td><td>1.000e+00, 1.000e+00, 1.000e+00</td></tr>\n",
       "<tr><td>N Arrays</td><td>1</td></tr>\n",
       "</table>\n",
       "\n",
       "</td><td>\n",
       "<table>\n",
       "<tr><th>Name</th><th>Field</th><th>Type</th><th>N Comp</th><th>Min</th><th>Max</th></tr>\n",
       "<tr><td><b>values</b></td><td>Points</td><td>float32</td><td>1</td><td>0.000e+00</td><td>2.000e+00</td></tr>\n",
       "</table>\n",
       "\n",
       "</td></tr> </table>"
      ],
      "text/plain": [
       "UniformGrid (0x1a5315825e8)\n",
       "  N Cells:\t894615\n",
       "  N Points:\t950400\n",
       "  X Bounds:\t-4.738e+01, 1.716e+02\n",
       "  Y Bounds:\t-5.495e+01, 1.600e+02\n",
       "  Z Bounds:\t-4.488e+01, -2.588e+01\n",
       "  Dimensions:\t220, 216, 20\n",
       "  Spacing:\t1.000e+00, 1.000e+00, 1.000e+00\n",
       "  N Arrays:\t1"
      ]
     },
     "execution_count": 84,
     "metadata": {},
     "output_type": "execute_result"
    }
   ],
   "source": [
    "shapeSeg2_vtk"
   ]
  },
  {
   "cell_type": "code",
   "execution_count": 19,
   "id": "7238a6f1",
   "metadata": {},
   "outputs": [
    {
     "name": "stderr",
     "output_type": "stream",
     "text": [
      "511it [10:16,  1.21s/it]\n",
      "100%|████████████████████████████████████████████████████████████████████████████████| 511/511 [02:25<00:00,  3.51it/s]\n"
     ]
    }
   ],
   "source": [
    "mesh_dict = {}\n",
    "\n",
    "for i, segmentation in tqdm(enumerate(glob(\"binary_segmentations\\\\*.nii\"))):\n",
    "    \n",
    "    # Extract filename\n",
    "    filename = segmentation.split(\"\\\\\")[-1].split(\".\")[0]\n",
    "    \n",
    "    # Read binary segmentation file\n",
    "    shape_seg = sw.Image(segmentation)\n",
    "    \n",
    "    # Binarize image\n",
    "    shape_seg.binarize(0)\n",
    "    \n",
    "    # Padding\n",
    "    shape_seg.pad(5, 0)\n",
    "    \n",
    "    # Compute distance transform\n",
    "    shape_seg.computeDT(0)\n",
    "    \n",
    "    # Reduce high-frequency information \n",
    "    shape_seg.gaussianBlur(0.05)\n",
    "    \n",
    "    # Convert into mesh\n",
    "    mesh_shape = shape_seg.toMesh(1)\n",
    "    \n",
    "    # Smooth mesh surface\n",
    "    mesh_shape.smooth(3, 1)\n",
    "    \n",
    "    # Center mesh\n",
    "    center = mesh_shape.center()\n",
    "    mesh_shape.translate(list(-center))\n",
    "    \n",
    "    # Scale mesh\n",
    "    bb = mesh_shape.boundingBox()\n",
    "    bb.max.max() - bb.min.min()\n",
    "    scale_factor = 1 / (bb.max.max() - bb.min.min())\n",
    "    mesh_shape = mesh_shape.scale([scale_factor, scale_factor, scale_factor])\n",
    "    \n",
    "    # Append mesh to list\n",
    "    mesh_dict[filename] = mesh_shape    \n",
    "    \n",
    "    mesh_shape.write(f\"binary_segmentations\\\\groomed\\\\{filename}.ply\")\n",
    "    \n",
    "\n",
    "# Find reference medoid shape\n",
    "mesh_list = list(mesh_dict.values())\n",
    "ref_index = sw.find_reference_mesh_index(mesh_list)\n",
    "ref_mesh = mesh_list[ref_index]\n",
    "\n",
    "# Align all meshes to the reference medoid shape\n",
    "for name, mesh in tqdm(mesh_dict.items()):\n",
    "    # compute rigid transformation\n",
    "    rigid_transform = mesh.createTransform(ref_mesh, sw.Mesh.AlignmentType.Rigid, 100)\n",
    "    # apply rigid transform\n",
    "    mesh.applyTransform(rigid_transform)\n",
    "    mesh.write(f\"binary_segmentations\\\\aligned\\\\{name}.ply\")"
   ]
  },
  {
   "cell_type": "code",
   "execution_count": 26,
   "id": "82f09217",
   "metadata": {},
   "outputs": [
    {
     "name": "stderr",
     "output_type": "stream",
     "text": [
      "100%|████████████████████████████████████████████████████████████████████████████████| 511/511 [00:39<00:00, 12.92it/s]\n"
     ]
    }
   ],
   "source": [
    "for mesh_path in tqdm(glob(\"binary_segmentations\\\\aligned\\\\*.ply\")):\n",
    "    filename = mesh_path.split(\"\\\\\")[-1].split(\".\")[0]\n",
    "    mesh = pv.read(mesh_path)\n",
    "    mesh.save(f\"binary_segmentations\\\\aligned_vtk\\\\{filename}.vtk\")"
   ]
  },
  {
   "cell_type": "code",
   "execution_count": 13,
   "id": "87089cdf",
   "metadata": {},
   "outputs": [
    {
     "name": "stderr",
     "output_type": "stream",
     "text": [
      "100%|████████████████████████████████████████████████████████████████████████████████| 511/511 [01:25<00:00,  6.01it/s]\n"
     ]
    }
   ],
   "source": [
    "for mesh_path in tqdm(glob(\"binary_segmentations\\\\registrated_vtk\\\\*.vtk\")):\n",
    "    filename = mesh_path.split(\"\\\\\")[-1].split(\".\")[0]\n",
    "    mesh = pv.read(mesh_path)\n",
    "    mesh.save(f\"binary_segmentations\\\\registrated\\\\{filename}.ply\")"
   ]
  },
  {
   "cell_type": "code",
   "execution_count": 3,
   "id": "af223e1b",
   "metadata": {},
   "outputs": [],
   "source": [
    "original_meshes = glob(\"binary_segmentations\\\\aligned\\\\*.ply\")\n",
    "reconstr_meshes = glob(\"binary_segmentations\\\\registrated\\\\*.ply\")"
   ]
  },
  {
   "cell_type": "code",
   "execution_count": 13,
   "id": "6be4e294",
   "metadata": {},
   "outputs": [
    {
     "name": "stderr",
     "output_type": "stream",
     "text": [
      "100%|████████████████████████████████████████████████████████████████████████████████| 511/511 [00:44<00:00, 11.41it/s]\n"
     ]
    },
    {
     "data": {
      "text/plain": [
       "<matplotlib.axes._subplots.AxesSubplot at 0x1af367bd2c8>"
      ]
     },
     "execution_count": 13,
     "metadata": {},
     "output_type": "execute_result"
    },
    {
     "data": {
      "image/png": "[encoded data removed]",
      "text/plain": [
       "<Figure size 640x480 with 1 Axes>"
      ]
     },
     "metadata": {},
     "output_type": "display_data"
    }
   ],
   "source": [
    "distances = []\n",
    "\n",
    "for i in tqdm(range(len(original_meshes))):\n",
    "    \n",
    "    mesh_o = o3d.io.read_triangle_mesh(original_meshes[i])\n",
    "    vertices_o = np.asarray(mesh_o.vertices)\n",
    "    faces_o = np.asarray(mesh_o.triangles)\n",
    "    \n",
    "    mesh_r = o3d.io.read_triangle_mesh(reconstr_meshes[i])    \n",
    "    vertices_r = np.asarray(mesh_r.vertices)\n",
    "    faces_r = np.asarray(mesh_r.triangles)\n",
    "    \n",
    "    distances.append(igl.hausdorff(vertices_o, faces_o, vertices_r, faces_r))\n",
    "\n",
    "df = pd.DataFrame(distances, columns=[\"Hausdorff distance\"])\n",
    "df.plot.hist(bins=100)"
   ]
  },
  {
   "cell_type": "code",
   "execution_count": 1,
   "id": "5879dde8",
   "metadata": {},
   "outputs": [
    {
     "ename": "NameError",
     "evalue": "name 'ref_index' is not defined",
     "output_type": "error",
     "traceback": [
      "\u001b[1;31m---------------------------------------------------------------------------\u001b[0m",
      "\u001b[1;31mNameError\u001b[0m                                 Traceback (most recent call last)",
      "\u001b[1;32m~\\AppData\\Local\\Temp\\ipykernel_12788\\2920188331.py\u001b[0m in \u001b[0;36m<module>\u001b[1;34m\u001b[0m\n\u001b[1;32m----> 1\u001b[1;33m \u001b[0mref_index\u001b[0m\u001b[1;33m\u001b[0m\u001b[1;33m\u001b[0m\u001b[0m\n\u001b[0m",
      "\u001b[1;31mNameError\u001b[0m: name 'ref_index' is not defined"
     ]
    }
   ],
   "source": [
    "ref_index"
   ]
  },
  {
   "cell_type": "code",
   "execution_count": 23,
   "id": "4617e49a",
   "metadata": {},
   "outputs": [
    {
     "data": {
      "text/plain": [
       "'ab300_283_standard'"
      ]
     },
     "execution_count": 23,
     "metadata": {},
     "output_type": "execute_result"
    }
   ],
   "source": [
    "list(mesh_dict.keys())[262]"
   ]
  },
  {
   "cell_type": "code",
   "execution_count": 9,
   "id": "a6636e76",
   "metadata": {},
   "outputs": [],
   "source": [
    "vertices1, faces1 = igl.read_triangle_mesh(\"binary_segmentations/aligned/ab300_002_standard.ply\")"
   ]
  },
  {
   "cell_type": "code",
   "execution_count": 10,
   "id": "3c81ad96",
   "metadata": {},
   "outputs": [],
   "source": [
    "vertices2, faces2 = igl.read_triangle_mesh(\"ab300_001_recon.ply\")"
   ]
  },
  {
   "cell_type": "code",
   "execution_count": 12,
   "id": "5a312987",
   "metadata": {},
   "outputs": [
    {
     "data": {
      "text/plain": [
       "0.0"
      ]
     },
     "execution_count": 12,
     "metadata": {},
     "output_type": "execute_result"
    }
   ],
   "source": [
    "igl.hausdorff(vertices1, faces1, vertices1, faces1)"
   ]
  },
  {
   "cell_type": "code",
   "execution_count": null,
   "id": "eace698f",
   "metadata": {},
   "outputs": [],
   "source": []
  },
  {
   "cell_type": "code",
   "execution_count": 6,
   "id": "560b7366",
   "metadata": {},
   "outputs": [],
   "source": [
    "mesh = pv.read(\"../../../../output_tiny/DeterministicAtlas__Reconstruction__hippo__subject_ab300_001_standard.vtk\")\n",
    "mesh.save(f\"ab300_001_recon.ply\")"
   ]
  },
  {
   "cell_type": "code",
   "execution_count": 20,
   "id": "e46f885d",
   "metadata": {},
   "outputs": [
    {
     "name": "stdout",
     "output_type": "stream",
     "text": [
      "Ende\n"
     ]
    }
   ],
   "source": [
    "print(\"Ende\")"
   ]
  },
  {
   "cell_type": "code",
   "execution_count": 76,
   "id": "17854de7",
   "metadata": {},
   "outputs": [
    {
     "data": {
      "text/plain": [
       "3"
      ]
     },
     "execution_count": 76,
     "metadata": {},
     "output_type": "execute_result"
    }
   ],
   "source": [
    "ref_index"
   ]
  },
  {
   "cell_type": "code",
   "execution_count": 66,
   "id": "6f4458c5",
   "metadata": {},
   "outputs": [],
   "source": [
    "bb = mesh_list[0].boundingBox()"
   ]
  },
  {
   "cell_type": "code",
   "execution_count": 67,
   "id": "b98ed57b",
   "metadata": {},
   "outputs": [],
   "source": [
    "scale_factor = 1 / (bb.max.max() - bb.min.min())"
   ]
  },
  {
   "cell_type": "code",
   "execution_count": 70,
   "id": "f5722b99",
   "metadata": {},
   "outputs": [
    {
     "data": {
      "text/plain": [
       "0.013525294582395746"
      ]
     },
     "execution_count": 70,
     "metadata": {},
     "output_type": "execute_result"
    }
   ],
   "source": [
    "scale_factor"
   ]
  },
  {
   "cell_type": "code",
   "execution_count": 71,
   "id": "c0a3cb4a",
   "metadata": {},
   "outputs": [
    {
     "data": {
      "text/plain": [
       "{\n",
       "number of points: 5676,\n",
       "number of faces: 11344,\n",
       "center: [-0.00961751, 0.0143897, 0.000715557],\n",
       "center or mass: [-0.00246601, -0.0114887, -0.0111386],\n",
       "bounding box: {\n",
       "\tmin: [-0.509618, -0.367544, -0.105231],\n",
       "\tmax: [0.490382, 0.396323, 0.106662]\n",
       "},\n",
       "field names: \n",
       "\tNormals\n",
       "\tscalars"
      ]
     },
     "execution_count": 71,
     "metadata": {},
     "output_type": "execute_result"
    }
   ],
   "source": [
    "mesh_list[0].scale([scale_factor, scale_factor, scale_factor])"
   ]
  },
  {
   "cell_type": "code",
   "execution_count": 46,
   "id": "8804ec3f",
   "metadata": {},
   "outputs": [],
   "source": [
    "center = mesh_list[0].center()\n",
    "\n",
    "-center\n",
    "\n",
    "test = mesh_list[0].translate(list(-center))"
   ]
  },
  {
   "cell_type": "code",
   "execution_count": 49,
   "id": "75603201",
   "metadata": {},
   "outputs": [
    {
     "data": {
      "text/plain": [
       "{\n",
       "number of points: 5676,\n",
       "number of faces: 11344,\n",
       "center: [0, 0, 0],\n",
       "center or mass: [0.529533, -1.91212, -0.876327],\n",
       "bounding box: {\n",
       "\tmin: [-36.9695, -28.2473, -7.83492],\n",
       "\tmax: [36.9695, 28.2473, 7.83492]\n",
       "},\n",
       "field names: \n",
       "\tNormals\n",
       "\tscalars"
      ]
     },
     "execution_count": 49,
     "metadata": {},
     "output_type": "execute_result"
    }
   ],
   "source": [
    "test"
   ]
  },
  {
   "cell_type": "code",
   "execution_count": 55,
   "id": "6f8e73de",
   "metadata": {},
   "outputs": [],
   "source": [
    "shape_mesh = sw.sw2vtkImage(shape_seg)"
   ]
  },
  {
   "cell_type": "code",
   "execution_count": 56,
   "id": "6db8c351",
   "metadata": {},
   "outputs": [
    {
     "data": {
      "text/html": [
       "<table><tr><th>Header</th><th>Data Arrays</th></tr><tr><td>\n",
       "<table>\n",
       "<tr><th>UniformGrid</th><th>Information</th></tr>\n",
       "<tr><td>N Cells</td><td>894615</td></tr>\n",
       "<tr><td>N Points</td><td>950400</td></tr>\n",
       "<tr><td>X Bounds</td><td>-4.550e+01, 1.735e+02</td></tr>\n",
       "<tr><td>Y Bounds</td><td>-5.194e+01, 1.631e+02</td></tr>\n",
       "<tr><td>Z Bounds</td><td>-2.039e+01, -1.391e+00</td></tr>\n",
       "<tr><td>Dimensions</td><td>220, 216, 20</td></tr>\n",
       "<tr><td>Spacing</td><td>1.000e+00, 1.000e+00, 1.000e+00</td></tr>\n",
       "<tr><td>N Arrays</td><td>1</td></tr>\n",
       "</table>\n",
       "\n",
       "</td><td>\n",
       "<table>\n",
       "<tr><th>Name</th><th>Field</th><th>Type</th><th>N Comp</th><th>Min</th><th>Max</th></tr>\n",
       "<tr><td><b>values</b></td><td>Points</td><td>float32</td><td>1</td><td>0.000e+00</td><td>2.000e+00</td></tr>\n",
       "</table>\n",
       "\n",
       "</td></tr> </table>"
      ],
      "text/plain": [
       "UniformGrid (0x1fe59a1cb28)\n",
       "  N Cells:\t894615\n",
       "  N Points:\t950400\n",
       "  X Bounds:\t-4.550e+01, 1.735e+02\n",
       "  Y Bounds:\t-5.194e+01, 1.631e+02\n",
       "  Z Bounds:\t-2.039e+01, -1.391e+00\n",
       "  Dimensions:\t220, 216, 20\n",
       "  Spacing:\t1.000e+00, 1.000e+00, 1.000e+00\n",
       "  N Arrays:\t1"
      ]
     },
     "execution_count": 56,
     "metadata": {},
     "output_type": "execute_result"
    }
   ],
   "source": [
    "shape_mesh"
   ]
  },
  {
   "cell_type": "code",
   "execution_count": 47,
   "id": "ededa354",
   "metadata": {},
   "outputs": [
    {
     "name": "stderr",
     "output_type": "stream",
     "text": [
      "  0%|                                                                                                      | 0/511 [00:00<?, ?it/s]\n"
     ]
    },
    {
     "ename": "TypeError",
     "evalue": "toMesh(): incompatible function arguments. The following argument types are supported:\n    1. (self: shapeworks_py.Image, isovalue: float) -> shapeworks::Mesh\n\nInvoked with: {\n\tdims: [220, 216, 20],\n\torigin: [-47.3771, -54.954, -44.8817],\n\tsize: [220, 216, 20],\n\tspacing: [1, 1, 1]\n}",
     "output_type": "error",
     "traceback": [
      "\u001b[1;31m---------------------------------------------------------------------------\u001b[0m",
      "\u001b[1;31mTypeError\u001b[0m                                 Traceback (most recent call last)",
      "\u001b[1;32m~\\AppData\\Local\\Temp\\ipykernel_3652\\4141165285.py\u001b[0m in \u001b[0;36m<module>\u001b[1;34m\u001b[0m\n\u001b[0;32m      2\u001b[0m     \u001b[0mshape_seg\u001b[0m \u001b[1;33m=\u001b[0m \u001b[0msw\u001b[0m\u001b[1;33m.\u001b[0m\u001b[0mImage\u001b[0m\u001b[1;33m(\u001b[0m\u001b[0mmesh\u001b[0m\u001b[1;33m)\u001b[0m\u001b[1;33m\u001b[0m\u001b[1;33m\u001b[0m\u001b[0m\n\u001b[0;32m      3\u001b[0m     \u001b[0mshape_seg\u001b[0m\u001b[1;33m.\u001b[0m\u001b[0mgaussianBlur\u001b[0m\u001b[1;33m(\u001b[0m\u001b[1;36m0.2\u001b[0m\u001b[1;33m)\u001b[0m\u001b[1;33m\u001b[0m\u001b[1;33m\u001b[0m\u001b[0m\n\u001b[1;32m----> 4\u001b[1;33m     \u001b[0mshape_mesh\u001b[0m \u001b[1;33m=\u001b[0m \u001b[0mshape_seg\u001b[0m\u001b[1;33m.\u001b[0m\u001b[0mtoMesh\u001b[0m\u001b[1;33m(\u001b[0m\u001b[1;33m)\u001b[0m\u001b[1;33m\u001b[0m\u001b[1;33m\u001b[0m\u001b[0m\n\u001b[0m\u001b[0;32m      5\u001b[0m \u001b[1;31m#     filename = mesh.split(\"\\\\\")[-1].split(\".\")[0] + \"_smoothed.ply\"\u001b[0m\u001b[1;33m\u001b[0m\u001b[1;33m\u001b[0m\u001b[1;33m\u001b[0m\u001b[0m\n\u001b[0;32m      6\u001b[0m \u001b[1;31m#     shape_mesh = sw.Mesh(mesh)\u001b[0m\u001b[1;33m\u001b[0m\u001b[1;33m\u001b[0m\u001b[1;33m\u001b[0m\u001b[0m\n",
      "\u001b[1;31mTypeError\u001b[0m: toMesh(): incompatible function arguments. The following argument types are supported:\n    1. (self: shapeworks_py.Image, isovalue: float) -> shapeworks::Mesh\n\nInvoked with: {\n\tdims: [220, 216, 20],\n\torigin: [-47.3771, -54.954, -44.8817],\n\tsize: [220, 216, 20],\n\tspacing: [1, 1, 1]\n}"
     ]
    }
   ],
   "source": [
    "for mesh in tqdm(glob(\"binary_segmentations\\\\*.nii\")):\n",
    "    shape_seg = sw.Image(mesh)\n",
    "    shape_seg.gaussianBlur(0.2)\n",
    "    shape_mesh = shape_seg.toMesh()\n",
    "#     filename = mesh.split(\"\\\\\")[-1].split(\".\")[0] + \"_smoothed.ply\"\n",
    "#     shape_mesh = sw.Mesh(mesh)\n",
    "#     shape_mesh.smooth(3, 1)\n",
    "#     shape_mesh.fillHoles()\n",
    "#     shape_mesh.write(f\"raw_meshes\\\\{filename}\")\n"
   ]
  },
  {
   "cell_type": "markdown",
   "id": "752a91c4",
   "metadata": {},
   "source": [
    "## Convert groomed .nrrd files into .nii format"
   ]
  },
  {
   "cell_type": "code",
   "execution_count": 42,
   "id": "2adcd634",
   "metadata": {},
   "outputs": [
    {
     "name": "stderr",
     "output_type": "stream",
     "text": [
      "100%|█████████████████████████████████████████████████████████████████████████████████| 511/511 [07:34<00:00,  1.12it/s]\n"
     ]
    }
   ],
   "source": [
    "for segmentation in tqdm(glob(\"binary_segmentations/groomed/*.nrrd\")):\n",
    "    filename = segmentation.split(\"/\")[-1].split(\".\")[0] + \".nii\"\n",
    "    img = sitk.ReadImage(segmentation)\n",
    "    sitk.WriteImage(img, f\"binary_segmentations/groomed/{filename}\")"
   ]
  },
  {
   "cell_type": "markdown",
   "id": "35ed2cf8",
   "metadata": {},
   "source": [
    "## Convert volumetric shapes into meshes"
   ]
  },
  {
   "cell_type": "code",
   "execution_count": 43,
   "id": "3ad2206f",
   "metadata": {},
   "outputs": [
    {
     "name": "stderr",
     "output_type": "stream",
     "text": [
      "100%|█████████████████████████████████████████████████████████████████████████████████| 511/511 [10:48<00:00,  1.27s/it]\n"
     ]
    }
   ],
   "source": [
    "for segmentation in tqdm(glob(\"binary_segmentations/groomed/*.nii\")):\n",
    "    filename = segmentation.split(\"/\")[-1].split(\".\")[0] + \".ply\"\n",
    "    img = nib.load(segmentation)\n",
    "    data = img.get_fdata()\n",
    "    verts, faces, normals, values = measure.marching_cubes(data, 0)\n",
    "    igl.write_triangle_mesh(f\"binary_segmentations/groomed/{filename}\", verts, faces)"
   ]
  },
  {
   "cell_type": "code",
   "execution_count": 14,
   "id": "5bd2d198",
   "metadata": {},
   "outputs": [
    {
     "data": {
      "application/vnd.jupyter.widget-view+json": {
       "model_id": "92ff344069824ed19da6a01260aba83c",
       "version_major": 2,
       "version_minor": 0
      },
      "text/plain": [
       "interactive(children=(IntSlider(value=0, description='i', max=510), Output()), _dom_classes=('widget-interact'…"
      ]
     },
     "metadata": {},
     "output_type": "display_data"
    }
   ],
   "source": [
    "shape_list = glob(\"binary_segmentations/groomed/*standard_DT.ply\")\n",
    "\n",
    "@interact(i=widgets.IntSlider(min=0, max=len(shape_list)-1, step=1))\n",
    "def visualize(i):\n",
    "    print(shape_list[i].split(\"/\")[-1])\n",
    "    vertices, faces = igl.read_triangle_mesh(shape_list[i])\n",
    "    mp.plot(vertices, faces)"
   ]
  },
  {
   "cell_type": "markdown",
   "id": "02115efb",
   "metadata": {},
   "source": [
    "## MOI Alignment"
   ]
  },
  {
   "cell_type": "markdown",
   "id": "16a48a38",
   "metadata": {
    "jupyter": {
     "outputs_hidden": true
    },
    "tags": []
   },
   "source": [
    "#vertices, faces = igl.read_triangle_mesh(shape_list[0])\n",
    "\n",
    "ms = pymeshlab.MeshSet()\n",
    "ms.load_new_mesh(shape_list[0])\n",
    "ms.compute_matrix_by_principal_axis()\n",
    "face_matrix = ms.current_mesh().face_matrix()\n",
    "vertex_matrix = ms.current_mesh().vertex_matrix()\n",
    "faces_aligned = np.array(face_matrix)\n",
    "vertices_aligned = np.array(vertex_matrix)\n",
    "mp.plot(vertices_aligned, faces_aligned)"
   ]
  },
  {
   "cell_type": "markdown",
   "id": "68f42815",
   "metadata": {
    "tags": []
   },
   "source": [
    "## Cleaning"
   ]
  },
  {
   "cell_type": "code",
   "execution_count": 61,
   "id": "551b2286",
   "metadata": {},
   "outputs": [
    {
     "name": "stderr",
     "output_type": "stream",
     "text": [
      "  0%|                                                                                           | 0/511 [00:00<?, ?it/s]RPly: Unable to create file\n",
      "100%|█████████████████████████████████████████████████████████████████████████████████| 511/511 [01:03<00:00,  7.99it/s]\n"
     ]
    }
   ],
   "source": [
    "for mesh in tqdm(glob(\"binary_segmentations/groomed/*standard_DT.ply\")):\n",
    "    with suppress_stdout():\n",
    "        filename = mesh.split(\"/\")[-1].split(\".\")[0] + \"_cleaned.ply\"\n",
    "        mesh = o3d.io.read_triangle_mesh(mesh)\n",
    "        #mp.plot(np.asarray(mesh.vertices), np.asarray(mesh.triangles))\n",
    "        #print(\"Clustering connected triangles ...\")\n",
    "        with o3d.utility.VerbosityContextManager(o3d.utility.VerbosityLevel.Debug) as cm:        \n",
    "            triangle_clusters, cluster_n_triangles, cluster_area = (mesh.cluster_connected_triangles())\n",
    "\n",
    "        triangle_clusters = np.asarray(triangle_clusters)\n",
    "        cluster_n_triangles = np.asarray(cluster_n_triangles)\n",
    "        cluster_area = np.asarray(cluster_area)\n",
    "\n",
    "        #print(\"Displaying mesh with small clusters removed ...\")\n",
    "        mesh_0 = copy.deepcopy(mesh)\n",
    "        triangles_to_remove = cluster_n_triangles[triangle_clusters] < 1000\n",
    "        mesh_0.remove_triangles_by_mask(triangles_to_remove)\n",
    "        o3d.io.write_triangle_mesh(f\"binary_segmentations/groomed/{filename}\", mesh_0)\n",
    "        #o3d.visualization.draw([mesh_0])\n",
    "        #mp.plot(np.asarray(mesh_0.vertices), np.asarray(mesh_0.triangles))"
   ]
  },
  {
   "cell_type": "code",
   "execution_count": 62,
   "id": "14f521b1",
   "metadata": {},
   "outputs": [
    {
     "data": {
      "application/vnd.jupyter.widget-view+json": {
       "model_id": "9b96bf36643e4d1387b8b39a5490b045",
       "version_major": 2,
       "version_minor": 0
      },
      "text/plain": [
       "interactive(children=(IntSlider(value=0, description='i', max=509), Output()), _dom_classes=('widget-interact'…"
      ]
     },
     "metadata": {},
     "output_type": "display_data"
    }
   ],
   "source": [
    "shape_list = glob(\"binary_segmentations/groomed/*cleaned.ply\")\n",
    "\n",
    "@interact(i=widgets.IntSlider(min=0, max=len(shape_list)-1, step=1))\n",
    "def visualize(i):\n",
    "    print(shape_list[i].split(\"/\")[-1])\n",
    "    vertices, faces = igl.read_triangle_mesh(shape_list[i])\n",
    "    mp.plot(vertices, faces)"
   ]
  },
  {
   "cell_type": "markdown",
   "id": "81e3a927",
   "metadata": {},
   "source": [
    "## Surface smoothing"
   ]
  },
  {
   "cell_type": "code",
   "execution_count": 64,
   "id": "35cdeceb",
   "metadata": {},
   "outputs": [
    {
     "name": "stderr",
     "output_type": "stream",
     "text": [
      "100%|█████████████████████████████████████████████████████████████████████████████████| 510/510 [00:59<00:00,  8.58it/s]\n"
     ]
    }
   ],
   "source": [
    "for mesh in tqdm(glob(\"binary_segmentations/groomed/*cleaned.ply\")):\n",
    "    filename = mesh.split(\"/\")[-1].split(\".\")[0] + \"_smoothed.ply\"\n",
    "    mesh = o3d.io.read_triangle_mesh(mesh)\n",
    "    mesh_out = mesh.filter_smooth_taubin(number_of_iterations=5)\n",
    "    mesh_out.compute_vertex_normals()\n",
    "    o3d.io.write_triangle_mesh(f\"binary_segmentations/groomed/{filename}\", mesh_out)\n",
    "    #mp.plot(np.asarray(mesh_out.vertices), np.asarray(mesh_out.triangles))"
   ]
  },
  {
   "cell_type": "code",
   "execution_count": 32,
   "id": "9062c2e8",
   "metadata": {},
   "outputs": [
    {
     "data": {
      "text/plain": [
       "['raw_meshes', 'ab300_001.ply']"
      ]
     },
     "execution_count": 32,
     "metadata": {},
     "output_type": "execute_result"
    }
   ],
   "source": [
    "glob(\"raw_meshes/*.ply\")[0].split(\"\\\\\")"
   ]
  },
  {
   "cell_type": "code",
   "execution_count": 36,
   "id": "062b2976",
   "metadata": {},
   "outputs": [
    {
     "name": "stderr",
     "output_type": "stream",
     "text": [
      "100%|████████████████████████████████████████████████████████████████████████████████████████████| 511/511 [00:18<00:00, 28.04it/s]\n"
     ]
    }
   ],
   "source": [
    "for mesh in tqdm(glob(\"raw_meshes\\\\*.ply\")):\n",
    "    filename = mesh.split(\"\\\\\")[-1].split(\".\")[0] + \"_smoothed.ply\"\n",
    "    mesh = o3d.io.read_triangle_mesh(mesh)\n",
    "    mesh_out = mesh.filter_smooth_laplacian(number_of_iterations=3)\n",
    "    mesh_out.compute_vertex_normals()\n",
    "    o3d.io.write_triangle_mesh(f\"raw_meshes\\\\{filename}\", mesh_out)\n",
    "    #mp.plot(np.asarray(mesh_out.vertices), np.asarray(mesh_out.triangles))"
   ]
  },
  {
   "cell_type": "code",
   "execution_count": 37,
   "id": "17e5d9dc",
   "metadata": {},
   "outputs": [
    {
     "data": {
      "application/vnd.jupyter.widget-view+json": {
       "model_id": "a7a0f74b21f847e188992ac3db8a165f",
       "version_major": 2,
       "version_minor": 0
      },
      "text/plain": [
       "interactive(children=(IntSlider(value=0, description='i', max=509), Output()), _dom_classes=('widget-interact'…"
      ]
     },
     "metadata": {},
     "output_type": "display_data"
    }
   ],
   "source": [
    "shape_list = glob(\"binary_segmentations/groomed/*smoothed.ply\")\n",
    "\n",
    "@interact(i=widgets.IntSlider(min=0, max=len(shape_list)-1, step=1))\n",
    "def visualize(i):\n",
    "    print(shape_list[i].split(\"/\")[-1])\n",
    "    vertices, faces = igl.read_triangle_mesh(shape_list[i])\n",
    "    mp.plot(vertices, faces)"
   ]
  },
  {
   "cell_type": "code",
   "execution_count": 74,
   "id": "b1efe72c",
   "metadata": {},
   "outputs": [],
   "source": [
    "img = sitk.ReadImage(\"subjects/ab300_070/groomed/standard_DT.nrrd\")\n",
    "sitk.WriteImage(img, \"your_image.nii\")"
   ]
  },
  {
   "cell_type": "code",
   "execution_count": 75,
   "id": "bf4a1975",
   "metadata": {},
   "outputs": [],
   "source": [
    "img = nib.load(\"your_image.nii\")"
   ]
  },
  {
   "cell_type": "code",
   "execution_count": 76,
   "id": "f9985a67",
   "metadata": {},
   "outputs": [
    {
     "data": {
      "text/plain": [
       "True"
      ]
     },
     "execution_count": 76,
     "metadata": {},
     "output_type": "execute_result"
    }
   ],
   "source": [
    "data = img.get_fdata()\n",
    "verts, faces, normals, values = measure.marching_cubes(data, 0)\n",
    "igl.write_triangle_mesh(\"test.ply\", verts, faces) "
   ]
  },
  {
   "cell_type": "code",
   "execution_count": 77,
   "id": "7976fc75",
   "metadata": {},
   "outputs": [
    {
     "data": {
      "application/vnd.jupyter.widget-view+json": {
       "model_id": "d600ee0f67db4668b314c5a00ead48e3",
       "version_major": 2,
       "version_minor": 0
      },
      "text/plain": [
       "Renderer(camera=PerspectiveCamera(children=(DirectionalLight(color='white', intensity=0.6, position=(115.76505…"
      ]
     },
     "metadata": {},
     "output_type": "display_data"
    },
    {
     "data": {
      "text/plain": [
       "<meshplot.Viewer.Viewer at 0x7f34dcb97250>"
      ]
     },
     "execution_count": 77,
     "metadata": {},
     "output_type": "execute_result"
    }
   ],
   "source": [
    "mp.plot(verts, faces)"
   ]
  },
  {
   "cell_type": "code",
   "execution_count": 78,
   "id": "6d80bb1d",
   "metadata": {},
   "outputs": [
    {
     "data": {
      "application/vnd.jupyter.widget-view+json": {
       "model_id": "9c079c45713347de8a5bb70bc61d8983",
       "version_major": 2,
       "version_minor": 0
      },
      "text/plain": [
       "Renderer(camera=PerspectiveCamera(children=(DirectionalLight(color='white', intensity=0.6, position=(115.75954…"
      ]
     },
     "metadata": {},
     "output_type": "display_data"
    },
    {
     "data": {
      "text/plain": [
       "<meshplot.Viewer.Viewer at 0x7f34dcb88d90>"
      ]
     },
     "execution_count": 78,
     "metadata": {},
     "output_type": "execute_result"
    }
   ],
   "source": [
    "mesh = o3d.io.read_triangle_mesh(\"test.ply\")\n",
    "mesh_out = mesh.filter_smooth_taubin(number_of_iterations=5)\n",
    "mesh_out.compute_vertex_normals()\n",
    "mp.plot(np.asarray(mesh_out.vertices), np.asarray(mesh_out.triangles))"
   ]
  },
  {
   "cell_type": "markdown",
   "id": "bb772490",
   "metadata": {},
   "source": [
    "## 1. Unzip data"
   ]
  },
  {
   "cell_type": "code",
   "execution_count": 33,
   "id": "d901f279",
   "metadata": {},
   "outputs": [],
   "source": [
    "for subject in glob(\"subjects/*/standard.nii.gz\"):\n",
    "    new_file = subject.split(\".\")[0] + \".nii\"\n",
    "    with gzip.open(subject, 'rb') as f_in:\n",
    "        with open(new_file, 'wb') as f_out:\n",
    "            shutil.copyfileobj(f_in, f_out)"
   ]
  },
  {
   "cell_type": "markdown",
   "id": "8b15f90c",
   "metadata": {},
   "source": [
    "## 2. Convert into mesh representation - Marching Cubes Algorithm"
   ]
  },
  {
   "cell_type": "code",
   "execution_count": 35,
   "id": "18566dbf",
   "metadata": {},
   "outputs": [],
   "source": [
    "for subject in glob(\"subjects/*/standard.nii\"):\n",
    "    name = subject.split(\"/\")[1]\n",
    "    \n",
    "    img = nib.load(subject)\n",
    "    data = img.get_fdata()\n",
    "    verts, faces, normals, values = measure.marching_cubes(data, 0)\n",
    "    igl.write_triangle_mesh(f\"raw_meshes/{name}.ply\", verts, faces)"
   ]
  },
  {
   "cell_type": "markdown",
   "id": "7d039ee3",
   "metadata": {},
   "source": [
    "## 3. Surface Smoothing"
   ]
  },
  {
   "cell_type": "code",
   "execution_count": null,
   "id": "90f7ed33",
   "metadata": {},
   "outputs": [],
   "source": [
    "\n",
    "mesh = sw.Mesh(in_mesh_filename)\n",
    "mesh.smooth(iterations, relaxation)\n"
   ]
  },
  {
   "cell_type": "code",
   "execution_count": 52,
   "id": "04553592",
   "metadata": {},
   "outputs": [
    {
     "name": "stderr",
     "output_type": "stream",
     "text": [
      "100%|█████████████████████████████████████████████████████████████████████████████████████████████| 511/511 [00:43<00:00, 11.63it/s]\n"
     ]
    }
   ],
   "source": [
    "# Laplacian filter\n",
    "\n",
    "for subject in tqdm(glob(\"raw_meshes/*.ply\")):\n",
    "    name = subject.split(\"/\")[-1]\n",
    "    mesh = o3d.io.read_triangle_mesh(subject)\n",
    "    mesh_out = mesh.filter_smooth_laplacian(number_of_iterations=3)\n",
    "    mesh_out.compute_vertex_normals()\n",
    "    o3d.io.write_triangle_mesh(f\"raw_meshes_smoothed/{name}\", mesh_out)"
   ]
  },
  {
   "cell_type": "code",
   "execution_count": 53,
   "id": "9e6caebc",
   "metadata": {},
   "outputs": [
    {
     "name": "stderr",
     "output_type": "stream",
     "text": [
      "100%|█████████████████████████████████████████████████████████████████████████████████████████████| 511/511 [00:48<00:00, 10.46it/s]\n"
     ]
    }
   ],
   "source": [
    "# Taubin filter\n",
    "\n",
    "for subject in tqdm(glob(\"raw_meshes/*.ply\")):\n",
    "    name = subject.split(\"/\")[-1]\n",
    "    mesh = o3d.io.read_triangle_mesh(subject)\n",
    "    mesh_out = mesh.filter_smooth_taubin(number_of_iterations=5)\n",
    "    mesh_out.compute_vertex_normals()\n",
    "    o3d.io.write_triangle_mesh(f\"raw_meshes_smoothed/{name}\", mesh_out)"
   ]
  },
  {
   "cell_type": "markdown",
   "id": "74f4eb8e",
   "metadata": {
    "tags": []
   },
   "source": [
    "## 4. Procrustes Superimposition"
   ]
  },
  {
   "cell_type": "markdown",
   "id": "32170cbf",
   "metadata": {},
   "source": [
    "### 4.1 Center meshes (Tranlation)"
   ]
  },
  {
   "cell_type": "code",
   "execution_count": 56,
   "id": "fee6fdc1",
   "metadata": {},
   "outputs": [],
   "source": [
    "for subject in glob(\"raw_meshes/*.ply\"):\n",
    "    name = subject.split(\"/\")[-1]\n",
    "\n",
    "    vertices, faces = igl.read_triangle_mesh(subject)\n",
    "\n",
    "    x_mean = np.mean(vertices[:,0])\n",
    "    y_mean = np.mean(vertices[:,1])\n",
    "    z_mean = np.mean(vertices[:,2])\n",
    "\n",
    "    x_new = vertices[:,0] - x_mean\n",
    "    y_new = vertices[:,1] - y_mean\n",
    "    z_new = vertices[:,2] - z_mean\n",
    "\n",
    "    vertices_new = np.stack([x_new, y_new, z_new], axis=1)\n",
    "    igl.write_triangle_mesh(f\"raw_meshes_centered/{name}\", vertices_new, faces)"
   ]
  },
  {
   "cell_type": "markdown",
   "id": "df3264f2",
   "metadata": {},
   "source": [
    "### 4.2. Uniform Scaling"
   ]
  },
  {
   "cell_type": "code",
   "execution_count": 8,
   "id": "77a95bda",
   "metadata": {},
   "outputs": [
    {
     "name": "stderr",
     "output_type": "stream",
     "text": [
      "100%|█████████████████████████████████████████████████████████████████████████████████████████████| 511/511 [00:26<00:00, 19.26it/s]\n"
     ]
    }
   ],
   "source": [
    "for subject in tqdm(glob(\"raw_meshes_centered/*.ply\")):\n",
    "    name = subject.split(\"/\")[-1]\n",
    "    mesh = o3d.io.read_triangle_mesh(subject)\n",
    "    scale_factor = 1 / np.max(mesh.get_max_bound() - mesh.get_min_bound())\n",
    "    mesh.scale(scale_factor, center=mesh.get_center())\n",
    "    o3d.io.write_triangle_mesh(f\"raw_meshes_centered_scaled/{name}\", mesh)"
   ]
  },
  {
   "cell_type": "markdown",
   "id": "25eb9fb7",
   "metadata": {},
   "source": [
    "### 4.3 Align meshes (Rotation) - Kabsch Algorithm"
   ]
  },
  {
   "cell_type": "code",
   "execution_count": 48,
   "id": "667c32b0",
   "metadata": {},
   "outputs": [],
   "source": [
    "template_mesh = o3d.io.read_triangle_mesh(\"raw_meshes_centered_scaled/cbbrain_011.ply\")\n",
    "#template_pcd = template_mesh.sample_points_poisson_disk(number_of_points=1000, init_factor=5)\n",
    "template_pcd = template_mesh.sample_points_uniformly(number_of_points=1000)\n",
    "#o3d.visualization.draw_geometries([template_pcd])"
   ]
  },
  {
   "cell_type": "code",
   "execution_count": 50,
   "id": "997d5247",
   "metadata": {
    "collapsed": true,
    "jupyter": {
     "outputs_hidden": true
    },
    "tags": []
   },
   "outputs": [
    {
     "name": "stderr",
     "output_type": "stream",
     "text": [
      "  1%|▋                                                                                              | 4/511 [00:00<00:14, 33.91it/s]"
     ]
    },
    {
     "name": "stdout",
     "output_type": "stream",
     "text": [
      "Reflection detected\n",
      "Reflection detected\n",
      "Reflection detected\n",
      "Reflection detected\n",
      "Reflection detected\n"
     ]
    },
    {
     "name": "stderr",
     "output_type": "stream",
     "text": [
      "  2%|██▏                                                                                           | 12/511 [00:00<00:13, 37.49it/s]"
     ]
    },
    {
     "name": "stdout",
     "output_type": "stream",
     "text": [
      "Reflection detected\n",
      "Reflection detected\n",
      "Reflection detected\n",
      "Reflection detected\n",
      "Reflection detected\n",
      "Reflection detected\n",
      "Reflection detected\n"
     ]
    },
    {
     "name": "stderr",
     "output_type": "stream",
     "text": [
      "  4%|███▊                                                                                          | 21/511 [00:00<00:13, 35.09it/s]"
     ]
    },
    {
     "name": "stdout",
     "output_type": "stream",
     "text": [
      "Reflection detected\n",
      "Reflection detected\n",
      "Reflection detected\n",
      "Reflection detected\n"
     ]
    },
    {
     "name": "stderr",
     "output_type": "stream",
     "text": [
      "  6%|█████▎                                                                                        | 29/511 [00:00<00:14, 33.30it/s]"
     ]
    },
    {
     "name": "stdout",
     "output_type": "stream",
     "text": [
      "Reflection detected\n",
      "Reflection detected\n",
      "Reflection detected\n",
      "Reflection detected\n",
      "Reflection detected\n",
      "Reflection detected\n"
     ]
    },
    {
     "name": "stderr",
     "output_type": "stream",
     "text": [
      "  7%|██████▊                                                                                       | 37/511 [00:01<00:16, 28.73it/s]"
     ]
    },
    {
     "name": "stdout",
     "output_type": "stream",
     "text": [
      "Reflection detected\n",
      "Reflection detected\n",
      "Reflection detected\n",
      "Reflection detected\n"
     ]
    },
    {
     "name": "stderr",
     "output_type": "stream",
     "text": [
      "  8%|███████▉                                                                                      | 43/511 [00:01<00:19, 23.59it/s]"
     ]
    },
    {
     "name": "stdout",
     "output_type": "stream",
     "text": [
      "Reflection detected\n",
      "Reflection detected\n"
     ]
    },
    {
     "name": "stderr",
     "output_type": "stream",
     "text": [
      "  9%|████████▍                                                                                     | 46/511 [00:01<00:29, 15.74it/s]"
     ]
    },
    {
     "name": "stdout",
     "output_type": "stream",
     "text": [
      "Reflection detected\n",
      "Reflection detected\n"
     ]
    },
    {
     "name": "stderr",
     "output_type": "stream",
     "text": [
      "  9%|████████▊                                                                                     | 48/511 [00:01<00:30, 15.21it/s]"
     ]
    },
    {
     "name": "stdout",
     "output_type": "stream",
     "text": [
      "Reflection detected\n",
      "Reflection detected\n",
      "Reflection detected\n"
     ]
    },
    {
     "name": "stderr",
     "output_type": "stream",
     "text": [
      " 11%|█████████▉                                                                                    | 54/511 [00:02<00:28, 16.08it/s]"
     ]
    },
    {
     "name": "stdout",
     "output_type": "stream",
     "text": [
      "Reflection detected\n",
      "Reflection detected\n",
      "Reflection detected\n",
      "Reflection detected\n"
     ]
    },
    {
     "name": "stderr",
     "output_type": "stream",
     "text": [
      " 12%|███████████▏                                                                                  | 61/511 [00:02<00:25, 17.49it/s]"
     ]
    },
    {
     "name": "stdout",
     "output_type": "stream",
     "text": [
      "Reflection detected\n"
     ]
    },
    {
     "name": "stderr",
     "output_type": "stream",
     "text": [
      " 13%|███████████▉                                                                                  | 65/511 [00:02<00:28, 15.88it/s]"
     ]
    },
    {
     "name": "stdout",
     "output_type": "stream",
     "text": [
      "Reflection detected\n",
      "Reflection detected\n",
      "Reflection detected\n"
     ]
    },
    {
     "name": "stderr",
     "output_type": "stream",
     "text": [
      " 13%|████████████▎                                                                                 | 67/511 [00:03<00:32, 13.84it/s]"
     ]
    },
    {
     "name": "stdout",
     "output_type": "stream",
     "text": [
      "Reflection detected\n",
      "Reflection detected\n",
      "Reflection detected\n"
     ]
    },
    {
     "name": "stderr",
     "output_type": "stream",
     "text": [
      " 14%|████████████▋                                                                                 | 69/511 [00:03<00:42, 10.37it/s]"
     ]
    },
    {
     "name": "stdout",
     "output_type": "stream",
     "text": [
      "Reflection detected\n"
     ]
    },
    {
     "name": "stderr",
     "output_type": "stream",
     "text": [
      " 14%|█████████████▍                                                                                | 73/511 [00:05<02:14,  3.25it/s]"
     ]
    },
    {
     "name": "stdout",
     "output_type": "stream",
     "text": [
      "Reflection detected\n",
      "Reflection detected\n"
     ]
    },
    {
     "name": "stderr",
     "output_type": "stream",
     "text": [
      " 15%|█████████████▊                                                                                | 75/511 [00:05<01:40,  4.33it/s]"
     ]
    },
    {
     "name": "stdout",
     "output_type": "stream",
     "text": [
      "Reflection detected\n",
      "Reflection detected\n",
      "Reflection detected\n"
     ]
    },
    {
     "name": "stderr",
     "output_type": "stream",
     "text": [
      " 16%|███████████████                                                                               | 82/511 [00:06<00:45,  9.51it/s]"
     ]
    },
    {
     "name": "stdout",
     "output_type": "stream",
     "text": [
      "Reflection detected\n",
      "Reflection detected\n"
     ]
    },
    {
     "name": "stderr",
     "output_type": "stream",
     "text": [
      " 17%|███████████████▊                                                                              | 86/511 [00:06<00:38, 11.16it/s]"
     ]
    },
    {
     "name": "stdout",
     "output_type": "stream",
     "text": [
      "Reflection detected\n",
      "Reflection detected\n",
      "Reflection detected\n"
     ]
    },
    {
     "name": "stderr",
     "output_type": "stream",
     "text": [
      " 17%|████████████████▏                                                                             | 88/511 [00:06<00:37, 11.15it/s]"
     ]
    },
    {
     "name": "stdout",
     "output_type": "stream",
     "text": [
      "Reflection detected\n"
     ]
    },
    {
     "name": "stderr",
     "output_type": "stream",
     "text": [
      " 18%|█████████████████▎                                                                            | 94/511 [00:07<00:32, 12.81it/s]"
     ]
    },
    {
     "name": "stdout",
     "output_type": "stream",
     "text": [
      "Reflection detected\n",
      "Reflection detected\n",
      "Reflection detected\n"
     ]
    },
    {
     "name": "stderr",
     "output_type": "stream",
     "text": [
      " 20%|██████████████████▏                                                                          | 100/511 [00:07<00:29, 13.95it/s]"
     ]
    },
    {
     "name": "stdout",
     "output_type": "stream",
     "text": [
      "Reflection detected\n"
     ]
    },
    {
     "name": "stderr",
     "output_type": "stream",
     "text": [
      " 20%|██████████████████▌                                                                          | 102/511 [00:07<00:28, 14.14it/s]"
     ]
    },
    {
     "name": "stdout",
     "output_type": "stream",
     "text": [
      "Reflection detected\n",
      "Reflection detected\n"
     ]
    },
    {
     "name": "stderr",
     "output_type": "stream",
     "text": [
      " 21%|███████████████████▋                                                                         | 108/511 [00:08<00:32, 12.57it/s]"
     ]
    },
    {
     "name": "stdout",
     "output_type": "stream",
     "text": [
      "Reflection detected\n",
      "Reflection detected\n"
     ]
    },
    {
     "name": "stderr",
     "output_type": "stream",
     "text": [
      " 22%|████████████████████                                                                         | 110/511 [00:08<00:30, 13.12it/s]"
     ]
    },
    {
     "name": "stdout",
     "output_type": "stream",
     "text": [
      "Reflection detected\n"
     ]
    },
    {
     "name": "stderr",
     "output_type": "stream",
     "text": [
      " 23%|█████████████████████                                                                        | 116/511 [00:08<00:25, 15.68it/s]"
     ]
    },
    {
     "name": "stdout",
     "output_type": "stream",
     "text": [
      "Reflection detected\n",
      "Reflection detected\n"
     ]
    },
    {
     "name": "stderr",
     "output_type": "stream",
     "text": [
      " 23%|█████████████████████▊                                                                       | 120/511 [00:09<00:23, 16.33it/s]"
     ]
    },
    {
     "name": "stdout",
     "output_type": "stream",
     "text": [
      "Reflection detected\n",
      "Reflection detected\n"
     ]
    },
    {
     "name": "stderr",
     "output_type": "stream",
     "text": [
      " 24%|██████████████████████▌                                                                      | 124/511 [00:09<00:23, 16.78it/s]"
     ]
    },
    {
     "name": "stdout",
     "output_type": "stream",
     "text": [
      "Reflection detected\n"
     ]
    },
    {
     "name": "stderr",
     "output_type": "stream",
     "text": [
      " 25%|███████████████████████▋                                                                     | 130/511 [00:09<00:22, 16.87it/s]"
     ]
    },
    {
     "name": "stdout",
     "output_type": "stream",
     "text": [
      "Reflection detected\n",
      "Reflection detected\n"
     ]
    },
    {
     "name": "stderr",
     "output_type": "stream",
     "text": [
      " 26%|████████████████████████▌                                                                    | 135/511 [00:10<00:31, 12.10it/s]"
     ]
    },
    {
     "name": "stdout",
     "output_type": "stream",
     "text": [
      "Reflection detected\n"
     ]
    },
    {
     "name": "stderr",
     "output_type": "stream",
     "text": [
      " 27%|████████████████████████▉                                                                    | 137/511 [00:10<00:56,  6.58it/s]"
     ]
    },
    {
     "name": "stdout",
     "output_type": "stream",
     "text": [
      "Reflection detected\n"
     ]
    },
    {
     "name": "stderr",
     "output_type": "stream",
     "text": [
      " 27%|█████████████████████████▎                                                                   | 139/511 [00:11<00:48,  7.72it/s]"
     ]
    },
    {
     "name": "stdout",
     "output_type": "stream",
     "text": [
      "Reflection detected\n",
      "Reflection detected\n"
     ]
    },
    {
     "name": "stderr",
     "output_type": "stream",
     "text": [
      " 28%|██████████████████████████                                                                   | 143/511 [00:11<00:35, 10.32it/s]"
     ]
    },
    {
     "name": "stdout",
     "output_type": "stream",
     "text": [
      "Reflection detected\n",
      "Reflection detected\n",
      "Reflection detected\n"
     ]
    },
    {
     "name": "stderr",
     "output_type": "stream",
     "text": [
      " 29%|███████████████████████████                                                                  | 149/511 [00:11<00:26, 13.46it/s]"
     ]
    },
    {
     "name": "stdout",
     "output_type": "stream",
     "text": [
      "Reflection detected\n",
      "Reflection detected\n"
     ]
    },
    {
     "name": "stderr",
     "output_type": "stream",
     "text": [
      " 30%|███████████████████████████▊                                                                 | 153/511 [00:11<00:23, 15.08it/s]"
     ]
    },
    {
     "name": "stdout",
     "output_type": "stream",
     "text": [
      "Reflection detected\n"
     ]
    },
    {
     "name": "stderr",
     "output_type": "stream",
     "text": [
      " 31%|████████████████████████████▉                                                                | 159/511 [00:12<00:24, 14.15it/s]"
     ]
    },
    {
     "name": "stdout",
     "output_type": "stream",
     "text": [
      "Reflection detected\n",
      "Reflection detected\n"
     ]
    },
    {
     "name": "stderr",
     "output_type": "stream",
     "text": [
      " 32%|█████████████████████████████▋                                                               | 163/511 [00:12<00:23, 14.57it/s]"
     ]
    },
    {
     "name": "stdout",
     "output_type": "stream",
     "text": [
      "Reflection detected\n"
     ]
    },
    {
     "name": "stderr",
     "output_type": "stream",
     "text": [
      " 32%|██████████████████████████████                                                               | 165/511 [00:12<00:34,  9.97it/s]"
     ]
    },
    {
     "name": "stdout",
     "output_type": "stream",
     "text": [
      "Reflection detected\n"
     ]
    },
    {
     "name": "stderr",
     "output_type": "stream",
     "text": [
      " 33%|██████████████████████████████▊                                                              | 169/511 [00:14<01:01,  5.58it/s]"
     ]
    },
    {
     "name": "stdout",
     "output_type": "stream",
     "text": [
      "Reflection detected\n"
     ]
    },
    {
     "name": "stderr",
     "output_type": "stream",
     "text": [
      " 34%|███████████████████████████████▍                                                             | 173/511 [00:14<00:40,  8.42it/s]"
     ]
    },
    {
     "name": "stdout",
     "output_type": "stream",
     "text": [
      "Reflection detected\n",
      "Reflection detected\n"
     ]
    },
    {
     "name": "stderr",
     "output_type": "stream",
     "text": [
      " 34%|███████████████████████████████▊                                                             | 175/511 [00:14<00:34,  9.69it/s]"
     ]
    },
    {
     "name": "stdout",
     "output_type": "stream",
     "text": [
      "Reflection detected\n",
      "Reflection detected\n"
     ]
    },
    {
     "name": "stderr",
     "output_type": "stream",
     "text": [
      " 35%|████████████████████████████████▌                                                            | 179/511 [00:14<00:30, 10.88it/s]"
     ]
    },
    {
     "name": "stdout",
     "output_type": "stream",
     "text": [
      "Reflection detected\n",
      "Reflection detected\n",
      "Reflection detected\n"
     ]
    },
    {
     "name": "stderr",
     "output_type": "stream",
     "text": [
      " 36%|█████████████████████████████████▎                                                           | 183/511 [00:16<01:00,  5.39it/s]"
     ]
    },
    {
     "name": "stdout",
     "output_type": "stream",
     "text": [
      "Reflection detected\n",
      "Reflection detected\n"
     ]
    },
    {
     "name": "stderr",
     "output_type": "stream",
     "text": [
      " 37%|██████████████████████████████████                                                           | 187/511 [00:16<00:40,  8.08it/s]"
     ]
    },
    {
     "name": "stdout",
     "output_type": "stream",
     "text": [
      "Reflection detected\n"
     ]
    },
    {
     "name": "stderr",
     "output_type": "stream",
     "text": [
      " 38%|███████████████████████████████████▏                                                         | 193/511 [00:16<00:27, 11.64it/s]"
     ]
    },
    {
     "name": "stdout",
     "output_type": "stream",
     "text": [
      "Reflection detected\n",
      "Reflection detected\n",
      "Reflection detected\n"
     ]
    },
    {
     "name": "stderr",
     "output_type": "stream",
     "text": [
      " 38%|███████████████████████████████████▍                                                         | 195/511 [00:16<00:26, 11.90it/s]"
     ]
    },
    {
     "name": "stdout",
     "output_type": "stream",
     "text": [
      "Reflection detected\n",
      "Reflection detected\n"
     ]
    },
    {
     "name": "stderr",
     "output_type": "stream",
     "text": [
      " 39%|████████████████████████████████████▌                                                        | 201/511 [00:17<00:26, 11.79it/s]"
     ]
    },
    {
     "name": "stdout",
     "output_type": "stream",
     "text": [
      "Reflection detected\n",
      "Reflection detected\n"
     ]
    },
    {
     "name": "stderr",
     "output_type": "stream",
     "text": [
      " 40%|█████████████████████████████████████▎                                                       | 205/511 [00:17<00:25, 12.11it/s]"
     ]
    },
    {
     "name": "stdout",
     "output_type": "stream",
     "text": [
      "Reflection detected\n",
      "Reflection detected\n"
     ]
    },
    {
     "name": "stderr",
     "output_type": "stream",
     "text": [
      " 41%|█████████████████████████████████████▋                                                       | 207/511 [00:17<00:23, 12.95it/s]"
     ]
    },
    {
     "name": "stdout",
     "output_type": "stream",
     "text": [
      "Reflection detected\n",
      "Reflection detected\n"
     ]
    },
    {
     "name": "stderr",
     "output_type": "stream",
     "text": [
      " 41%|██████████████████████████████████████▍                                                      | 211/511 [00:18<00:25, 11.91it/s]"
     ]
    },
    {
     "name": "stdout",
     "output_type": "stream",
     "text": [
      "Reflection detected\n"
     ]
    },
    {
     "name": "stderr",
     "output_type": "stream",
     "text": [
      " 42%|██████████████████████████████████████▊                                                      | 213/511 [00:18<00:24, 12.02it/s]"
     ]
    },
    {
     "name": "stdout",
     "output_type": "stream",
     "text": [
      "Reflection detected\n",
      "Reflection detected\n"
     ]
    },
    {
     "name": "stderr",
     "output_type": "stream",
     "text": [
      " 42%|███████████████████████████████████████▍                                                     | 217/511 [00:18<00:22, 13.10it/s]"
     ]
    },
    {
     "name": "stdout",
     "output_type": "stream",
     "text": [
      "Reflection detected\n",
      "Reflection detected\n",
      "Reflection detected\n",
      "Reflection detected\n"
     ]
    },
    {
     "name": "stderr",
     "output_type": "stream",
     "text": [
      " 44%|█████████████████████████████████████████▎                                                   | 227/511 [00:19<00:17, 16.58it/s]"
     ]
    },
    {
     "name": "stdout",
     "output_type": "stream",
     "text": [
      "Reflection detected\n",
      "Reflection detected\n"
     ]
    },
    {
     "name": "stderr",
     "output_type": "stream",
     "text": [
      " 46%|██████████████████████████████████████████▍                                                  | 233/511 [00:19<00:16, 17.20it/s]"
     ]
    },
    {
     "name": "stdout",
     "output_type": "stream",
     "text": [
      "Reflection detected\n",
      "Reflection detected\n",
      "Reflection detected\n"
     ]
    },
    {
     "name": "stderr",
     "output_type": "stream",
     "text": [
      " 46%|███████████████████████████████████████████▏                                                 | 237/511 [00:19<00:15, 17.74it/s]"
     ]
    },
    {
     "name": "stdout",
     "output_type": "stream",
     "text": [
      "Reflection detected\n",
      "Reflection detected\n",
      "Reflection detected\n"
     ]
    },
    {
     "name": "stderr",
     "output_type": "stream",
     "text": [
      " 47%|███████████████████████████████████████████▍                                                 | 239/511 [00:20<00:15, 17.17it/s]"
     ]
    },
    {
     "name": "stdout",
     "output_type": "stream",
     "text": [
      "Reflection detected\n",
      "Reflection detected\n"
     ]
    },
    {
     "name": "stderr",
     "output_type": "stream",
     "text": [
      " 47%|███████████████████████████████████████████▊                                                 | 241/511 [00:20<00:26, 10.03it/s]"
     ]
    },
    {
     "name": "stdout",
     "output_type": "stream",
     "text": [
      "Reflection detected\n",
      "Reflection detected\n"
     ]
    },
    {
     "name": "stderr",
     "output_type": "stream",
     "text": [
      " 48%|████████████████████████████████████████████▏                                                | 243/511 [00:20<00:33,  8.04it/s]"
     ]
    },
    {
     "name": "stdout",
     "output_type": "stream",
     "text": [
      "Reflection detected\n",
      "Reflection detected\n"
     ]
    },
    {
     "name": "stderr",
     "output_type": "stream",
     "text": [
      " 48%|████████████████████████████████████████████▉                                                | 247/511 [00:21<00:26, 10.02it/s]"
     ]
    },
    {
     "name": "stdout",
     "output_type": "stream",
     "text": [
      "Reflection detected\n",
      "Reflection detected\n"
     ]
    },
    {
     "name": "stderr",
     "output_type": "stream",
     "text": [
      " 49%|█████████████████████████████████████████████▋                                               | 251/511 [00:21<00:21, 12.31it/s]"
     ]
    },
    {
     "name": "stdout",
     "output_type": "stream",
     "text": [
      "Reflection detected\n",
      "Reflection detected\n"
     ]
    },
    {
     "name": "stderr",
     "output_type": "stream",
     "text": [
      " 50%|██████████████████████████████████████████████▍                                              | 255/511 [00:21<00:17, 14.54it/s]"
     ]
    },
    {
     "name": "stdout",
     "output_type": "stream",
     "text": [
      "Reflection detected\n",
      "Reflection detected\n",
      "Reflection detected\n"
     ]
    },
    {
     "name": "stderr",
     "output_type": "stream",
     "text": [
      " 50%|██████████████████████████████████████████████▊                                              | 257/511 [00:22<00:29,  8.65it/s]"
     ]
    },
    {
     "name": "stdout",
     "output_type": "stream",
     "text": [
      "Reflection detected\n"
     ]
    },
    {
     "name": "stderr",
     "output_type": "stream",
     "text": [
      " 51%|███████████████████████████████████████████████▊                                             | 263/511 [00:22<00:28,  8.59it/s]"
     ]
    },
    {
     "name": "stdout",
     "output_type": "stream",
     "text": [
      "Reflection detected\n"
     ]
    },
    {
     "name": "stderr",
     "output_type": "stream",
     "text": [
      " 52%|████████████████████████████████████████████████▏                                            | 265/511 [00:22<00:24,  9.99it/s]"
     ]
    },
    {
     "name": "stdout",
     "output_type": "stream",
     "text": [
      "Reflection detected\n",
      "Reflection detected\n",
      "Reflection detected\n"
     ]
    },
    {
     "name": "stderr",
     "output_type": "stream",
     "text": [
      " 54%|██████████████████████████████████████████████████                                           | 275/511 [00:23<00:17, 13.41it/s]"
     ]
    },
    {
     "name": "stdout",
     "output_type": "stream",
     "text": [
      "Reflection detected\n",
      "Reflection detected\n"
     ]
    },
    {
     "name": "stderr",
     "output_type": "stream",
     "text": [
      " 55%|███████████████████████████████████████████████████▏                                         | 281/511 [00:24<00:14, 15.84it/s]"
     ]
    },
    {
     "name": "stdout",
     "output_type": "stream",
     "text": [
      "Reflection detected\n",
      "Reflection detected\n",
      "Reflection detected\n",
      "Reflection detected\n"
     ]
    },
    {
     "name": "stderr",
     "output_type": "stream",
     "text": [
      " 55%|███████████████████████████████████████████████████▌                                         | 283/511 [00:24<00:14, 15.46it/s]"
     ]
    },
    {
     "name": "stdout",
     "output_type": "stream",
     "text": [
      "Reflection detected\n"
     ]
    },
    {
     "name": "stderr",
     "output_type": "stream",
     "text": [
      " 57%|████████████████████████████████████████████████████▌                                        | 289/511 [00:25<00:28,  7.91it/s]"
     ]
    },
    {
     "name": "stdout",
     "output_type": "stream",
     "text": [
      "Reflection detected\n",
      "Reflection detected\n"
     ]
    },
    {
     "name": "stderr",
     "output_type": "stream",
     "text": [
      " 57%|█████████████████████████████████████████████████████▎                                       | 293/511 [00:25<00:21, 10.12it/s]"
     ]
    },
    {
     "name": "stdout",
     "output_type": "stream",
     "text": [
      "Reflection detected\n",
      "Reflection detected\n"
     ]
    },
    {
     "name": "stderr",
     "output_type": "stream",
     "text": [
      " 58%|██████████████████████████████████████████████████████                                       | 297/511 [00:25<00:17, 11.99it/s]"
     ]
    },
    {
     "name": "stdout",
     "output_type": "stream",
     "text": [
      "Reflection detected\n",
      "Reflection detected\n"
     ]
    },
    {
     "name": "stderr",
     "output_type": "stream",
     "text": [
      " 59%|███████████████████████████████████████████████████████▏                                     | 303/511 [00:26<00:13, 15.26it/s]"
     ]
    },
    {
     "name": "stdout",
     "output_type": "stream",
     "text": [
      "Reflection detected\n",
      "Reflection detected\n"
     ]
    },
    {
     "name": "stderr",
     "output_type": "stream",
     "text": [
      " 60%|███████████████████████████████████████████████████████▌                                     | 305/511 [00:26<00:12, 16.05it/s]"
     ]
    },
    {
     "name": "stdout",
     "output_type": "stream",
     "text": [
      "Reflection detected\n",
      "Reflection detected\n",
      "Reflection detected\n"
     ]
    },
    {
     "name": "stderr",
     "output_type": "stream",
     "text": [
      " 60%|████████████████████████████████████████████████████████▏                                    | 309/511 [00:26<00:12, 16.09it/s]"
     ]
    },
    {
     "name": "stdout",
     "output_type": "stream",
     "text": [
      "Reflection detected\n",
      "Reflection detected\n"
     ]
    },
    {
     "name": "stderr",
     "output_type": "stream",
     "text": [
      " 61%|████████████████████████████████████████████████████████▌                                    | 311/511 [00:26<00:18, 10.71it/s]"
     ]
    },
    {
     "name": "stdout",
     "output_type": "stream",
     "text": [
      "Reflection detected\n",
      "Reflection detected\n"
     ]
    },
    {
     "name": "stderr",
     "output_type": "stream",
     "text": [
      " 62%|██████████████████████████████████████████████████████████                                   | 319/511 [00:27<00:19,  9.71it/s]"
     ]
    },
    {
     "name": "stdout",
     "output_type": "stream",
     "text": [
      "Reflection detected\n",
      "Reflection detected\n"
     ]
    },
    {
     "name": "stderr",
     "output_type": "stream",
     "text": [
      " 63%|██████████████████████████████████████████████████████████▊                                  | 323/511 [00:28<00:16, 11.53it/s]"
     ]
    },
    {
     "name": "stdout",
     "output_type": "stream",
     "text": [
      "Reflection detected\n",
      "Reflection detected\n",
      "Reflection detected\n"
     ]
    },
    {
     "name": "stderr",
     "output_type": "stream",
     "text": [
      " 64%|███████████████████████████████████████████████████████████▏                                 | 325/511 [00:28<00:15, 11.79it/s]"
     ]
    },
    {
     "name": "stdout",
     "output_type": "stream",
     "text": [
      "Reflection detected\n",
      "Reflection detected\n",
      "Reflection detected\n"
     ]
    },
    {
     "name": "stderr",
     "output_type": "stream",
     "text": [
      " 64%|███████████████████████████████████████████████████████████▉                                 | 329/511 [00:28<00:14, 12.44it/s]"
     ]
    },
    {
     "name": "stdout",
     "output_type": "stream",
     "text": [
      "Reflection detected\n",
      "Reflection detected\n",
      "Reflection detected\n"
     ]
    },
    {
     "name": "stderr",
     "output_type": "stream",
     "text": [
      " 66%|████████████████████████████████████████████████████████████▉                                | 335/511 [00:29<00:11, 15.11it/s]"
     ]
    },
    {
     "name": "stdout",
     "output_type": "stream",
     "text": [
      "Reflection detected\n",
      "Reflection detected\n",
      "Reflection detected\n",
      "Reflection detected\n"
     ]
    },
    {
     "name": "stderr",
     "output_type": "stream",
     "text": [
      " 66%|█████████████████████████████████████████████████████████████▋                               | 339/511 [00:29<00:11, 15.34it/s]"
     ]
    },
    {
     "name": "stdout",
     "output_type": "stream",
     "text": [
      "Reflection detected\n",
      "Reflection detected\n"
     ]
    },
    {
     "name": "stderr",
     "output_type": "stream",
     "text": [
      " 68%|██████████████████████████████████████████████████████████████▊                              | 345/511 [00:29<00:11, 14.89it/s]"
     ]
    },
    {
     "name": "stdout",
     "output_type": "stream",
     "text": [
      "Reflection detected\n",
      "Reflection detected\n",
      "Reflection detected\n"
     ]
    },
    {
     "name": "stderr",
     "output_type": "stream",
     "text": [
      " 68%|███████████████████████████████████████████████████████████████▏                             | 347/511 [00:29<00:12, 13.60it/s]"
     ]
    },
    {
     "name": "stdout",
     "output_type": "stream",
     "text": [
      "Reflection detected\n",
      "Reflection detected\n"
     ]
    },
    {
     "name": "stderr",
     "output_type": "stream",
     "text": [
      " 69%|████████████████████████████████████████████████████████████████▍                            | 354/511 [00:30<00:09, 16.75it/s]"
     ]
    },
    {
     "name": "stdout",
     "output_type": "stream",
     "text": [
      "Reflection detected\n",
      "Reflection detected\n"
     ]
    },
    {
     "name": "stderr",
     "output_type": "stream",
     "text": [
      " 70%|█████████████████████████████████████████████████████████████████▏                           | 358/511 [00:31<00:23,  6.43it/s]"
     ]
    },
    {
     "name": "stdout",
     "output_type": "stream",
     "text": [
      "Reflection detected\n"
     ]
    },
    {
     "name": "stderr",
     "output_type": "stream",
     "text": [
      " 72%|███████████████████████████████████████████████████████████████████▏                         | 369/511 [00:31<00:09, 14.29it/s]"
     ]
    },
    {
     "name": "stdout",
     "output_type": "stream",
     "text": [
      "Reflection detected\n",
      "Reflection detected\n"
     ]
    },
    {
     "name": "stderr",
     "output_type": "stream",
     "text": [
      " 75%|█████████████████████████████████████████████████████████████████████▋                       | 383/511 [00:32<00:08, 15.88it/s]"
     ]
    },
    {
     "name": "stdout",
     "output_type": "stream",
     "text": [
      "Reflection detected\n",
      "Reflection detected\n",
      "Reflection detected\n"
     ]
    },
    {
     "name": "stderr",
     "output_type": "stream",
     "text": [
      " 76%|██████████████████████████████████████████████████████████████████████▍                      | 387/511 [00:32<00:07, 16.07it/s]"
     ]
    },
    {
     "name": "stdout",
     "output_type": "stream",
     "text": [
      "Reflection detected\n"
     ]
    },
    {
     "name": "stderr",
     "output_type": "stream",
     "text": [
      " 77%|███████████████████████████████████████████████████████████████████████▌                     | 393/511 [00:34<00:13,  8.73it/s]"
     ]
    },
    {
     "name": "stdout",
     "output_type": "stream",
     "text": [
      "Reflection detected\n",
      "Reflection detected\n"
     ]
    },
    {
     "name": "stderr",
     "output_type": "stream",
     "text": [
      " 78%|████████████████████████████████████████████████████████████████████████▌                    | 399/511 [00:34<00:08, 13.35it/s]"
     ]
    },
    {
     "name": "stdout",
     "output_type": "stream",
     "text": [
      "Reflection detected\n",
      "Reflection detected\n"
     ]
    },
    {
     "name": "stderr",
     "output_type": "stream",
     "text": [
      " 79%|█████████████████████████████████████████████████████████████████████████▎                   | 403/511 [00:34<00:07, 15.03it/s]"
     ]
    },
    {
     "name": "stdout",
     "output_type": "stream",
     "text": [
      "Reflection detected\n"
     ]
    },
    {
     "name": "stderr",
     "output_type": "stream",
     "text": [
      " 80%|██████████████████████████████████████████████████████████████████████████                   | 407/511 [00:34<00:06, 16.79it/s]"
     ]
    },
    {
     "name": "stdout",
     "output_type": "stream",
     "text": [
      "Reflection detected\n",
      "Reflection detected\n",
      "Reflection detected\n",
      "Reflection detected\n"
     ]
    },
    {
     "name": "stderr",
     "output_type": "stream",
     "text": [
      " 81%|██████████████████████████████████████████████████████████████████████████▉                  | 412/511 [00:34<00:05, 18.65it/s]"
     ]
    },
    {
     "name": "stdout",
     "output_type": "stream",
     "text": [
      "Reflection detected\n",
      "Reflection detected\n",
      "Reflection detected\n"
     ]
    },
    {
     "name": "stderr",
     "output_type": "stream",
     "text": [
      " 82%|███████████████████████████████████████████████████████████████████████████▉                 | 417/511 [00:35<00:05, 18.06it/s]"
     ]
    },
    {
     "name": "stdout",
     "output_type": "stream",
     "text": [
      "Reflection detected\n"
     ]
    },
    {
     "name": "stderr",
     "output_type": "stream",
     "text": [
      " 82%|████████████████████████████████████████████████████████████████████████████▌                | 421/511 [00:36<00:12,  7.19it/s]"
     ]
    },
    {
     "name": "stdout",
     "output_type": "stream",
     "text": [
      "Reflection detected\n",
      "Reflection detected\n"
     ]
    },
    {
     "name": "stderr",
     "output_type": "stream",
     "text": [
      " 84%|█████████████████████████████████████████████████████████████████████████████▋               | 427/511 [00:36<00:07, 11.67it/s]"
     ]
    },
    {
     "name": "stdout",
     "output_type": "stream",
     "text": [
      "Reflection detected\n",
      "Reflection detected\n",
      "Reflection detected\n",
      "Reflection detected\n"
     ]
    },
    {
     "name": "stderr",
     "output_type": "stream",
     "text": [
      " 85%|██████████████████████████████████████████████████████████████████████████████▌              | 432/511 [00:36<00:05, 14.76it/s]"
     ]
    },
    {
     "name": "stdout",
     "output_type": "stream",
     "text": [
      "Reflection detected\n",
      "Reflection detected\n",
      "Reflection detected\n",
      "Reflection detected\n"
     ]
    },
    {
     "name": "stderr",
     "output_type": "stream",
     "text": [
      " 86%|███████████████████████████████████████████████████████████████████████████████▋             | 438/511 [00:37<00:03, 18.30it/s]"
     ]
    },
    {
     "name": "stdout",
     "output_type": "stream",
     "text": [
      "Reflection detected\n",
      "Reflection detected\n",
      "Reflection detected\n",
      "Reflection detected\n",
      "Reflection detected\n"
     ]
    },
    {
     "name": "stderr",
     "output_type": "stream",
     "text": [
      " 87%|████████████████████████████████████████████████████████████████████████████████▊            | 444/511 [00:37<00:03, 20.19it/s]"
     ]
    },
    {
     "name": "stdout",
     "output_type": "stream",
     "text": [
      "Reflection detected\n",
      "Reflection detected\n",
      "Reflection detected\n"
     ]
    },
    {
     "name": "stderr",
     "output_type": "stream",
     "text": [
      " 87%|█████████████████████████████████████████████████████████████████████████████████▎           | 447/511 [00:37<00:03, 19.80it/s]"
     ]
    },
    {
     "name": "stdout",
     "output_type": "stream",
     "text": [
      "Reflection detected\n",
      "Reflection detected\n"
     ]
    },
    {
     "name": "stderr",
     "output_type": "stream",
     "text": [
      " 89%|██████████████████████████████████████████████████████████████████████████████████▋          | 454/511 [00:37<00:03, 16.81it/s]"
     ]
    },
    {
     "name": "stdout",
     "output_type": "stream",
     "text": [
      "Reflection detected\n",
      "Reflection detected\n"
     ]
    },
    {
     "name": "stderr",
     "output_type": "stream",
     "text": [
      " 90%|███████████████████████████████████████████████████████████████████████████████████▋         | 460/511 [00:38<00:03, 16.35it/s]"
     ]
    },
    {
     "name": "stdout",
     "output_type": "stream",
     "text": [
      "Reflection detected\n",
      "Reflection detected\n"
     ]
    },
    {
     "name": "stderr",
     "output_type": "stream",
     "text": [
      " 91%|████████████████████████████████████████████████████████████████████████████████████▍        | 464/511 [00:38<00:02, 16.15it/s]"
     ]
    },
    {
     "name": "stdout",
     "output_type": "stream",
     "text": [
      "Reflection detected\n"
     ]
    },
    {
     "name": "stderr",
     "output_type": "stream",
     "text": [
      " 92%|█████████████████████████████████████████████████████████████████████████████████████▏       | 468/511 [00:38<00:02, 16.56it/s]"
     ]
    },
    {
     "name": "stdout",
     "output_type": "stream",
     "text": [
      "Reflection detected\n",
      "Reflection detected\n",
      "Reflection detected\n"
     ]
    },
    {
     "name": "stderr",
     "output_type": "stream",
     "text": [
      " 92%|█████████████████████████████████████████████████████████████████████████████████████▌       | 470/511 [00:38<00:02, 16.27it/s]"
     ]
    },
    {
     "name": "stdout",
     "output_type": "stream",
     "text": [
      "Reflection detected\n"
     ]
    },
    {
     "name": "stderr",
     "output_type": "stream",
     "text": [
      " 93%|██████████████████████████████████████████████████████████████████████████████████████▎      | 474/511 [00:39<00:05,  6.80it/s]"
     ]
    },
    {
     "name": "stdout",
     "output_type": "stream",
     "text": [
      "Reflection detected\n"
     ]
    },
    {
     "name": "stderr",
     "output_type": "stream",
     "text": [
      " 93%|██████████████████████████████████████████████████████████████████████████████████████▋      | 476/511 [00:40<00:04,  7.35it/s]"
     ]
    },
    {
     "name": "stdout",
     "output_type": "stream",
     "text": [
      "Reflection detected\n",
      "Reflection detected\n"
     ]
    },
    {
     "name": "stderr",
     "output_type": "stream",
     "text": [
      " 94%|███████████████████████████████████████████████████████████████████████████████████████▎     | 480/511 [00:40<00:03, 10.04it/s]"
     ]
    },
    {
     "name": "stdout",
     "output_type": "stream",
     "text": [
      "Reflection detected\n",
      "Reflection detected\n",
      "Reflection detected\n"
     ]
    },
    {
     "name": "stderr",
     "output_type": "stream",
     "text": [
      " 95%|████████████████████████████████████████████████████████████████████████████████████████▊    | 488/511 [00:40<00:01, 13.74it/s]"
     ]
    },
    {
     "name": "stdout",
     "output_type": "stream",
     "text": [
      "Reflection detected\n"
     ]
    },
    {
     "name": "stderr",
     "output_type": "stream",
     "text": [
      " 96%|█████████████████████████████████████████████████████████████████████████████████████████▌   | 492/511 [00:41<00:01, 14.47it/s]"
     ]
    },
    {
     "name": "stdout",
     "output_type": "stream",
     "text": [
      "Reflection detected\n",
      "Reflection detected\n",
      "Reflection detected\n"
     ]
    },
    {
     "name": "stderr",
     "output_type": "stream",
     "text": [
      " 97%|██████████████████████████████████████████████████████████████████████████████████████████▎  | 496/511 [00:41<00:00, 15.28it/s]"
     ]
    },
    {
     "name": "stdout",
     "output_type": "stream",
     "text": [
      "Reflection detected\n",
      "Reflection detected\n"
     ]
    },
    {
     "name": "stderr",
     "output_type": "stream",
     "text": [
      " 98%|██████████████████████████████████████████████████████████████████████████████████████████▉  | 500/511 [00:41<00:00, 14.89it/s]"
     ]
    },
    {
     "name": "stdout",
     "output_type": "stream",
     "text": [
      "Reflection detected\n",
      "Reflection detected\n",
      "Reflection detected\n"
     ]
    },
    {
     "name": "stderr",
     "output_type": "stream",
     "text": [
      "100%|████████████████████████████████████████████████████████████████████████████████████████████▊| 510/511 [00:42<00:00, 15.09it/s]"
     ]
    },
    {
     "name": "stdout",
     "output_type": "stream",
     "text": [
      "Reflection detected\n"
     ]
    },
    {
     "name": "stderr",
     "output_type": "stream",
     "text": [
      "100%|█████████████████████████████████████████████████████████████████████████████████████████████| 511/511 [00:42<00:00, 12.08it/s]\n"
     ]
    }
   ],
   "source": [
    "for subject in tqdm(glob(\"raw_meshes_centered_scaled/*.ply\")):\n",
    "    name = subject.split(\"/\")[-1]\n",
    "    mesh = o3d.io.read_triangle_mesh(subject)\n",
    "    vertices = np.asarray(mesh.vertices)\n",
    "    faces = np.asarray(mesh.triangles)\n",
    "    #pcd = mesh.sample_points_poisson_disk(number_of_points=1000, init_factor=5)\n",
    "    pcd = mesh.sample_points_uniformly(number_of_points=1000)\n",
    "    #rotation = R.align_vectors(np.asarray(pcd.points), np.asarray(template_pcd.points))\n",
    "    #r_matrix = rotation[0].as_matrix()\n",
    "    #vertices = np.matmul(vertices, r_matrix)\n",
    "    s, R, t = rigid_transform_3D(np.asarray(template_pcd.points), np.asarray(pcd.points), 0)\n",
    "    vertices = vertices@R\n",
    "    igl.write_triangle_mesh(f\"raw_meshes_centered_scaled_aligned/{name}\", vertices, faces)"
   ]
  },
  {
   "cell_type": "code",
   "execution_count": 62,
   "id": "600bf0b3",
   "metadata": {},
   "outputs": [],
   "source": [
    "vertices1, faces1 = igl.read_triangle_mesh(\"raw_meshes_centered/ab300_001.ply\")\n",
    "vertices2, faces2 = igl.read_triangle_mesh(\"raw_meshes_centered/ab300_002.ply\")"
   ]
  },
  {
   "cell_type": "code",
   "execution_count": 63,
   "id": "31b5a81c",
   "metadata": {},
   "outputs": [
    {
     "ename": "ValueError",
     "evalue": "Expected inputs `a` and `b` to have same shapes, got (4536, 3) and (4814, 3) respectively.",
     "output_type": "error",
     "traceback": [
      "\u001b[0;31m---------------------------------------------------------------------------\u001b[0m",
      "\u001b[0;31mValueError\u001b[0m                                Traceback (most recent call last)",
      "Input \u001b[0;32mIn [63]\u001b[0m, in \u001b[0;36m<cell line: 1>\u001b[0;34m()\u001b[0m\n\u001b[0;32m----> 1\u001b[0m rotation \u001b[38;5;241m=\u001b[39m \u001b[43mR\u001b[49m\u001b[38;5;241;43m.\u001b[39;49m\u001b[43malign_vectors\u001b[49m\u001b[43m(\u001b[49m\u001b[43mvertices1\u001b[49m\u001b[43m,\u001b[49m\u001b[43m \u001b[49m\u001b[43mvertices2\u001b[49m\u001b[43m)\u001b[49m\n\u001b[1;32m      2\u001b[0m rotation[\u001b[38;5;241m0\u001b[39m]\u001b[38;5;241m.\u001b[39mas_matrix()\n",
      "File \u001b[0;32m_rotation.pyx:2353\u001b[0m, in \u001b[0;36mscipy.spatial.transform._rotation.Rotation.align_vectors\u001b[0;34m()\u001b[0m\n",
      "\u001b[0;31mValueError\u001b[0m: Expected inputs `a` and `b` to have same shapes, got (4536, 3) and (4814, 3) respectively."
     ]
    }
   ],
   "source": [
    "rotation = R.align_vectors(vertices1, vertices2)\n",
    "rotation[0].as_matrix()"
   ]
  },
  {
   "cell_type": "code",
   "execution_count": null,
   "id": "7adac3fd",
   "metadata": {},
   "outputs": [],
   "source": []
  },
  {
   "cell_type": "code",
   "execution_count": 53,
   "id": "daa5a697",
   "metadata": {},
   "outputs": [
    {
     "data": {
      "text/plain": [
       "(4536, 3)"
      ]
     },
     "execution_count": 53,
     "metadata": {},
     "output_type": "execute_result"
    }
   ],
   "source": [
    "vertices_new.shape"
   ]
  },
  {
   "cell_type": "code",
   "execution_count": 44,
   "id": "a66af81a",
   "metadata": {},
   "outputs": [
    {
     "data": {
      "text/plain": [
       "array([-36.2563933, -35.2563933, -35.2563933, ...,  35.7436067,\n",
       "        35.7436067,  35.7436067])"
      ]
     },
     "execution_count": 44,
     "metadata": {},
     "output_type": "execute_result"
    }
   ],
   "source": [
    "vertices[:,0] - x_mean"
   ]
  },
  {
   "cell_type": "code",
   "execution_count": 39,
   "id": "f7257190",
   "metadata": {},
   "outputs": [
    {
     "data": {
      "text/plain": [
       "109.25639329805996"
      ]
     },
     "execution_count": 39,
     "metadata": {},
     "output_type": "execute_result"
    }
   ],
   "source": [
    "x_mean"
   ]
  },
  {
   "cell_type": "code",
   "execution_count": 41,
   "id": "ccc7c368",
   "metadata": {},
   "outputs": [
    {
     "data": {
      "text/plain": [
       "118.8423721340388"
      ]
     },
     "execution_count": 41,
     "metadata": {},
     "output_type": "execute_result"
    }
   ],
   "source": [
    "y_mean"
   ]
  },
  {
   "cell_type": "code",
   "execution_count": 42,
   "id": "ed7cdc32",
   "metadata": {},
   "outputs": [
    {
     "data": {
      "text/plain": [
       "10.08774250440917"
      ]
     },
     "execution_count": 42,
     "metadata": {},
     "output_type": "execute_result"
    }
   ],
   "source": [
    "z_mean"
   ]
  },
  {
   "cell_type": "code",
   "execution_count": 6,
   "id": "a5c4bd49",
   "metadata": {},
   "outputs": [],
   "source": [
    "hippo_file = \"./subjects/ab300_001/whole_roi.nii\""
   ]
  },
  {
   "cell_type": "code",
   "execution_count": 7,
   "id": "66bd3c41",
   "metadata": {},
   "outputs": [],
   "source": [
    "img = nib.load(hippo_file)"
   ]
  },
  {
   "cell_type": "code",
   "execution_count": 8,
   "id": "968d6644",
   "metadata": {},
   "outputs": [
    {
     "data": {
      "text/plain": [
       "(220, 216, 20)"
      ]
     },
     "execution_count": 8,
     "metadata": {},
     "output_type": "execute_result"
    }
   ],
   "source": [
    "img.shape"
   ]
  },
  {
   "cell_type": "code",
   "execution_count": 9,
   "id": "226f27cf",
   "metadata": {},
   "outputs": [],
   "source": [
    "data = img.get_fdata()"
   ]
  },
  {
   "cell_type": "code",
   "execution_count": 10,
   "id": "a35e72f6",
   "metadata": {},
   "outputs": [
    {
     "data": {
      "text/plain": [
       "(220, 216, 20)"
      ]
     },
     "execution_count": 10,
     "metadata": {},
     "output_type": "execute_result"
    }
   ],
   "source": [
    "data.shape"
   ]
  },
  {
   "cell_type": "code",
   "execution_count": 11,
   "id": "ce9decf9",
   "metadata": {},
   "outputs": [],
   "source": [
    "#model = o3d.geometry.VoxelGrid()"
   ]
  },
  {
   "cell_type": "code",
   "execution_count": 12,
   "id": "597c2403",
   "metadata": {},
   "outputs": [],
   "source": [
    "#model.create_dense(data)"
   ]
  },
  {
   "cell_type": "code",
   "execution_count": 13,
   "id": "40654379",
   "metadata": {},
   "outputs": [],
   "source": [
    "\n",
    "\n",
    "\n",
    "# Generate a level set about zero of two identical ellipsoids in 3D\n",
    "#ellip_base = ellipsoid(6, 10, 16, levelset=True)\n",
    "#ellip_double = np.concatenate((ellip_base[:-1, ...],\n",
    "#                               ellip_base[2:, ...]), axis=0)"
   ]
  },
  {
   "cell_type": "code",
   "execution_count": 14,
   "id": "aa2dd5a2",
   "metadata": {},
   "outputs": [],
   "source": [
    "#ellip_base.shape"
   ]
  },
  {
   "cell_type": "code",
   "execution_count": 15,
   "id": "4b82e065",
   "metadata": {},
   "outputs": [],
   "source": [
    "#ellip_doublele.shape"
   ]
  },
  {
   "cell_type": "code",
   "execution_count": 16,
   "id": "a0d675f0",
   "metadata": {},
   "outputs": [],
   "source": [
    "#data[:,:,:,0].shape"
   ]
  },
  {
   "cell_type": "code",
   "execution_count": 17,
   "id": "a144c4c9",
   "metadata": {},
   "outputs": [],
   "source": [
    "verts, faces, normals, values = measure.marching_cubes(data, 0)"
   ]
  },
  {
   "cell_type": "code",
   "execution_count": 18,
   "id": "55a6a89e",
   "metadata": {},
   "outputs": [
    {
     "data": {
      "application/vnd.jupyter.widget-view+json": {
       "model_id": "adcd7546fa1e46fcb7fc9605c1042583",
       "version_major": 2,
       "version_minor": 0
      },
      "text/plain": [
       "Renderer(camera=PerspectiveCamera(children=(DirectionalLight(color='white', intensity=0.6, position=(109.5, 11…"
      ]
     },
     "metadata": {},
     "output_type": "display_data"
    },
    {
     "data": {
      "text/plain": [
       "<meshplot.Viewer.Viewer at 0x7faae91f3520>"
      ]
     },
     "execution_count": 18,
     "metadata": {},
     "output_type": "execute_result"
    }
   ],
   "source": [
    "mp.plot(verts, faces)"
   ]
  },
  {
   "cell_type": "code",
   "execution_count": 22,
   "id": "8ec6ab75",
   "metadata": {},
   "outputs": [],
   "source": [
    "vetrices = o3d.utility.Vector3dVector(verts)"
   ]
  },
  {
   "cell_type": "code",
   "execution_count": 23,
   "id": "d7956da9",
   "metadata": {},
   "outputs": [],
   "source": [
    "faces = o3d.utility.Vector3iVector(faces)"
   ]
  },
  {
   "cell_type": "code",
   "execution_count": 24,
   "id": "bc178139",
   "metadata": {},
   "outputs": [],
   "source": [
    "mesh = o3d.geometry.TriangleMesh(vetrices, faces)"
   ]
  },
  {
   "cell_type": "code",
   "execution_count": 25,
   "id": "bf4aeb47",
   "metadata": {},
   "outputs": [],
   "source": [
    "#voxel_grid = o3d.geometry.VoxelGrid.create_from_triangle_mesh(mesh, voxel_size=0.05)\n",
    "o3d.visualization.draw_geometries([mesh])"
   ]
  },
  {
   "cell_type": "code",
   "execution_count": 1,
   "id": "1658d1a0",
   "metadata": {},
   "outputs": [],
   "source": [
    "import numpy as np\n",
    "\n",
    "from pyvox.models import Vox\n",
    "from pyvox.writer import VoxWriter\n",
    "\n"
   ]
  },
  {
   "cell_type": "code",
   "execution_count": 2,
   "id": "bf9d1b52",
   "metadata": {},
   "outputs": [],
   "source": [
    "a = np.linalg.norm(np.mgrid[-5:5:10j, -5:5:10j, -5:5:10j], axis=0) < 4\n"
   ]
  },
  {
   "cell_type": "code",
   "execution_count": 3,
   "id": "9721461d",
   "metadata": {},
   "outputs": [
    {
     "data": {
      "text/plain": [
       "(10, 10, 10)"
      ]
     },
     "execution_count": 3,
     "metadata": {},
     "output_type": "execute_result"
    }
   ],
   "source": [
    "a.shape"
   ]
  },
  {
   "cell_type": "code",
   "execution_count": 4,
   "id": "4b8247ac",
   "metadata": {},
   "outputs": [],
   "source": [
    "\n",
    "vox = Vox.from_dense(a)\n"
   ]
  },
  {
   "cell_type": "code",
   "execution_count": 5,
   "id": "9860ef02",
   "metadata": {},
   "outputs": [],
   "source": [
    "\n",
    "VoxWriter('test.vox', vox).write()"
   ]
  },
  {
   "cell_type": "code",
   "execution_count": 6,
   "id": "0ac96aec",
   "metadata": {},
   "outputs": [],
   "source": [
    "import os"
   ]
  },
  {
   "cell_type": "code",
   "execution_count": 7,
   "id": "2ebd69cc",
   "metadata": {},
   "outputs": [
    {
     "data": {
      "text/plain": [
       "['.ipynb_checkpoints', 'subjects', 'test.vox', 'Untitled.ipynb']"
      ]
     },
     "execution_count": 7,
     "metadata": {},
     "output_type": "execute_result"
    }
   ],
   "source": [
    "os.listdir()"
   ]
  },
  {
   "cell_type": "code",
   "execution_count": 9,
   "id": "6d817af7",
   "metadata": {},
   "outputs": [
    {
     "name": "stdout",
     "output_type": "stream",
     "text": [
      "Jupyter environment detected. Enabling Open3D WebVisualizer.\n",
      "[Open3D INFO] WebRTC GUI backend enabled.\n",
      "[Open3D INFO] WebRTCWindowSystem: HTTP handshake server disabled.\n"
     ]
    }
   ],
   "source": [
    "import open3d as o3d"
   ]
  },
  {
   "cell_type": "code",
   "execution_count": null,
   "id": "19153325",
   "metadata": {},
   "outputs": [],
   "source": []
  }
 ],
 "metadata": {
  "kernelspec": {
   "display_name": "Python 3 (ipykernel)",
   "language": "python",
   "name": "python3"
  },
  "language_info": {
   "codemirror_mode": {
    "name": "ipython",
    "version": 3
   },
   "file_extension": ".py",
   "mimetype": "text/x-python",
   "name": "python",
   "nbconvert_exporter": "python",
   "pygments_lexer": "ipython3",
   "version": "3.7.12"
  },
  "toc": {
   "base_numbering": 1,
   "nav_menu": {},
   "number_sections": true,
   "sideBar": true,
   "skip_h1_title": false,
   "title_cell": "Table of Contents",
   "title_sidebar": "Contents",
   "toc_cell": false,
   "toc_position": {},
   "toc_section_display": true,
   "toc_window_display": false
  }
 },
 "nbformat": 4,
 "nbformat_minor": 5
}
