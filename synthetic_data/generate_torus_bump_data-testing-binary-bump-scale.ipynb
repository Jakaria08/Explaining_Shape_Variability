{
 "cells": [
  {
   "cell_type": "code",
   "execution_count": 1,
   "metadata": {
    "tags": []
   },
   "outputs": [
    {
     "name": "stdout",
     "output_type": "stream",
     "text": [
      "Jupyter environment detected. Enabling Open3D WebVisualizer.\n",
      "[Open3D INFO] WebRTC GUI backend enabled.\n",
      "[Open3D INFO] WebRTCWindowSystem: HTTP handshake server disabled.\n"
     ]
    }
   ],
   "source": [
    "import os, sys\n",
    "\n",
    "from math import ceil\n",
    "import pyvista as pv\n",
    "import numpy as np\n",
    "import meshplot as mp\n",
    "import ipywidgets as widgets\n",
    "from ipywidgets import interact, interactive, fixed, interact_manual, FloatSlider\n",
    "from skimage import measure\n",
    "from scipy.ndimage import zoom\n",
    "from scipy.interpolate import interpn\n",
    "from IPython.display import display\n",
    "from einops import rearrange\n",
    "import igl\n",
    "from tqdm import tqdm\n",
    "from sklearn.preprocessing import MinMaxScaler\n",
    "import torch\n",
    "from scipy import stats\n",
    "import matplotlib.pyplot as plt\n",
    "import pandas as pd\n",
    "import open3d as o3d\n",
    "from IPython.display import display\n",
    "import random"
   ]
  },
  {
   "cell_type": "code",
   "execution_count": 2,
   "metadata": {},
   "outputs": [],
   "source": [
    "# Meshplot left an annoying print statement in their code. Using this context manager to supress it...\n",
    "class HiddenPrints:\n",
    "    def __enter__(self):\n",
    "        self._original_stdout = sys.stdout\n",
    "        sys.stdout = open(os.devnull, 'w')\n",
    "\n",
    "    def __exit__(self, exc_type, exc_val, exc_tb):\n",
    "        sys.stdout.close()\n",
    "        sys.stdout = self._original_stdout"
   ]
  },
  {
   "cell_type": "code",
   "execution_count": 12,
   "metadata": {},
   "outputs": [],
   "source": [
    "# Dot product on the first dimension of n-dimensional arrays x and y\n",
    "def dot(x, y):\n",
    "    return np.einsum('i..., i... -> ...', x, y)\n",
    "\n",
    "# Signed distance functions from Inigo Quilez https://iquilezles.org/articles/distfunctions/\n",
    "# You could implement the smooth minimum operation as well to compose shapes together for more complex situations\n",
    "def sdf_sphere(x, radius):\n",
    "    return np.linalg.norm(x, axis=0) - radius\n",
    "\n",
    "def sdf_capsule(x, a, b, r):\n",
    "    xa = coords - a\n",
    "    ba = coords - a\n",
    "    h = np.clip(dot(xa, ba) / dot(ba, ba), 0., 1.)\n",
    "    return np.linalg.norm(xa - ba * h) - r\n",
    "\n",
    "def sdf_torus(x, radius, thickness):\n",
    "    \n",
    "    q = np.stack([np.linalg.norm(x[[0, 1]], axis=0) - radius, x[2]])\n",
    "    return np.linalg.norm(q, axis=0) - thickness\n",
    "\n",
    "# Crop an n-dimensional image with a centered cropping region\n",
    "def center_crop(img, shape):\n",
    "    start = [a // 2 - da // 2 for a, da in zip(img.shape, shape)]\n",
    "    end = [a + b for a, b in zip(start, shape)]\n",
    "    slices = tuple([slice(a, b) for a, b in zip(start, end)])\n",
    "    return img[slices]\n",
    "\n",
    "# Add noise to coordinates\n",
    "def gradient_noise(x, scale, strength, seed=None):\n",
    "    shape = [ceil(s / scale) for s in x.shape[1:]]\n",
    "    if seed:\n",
    "        np.random.seed(seed)\n",
    "    scalar_noise = np.random.randn(*shape)\n",
    "    scalar_noise = zoom(scalar_noise, zoom=scale)\n",
    "    scalar_noise = center_crop(scalar_noise, shape=x.shape[1:])\n",
    "    vector_noise = np.stack(np.gradient(scalar_noise))\n",
    "    return vector_noise * strength\n"
   ]
  },
  {
   "cell_type": "code",
   "execution_count": 10,
   "metadata": {
    "scrolled": false
   },
   "outputs": [
    {
     "data": {
      "application/vnd.jupyter.widget-view+json": {
       "model_id": "384bf59049ea4034b9e6a7b576f8cced",
       "version_major": 2,
       "version_minor": 0
      },
      "text/plain": [
       "interactive(children=(FloatSlider(value=0.15, description='radius', max=0.3, step=0.01), FloatSlider(value=0.0…"
      ]
     },
     "metadata": {},
     "output_type": "display_data"
    }
   ],
   "source": [
    "plot=None\n",
    "@mp.interact(\n",
    "    radius=(0, 0.3, 0.01), \n",
    "    thickness=(0.01, 0.1, 0.01), \n",
    "    noise_scale=(5, 25), \n",
    "    noise_strength=(0.0, 0.4, 0.05),\n",
    "    seed=(1, 100)\n",
    ")\n",
    "def show(radius, thickness, noise_scale, noise_strength, seed):\n",
    "    global plot\n",
    "    global sdf\n",
    "    coords = np.linspace(-1, 1, 100)\n",
    "    x = np.stack(np.meshgrid(coords, coords, coords))\n",
    "    x = x + gradient_noise(x, noise_scale, noise_strength, seed)\n",
    "    sdf = sdf_torus(x, radius, thickness)\n",
    "    verts, faces, normals, values = measure.marching_cubes(sdf, level=0)\n",
    "    \n",
    "    if plot is None:\n",
    "        plot = mp.plot(verts, faces, return_plot=True)\n",
    "    else:\n",
    "        with HiddenPrints():\n",
    "            plot.update_object(vertices=verts, faces=faces)\n",
    "        display(plot._renderer)"
   ]
  },
  {
   "cell_type": "code",
   "execution_count": 11,
   "metadata": {
    "scrolled": false
   },
   "outputs": [
    {
     "data": {
      "application/vnd.jupyter.widget-view+json": {
       "model_id": "18e5e726f76546a1a5325960cf251303",
       "version_major": 2,
       "version_minor": 0
      },
      "text/plain": [
       "interactive(children=(FloatSlider(value=0.25, description='radius', max=0.5, step=0.01), FloatSlider(value=0.0…"
      ]
     },
     "metadata": {},
     "output_type": "display_data"
    }
   ],
   "source": [
    "plot=None\n",
    "@mp.interact(\n",
    "    radius=(0, 0.5, 0.01), \n",
    "    thickness=(0.01, 0.20, 0.01), \n",
    "    noise_scale=(0.0, 20, 1),\n",
    "    noise_strength=(0.0, 10, 1),\n",
    "    seed=(1, 100),\n",
    "    bump_angle=(-1., 1., 0.01),\n",
    "    bump_width=(0.01, 0.02, 0.001),\n",
    "    bump_height=(0.01, 50.),\n",
    "    scale=(0.85, 1.15, 0.01),\n",
    ")\n",
    "def show(radius, thickness, noise_scale, noise_strength, seed, bump_angle, bump_width, bump_height, scale):\n",
    "    global plot\n",
    "    coords = np.linspace(-1, 1, 100)\n",
    "    x = np.stack(np.meshgrid(coords, coords, coords))\n",
    "    sdf = sdf_torus(x, radius, thickness)\n",
    "    verts, faces, normals, values = measure.marching_cubes(sdf, level=0)\n",
    "    \n",
    "    x_warp = gradient_noise(x, noise_scale, noise_strength, seed)\n",
    "    print(x_warp.shape)\n",
    "    \n",
    "    angle = np.pi * bump_angle\n",
    "    gaussian_center = np.array([np.cos(angle), np.sin(angle), 0.]) * radius\n",
    "    print(gaussian_center)\n",
    "    x_dist = np.linalg.norm((x - gaussian_center[:, None, None, None]), axis=0)\n",
    "    print(x_dist.shape)\n",
    "    x_bump = bump_height * np.e ** -(1. / bump_width * x_dist ** 2)\n",
    "    print(x_bump.shape)\n",
    "    x_warp += -np.stack(np.gradient(x_bump))\n",
    "    \n",
    "    x_warp = rearrange(x_warp, 'v h w d -> h w d v')\n",
    "    vertex_noise = interpn([np.arange(100) for _ in range(3)], x_warp, verts)\n",
    "    verts += vertex_noise\n",
    "    \n",
    "    original_center = np.mean(verts, axis=0)\n",
    "    \n",
    "    verts = verts*scale\n",
    "    \n",
    "    new_center = np.mean(verts, axis=0)\n",
    "    displacement_vector = original_center - new_center\n",
    "    verts += displacement_vector\n",
    "    \n",
    "    print(verts.shape)\n",
    "    print(faces.shape)\n",
    "    max_values = np.amax(verts, axis=0)\n",
    "    min_values = np.amin(verts, axis=0)\n",
    "\n",
    "    print(\"Maximum values:\", max_values)\n",
    "    print(\"Minimum values:\", min_values)\n",
    "    if plot is None:\n",
    "        plot = mp.plot(verts, faces, return_plot=True)\n",
    "    else:\n",
    "        with HiddenPrints():\n",
    "            plot.update_object(vertices=verts, faces=faces)\n",
    "        display(plot._renderer)"
   ]
  },
  {
   "cell_type": "markdown",
   "metadata": {},
   "source": [
    "## Save torus data into file"
   ]
  },
  {
   "cell_type": "code",
   "execution_count": null,
   "metadata": {
    "tags": []
   },
   "outputs": [],
   "source": [
    "radius=0.25 \n",
    "thickness=0.10\n",
    "noise_scale=16\n",
    "noise_strength=10\n",
    "seed=50\n",
    "bump_width=.01\n",
    "bump_height=25\n",
    "\n",
    "feature_range_bump_height = np.linspace(20, 45, 300, endpoint=False)\n",
    "feature_range_scale = np.linspace(0.85, 1.15, 300, endpoint=False)\n",
    "feature_range_angle = np.linspace(-1, 1, 5000, endpoint=False)\n",
    "\n",
    "scaler = MinMaxScaler()\n",
    "scaler.fit(feature_range_angle.reshape(-1, 1))\n",
    "\n",
    "scaler_s = MinMaxScaler()\n",
    "scaler_s.fit(feature_range_scale.reshape(-1, 1))\n",
    "\n",
    "scaler_b = MinMaxScaler()\n",
    "scaler_b.fit(feature_range_bump_height.reshape(-1, 1))\n",
    "\n",
    "labels = {}\n",
    "\n",
    "for idx, bump_angle in tqdm(enumerate(np.linspace(-1, 1, 5000))):\n",
    "    coords = np.linspace(-1, 1, 100)\n",
    "    x = np.stack(np.meshgrid(coords, coords, coords))\n",
    "    \n",
    "    filepath = f\"torus_bump_5000_two_scale_binary_bump_variable_noise_fixed_angle/torus_bump_{idx:04d}.ply\"\n",
    "    filename = filepath.split(\"/\")[-1].split(\".\")[0]\n",
    "    \n",
    "    scale = random.choice(feature_range_scale)\n",
    "    bump_height = random.choice(feature_range_bump_height)\n",
    "    print(scale)\n",
    "    print(bump_height)\n",
    "    sdf = sdf_torus(x, radius, thickness)\n",
    "    \n",
    "    \n",
    "    verts, faces, normals, values = measure.marching_cubes(sdf, level=0)  \n",
    "    \n",
    "    s = scaler_s.transform(np.array([scale]).reshape(-1,1)).item()\n",
    "    b = scaler_b.transform(np.array([bump_height]).reshape(-1,1)).item()\n",
    "    \n",
    "    bump_width = 0.001 if idx % 2 == 0 else 0.01\n",
    "    bump_angle = 1\n",
    "    \n",
    "    labels[filename] = np.array([idx % 2, bump_angle, s, b])\n",
    "    \n",
    "    print(labels[filename])\n",
    "    print(len(verts))\n",
    "    print(len(faces))\n",
    "\n",
    "    x_warp = gradient_noise(x, noise_scale, noise_strength) #### no seed, random noise\n",
    "    angle = np.pi * bump_angle\n",
    "    gaussian_center = np.array([np.cos(angle), np.sin(angle), 0]) * radius\n",
    "    x_dist = np.linalg.norm((x - gaussian_center[:, None, None, None]), axis=0)\n",
    "    x_bump = bump_height * np.e ** -(1. / bump_width * x_dist ** 2)\n",
    "\n",
    "    x_warp += -np.stack(np.gradient(x_bump))\n",
    "\n",
    "    x_warp = rearrange(x_warp, 'v h w d -> h w d v')\n",
    "    vertex_noise = interpn([np.arange(100) for _ in range(3)], x_warp, verts)\n",
    "   \n",
    "    verts += vertex_noise\n",
    "    \n",
    "    original_center = np.mean(verts, axis=0)\n",
    "    \n",
    "    verts = verts*scale\n",
    "    \n",
    "    new_center = np.mean(verts, axis=0)\n",
    "    displacement_vector = original_center - new_center\n",
    "    verts += displacement_vector\n",
    "\n",
    "    igl.write_triangle_mesh(filepath, verts, faces)\n",
    "    \n",
    "torch.save(labels, \"torus_bump_5000_two_scale_binary_bump_variable_noise_fixed_angle/labels.pt\")\n",
    "\n",
    "\n",
    "# Create an empty DataFrame\n",
    "df = pd.DataFrame(columns=['shape', 'is_bump', 'angle', 'scale', 'bump_height'])\n",
    "\n",
    "# Iterate over the items in the labels dictionary\n",
    "for shape, values in labels.items():\n",
    "    # Access the individual values from the NumPy array\n",
    "    value1 = values[0]\n",
    "    value2 = values[1]\n",
    "    value3 = values[2]\n",
    "    value4 = values[3]\n",
    "\n",
    "    # Append a new row with the values to the DataFrame\n",
    "    df = df.append({'shape': shape, 'is_bump': value1, 'angle': value2, 'scale': value3, 'bump_height': value4}, ignore_index=True)\n",
    "\n",
    "# Write the DataFrame to an Excel file\n",
    "df.to_csv(\"torus_bump_5000_two_scale_binary_bump_variable_noise_fixed_angle/torus_bump_labels.csv\")"
   ]
  },
  {
   "cell_type": "code",
   "execution_count": 292,
   "metadata": {},
   "outputs": [
    {
     "data": {
      "text/plain": [
       "0.5084745762711864"
      ]
     },
     "execution_count": 292,
     "metadata": {},
     "output_type": "execute_result"
    }
   ],
   "source": [
    "scaler_t = MinMaxScaler()\n",
    "scaler_t.fit(feature_range_thickness.reshape(-1, 1))\n",
    "t = scaler_t.transform(np.array([0.1]).reshape(-1,1)).item()\n",
    "t"
   ]
  },
  {
   "cell_type": "markdown",
   "metadata": {
    "tags": []
   },
   "source": [
    "## Save template into file"
   ]
  },
  {
   "cell_type": "code",
   "execution_count": 5,
   "metadata": {},
   "outputs": [
    {
     "name": "stdout",
     "output_type": "stream",
     "text": [
      "(3496, 3)\n",
      "(6992, 3)\n"
     ]
    },
    {
     "data": {
      "text/plain": [
       "True"
      ]
     },
     "execution_count": 5,
     "metadata": {},
     "output_type": "execute_result"
    }
   ],
   "source": [
    "radius=0.25\n",
    "thickness=0.10\n",
    "noise_scale=16\n",
    "noise_strength=10\n",
    "seed=50\n",
    "bump_width=0.001\n",
    "bump_height=0.001\n",
    "bump_angle = 1\n",
    "\n",
    "coords = np.linspace(-1, 1, 100)\n",
    "x = np.stack(np.meshgrid(coords, coords, coords))\n",
    "sdf = sdf_torus(x, radius, thickness)\n",
    "verts, faces, normals, values = measure.marching_cubes(sdf, level=0)    \n",
    "\n",
    "x_warp = gradient_noise(x, noise_scale, noise_strength) # no seed, random noise\n",
    "\n",
    "angle = np.pi * bump_angle\n",
    "gaussian_center = gaussian_center = np.array([np.cos(angle), np.sin(angle), 0]) * radius\n",
    "x_dist = np.linalg.norm((x - gaussian_center[:, None, None, None]), axis=0)\n",
    "x_bump = bump_height * np.e ** -(1. / bump_width * x_dist ** 2)\n",
    "x_warp += -np.stack(np.gradient(x_bump))\n",
    "\n",
    "x_warp = rearrange(x_warp, 'v h w d -> h w d v')\n",
    "vertex_noise = interpn([np.arange(100) for _ in range(3)], x_warp, verts)\n",
    "verts += vertex_noise\n",
    "\n",
    "#scaler = MinMaxScaler(feature_range=(-0.5, 0.5))\n",
    "#verts = scaler.fit_transform(verts)\n",
    "print(verts.shape)\n",
    "print(faces.shape)\n",
    "\n",
    "igl.write_triangle_mesh(f\"torus_bump_5000_two_scale_binary_bump_variable_noise_fixed_angle/template/template.ply\", verts, faces)"
   ]
  },
  {
   "cell_type": "markdown",
   "metadata": {},
   "source": [
    "## Save (min-max-scaled) labels into file"
   ]
  },
  {
   "cell_type": "code",
   "execution_count": null,
   "metadata": {},
   "outputs": [],
   "source": [
    "scaler = MinMaxScaler()\n",
    "labels = scaler.fit_transform(np.linspace(0, 1, 500).reshape(-1,1))\n",
    "torch.save(labels.reshape(-1), \"torus_bump_500_two/labels.pt\")"
   ]
  },
  {
   "cell_type": "code",
   "execution_count": 459,
   "metadata": {},
   "outputs": [
    {
     "name": "stderr",
     "output_type": "stream",
     "text": [
      "100%|██████████| 500/500 [00:00<?, ?it/s]\n"
     ]
    }
   ],
   "source": [
    "labels = {}\n",
    "feature_range = np.linspace(-1, 1, 500)\n",
    "i=0\n",
    "for x in tqdm(feature_range):\n",
    "    filename = f'torus_bump_{i}'\n",
    "    labels[filename] = x\n",
    "    i = i+1\n",
    "\n",
    "torch.save(labels, \"C:/Users/Jakar/Downloads/Hippocampus_Study/torus_bump_500/torus_bump_500/labels.pt\")\n",
    "pd.DataFrame(list(labels.items()), columns=['shape', 'label']).to_csv(\"C:/Users/Jakar/Downloads/Hippocampus_Study/torus_bump_500/torus_bump_500/torus_bump_labels.csv\")"
   ]
  },
  {
   "cell_type": "code",
   "execution_count": 15,
   "metadata": {},
   "outputs": [],
   "source": [
    "mesh_predict_np = np.load('C:/Users/Jakar/Downloads/Hippocampus_Study/generate_synthetic_data/models_hippo/293/293mesh_predict.npy')\n",
    "mesh_predict = mesh_predict_np.tolist()"
   ]
  },
  {
   "cell_type": "code",
   "execution_count": 14,
   "metadata": {},
   "outputs": [
    {
     "data": {
      "text/plain": [
       "(5944, 3)"
      ]
     },
     "execution_count": 14,
     "metadata": {},
     "output_type": "execute_result"
    }
   ],
   "source": [
    "verts = np.array(mesh_predict[0]).squeeze()\n",
    "verts.shape\n"
   ]
  },
  {
   "cell_type": "code",
   "execution_count": 13,
   "metadata": {},
   "outputs": [],
   "source": [
    "pcd = o3d.io.read_triangle_mesh('C:/Users/Jakar/Downloads/Hippocampus_Study/train_data-20230521T160833Z-001/train_data/ab300_038.ply')"
   ]
  },
  {
   "cell_type": "code",
   "execution_count": 83,
   "metadata": {},
   "outputs": [],
   "source": [
    "pcd = o3d.io.read_triangle_mesh('C:/Users/Jakar/Downloads/Hippocampus_Study/disease_progression/whole_roi_3d_test/groomed_data/raw_meshes/tle_036.ply')"
   ]
  },
  {
   "cell_type": "code",
   "execution_count": 84,
   "metadata": {},
   "outputs": [
    {
     "data": {
      "text/plain": [
       "(5642, 3)"
      ]
     },
     "execution_count": 84,
     "metadata": {},
     "output_type": "execute_result"
    }
   ],
   "source": [
    "faces = np.asarray(pcd.triangles)\n",
    "faces.shape"
   ]
  },
  {
   "cell_type": "code",
   "execution_count": 85,
   "metadata": {},
   "outputs": [
    {
     "data": {
      "text/plain": [
       "(2799, 3)"
      ]
     },
     "execution_count": 85,
     "metadata": {},
     "output_type": "execute_result"
    }
   ],
   "source": [
    "vertices = np.asarray(pcd.vertices)\n",
    "vertices.shape"
   ]
  },
  {
   "cell_type": "code",
   "execution_count": 86,
   "metadata": {},
   "outputs": [
    {
     "name": "stdout",
     "output_type": "stream",
     "text": [
      "Minimum values in each dimension: [184. 191.  -7.]\n",
      "Maximum values in each dimension: [255. 239.   7.]\n"
     ]
    }
   ],
   "source": [
    "# Find the minimum and maximum values along each dimension\n",
    "min_values = np.min(vertices, axis=0)\n",
    "max_values = np.max(vertices, axis=0)\n",
    "\n",
    "print(\"Minimum values in each dimension:\", min_values)\n",
    "print(\"Maximum values in each dimension:\", max_values)"
   ]
  },
  {
   "cell_type": "code",
   "execution_count": 45,
   "metadata": {},
   "outputs": [
    {
     "data": {
      "text/plain": [
       "True"
      ]
     },
     "execution_count": 45,
     "metadata": {},
     "output_type": "execute_result"
    }
   ],
   "source": [
    "#######################################################\n",
    "igl.write_triangle_mesh(\"C:/Users/Jakar/Downloads/Hippocampus_Study/generate_synthetic_data/models_hippo/293/generated_0.ply\", verts, faces)"
   ]
  },
  {
   "cell_type": "code",
   "execution_count": 16,
   "metadata": {},
   "outputs": [],
   "source": [
    "x_data_np = np.load('C:/Users/Jakar/Downloads/Hippocampus_Study/generate_synthetic_data/models_hippo/293/293x_data_np.npy')\n",
    "mesh_predict = x_data_np.tolist()"
   ]
  },
  {
   "cell_type": "code",
   "execution_count": 17,
   "metadata": {},
   "outputs": [],
   "source": [
    "verts = np.array(mesh_predict[0]).shape"
   ]
  },
  {
   "cell_type": "code",
   "execution_count": 6,
   "metadata": {},
   "outputs": [],
   "source": [
    "labels = torch.load(\"C:/Users/Jakar/Downloads/Hippocampus_Study/generate_synthetic_data/torus_bump_500_two_scale_binary_bump_variable/labels.pt\") "
   ]
  },
  {
   "cell_type": "code",
   "execution_count": 9,
   "metadata": {},
   "outputs": [],
   "source": [
    "hippo_labels = torch.load(\"C:/Users/Jakar/Downloads/Hippocampus_Study/train_data-20230521T160833Z-001/train_data/labels.pt\") "
   ]
  },
  {
   "cell_type": "code",
   "execution_count": 23,
   "metadata": {},
   "outputs": [],
   "source": [
    "labels = torch.load(\"C:/Users/Jakar/Downloads/Hippocampus_Study/generate_synthetic_data/torus_bump_500_three_scale_binary_bump_variable_noise_fixed_angle/labels.pt\") "
   ]
  },
  {
   "cell_type": "code",
   "execution_count": 24,
   "metadata": {},
   "outputs": [
    {
     "name": "stdout",
     "output_type": "stream",
     "text": [
      "{'torus_bump_000': array([0.        , 1.        , 0.03030303, 0.86868687]), 'torus_bump_001': array([1.        , 1.        , 0.1010101 , 0.24242424]), 'torus_bump_002': array([0.        , 1.        , 0.70707071, 0.70707071]), 'torus_bump_003': array([1.        , 1.        , 0.02020202, 0.95959596]), 'torus_bump_004': array([0.        , 1.        , 0.36363636, 0.86868687]), 'torus_bump_005': array([1.        , 1.        , 0.43434343, 0.92929293]), 'torus_bump_006': array([0.        , 1.        , 0.64646465, 0.2020202 ]), 'torus_bump_007': array([1.        , 1.        , 0.87878788, 0.28282828]), 'torus_bump_008': array([0.        , 1.        , 1.        , 0.94949495]), 'torus_bump_009': array([1.        , 1.        , 0.44444444, 0.67676768]), 'torus_bump_010': array([0.        , 1.        , 0.17171717, 0.4040404 ]), 'torus_bump_011': array([1.        , 1.        , 0.81818182, 0.02020202]), 'torus_bump_012': array([0.        , 1.        , 0.26262626, 0.5959596 ]), 'torus_bump_013': array([1.        , 1.        , 0.18181818, 0.17171717]), 'torus_bump_014': array([0.        , 1.        , 0.51515152, 0.68686869]), 'torus_bump_015': array([1.        , 1.        , 0.83838384, 0.6969697 ]), 'torus_bump_016': array([0.        , 1.        , 0.43434343, 0.97979798]), 'torus_bump_017': array([1.        , 1.        , 0.36363636, 0.35353535]), 'torus_bump_018': array([0.        , 1.        , 0.13131313, 0.04040404]), 'torus_bump_019': array([1.        , 1.        , 0.58585859, 0.46464646]), 'torus_bump_020': array([0.        , 1.        , 0.1010101 , 0.43434343]), 'torus_bump_021': array([1.        , 1.        , 0.74747475, 0.02020202]), 'torus_bump_022': array([0.        , 1.        , 0.07070707, 0.81818182]), 'torus_bump_023': array([1.        , 1.        , 0.46464646, 0.35353535]), 'torus_bump_024': array([0.        , 1.        , 0.60606061, 0.63636364]), 'torus_bump_025': array([1.        , 1.        , 0.03030303, 0.51515152]), 'torus_bump_026': array([0.        , 1.        , 0.77777778, 0.32323232]), 'torus_bump_027': array([1.        , 1.        , 0.49494949, 0.35353535]), 'torus_bump_028': array([0.        , 1.        , 0.4040404 , 0.36363636]), 'torus_bump_029': array([1.        , 1.        , 0.75757576, 0.41414141]), 'torus_bump_030': array([0.        , 1.        , 0.1010101 , 0.19191919]), 'torus_bump_031': array([1.        , 1.        , 0.37373737, 0.08080808]), 'torus_bump_032': array([0.        , 1.        , 0.87878788, 0.43434343]), 'torus_bump_033': array([1.        , 1.        , 0.11111111, 0.70707071]), 'torus_bump_034': array([0.        , 1.        , 1.        , 0.32323232]), 'torus_bump_035': array([1.        , 1.        , 0.83838384, 0.22222222]), 'torus_bump_036': array([0.        , 1.        , 0.09090909, 0.17171717]), 'torus_bump_037': array([1.        , 1.        , 0.48484848, 0.72727273]), 'torus_bump_038': array([0.        , 1.        , 0.1010101 , 0.57575758]), 'torus_bump_039': array([1.        , 1.        , 0.06060606, 0.3030303 ]), 'torus_bump_040': array([0.        , 1.        , 0.22222222, 0.1010101 ]), 'torus_bump_041': array([1.        , 1.        , 0.54545455, 0.57575758]), 'torus_bump_042': array([0.        , 1.        , 0.51515152, 0.        ]), 'torus_bump_043': array([1.        , 1.        , 0.17171717, 0.39393939]), 'torus_bump_044': array([0.        , 1.        , 0.31313131, 0.07070707]), 'torus_bump_045': array([1.        , 1.        , 0.26262626, 0.11111111]), 'torus_bump_046': array([0.        , 1.        , 0.92929293, 0.33333333]), 'torus_bump_047': array([1.        , 1.        , 0.18181818, 0.38383838]), 'torus_bump_048': array([0.        , 1.        , 0.13131313, 0.15151515]), 'torus_bump_049': array([1.        , 1.        , 0.39393939, 0.80808081]), 'torus_bump_050': array([0.        , 1.        , 0.53535354, 0.50505051]), 'torus_bump_051': array([1.        , 1.        , 0.71717172, 0.19191919]), 'torus_bump_052': array([0.        , 1.        , 0.27272727, 0.02020202]), 'torus_bump_053': array([1.        , 1.        , 0.41414141, 0.80808081]), 'torus_bump_054': array([0.        , 1.        , 0.56565657, 0.07070707]), 'torus_bump_055': array([1.        , 1.        , 0.64646465, 0.75757576]), 'torus_bump_056': array([0.        , 1.        , 1.        , 0.16161616]), 'torus_bump_057': array([1.        , 1.        , 0.70707071, 0.28282828]), 'torus_bump_058': array([0.        , 1.        , 0.46464646, 0.2020202 ]), 'torus_bump_059': array([1.        , 1.        , 0.71717172, 0.09090909]), 'torus_bump_060': array([0.        , 1.        , 0.54545455, 0.46464646]), 'torus_bump_061': array([1.        , 1.        , 0.86868687, 0.15151515]), 'torus_bump_062': array([0.        , 1.        , 0.19191919, 0.8989899 ]), 'torus_bump_063': array([1.        , 1.        , 0.91919192, 0.70707071]), 'torus_bump_064': array([0.        , 1.        , 0.81818182, 0.88888889]), 'torus_bump_065': array([1.        , 1.        , 0.54545455, 0.6969697 ]), 'torus_bump_066': array([0.        , 1.        , 0.86868687, 0.62626263]), 'torus_bump_067': array([1.        , 1.        , 0.46464646, 0.73737374]), 'torus_bump_068': array([0.        , 1.        , 0.12121212, 0.45454545]), 'torus_bump_069': array([1.        , 1.        , 0.91919192, 0.51515152]), 'torus_bump_070': array([0.        , 1.        , 0.58585859, 0.49494949]), 'torus_bump_071': array([1.        , 1.        , 0.84848485, 0.38383838]), 'torus_bump_072': array([0.        , 1.        , 0.90909091, 0.44444444]), 'torus_bump_073': array([1.        , 1.        , 0.52525253, 0.46464646]), 'torus_bump_074': array([0.        , 1.        , 0.64646465, 0.87878788]), 'torus_bump_075': array([1.        , 1.        , 0.7979798 , 0.46464646]), 'torus_bump_076': array([0.        , 1.        , 0.32323232, 0.47474747]), 'torus_bump_077': array([1.        , 1.        , 0.63636364, 0.48484848]), 'torus_bump_078': array([0.        , 1.        , 0.45454545, 0.19191919]), 'torus_bump_079': array([1.        , 1.        , 0.77777778, 0.09090909]), 'torus_bump_080': array([0.        , 1.        , 1.        , 0.12121212]), 'torus_bump_081': array([1.        , 1.        , 0.19191919, 0.7979798 ]), 'torus_bump_082': array([0.        , 1.        , 0.22222222, 0.37373737]), 'torus_bump_083': array([1.        , 1.        , 0.27272727, 0.57575758]), 'torus_bump_084': array([0.        , 1.        , 0.82828283, 0.3030303 ]), 'torus_bump_085': array([1.        , 1.        , 0.70707071, 0.        ]), 'torus_bump_086': array([0.        , 1.        , 0.14141414, 0.66666667]), 'torus_bump_087': array([1.        , 1.        , 0.55555556, 0.07070707]), 'torus_bump_088': array([0.        , 1.        , 0.80808081, 0.01010101]), 'torus_bump_089': array([1.        , 1.        , 0.07070707, 0.8989899 ]), 'torus_bump_090': array([0.        , 1.        , 0.93939394, 0.58585859]), 'torus_bump_091': array([1.       , 1.       , 0.2020202, 0.7979798]), 'torus_bump_092': array([0.        , 1.        , 0.09090909, 0.87878788]), 'torus_bump_093': array([1.        , 1.        , 0.21212121, 0.52525253]), 'torus_bump_094': array([0.        , 1.        , 0.51515152, 0.96969697]), 'torus_bump_095': array([1.        , 1.        , 0.44444444, 0.08080808]), 'torus_bump_096': array([0.        , 1.        , 0.42424242, 0.53535354]), 'torus_bump_097': array([1.        , 1.        , 0.96969697, 0.66666667]), 'torus_bump_098': array([0.        , 1.        , 0.76767677, 0.44444444]), 'torus_bump_099': array([1.        , 1.        , 0.04040404, 0.        ]), 'torus_bump_100': array([0.        , 1.        , 0.42424242, 0.45454545]), 'torus_bump_101': array([1.        , 1.        , 0.28282828, 0.44444444]), 'torus_bump_102': array([0.        , 1.        , 0.07070707, 0.27272727]), 'torus_bump_103': array([1.        , 1.        , 0.71717172, 0.02020202]), 'torus_bump_104': array([0.        , 1.        , 0.1010101 , 0.90909091]), 'torus_bump_105': array([1.        , 1.        , 0.61616162, 0.84848485]), 'torus_bump_106': array([0.        , 1.        , 0.67676768, 0.06060606]), 'torus_bump_107': array([1.        , 1.        , 0.75757576, 0.21212121]), 'torus_bump_108': array([0.        , 1.        , 0.81818182, 0.24242424]), 'torus_bump_109': array([1.        , 1.        , 0.34343434, 0.05050505]), 'torus_bump_110': array([0.        , 1.        , 0.84848485, 0.12121212]), 'torus_bump_111': array([1.        , 1.        , 0.91919192, 0.62626263]), 'torus_bump_112': array([0.        , 1.        , 0.95959596, 0.29292929]), 'torus_bump_113': array([1.        , 1.        , 0.48484848, 0.47474747]), 'torus_bump_114': array([0.        , 1.        , 0.23232323, 0.26262626]), 'torus_bump_115': array([1.        , 1.        , 0.16161616, 0.37373737]), 'torus_bump_116': array([0.        , 1.        , 0.81818182, 0.25252525]), 'torus_bump_117': array([1.        , 1.        , 0.72727273, 0.94949495]), 'torus_bump_118': array([0.        , 1.        , 0.39393939, 0.05050505]), 'torus_bump_119': array([1.        , 1.        , 0.65656566, 0.37373737]), 'torus_bump_120': array([0.        , 1.        , 0.73737374, 0.13131313]), 'torus_bump_121': array([1.        , 1.        , 0.38383838, 0.02020202]), 'torus_bump_122': array([0.        , 1.        , 0.81818182, 0.77777778]), 'torus_bump_123': array([1.        , 1.        , 0.90909091, 0.56565657]), 'torus_bump_124': array([0.        , 1.        , 0.74747475, 0.02020202]), 'torus_bump_125': array([1.        , 1.        , 0.07070707, 0.93939394]), 'torus_bump_126': array([0.        , 1.        , 0.84848485, 0.92929293]), 'torus_bump_127': array([1.        , 1.        , 0.61616162, 0.46464646]), 'torus_bump_128': array([0.        , 1.        , 1.        , 0.60606061]), 'torus_bump_129': array([1.        , 1.        , 0.63636364, 0.57575758]), 'torus_bump_130': array([0.        , 1.        , 0.46464646, 0.43434343]), 'torus_bump_131': array([1.        , 1.        , 0.5959596 , 0.06060606]), 'torus_bump_132': array([0.        , 1.        , 0.49494949, 0.49494949]), 'torus_bump_133': array([1.        , 1.        , 0.78787879, 0.29292929]), 'torus_bump_134': array([0.        , 1.        , 0.19191919, 0.4040404 ]), 'torus_bump_135': array([1.        , 1.        , 0.02020202, 0.14141414]), 'torus_bump_136': array([0.        , 1.        , 0.85858586, 0.95959596]), 'torus_bump_137': array([1.        , 1.        , 0.08080808, 0.32323232]), 'torus_bump_138': array([0.        , 1.        , 0.63636364, 0.35353535]), 'torus_bump_139': array([1.        , 1.        , 0.58585859, 0.78787879]), 'torus_bump_140': array([0.        , 1.        , 0.49494949, 0.72727273]), 'torus_bump_141': array([1.        , 1.        , 0.64646465, 0.        ]), 'torus_bump_142': array([0.        , 1.        , 0.56565657, 0.03030303]), 'torus_bump_143': array([1.        , 1.        , 0.36363636, 0.        ]), 'torus_bump_144': array([0.        , 1.        , 0.48484848, 0.26262626]), 'torus_bump_145': array([1.        , 1.        , 0.39393939, 0.87878788]), 'torus_bump_146': array([0.        , 1.        , 0.36363636, 0.91919192]), 'torus_bump_147': array([1.        , 1.        , 0.61616162, 0.93939394]), 'torus_bump_148': array([0.        , 1.        , 0.64646465, 0.82828283]), 'torus_bump_149': array([1.        , 1.        , 0.41414141, 0.41414141]), 'torus_bump_150': array([0.        , 1.        , 0.24242424, 0.80808081]), 'torus_bump_151': array([1.        , 1.        , 0.53535354, 0.74747475]), 'torus_bump_152': array([0.        , 1.        , 0.38383838, 0.78787879]), 'torus_bump_153': array([1.        , 1.        , 0.8989899 , 0.94949495]), 'torus_bump_154': array([0.        , 1.        , 0.38383838, 0.41414141]), 'torus_bump_155': array([1.        , 1.        , 0.18181818, 0.27272727]), 'torus_bump_156': array([0.        , 1.        , 0.31313131, 0.31313131]), 'torus_bump_157': array([1.        , 1.        , 0.80808081, 0.12121212]), 'torus_bump_158': array([0.        , 1.        , 0.5959596 , 0.24242424]), 'torus_bump_159': array([1.        , 1.        , 0.        , 0.85858586]), 'torus_bump_160': array([0.        , 1.        , 0.81818182, 0.75757576]), 'torus_bump_161': array([1.        , 1.        , 0.38383838, 0.2020202 ]), 'torus_bump_162': array([0.        , 1.        , 0.23232323, 0.47474747]), 'torus_bump_163': array([1.        , 1.        , 0.94949495, 0.52525253]), 'torus_bump_164': array([0.        , 1.        , 0.51515152, 0.94949495]), 'torus_bump_165': array([1.        , 1.        , 0.23232323, 0.90909091]), 'torus_bump_166': array([0.        , 1.        , 0.95959596, 0.26262626]), 'torus_bump_167': array([1.        , 1.        , 0.68686869, 0.81818182]), 'torus_bump_168': array([0.        , 1.        , 0.31313131, 0.76767677]), 'torus_bump_169': array([1.        , 1.        , 0.19191919, 0.72727273]), 'torus_bump_170': array([0.        , 1.        , 0.56565657, 0.84848485]), 'torus_bump_171': array([1.        , 1.        , 0.52525253, 0.92929293]), 'torus_bump_172': array([0.        , 1.        , 0.88888889, 0.24242424]), 'torus_bump_173': array([1.        , 1.        , 0.07070707, 0.42424242]), 'torus_bump_174': array([0.        , 1.        , 0.83838384, 0.05050505]), 'torus_bump_175': array([1.        , 1.        , 0.05050505, 0.57575758]), 'torus_bump_176': array([0.        , 1.        , 0.29292929, 0.72727273]), 'torus_bump_177': array([1.        , 1.        , 0.93939394, 0.03030303]), 'torus_bump_178': array([0.        , 1.        , 0.28282828, 0.75757576]), 'torus_bump_179': array([1.        , 1.        , 0.83838384, 0.38383838]), 'torus_bump_180': array([0.        , 1.        , 0.62626263, 0.52525253]), 'torus_bump_181': array([1.        , 1.        , 0.57575758, 0.02020202]), 'torus_bump_182': array([0.        , 1.        , 0.46464646, 0.11111111]), 'torus_bump_183': array([1.        , 1.        , 0.95959596, 0.7979798 ]), 'torus_bump_184': array([0.        , 1.        , 0.05050505, 0.7979798 ]), 'torus_bump_185': array([1.        , 1.        , 0.56565657, 0.37373737]), 'torus_bump_186': array([0.        , 1.        , 0.57575758, 0.62626263]), 'torus_bump_187': array([1.        , 1.        , 0.70707071, 0.66666667]), 'torus_bump_188': array([0.        , 1.        , 0.11111111, 0.16161616]), 'torus_bump_189': array([1.        , 1.        , 0.76767677, 0.97979798]), 'torus_bump_190': array([0.        , 1.        , 0.82828283, 0.36363636]), 'torus_bump_191': array([1.        , 1.        , 0.68686869, 0.63636364]), 'torus_bump_192': array([0.        , 1.        , 0.49494949, 0.72727273]), 'torus_bump_193': array([1.        , 1.        , 0.72727273, 0.33333333]), 'torus_bump_194': array([0.        , 1.        , 0.42424242, 0.41414141]), 'torus_bump_195': array([1.        , 1.        , 0.86868687, 0.72727273]), 'torus_bump_196': array([0.        , 1.        , 0.29292929, 0.53535354]), 'torus_bump_197': array([1.        , 1.        , 0.91919192, 0.46464646]), 'torus_bump_198': array([0.        , 1.        , 0.72727273, 0.77777778]), 'torus_bump_199': array([1.        , 1.        , 0.63636364, 0.58585859]), 'torus_bump_200': array([0.        , 1.        , 0.95959596, 0.82828283]), 'torus_bump_201': array([1.        , 1.        , 0.8989899 , 0.55555556]), 'torus_bump_202': array([0.        , 1.        , 0.35353535, 0.57575758]), 'torus_bump_203': array([1.        , 1.        , 0.73737374, 0.39393939]), 'torus_bump_204': array([0.        , 1.        , 0.86868687, 0.65656566]), 'torus_bump_205': array([1.        , 1.        , 0.82828283, 0.13131313]), 'torus_bump_206': array([0.        , 1.        , 0.22222222, 0.83838384]), 'torus_bump_207': array([1.        , 1.        , 0.77777778, 0.51515152]), 'torus_bump_208': array([0.        , 1.        , 0.66666667, 0.33333333]), 'torus_bump_209': array([1.        , 1.        , 0.13131313, 0.84848485]), 'torus_bump_210': array([0.        , 1.        , 0.87878788, 0.75757576]), 'torus_bump_211': array([1.        , 1.        , 0.80808081, 0.96969697]), 'torus_bump_212': array([0.        , 1.        , 0.18181818, 0.15151515]), 'torus_bump_213': array([1.        , 1.        , 0.16161616, 0.60606061]), 'torus_bump_214': array([0.        , 1.        , 0.61616162, 0.27272727]), 'torus_bump_215': array([1.        , 1.        , 0.98989899, 0.90909091]), 'torus_bump_216': array([0.        , 1.        , 0.72727273, 0.5959596 ]), 'torus_bump_217': array([1.        , 1.        , 0.49494949, 0.4040404 ]), 'torus_bump_218': array([0.        , 1.        , 0.02020202, 0.97979798]), 'torus_bump_219': array([1.        , 1.        , 0.48484848, 0.26262626]), 'torus_bump_220': array([0.        , 1.        , 0.3030303 , 0.14141414]), 'torus_bump_221': array([1.        , 1.        , 0.04040404, 0.58585859]), 'torus_bump_222': array([0.        , 1.        , 0.44444444, 0.15151515]), 'torus_bump_223': array([1.        , 1.        , 0.32323232, 0.43434343]), 'torus_bump_224': array([0.        , 1.        , 0.55555556, 0.54545455]), 'torus_bump_225': array([1.        , 1.        , 0.38383838, 0.28282828]), 'torus_bump_226': array([0.        , 1.        , 0.46464646, 0.74747475]), 'torus_bump_227': array([1.        , 1.        , 0.47474747, 0.14141414]), 'torus_bump_228': array([0.        , 1.        , 0.24242424, 0.32323232]), 'torus_bump_229': array([1.        , 1.        , 0.54545455, 0.09090909]), 'torus_bump_230': array([0.        , 1.        , 0.21212121, 0.93939394]), 'torus_bump_231': array([1.        , 1.        , 0.26262626, 0.61616162]), 'torus_bump_232': array([0.        , 1.        , 0.08080808, 0.70707071]), 'torus_bump_233': array([1.        , 1.        , 0.28282828, 0.41414141]), 'torus_bump_234': array([0.        , 1.        , 0.52525253, 0.81818182]), 'torus_bump_235': array([1.        , 1.        , 0.5959596 , 0.71717172]), 'torus_bump_236': array([0.        , 1.        , 0.52525253, 0.55555556]), 'torus_bump_237': array([1.        , 1.        , 0.44444444, 0.31313131]), 'torus_bump_238': array([0.        , 1.        , 0.98989899, 0.09090909]), 'torus_bump_239': array([1.        , 1.        , 0.18181818, 1.        ]), 'torus_bump_240': array([0.        , 1.        , 0.09090909, 0.92929293]), 'torus_bump_241': array([1.        , 1.        , 0.73737374, 0.6969697 ]), 'torus_bump_242': array([0.        , 1.        , 0.15151515, 0.80808081]), 'torus_bump_243': array([1.        , 1.        , 0.74747475, 0.57575758]), 'torus_bump_244': array([0.        , 1.        , 0.04040404, 0.86868687]), 'torus_bump_245': array([1.        , 1.        , 0.63636364, 0.42424242]), 'torus_bump_246': array([0.        , 1.        , 0.05050505, 0.66666667]), 'torus_bump_247': array([1.        , 1.        , 0.17171717, 0.22222222]), 'torus_bump_248': array([0.        , 1.        , 0.45454545, 0.56565657]), 'torus_bump_249': array([1.        , 1.        , 0.93939394, 0.98989899]), 'torus_bump_250': array([0.        , 1.        , 0.2020202 , 0.52525253]), 'torus_bump_251': array([1.        , 1.        , 0.48484848, 0.66666667]), 'torus_bump_252': array([0.        , 1.        , 0.03030303, 0.61616162]), 'torus_bump_253': array([1.        , 1.        , 0.93939394, 0.1010101 ]), 'torus_bump_254': array([0.        , 1.        , 0.81818182, 0.04040404]), 'torus_bump_255': array([1.        , 1.        , 0.95959596, 0.65656566]), 'torus_bump_256': array([0.        , 1.        , 0.49494949, 0.88888889]), 'torus_bump_257': array([1.        , 1.        , 0.65656566, 0.4040404 ]), 'torus_bump_258': array([0.        , 1.        , 0.80808081, 0.60606061]), 'torus_bump_259': array([1.        , 1.        , 0.60606061, 0.32323232]), 'torus_bump_260': array([0.        , 1.        , 0.17171717, 0.58585859]), 'torus_bump_261': array([1.        , 1.        , 0.36363636, 0.41414141]), 'torus_bump_262': array([0.        , 1.        , 0.        , 0.13131313]), 'torus_bump_263': array([1.        , 1.        , 0.76767677, 0.88888889]), 'torus_bump_264': array([0.        , 1.        , 0.05050505, 0.87878788]), 'torus_bump_265': array([1.        , 1.        , 0.43434343, 0.01010101]), 'torus_bump_266': array([0.        , 1.        , 0.48484848, 0.14141414]), 'torus_bump_267': array([1.        , 1.        , 0.92929293, 0.21212121]), 'torus_bump_268': array([0.        , 1.        , 0.67676768, 0.78787879]), 'torus_bump_269': array([1.        , 1.        , 0.3030303 , 0.12121212]), 'torus_bump_270': array([0.        , 1.        , 0.60606061, 0.21212121]), 'torus_bump_271': array([1.        , 1.        , 0.26262626, 0.2020202 ]), 'torus_bump_272': array([0.        , 1.        , 0.08080808, 0.61616162]), 'torus_bump_273': array([1.        , 1.        , 0.05050505, 0.26262626]), 'torus_bump_274': array([0.        , 1.        , 0.3030303 , 0.33333333]), 'torus_bump_275': array([1.        , 1.        , 0.68686869, 0.25252525]), 'torus_bump_276': array([0.        , 1.        , 0.29292929, 0.77777778]), 'torus_bump_277': array([1.        , 1.        , 0.2020202 , 0.96969697]), 'torus_bump_278': array([0.        , 1.        , 0.03030303, 0.65656566]), 'torus_bump_279': array([1.        , 1.        , 0.5959596 , 0.83838384]), 'torus_bump_280': array([0.        , 1.        , 0.3030303 , 0.80808081]), 'torus_bump_281': array([1.        , 1.        , 0.72727273, 0.36363636]), 'torus_bump_282': array([0.        , 1.        , 0.33333333, 0.44444444]), 'torus_bump_283': array([1.        , 1.        , 0.80808081, 0.07070707]), 'torus_bump_284': array([0.        , 1.        , 0.58585859, 0.26262626]), 'torus_bump_285': array([1.        , 1.        , 0.63636364, 0.02020202]), 'torus_bump_286': array([0.       , 1.       , 0.2020202, 0.3030303]), 'torus_bump_287': array([1.        , 1.        , 0.91919192, 0.37373737]), 'torus_bump_288': array([0.       , 1.       , 0.8989899, 0.3030303]), 'torus_bump_289': array([1.        , 1.        , 0.73737374, 0.91919192]), 'torus_bump_290': array([0.        , 1.        , 0.87878788, 0.42424242]), 'torus_bump_291': array([1.        , 1.        , 0.13131313, 0.3030303 ]), 'torus_bump_292': array([0.        , 1.        , 0.81818182, 0.38383838]), 'torus_bump_293': array([1.        , 1.        , 0.96969697, 0.98989899]), 'torus_bump_294': array([0.        , 1.        , 0.48484848, 0.19191919]), 'torus_bump_295': array([1.        , 1.        , 0.49494949, 0.77777778]), 'torus_bump_296': array([0.        , 1.        , 0.17171717, 0.66666667]), 'torus_bump_297': array([1.        , 1.        , 0.29292929, 0.66666667]), 'torus_bump_298': array([0.        , 1.        , 0.5959596 , 0.11111111]), 'torus_bump_299': array([1.        , 1.        , 0.28282828, 0.17171717]), 'torus_bump_300': array([0.        , 1.        , 0.21212121, 0.18181818]), 'torus_bump_301': array([1.        , 1.        , 0.94949495, 0.65656566]), 'torus_bump_302': array([0.        , 1.        , 0.36363636, 0.46464646]), 'torus_bump_303': array([1.        , 1.        , 0.14141414, 0.76767677]), 'torus_bump_304': array([0.       , 1.       , 0.1010101, 0.8989899]), 'torus_bump_305': array([1.        , 1.        , 0.29292929, 0.31313131]), 'torus_bump_306': array([0.        , 1.        , 0.08080808, 0.71717172]), 'torus_bump_307': array([1.        , 1.        , 0.57575758, 0.7979798 ]), 'torus_bump_308': array([0.        , 1.        , 0.3030303 , 0.58585859]), 'torus_bump_309': array([1.        , 1.        , 0.21212121, 0.64646465]), 'torus_bump_310': array([0.        , 1.        , 0.42424242, 0.19191919]), 'torus_bump_311': array([1.        , 1.        , 0.72727273, 0.81818182]), 'torus_bump_312': array([0.        , 1.        , 0.1010101 , 0.17171717]), 'torus_bump_313': array([1.        , 1.        , 0.55555556, 0.55555556]), 'torus_bump_314': array([0.        , 1.        , 0.19191919, 0.39393939]), 'torus_bump_315': array([1.        , 1.        , 0.31313131, 0.42424242]), 'torus_bump_316': array([0.        , 1.        , 0.06060606, 0.46464646]), 'torus_bump_317': array([1.        , 1.        , 0.52525253, 0.80808081]), 'torus_bump_318': array([0.        , 1.        , 0.06060606, 0.55555556]), 'torus_bump_319': array([1.        , 1.        , 0.34343434, 0.19191919]), 'torus_bump_320': array([0.        , 1.        , 0.2020202 , 0.24242424]), 'torus_bump_321': array([1.        , 1.        , 0.04040404, 0.18181818]), 'torus_bump_322': array([0.        , 1.        , 0.47474747, 0.67676768]), 'torus_bump_323': array([1.        , 1.        , 0.93939394, 0.01010101]), 'torus_bump_324': array([0.        , 1.        , 0.86868687, 0.50505051]), 'torus_bump_325': array([1.        , 1.        , 0.56565657, 0.        ]), 'torus_bump_326': array([0.        , 1.        , 0.27272727, 0.93939394]), 'torus_bump_327': array([1.        , 1.        , 0.17171717, 0.26262626]), 'torus_bump_328': array([0.        , 1.        , 0.94949495, 0.66666667]), 'torus_bump_329': array([1.        , 1.        , 0.02020202, 0.41414141]), 'torus_bump_330': array([0.        , 1.        , 0.63636364, 0.14141414]), 'torus_bump_331': array([1.        , 1.        , 0.21212121, 0.07070707]), 'torus_bump_332': array([0.        , 1.        , 0.91919192, 0.39393939]), 'torus_bump_333': array([1.        , 1.        , 0.44444444, 0.63636364]), 'torus_bump_334': array([0.        , 1.        , 0.24242424, 0.05050505]), 'torus_bump_335': array([1.        , 1.        , 0.96969697, 0.57575758]), 'torus_bump_336': array([0.        , 1.        , 0.67676768, 0.4040404 ]), 'torus_bump_337': array([1.        , 1.        , 0.05050505, 0.05050505]), 'torus_bump_338': array([0.        , 1.        , 0.44444444, 0.54545455]), 'torus_bump_339': array([1.        , 1.        , 0.75757576, 0.12121212]), 'torus_bump_340': array([0.       , 1.       , 0.3030303, 0.5959596]), 'torus_bump_341': array([1.        , 1.        , 0.93939394, 0.97979798]), 'torus_bump_342': array([0.        , 1.        , 0.86868687, 0.82828283]), 'torus_bump_343': array([1.        , 1.        , 0.31313131, 0.87878788]), 'torus_bump_344': array([0.        , 1.        , 0.93939394, 0.68686869]), 'torus_bump_345': array([1.        , 1.        , 0.78787879, 0.21212121]), 'torus_bump_346': array([0.        , 1.        , 0.65656566, 0.71717172]), 'torus_bump_347': array([1.        , 1.        , 0.86868687, 0.66666667]), 'torus_bump_348': array([0.        , 1.        , 0.77777778, 1.        ]), 'torus_bump_349': array([1.        , 1.        , 0.58585859, 0.35353535]), 'torus_bump_350': array([0.        , 1.        , 0.97979798, 0.25252525]), 'torus_bump_351': array([1.        , 1.        , 0.15151515, 0.41414141]), 'torus_bump_352': array([0.        , 1.        , 0.41414141, 0.93939394]), 'torus_bump_353': array([1.        , 1.        , 0.68686869, 0.1010101 ]), 'torus_bump_354': array([0.        , 1.        , 0.37373737, 0.82828283]), 'torus_bump_355': array([1.        , 1.        , 0.44444444, 0.8989899 ]), 'torus_bump_356': array([0.        , 1.        , 0.85858586, 0.13131313]), 'torus_bump_357': array([1.        , 1.        , 0.44444444, 0.01010101]), 'torus_bump_358': array([0.        , 1.        , 0.2020202 , 0.41414141]), 'torus_bump_359': array([1.        , 1.        , 0.81818182, 1.        ]), 'torus_bump_360': array([0.        , 1.        , 0.32323232, 1.        ]), 'torus_bump_361': array([1.        , 1.        , 0.66666667, 0.09090909]), 'torus_bump_362': array([0.        , 1.        , 0.73737374, 0.15151515]), 'torus_bump_363': array([1.        , 1.        , 0.05050505, 0.35353535]), 'torus_bump_364': array([0.        , 1.        , 0.75757576, 0.14141414]), 'torus_bump_365': array([1.        , 1.        , 0.47474747, 0.29292929]), 'torus_bump_366': array([0.        , 1.        , 0.61616162, 0.63636364]), 'torus_bump_367': array([1.        , 1.        , 0.28282828, 0.55555556]), 'torus_bump_368': array([0.        , 1.        , 0.48484848, 0.66666667]), 'torus_bump_369': array([1.        , 1.        , 0.03030303, 0.1010101 ]), 'torus_bump_370': array([0.        , 1.        , 0.87878788, 0.63636364]), 'torus_bump_371': array([1.        , 1.        , 0.83838384, 0.77777778]), 'torus_bump_372': array([0.        , 1.        , 0.08080808, 0.82828283]), 'torus_bump_373': array([1.        , 1.        , 0.65656566, 0.38383838]), 'torus_bump_374': array([0.        , 1.        , 0.97979798, 0.82828283]), 'torus_bump_375': array([1.        , 1.        , 0.38383838, 0.44444444]), 'torus_bump_376': array([0.        , 1.        , 0.56565657, 0.92929293]), 'torus_bump_377': array([1.        , 1.        , 0.31313131, 0.6969697 ]), 'torus_bump_378': array([0.        , 1.        , 0.17171717, 0.36363636]), 'torus_bump_379': array([1.        , 1.        , 0.67676768, 0.37373737]), 'torus_bump_380': array([0.        , 1.        , 0.35353535, 0.64646465]), 'torus_bump_381': array([1.        , 1.        , 0.34343434, 0.62626263]), 'torus_bump_382': array([0.        , 1.        , 0.53535354, 0.65656566]), 'torus_bump_383': array([1.        , 1.        , 0.22222222, 0.07070707]), 'torus_bump_384': array([0.        , 1.        , 0.33333333, 0.7979798 ]), 'torus_bump_385': array([1.        , 1.        , 0.03030303, 0.51515152]), 'torus_bump_386': array([0.        , 1.        , 0.45454545, 0.03030303]), 'torus_bump_387': array([1.        , 1.        , 0.23232323, 0.8989899 ]), 'torus_bump_388': array([0.        , 1.        , 0.70707071, 0.32323232]), 'torus_bump_389': array([1.        , 1.        , 0.29292929, 0.88888889]), 'torus_bump_390': array([0.        , 1.        , 0.97979798, 0.75757576]), 'torus_bump_391': array([1.       , 1.       , 0.7979798, 0.4040404]), 'torus_bump_392': array([0.        , 1.        , 0.2020202 , 0.05050505]), 'torus_bump_393': array([1.        , 1.        , 0.19191919, 0.1010101 ]), 'torus_bump_394': array([0.        , 1.        , 0.54545455, 0.05050505]), 'torus_bump_395': array([1.        , 1.        , 0.45454545, 0.70707071]), 'torus_bump_396': array([0.        , 1.        , 0.23232323, 0.55555556]), 'torus_bump_397': array([1.        , 1.        , 0.13131313, 0.66666667]), 'torus_bump_398': array([0.        , 1.        , 0.86868687, 0.31313131]), 'torus_bump_399': array([1.        , 1.        , 0.26262626, 0.        ]), 'torus_bump_400': array([0.        , 1.        , 0.44444444, 0.27272727]), 'torus_bump_401': array([1.        , 1.        , 0.22222222, 0.66666667]), 'torus_bump_402': array([0.        , 1.        , 0.36363636, 0.03030303]), 'torus_bump_403': array([1.        , 1.        , 0.13131313, 0.56565657]), 'torus_bump_404': array([0.        , 1.        , 0.96969697, 0.08080808]), 'torus_bump_405': array([1.        , 1.        , 0.83838384, 0.02020202]), 'torus_bump_406': array([0.        , 1.        , 0.41414141, 0.27272727]), 'torus_bump_407': array([1.        , 1.        , 0.28282828, 0.84848485]), 'torus_bump_408': array([0.        , 1.        , 0.        , 0.51515152]), 'torus_bump_409': array([1.        , 1.        , 0.35353535, 0.81818182]), 'torus_bump_410': array([0.        , 1.        , 0.54545455, 0.62626263]), 'torus_bump_411': array([1.        , 1.        , 0.4040404 , 0.92929293]), 'torus_bump_412': array([0.        , 1.        , 0.18181818, 0.01010101]), 'torus_bump_413': array([1.        , 1.        , 0.04040404, 0.73737374]), 'torus_bump_414': array([0.        , 1.        , 0.84848485, 0.07070707]), 'torus_bump_415': array([1.        , 1.        , 0.08080808, 0.42424242]), 'torus_bump_416': array([0.        , 1.        , 0.67676768, 0.35353535]), 'torus_bump_417': array([1.        , 1.        , 0.98989899, 0.67676768]), 'torus_bump_418': array([0.        , 1.        , 0.62626263, 0.17171717]), 'torus_bump_419': array([1.        , 1.        , 0.03030303, 0.15151515]), 'torus_bump_420': array([0.        , 1.        , 0.71717172, 0.96969697]), 'torus_bump_421': array([1.        , 1.        , 0.41414141, 0.70707071]), 'torus_bump_422': array([0.        , 1.        , 0.97979798, 0.92929293]), 'torus_bump_423': array([1.        , 1.        , 0.64646465, 0.51515152]), 'torus_bump_424': array([0.        , 1.        , 0.56565657, 0.18181818]), 'torus_bump_425': array([1.        , 1.        , 0.54545455, 0.44444444]), 'torus_bump_426': array([0.        , 1.        , 0.71717172, 0.21212121]), 'torus_bump_427': array([1.        , 1.        , 0.09090909, 0.51515152]), 'torus_bump_428': array([0.        , 1.        , 0.14141414, 0.77777778]), 'torus_bump_429': array([1.        , 1.        , 0.4040404 , 0.32323232]), 'torus_bump_430': array([0.        , 1.        , 0.98989899, 0.25252525]), 'torus_bump_431': array([1.        , 1.        , 0.86868687, 0.7979798 ]), 'torus_bump_432': array([0.        , 1.        , 0.80808081, 0.80808081]), 'torus_bump_433': array([1.        , 1.        , 0.95959596, 0.25252525]), 'torus_bump_434': array([0.        , 1.        , 0.49494949, 0.4040404 ]), 'torus_bump_435': array([1.        , 1.        , 0.63636364, 0.48484848]), 'torus_bump_436': array([0.        , 1.        , 0.92929293, 0.31313131]), 'torus_bump_437': array([1.        , 1.        , 0.90909091, 0.41414141]), 'torus_bump_438': array([0.        , 1.        , 0.51515152, 0.76767677]), 'torus_bump_439': array([1.        , 1.        , 0.19191919, 0.28282828]), 'torus_bump_440': array([0.        , 1.        , 0.63636364, 0.58585859]), 'torus_bump_441': array([1.        , 1.        , 0.67676768, 0.94949495]), 'torus_bump_442': array([0.        , 1.        , 0.08080808, 0.75757576]), 'torus_bump_443': array([1.        , 1.        , 0.42424242, 0.80808081]), 'torus_bump_444': array([0.        , 1.        , 0.63636364, 0.80808081]), 'torus_bump_445': array([1.        , 1.        , 0.97979798, 0.56565657]), 'torus_bump_446': array([0.        , 1.        , 0.35353535, 0.71717172]), 'torus_bump_447': array([1.        , 1.        , 0.76767677, 0.07070707]), 'torus_bump_448': array([0.        , 1.        , 0.4040404 , 0.34343434]), 'torus_bump_449': array([1.        , 1.        , 0.85858586, 0.74747475]), 'torus_bump_450': array([0.        , 1.        , 0.62626263, 0.14141414]), 'torus_bump_451': array([1.       , 1.       , 0.5959596, 0.5959596]), 'torus_bump_452': array([0.        , 1.        , 0.05050505, 0.22222222]), 'torus_bump_453': array([1.        , 1.        , 0.73737374, 0.28282828]), 'torus_bump_454': array([0.        , 1.        , 0.92929293, 0.55555556]), 'torus_bump_455': array([1.        , 1.        , 0.44444444, 0.24242424]), 'torus_bump_456': array([0.        , 1.        , 0.23232323, 0.28282828]), 'torus_bump_457': array([1.        , 1.        , 0.88888889, 0.76767677]), 'torus_bump_458': array([0.        , 1.        , 0.81818182, 0.65656566]), 'torus_bump_459': array([1.        , 1.        , 0.21212121, 0.95959596]), 'torus_bump_460': array([0.        , 1.        , 0.46464646, 0.88888889]), 'torus_bump_461': array([1.        , 1.        , 0.36363636, 0.15151515]), 'torus_bump_462': array([0.        , 1.        , 1.        , 0.13131313]), 'torus_bump_463': array([1.        , 1.        , 0.58585859, 0.85858586]), 'torus_bump_464': array([0.        , 1.        , 0.03030303, 0.36363636]), 'torus_bump_465': array([1.        , 1.        , 0.48484848, 0.08080808]), 'torus_bump_466': array([0.        , 1.        , 0.28282828, 0.47474747]), 'torus_bump_467': array([1.        , 1.        , 0.03030303, 0.7979798 ]), 'torus_bump_468': array([0.        , 1.        , 0.33333333, 0.38383838]), 'torus_bump_469': array([1.        , 1.        , 1.        , 0.12121212]), 'torus_bump_470': array([0.        , 1.        , 0.76767677, 0.64646465]), 'torus_bump_471': array([1.        , 1.        , 0.02020202, 0.1010101 ]), 'torus_bump_472': array([0.        , 1.        , 0.        , 0.83838384]), 'torus_bump_473': array([1.        , 1.        , 0.32323232, 0.38383838]), 'torus_bump_474': array([0.        , 1.        , 0.67676768, 0.77777778]), 'torus_bump_475': array([1.        , 1.        , 0.49494949, 0.64646465]), 'torus_bump_476': array([0.        , 1.        , 0.52525253, 0.92929293]), 'torus_bump_477': array([1.        , 1.        , 0.15151515, 0.41414141]), 'torus_bump_478': array([0.        , 1.        , 0.14141414, 0.05050505]), 'torus_bump_479': array([1.        , 1.        , 0.38383838, 0.65656566]), 'torus_bump_480': array([0.        , 1.        , 0.23232323, 0.62626263]), 'torus_bump_481': array([1.        , 1.        , 0.76767677, 0.11111111]), 'torus_bump_482': array([0.        , 1.        , 0.03030303, 0.3030303 ]), 'torus_bump_483': array([1.        , 1.        , 0.5959596 , 0.62626263]), 'torus_bump_484': array([0.        , 1.        , 0.53535354, 0.76767677]), 'torus_bump_485': array([1.        , 1.        , 0.16161616, 0.25252525]), 'torus_bump_486': array([0.        , 1.        , 0.90909091, 0.55555556]), 'torus_bump_487': array([1.        , 1.        , 0.14141414, 0.13131313]), 'torus_bump_488': array([0.        , 1.        , 0.37373737, 0.43434343]), 'torus_bump_489': array([1.        , 1.        , 0.5959596 , 0.56565657]), 'torus_bump_490': array([0.        , 1.        , 0.14141414, 0.64646465]), 'torus_bump_491': array([1.        , 1.        , 0.33333333, 0.26262626]), 'torus_bump_492': array([0.        , 1.        , 0.04040404, 0.56565657]), 'torus_bump_493': array([1.        , 1.        , 0.51515152, 0.54545455]), 'torus_bump_494': array([0.        , 1.        , 0.37373737, 0.43434343]), 'torus_bump_495': array([1.        , 1.        , 0.55555556, 0.90909091]), 'torus_bump_496': array([0.        , 1.        , 0.56565657, 0.71717172]), 'torus_bump_497': array([1.        , 1.        , 0.1010101 , 0.87878788]), 'torus_bump_498': array([0.        , 1.        , 0.27272727, 0.70707071]), 'torus_bump_499': array([1.        , 1.        , 0.28282828, 0.38383838])}\n"
     ]
    }
   ],
   "source": [
    "print(labels)"
   ]
  },
  {
   "cell_type": "code",
   "execution_count": 10,
   "metadata": {},
   "outputs": [
    {
     "data": {
      "text/plain": [
       "510"
      ]
     },
     "execution_count": 10,
     "metadata": {},
     "output_type": "execute_result"
    }
   ],
   "source": [
    "len(hippo_labels)"
   ]
  },
  {
   "cell_type": "code",
   "execution_count": 8,
   "metadata": {},
   "outputs": [
    {
     "data": {
      "text/plain": [
       "{'ab300_001': 0.3411764705882353,\n",
       " 'ab300_002': 0.30588235294117644,\n",
       " 'ab300_003': 0.4117647058823529,\n",
       " 'ab300_004': 0.5647058823529412,\n",
       " 'ab300_005': 0.16470588235294115,\n",
       " 'ab300_006': 0.18823529411764706,\n",
       " 'ab300_007': 0.6117647058823529,\n",
       " 'ab300_008': 0.32941176470588235,\n",
       " 'ab300_009': 0.7058823529411764,\n",
       " 'ab300_010': 0.3529411764705882,\n",
       " 'ab300_011': 0.7294117647058823,\n",
       " 'ab300_012': 0.22352941176470587,\n",
       " 'ab300_013': 0.15294117647058825,\n",
       " 'ab300_014': 0.16470588235294115,\n",
       " 'ab300_015': 0.3411764705882353,\n",
       " 'ab300_016': 0.6235294117647059,\n",
       " 'ab300_017': 0.2823529411764706,\n",
       " 'ab300_018': 0.19999999999999996,\n",
       " 'ab300_019': 0.19999999999999996,\n",
       " 'ab300_020': 0.19999999999999996,\n",
       " 'ab300_021': 0.5647058823529412,\n",
       " 'ab300_022': 0.6352941176470588,\n",
       " 'ab300_023': 0.2823529411764706,\n",
       " 'ab300_024': 0.4235294117647059,\n",
       " 'ab300_025': 0.09411764705882354,\n",
       " 'ab300_026': 0.5176470588235293,\n",
       " 'ab300_027': 0.5058823529411764,\n",
       " 'ab300_028': 0.07058823529411763,\n",
       " 'ab300_029': 0.7176470588235294,\n",
       " 'ab300_030': 0.24705882352941178,\n",
       " 'ab300_031': 0.5058823529411764,\n",
       " 'ab300_032': 0.24705882352941178,\n",
       " 'ab300_033': 0.43529411764705883,\n",
       " 'ab300_034': 0.2823529411764706,\n",
       " 'ab300_035': 0.6588235294117647,\n",
       " 'ab300_036': 0.7647058823529411,\n",
       " 'ab300_037': 0.32941176470588235,\n",
       " 'ab300_038': 0.3529411764705882,\n",
       " 'ab300_039': 0.7647058823529411,\n",
       " 'ab300_040': 0.5058823529411764,\n",
       " 'ab300_041': 0.2941176470588235,\n",
       " 'ab300_042': 0.6470588235294117,\n",
       " 'ab300_043': 0.48235294117647054,\n",
       " 'ab300_044': 0.18823529411764706,\n",
       " 'ab300_045': 0.19999999999999996,\n",
       " 'ab300_046': 0.6235294117647059,\n",
       " 'ab300_047': 0.2588235294117647,\n",
       " 'ab300_048': 0.30588235294117644,\n",
       " 'ab300_050': 0.5176470588235293,\n",
       " 'ab300_051': 0.24705882352941178,\n",
       " 'ab300_052': 0.32941176470588235,\n",
       " 'ab300_053': 0.15294117647058825,\n",
       " 'ab300_054': 0.23529411764705882,\n",
       " 'ab300_055': 0.4235294117647059,\n",
       " 'ab300_056': 0.48235294117647054,\n",
       " 'ab300_057': 0.19999999999999996,\n",
       " 'ab300_058': 0.6235294117647059,\n",
       " 'ab300_059': 0.7058823529411764,\n",
       " 'ab300_060': 0.27058823529411763,\n",
       " 'ab300_061': 0.19999999999999996,\n",
       " 'ab300_062': 0.2823529411764706,\n",
       " 'ab300_063': 0.45882352941176463,\n",
       " 'ab300_064': 0.3176470588235294,\n",
       " 'ab300_065': 0.3529411764705882,\n",
       " 'ab300_066': 0.49411764705882355,\n",
       " 'ab300_067': 0.5411764705882353,\n",
       " 'ab300_068': 0.5647058823529412,\n",
       " 'ab300_069': 0.36470588235294116,\n",
       " 'ab300_070': 0.2117647058823529,\n",
       " 'ab300_071': 0.47058823529411764,\n",
       " 'ab300_072': 0.16470588235294115,\n",
       " 'ab300_073': 0.12941176470588234,\n",
       " 'ab300_074': 0.22352941176470587,\n",
       " 'ab300_075': 0.6470588235294117,\n",
       " 'ab300_076': 0.45882352941176463,\n",
       " 'ab300_077': 0.6470588235294117,\n",
       " 'ab300_078': 0.3529411764705882,\n",
       " 'ab300_079': 0.23529411764705882,\n",
       " 'ab300_080': 0.3176470588235294,\n",
       " 'ab300_081': 0.36470588235294116,\n",
       " 'ab300_082': 0.0,\n",
       " 'ab300_083': 0.18823529411764706,\n",
       " 'ab300_084': 0.8235294117647058,\n",
       " 'ab300_085': 0.27058823529411763,\n",
       " 'ab300_086': 0.7058823529411764,\n",
       " 'ab300_087': 0.2588235294117647,\n",
       " 'ab300_088': 0.48235294117647054,\n",
       " 'ab300_089': 0.3764705882352941,\n",
       " 'ab300_090': 0.8588235294117647,\n",
       " 'ab300_091': 0.47058823529411764,\n",
       " 'ab300_092': 0.4235294117647059,\n",
       " 'ab300_094': 0.5647058823529412,\n",
       " 'ab300_095': 0.6823529411764706,\n",
       " 'ab300_096': 0.9058823529411765,\n",
       " 'ab300_097': 0.27058823529411763,\n",
       " 'ab300_098': 0.3176470588235294,\n",
       " 'ab300_099': 0.5529411764705883,\n",
       " 'ab300_100': 0.5176470588235293,\n",
       " 'ab300_101': 0.011764705882352941,\n",
       " 'ab300_102': 0.36470588235294116,\n",
       " 'ab300_103': 0.047058823529411764,\n",
       " 'ab300_104': 0.39999999999999997,\n",
       " 'ab300_105': 0.388235294117647,\n",
       " 'ab300_106': 0.19999999999999996,\n",
       " 'ab300_107': 0.5294117647058824,\n",
       " 'ab300_110': 0.36470588235294116,\n",
       " 'ab300_111': 0.32941176470588235,\n",
       " 'ab300_112': 0.388235294117647,\n",
       " 'ab300_113': 0.023529411764705882,\n",
       " 'ab300_114': 0.22352941176470587,\n",
       " 'ab300_115': 0.23529411764705882,\n",
       " 'ab300_116': 0.8235294117647058,\n",
       " 'ab300_117': 0.39999999999999997,\n",
       " 'ab300_118': 0.788235294117647,\n",
       " 'ab300_119': 0.7176470588235294,\n",
       " 'ab300_120': 0.16470588235294115,\n",
       " 'ab300_121': 0.22352941176470587,\n",
       " 'ab300_122': 0.8117647058823529,\n",
       " 'ab300_123': 0.16470588235294115,\n",
       " 'ab300_124': 0.6470588235294117,\n",
       " 'ab300_125': 0.49411764705882355,\n",
       " 'ab300_126': 0.7529411764705882,\n",
       " 'ab300_127': 0.8941176470588235,\n",
       " 'ab300_128': 1.0,\n",
       " 'ab300_129': 0.2117647058823529,\n",
       " 'ab300_130': 0.5411764705882353,\n",
       " 'ab300_131': 0.16470588235294115,\n",
       " 'ab300_132': 0.1411764705882353,\n",
       " 'ab300_133': 0.047058823529411764,\n",
       " 'ab300_134': 0.011764705882352941,\n",
       " 'ab300_135': 0.6705882352941176,\n",
       " 'ab300_136': 0.5764705882352941,\n",
       " 'ab300_137': 0.6235294117647059,\n",
       " 'ab300_138': 0.44705882352941173,\n",
       " 'ab300_139': 0.8352941176470587,\n",
       " 'ab300_140': 0.6823529411764706,\n",
       " 'ab300_141': 0.27058823529411763,\n",
       " 'ab300_142': 0.9176470588235294,\n",
       " 'ab300_143': 0.8823529411764706,\n",
       " 'ab300_144': 1.0,\n",
       " 'ab300_145': 0.2941176470588235,\n",
       " 'ab300_146': 0.7294117647058823,\n",
       " 'ab300_147': 0.8117647058823529,\n",
       " 'ab300_149': 0.15294117647058825,\n",
       " 'ab300_150': 0.6,\n",
       " 'ab300_151': 0.7764705882352941,\n",
       " 'ab300_152': 0.30588235294117644,\n",
       " 'ab300_154': 0.7764705882352941,\n",
       " 'ab300_155': 0.5529411764705883,\n",
       " 'ab300_156': 0.9882352941176471,\n",
       " 'ab300_157': 0.9294117647058824,\n",
       " 'ab300_158': 0.5529411764705883,\n",
       " 'ab300_159': 0.7529411764705882,\n",
       " 'ab300_160': 0.7294117647058823,\n",
       " 'ab300_161': 0.7999999999999999,\n",
       " 'ab300_162': 0.8117647058823529,\n",
       " 'ab300_163': 0.6705882352941176,\n",
       " 'ab300_164': 0.2941176470588235,\n",
       " 'ab300_165': 0.6588235294117647,\n",
       " 'ab300_166': 0.5058823529411764,\n",
       " 'ab300_168': 0.2588235294117647,\n",
       " 'ab300_169': 0.32941176470588235,\n",
       " 'ab300_170': 0.5647058823529412,\n",
       " 'ab300_171': 0.30588235294117644,\n",
       " 'ab300_172': 0.3764705882352941,\n",
       " 'ab300_173': 0.6,\n",
       " 'ab300_174': 0.18823529411764706,\n",
       " 'ab300_175': 0.6235294117647059,\n",
       " 'ab300_176': 0.6941176470588235,\n",
       " 'ab300_177': 0.5764705882352941,\n",
       " 'ab300_178': 0.44705882352941173,\n",
       " 'ab300_179': 0.18823529411764706,\n",
       " 'ab300_180': 0.09411764705882354,\n",
       " 'ab300_181': 0.1764705882352941,\n",
       " 'ab300_182': 0.1764705882352941,\n",
       " 'ab300_183': 0.15294117647058825,\n",
       " 'ab300_184': 0.6823529411764706,\n",
       " 'ab300_185': 0.8588235294117647,\n",
       " 'ab300_186': 0.18823529411764706,\n",
       " 'ab300_187': 0.32941176470588235,\n",
       " 'ab300_188': 0.7294117647058823,\n",
       " 'ab300_189': 0.18823529411764706,\n",
       " 'ab300_190': 0.16470588235294115,\n",
       " 'ab300_191': 0.39999999999999997,\n",
       " 'ab300_192': 0.2941176470588235,\n",
       " 'ab300_193': 0.22352941176470587,\n",
       " 'ab300_194': 0.39999999999999997,\n",
       " 'ab300_195': 0.3764705882352941,\n",
       " 'ab300_196': 0.30588235294117644,\n",
       " 'ab300_197': 0.18823529411764706,\n",
       " 'ab300_198': 0.047058823529411764,\n",
       " 'ab300_199': 0.44705882352941173,\n",
       " 'ab300_200': 0.011764705882352941,\n",
       " 'ab300_201': 0.5647058823529412,\n",
       " 'ab300_202': 0.3529411764705882,\n",
       " 'ab300_203': 0.03529411764705882,\n",
       " 'ab300_204': 0.2117647058823529,\n",
       " 'ab300_205': 0.3411764705882353,\n",
       " 'ab300_208': 0.30588235294117644,\n",
       " 'ab300_211': 0.30588235294117644,\n",
       " 'ab300_212': 0.44705882352941173,\n",
       " 'ab300_213': 0.10588235294117647,\n",
       " 'ab300_214': 0.047058823529411764,\n",
       " 'ab300_215': 0.03529411764705882,\n",
       " 'ab300_216': 0.7058823529411764,\n",
       " 'ab300_218': 0.03529411764705882,\n",
       " 'ab300_219': 0.07058823529411763,\n",
       " 'ab300_220': 0.7058823529411764,\n",
       " 'ab300_221': 0.2117647058823529,\n",
       " 'ab300_222': 0.7058823529411764,\n",
       " 'ab300_223': 0.18823529411764706,\n",
       " 'ab300_225': 0.08235294117647059,\n",
       " 'ab300_226': 0.047058823529411764,\n",
       " 'ab300_227': 0.8588235294117647,\n",
       " 'ab300_228': 0.6941176470588235,\n",
       " 'ab300_229': 0.7058823529411764,\n",
       " 'ab300_230': 0.6941176470588235,\n",
       " 'ab300_231': 0.388235294117647,\n",
       " 'ab300_232': 0.23529411764705882,\n",
       " 'ab300_233': 0.8117647058823529,\n",
       " 'ab300_234': 0.5176470588235293,\n",
       " 'ab300_237': 0.19999999999999996,\n",
       " 'ab300_238': 0.5176470588235293,\n",
       " 'ab300_239': 0.32941176470588235,\n",
       " 'ab300_240': 0.5647058823529412,\n",
       " 'ab300_241': 0.8235294117647058,\n",
       " 'ab300_242': 0.03529411764705882,\n",
       " 'ab300_243': 0.011764705882352941,\n",
       " 'ab300_244': 0.5176470588235293,\n",
       " 'ab300_245': 0.788235294117647,\n",
       " 'ab300_246': 0.6,\n",
       " 'ab300_248': 0.03529411764705882,\n",
       " 'ab300_249': 0.058823529411764705,\n",
       " 'ab300_250': 0.3764705882352941,\n",
       " 'ab300_251': 0.18823529411764706,\n",
       " 'ab300_252': 0.788235294117647,\n",
       " 'ab300_253': 0.18823529411764706,\n",
       " 'ab300_257': 0.7999999999999999,\n",
       " 'ab300_258': 0.22352941176470587,\n",
       " 'ab300_259': 0.6117647058823529,\n",
       " 'ab300_260': 0.30588235294117644,\n",
       " 'ab300_261': 0.058823529411764705,\n",
       " 'ab300_263': 0.3764705882352941,\n",
       " 'ab300_264': 0.3529411764705882,\n",
       " 'ab300_265': 0.8235294117647058,\n",
       " 'ab300_266': 0.8235294117647058,\n",
       " 'ab300_267': 0.5176470588235293,\n",
       " 'ab300_268': 0.49411764705882355,\n",
       " 'ab300_269': 0.3176470588235294,\n",
       " 'ab300_270': 0.23529411764705882,\n",
       " 'ab300_271': 0.8352941176470587,\n",
       " 'ab300_273': 0.03529411764705882,\n",
       " 'ab300_274': 0.12941176470588234,\n",
       " 'ab300_275': 0.1176470588235294,\n",
       " 'ab300_276': 0.047058823529411764,\n",
       " 'ab300_277': 0.12941176470588234,\n",
       " 'ab300_278': 0.03529411764705882,\n",
       " 'ab300_279': 0.011764705882352941,\n",
       " 'ab300_280': 0.047058823529411764,\n",
       " 'ab300_281': 0.7411764705882353,\n",
       " 'ab300_282': 0.36470588235294116,\n",
       " 'ab300_283': 0.23529411764705882,\n",
       " 'ab300_284': 0.03529411764705882,\n",
       " 'ab300_285': 0.2823529411764706,\n",
       " 'ab300_286': 0.9411764705882353,\n",
       " 'ab300_287': 0.1176470588235294,\n",
       " 'ab300_288': 0.5294117647058824,\n",
       " 'ab300_289': 0.8823529411764706,\n",
       " 'ab300_290': 0.15294117647058825,\n",
       " 'ab300_291': 0.7411764705882353,\n",
       " 'ab300_292': 0.19999999999999996,\n",
       " 'ab300_293': 0.2588235294117647,\n",
       " 'ab300_294': 0.15294117647058825,\n",
       " 'ab300_295': 0.2117647058823529,\n",
       " 'ab300_296': 0.16470588235294115,\n",
       " 'ab300_297': 0.1764705882352941,\n",
       " 'ab300_299': 0.023529411764705882,\n",
       " 'ab300_301': 0.22352941176470587,\n",
       " 'ab300_303': 0.058823529411764705,\n",
       " 'ab300_304': 0.8941176470588235,\n",
       " 'ab300_305': 0.18823529411764706,\n",
       " 'ab300_306': 0.24705882352941178,\n",
       " 'ab300_307': 0.44705882352941173,\n",
       " 'ab300_308': 0.19999999999999996,\n",
       " 'ab300_309': 0.1764705882352941,\n",
       " 'ab300_310': 0.047058823529411764,\n",
       " 'ab300_311': 0.07058823529411763,\n",
       " 'ab300_312': 0.2823529411764706,\n",
       " 'ab300_313': 0.2117647058823529,\n",
       " 'ab300_314': 0.1764705882352941,\n",
       " 'ab300_315': 0.7294117647058823,\n",
       " 'ab300_316': 0.23529411764705882,\n",
       " 'ab300_317': 0.7529411764705882,\n",
       " 'ab300_318': 0.1411764705882353,\n",
       " 'ab300_319': 0.15294117647058825,\n",
       " 'ab300_320': 0.047058823529411764,\n",
       " 'ab300_321': 0.07058823529411763,\n",
       " 'ab300_322': 0.12941176470588234,\n",
       " 'ab300_323': 0.058823529411764705,\n",
       " 'ab300_324': 0.6117647058823529,\n",
       " 'ab300_325': 0.058823529411764705,\n",
       " 'ab300_327': 0.047058823529411764,\n",
       " 'ab300_328': 0.788235294117647,\n",
       " 'ab300_329': 0.7764705882352941,\n",
       " 'ab300_331': 0.43529411764705883,\n",
       " 'ab300_332': 0.5764705882352941,\n",
       " 'ab300_333': 0.1764705882352941,\n",
       " 'ab300_334': 0.5058823529411764,\n",
       " 'ab300_335': 0.15294117647058825,\n",
       " 'ab300_336': 0.1764705882352941,\n",
       " 'ab300_337': 0.47058823529411764,\n",
       " 'ab300_338': 0.7529411764705882,\n",
       " 'ab300_339': 0.1176470588235294,\n",
       " 'ab300_340': 0.09411764705882354,\n",
       " 'ab300_341': 0.10588235294117647,\n",
       " 'ab300_342': 0.1411764705882353,\n",
       " 'ab300_343': 0.4235294117647059,\n",
       " 'ab300_344': 0.047058823529411764,\n",
       " 'ab300_345': 0.058823529411764705,\n",
       " 'ab300_346': 0.1176470588235294,\n",
       " 'ab300_347': 0.09411764705882354,\n",
       " 'ab300_348': 0.5176470588235293,\n",
       " 'ab300_350': 0.6470588235294117,\n",
       " 'ab300_351': 0.058823529411764705,\n",
       " 'ab300_352': 0.03529411764705882,\n",
       " 'ab300_354': 0.047058823529411764,\n",
       " 'ab300_356': 0.03529411764705882,\n",
       " 'ab300_357': 0.023529411764705882,\n",
       " 'ab300_358': 0.011764705882352941,\n",
       " 'ab300_359': 0.03529411764705882,\n",
       " 'ab300_360': 0.1176470588235294,\n",
       " 'ab300_361': 0.03529411764705882,\n",
       " 'ab300_362': 0.011764705882352941,\n",
       " 'ab300_364': 0.7411764705882353,\n",
       " 'ab300_365': 0.10588235294117647,\n",
       " 'ab300_366': 0.07058823529411763,\n",
       " 'ab300_367': 0.011764705882352941,\n",
       " 'ab300_368': 0.03529411764705882,\n",
       " 'ab300_369': 0.8823529411764706,\n",
       " 'ab300_370': 0.1176470588235294,\n",
       " 'ab300_372': 0.1411764705882353,\n",
       " 'ab300_373': 0.1176470588235294,\n",
       " 'ab300_374': 0.03529411764705882,\n",
       " 'ab300_375': 0.8235294117647058,\n",
       " 'ab300_376': 0.8235294117647058,\n",
       " 'ab300_377': 0.047058823529411764,\n",
       " 'ab300_378': 0.07058823529411763,\n",
       " 'ab300_379': 0.12941176470588234,\n",
       " 'ab300_380': 0.10588235294117647,\n",
       " 'ab300_382': 0.023529411764705882,\n",
       " 'ab300_383': 0.023529411764705882,\n",
       " 'ab300_384': 0.08235294117647059,\n",
       " 'ab300_385': 0.12941176470588234,\n",
       " 'ab300_387': 0.1176470588235294,\n",
       " 'ab300_388': 0.7176470588235294,\n",
       " 'ab300_389': 0.8941176470588235,\n",
       " 'ab300_390': 0.24705882352941178,\n",
       " 'cbbrain_004': 0.1176470588235294,\n",
       " 'cbbrain_005': 0.3176470588235294,\n",
       " 'cbbrain_006': 0.6352941176470588,\n",
       " 'cbbrain_007': 0.30588235294117644,\n",
       " 'cbbrain_008': 0.44705882352941173,\n",
       " 'cbbrain_009': 0.18823529411764706,\n",
       " 'cbbrain_010': 0.18823529411764706,\n",
       " 'cbbrain_011': 0.03529411764705882,\n",
       " 'cbbrain_012': 0.058823529411764705,\n",
       " 'cbbrain_013': 0.0,\n",
       " 'cbbrain_014': 0.18823529411764706,\n",
       " 'cbbrain_015': 0.1764705882352941,\n",
       " 'cbbrain_016': 0.1764705882352941,\n",
       " 'cbbrain_017': 0.12941176470588234,\n",
       " 'cbbrain_019': 0.2588235294117647,\n",
       " 'cbbrain_021': 0.27058823529411763,\n",
       " 'cbbrain_022': 0.15294117647058825,\n",
       " 'cbbrain_025': 0.047058823529411764,\n",
       " 'cbbrain_026': 0.0,\n",
       " 'cbbrain_027': 0.07058823529411763,\n",
       " 'cbbrain_029': 0.12941176470588234,\n",
       " 'cbbrain_031': 0.011764705882352941,\n",
       " 'cbbrain_032': 0.011764705882352941,\n",
       " 'cbbrain_042': 0.1176470588235294,\n",
       " 'cbbrain_043': 0.1411764705882353,\n",
       " 'cbbrain_048': 0.011764705882352941,\n",
       " 'cbbrain_049': 0.15294117647058825,\n",
       " 'cbbrain_050': 0.24705882352941178,\n",
       " 'cbbrain_051': 0.15294117647058825,\n",
       " 'cbbrain_052': 0.1411764705882353,\n",
       " 'cbbrain_053': 0.6705882352941176,\n",
       " 'cbbrain_054': 0.8117647058823529,\n",
       " 'cbbrain_055': 0.15294117647058825,\n",
       " 'cbbrain_056': 0.23529411764705882,\n",
       " 'cbbrain_058': 0.5058823529411764,\n",
       " 'cbbrain_059': 0.09411764705882354,\n",
       " 'cbbrain_060': 0.15294117647058825,\n",
       " 'cbbrain_061': 0.10588235294117647,\n",
       " 'cbbrain_062': 0.011764705882352941,\n",
       " 'cbbrain_065': 0.6117647058823529,\n",
       " 'cbbrain_066': 0.19999999999999996,\n",
       " 'cbbrain_067': 0.2117647058823529,\n",
       " 'cbbrain_068': 0.3529411764705882,\n",
       " 'cbbrain_074': 0.22352941176470587,\n",
       " 'cbbrain_077': 0.10588235294117647,\n",
       " 'cbbrain_078': 0.6588235294117647,\n",
       " 'cbbrain_079': 0.16470588235294115,\n",
       " 'cbbrain_080': 0.1764705882352941,\n",
       " 'cbbrain_081': 0.7058823529411764,\n",
       " 'cbbrain_082': 0.6470588235294117,\n",
       " 'cbbrain_084': 0.6705882352941176,\n",
       " 'cbbrain_085': 0.18823529411764706,\n",
       " 'cbbrain_087': 0.2941176470588235,\n",
       " 'cbbrain_088': 0.16470588235294115,\n",
       " 'cbbrain_089': 0.16470588235294115,\n",
       " 'cbbrain_090': 0.22352941176470587,\n",
       " 'cbbrain_091': 0.388235294117647,\n",
       " 'cbbrain_092': 0.22352941176470587,\n",
       " 'cbbrain_093': 0.6705882352941176,\n",
       " 'cbbrain_094': 0.22352941176470587,\n",
       " 'cbbrain_095': 0.27058823529411763,\n",
       " 'cbbrain_096': 0.3764705882352941,\n",
       " 'cbbrain_097': 0.3764705882352941,\n",
       " 'cbbrain_098': 0.011764705882352941,\n",
       " 'cbbrain_099': 0.03529411764705882,\n",
       " 'cbbrain_100': 0.3764705882352941,\n",
       " 'cbbrain_101': 0.1411764705882353,\n",
       " 'cbbrain_102': 0.6117647058823529,\n",
       " 'cbbrain_103': 0.058823529411764705,\n",
       " 'cbbrain_104': 0.7647058823529411,\n",
       " 'cbbrain_105': 0.1176470588235294,\n",
       " 'cbbrain_106': 0.7529411764705882,\n",
       " 'cbbrain_107': 0.5529411764705883,\n",
       " 'cbbrain_109': 0.12941176470588234,\n",
       " 'cbbrain_110': 0.3764705882352941,\n",
       " 'cbbrain_111': 0.3411764705882353,\n",
       " 'cbbrain_112': 0.18823529411764706,\n",
       " 'cbbrain_113': 0.09411764705882354,\n",
       " 'cbbrain_114': 0.07058823529411763,\n",
       " 'cbbrain_115': 0.7411764705882353,\n",
       " 'cbbrain_116': 0.16470588235294115,\n",
       " 'cbbrain_117': 0.2823529411764706,\n",
       " 'cbbrain_118': 0.058823529411764705,\n",
       " 'cbbrain_119': 0.011764705882352941,\n",
       " 'cbbrain_120': 0.03529411764705882,\n",
       " 'cbbrain_121': 0.23529411764705882,\n",
       " 'cbbrain_123': 0.08235294117647059,\n",
       " 'cbbrain_124': 0.047058823529411764,\n",
       " 'cbbrain_125': 0.3764705882352941,\n",
       " 'cbbrain_126': 0.39999999999999997,\n",
       " 'cbbrain_127': 0.5529411764705883,\n",
       " 'cbbrain_129': 0.22352941176470587,\n",
       " 'cbbrain_130': 0.3176470588235294,\n",
       " 'cbbrain_132': 0.45882352941176463,\n",
       " 'cbbrain_133': 0.15294117647058825,\n",
       " 'cbbrain_134': 0.23529411764705882,\n",
       " 'cbbrain_135': 0.388235294117647,\n",
       " 'cbbrain_137': 0.011764705882352941,\n",
       " 'cbbrain_138': 0.047058823529411764,\n",
       " 'cbbrain_139': 0.32941176470588235,\n",
       " 'cbbrain_141': 0.7999999999999999,\n",
       " 'cbbrain_142': 0.30588235294117644,\n",
       " 'cbbrain_143': 0.19999999999999996,\n",
       " 'cbbrain_144': 0.44705882352941173,\n",
       " 'cbbrain_145': 0.058823529411764705,\n",
       " 'cbbrain_146': 0.023529411764705882,\n",
       " 'cbbrain_147': 0.4117647058823529,\n",
       " 'cbbrain_148': 0.18823529411764706,\n",
       " 'cbbrain_149': 0.7647058823529411,\n",
       " 'cbbrain_152': 0.08235294117647059,\n",
       " 'cbbrain_153': 0.1176470588235294,\n",
       " 'cbbrain_154': 0.3764705882352941,\n",
       " 'cbbrain_155': 0.49411764705882355,\n",
       " 'cbbrain_156': 0.6,\n",
       " 'cbbrain_157': 0.1764705882352941,\n",
       " 'cbbrain_158': 0.388235294117647,\n",
       " 'cbbrain_159': 0.011764705882352941,\n",
       " 'cbbrain_160': 0.6235294117647059,\n",
       " 'cbbrain_161': 0.6,\n",
       " 'cbbrain_162': 0.2823529411764706,\n",
       " 'cbbrain_163': 0.2588235294117647,\n",
       " 'cbbrain_164': 0.5647058823529412,\n",
       " 'cbbrain_165': 0.30588235294117644,\n",
       " 'cbbrain_166': 0.6470588235294117,\n",
       " 'cbbrain_168': 0.1176470588235294,\n",
       " 'cbbrain_169': 0.7647058823529411,\n",
       " 'cbbrain_170': 0.7529411764705882,\n",
       " 'cbbrain_171': 0.6117647058823529,\n",
       " 'cbbrain_172': 0.49411764705882355,\n",
       " 'cbbrain_173': 0.45882352941176463,\n",
       " 'cbbrain_174': 0.4117647058823529,\n",
       " 'cbbrain_175': 0.6588235294117647,\n",
       " 'cbbrain_177': 0.2941176470588235,\n",
       " 'cbbrain_178': 0.5764705882352941,\n",
       " 'cbbrain_180': 0.5294117647058824,\n",
       " 'cbbrain_181': 0.011764705882352941,\n",
       " 'cbbrain_182': 0.047058823529411764,\n",
       " 'cbbrain_184': 0.2588235294117647,\n",
       " 'cbbrain_185': 0.47058823529411764,\n",
       " 'cbbrain_186': 0.48235294117647054,\n",
       " 'cbbrain_187': 0.07058823529411763,\n",
       " 'cbbrain_188': 0.047058823529411764,\n",
       " 'cbbrain_189': 0.12941176470588234,\n",
       " 'cbbrain_191': 0.07058823529411763,\n",
       " 'cbbrain_192': 0.12941176470588234,\n",
       " 'cbbrain_193': 0.5411764705882353,\n",
       " 'cbbrain_194': 0.3529411764705882,\n",
       " 'cbbrain_400': 0.5294117647058824,\n",
       " 'cbbrain_401': 0.7647058823529411,\n",
       " 'cbbrain_402': 0.5882352941176471,\n",
       " 'cbbrain_403': 0.6235294117647059,\n",
       " 'cbbrain_404': 0.7058823529411764,\n",
       " 'cbbrain_405': 0.6235294117647059}"
      ]
     },
     "execution_count": 8,
     "metadata": {},
     "output_type": "execute_result"
    }
   ],
   "source": [
    "hippo_labels"
   ]
  },
  {
   "cell_type": "code",
   "execution_count": 269,
   "metadata": {},
   "outputs": [
    {
     "name": "stdout",
     "output_type": "stream",
     "text": [
      "{'torus_bump_000': array([0.        , 0.38983051]), 'torus_bump_001': array([0.00200802, 0.89830508]), 'torus_bump_002': array([0.00401605, 0.15254237]), 'torus_bump_003': array([0.00602407, 0.25423729]), 'torus_bump_004': array([0.0080321 , 0.96610169]), 'torus_bump_005': array([0.01004012, 0.96610169]), 'torus_bump_006': array([0.01204814, 0.42372881]), 'torus_bump_007': array([0.01405617, 0.13559322]), 'torus_bump_008': array([0.01606419, 0.69491525]), 'torus_bump_009': array([0.01807222, 0.50847458]), 'torus_bump_010': array([0.02008024, 0.10169492]), 'torus_bump_011': array([0.02208826, 0.11864407]), 'torus_bump_012': array([0.02409629, 0.81355932]), 'torus_bump_013': array([0.02610431, 0.25423729]), 'torus_bump_014': array([0.02811234, 0.37288136]), 'torus_bump_015': array([0.03012036, 0.05084746]), 'torus_bump_016': array([0.03212839, 0.3220339 ]), 'torus_bump_017': array([0.03413641, 0.33898305]), 'torus_bump_018': array([0.03614443, 0.25423729]), 'torus_bump_019': array([0.03815246, 0.77966102]), 'torus_bump_020': array([0.04016048, 0.3559322 ]), 'torus_bump_021': array([0.04216851, 0.50847458]), 'torus_bump_022': array([0.04417653, 0.6779661 ]), 'torus_bump_023': array([0.04618455, 0.69491525]), 'torus_bump_024': array([0.04819258, 0.05084746]), 'torus_bump_025': array([0.0502006 , 0.74576271]), 'torus_bump_026': array([0.05220863, 0.74576271]), 'torus_bump_027': array([0.05421665, 0.47457627]), 'torus_bump_028': array([0.05622467, 0.10169492]), 'torus_bump_029': array([0.0582327 , 0.10169492]), 'torus_bump_030': array([0.06024072, 0.55932203]), 'torus_bump_031': array([0.06224875, 0.93220339]), 'torus_bump_032': array([0.06425677, 0.16949153]), 'torus_bump_033': array([0.06626479, 0.        ]), 'torus_bump_034': array([0.06827282, 0.42372881]), 'torus_bump_035': array([0.07028084, 0.76271186]), 'torus_bump_036': array([0.07228887, 0.72881356]), 'torus_bump_037': array([0.07429689, 0.27118644]), 'torus_bump_038': array([0.07630491, 0.50847458]), 'torus_bump_039': array([0.07831294, 0.37288136]), 'torus_bump_040': array([0.08032096, 0.71186441]), 'torus_bump_041': array([0.08232899, 0.57627119]), 'torus_bump_042': array([0.08433701, 0.3559322 ]), 'torus_bump_043': array([0.08634503, 0.81355932]), 'torus_bump_044': array([0.08835306, 0.52542373]), 'torus_bump_045': array([0.09036108, 0.83050847]), 'torus_bump_046': array([0.09236911, 1.        ]), 'torus_bump_047': array([0.09437713, 0.40677966]), 'torus_bump_048': array([0.09638516, 0.23728814]), 'torus_bump_049': array([0.09839318, 0.20338983]), 'torus_bump_050': array([0.1004012 , 0.42372881]), 'torus_bump_051': array([0.10240923, 0.06779661]), 'torus_bump_052': array([0.10441725, 0.30508475]), 'torus_bump_053': array([0.10642528, 0.22033898]), 'torus_bump_054': array([0.1084333 , 0.13559322]), 'torus_bump_055': array([0.11044132, 0.37288136]), 'torus_bump_056': array([0.11244935, 0.23728814]), 'torus_bump_057': array([0.11445737, 0.40677966]), 'torus_bump_058': array([0.1164654 , 0.94915254]), 'torus_bump_059': array([0.11847342, 0.30508475]), 'torus_bump_060': array([0.12048144, 0.86440678]), 'torus_bump_061': array([0.12248947, 0.62711864]), 'torus_bump_062': array([0.12449749, 0.15254237]), 'torus_bump_063': array([0.12650552, 0.57627119]), 'torus_bump_064': array([0.12851354, 0.6779661 ]), 'torus_bump_065': array([0.13052156, 0.69491525]), 'torus_bump_066': array([0.13252959, 0.33898305]), 'torus_bump_067': array([0.13453761, 0.86440678]), 'torus_bump_068': array([0.13654564, 0.3220339 ]), 'torus_bump_069': array([0.13855366, 0.3220339 ]), 'torus_bump_070': array([0.14056168, 0.30508475]), 'torus_bump_071': array([0.14256971, 0.49152542]), 'torus_bump_072': array([0.14457773, 0.15254237]), 'torus_bump_073': array([0.14658576, 0.27118644]), 'torus_bump_074': array([0.14859378, 0.3559322 ]), 'torus_bump_075': array([0.1506018 , 0.47457627]), 'torus_bump_076': array([0.15260983, 0.03389831]), 'torus_bump_077': array([0.15461785, 0.91525424]), 'torus_bump_078': array([0.15662588, 0.01694915]), 'torus_bump_079': array([0.1586339 , 0.18644068]), 'torus_bump_080': array([0.16064193, 0.50847458]), 'torus_bump_081': array([0.16264995, 0.76271186]), 'torus_bump_082': array([0.16465797, 0.44067797]), 'torus_bump_083': array([0.166666  , 0.13559322]), 'torus_bump_084': array([0.16867402, 0.88135593]), 'torus_bump_085': array([0.17068205, 0.23728814]), 'torus_bump_086': array([0.17269007, 0.83050847]), 'torus_bump_087': array([0.17469809, 0.91525424]), 'torus_bump_088': array([0.17670612, 0.81355932]), 'torus_bump_089': array([0.17871414, 0.61016949]), 'torus_bump_090': array([0.18072217, 0.01694915]), 'torus_bump_091': array([0.18273019, 0.57627119]), 'torus_bump_092': array([0.18473821, 0.23728814]), 'torus_bump_093': array([0.18674624, 0.72881356]), 'torus_bump_094': array([0.18875426, 0.27118644]), 'torus_bump_095': array([0.19076229, 0.01694915]), 'torus_bump_096': array([0.19277031, 0.55932203]), 'torus_bump_097': array([0.19477833, 0.71186441]), 'torus_bump_098': array([0.19678636, 0.42372881]), 'torus_bump_099': array([0.19879438, 0.38983051]), 'torus_bump_100': array([0.20080241, 0.61016949]), 'torus_bump_101': array([0.20281043, 0.06779661]), 'torus_bump_102': array([0.20481845, 0.45762712]), 'torus_bump_103': array([0.20682648, 0.93220339]), 'torus_bump_104': array([0.2088345 , 0.08474576]), 'torus_bump_105': array([0.21084253, 0.98305085]), 'torus_bump_106': array([0.21285055, 0.89830508]), 'torus_bump_107': array([0.21485857, 0.03389831]), 'torus_bump_108': array([0.2168666 , 0.37288136]), 'torus_bump_109': array([0.21887462, 0.52542373]), 'torus_bump_110': array([0.22088265, 0.57627119]), 'torus_bump_111': array([0.22289067, 0.96610169]), 'torus_bump_112': array([0.2248987 , 0.76271186]), 'torus_bump_113': array([0.22690672, 0.81355932]), 'torus_bump_114': array([0.22891474, 0.28813559]), 'torus_bump_115': array([0.23092277, 0.91525424]), 'torus_bump_116': array([0.23293079, 0.15254237]), 'torus_bump_117': array([0.23493882, 0.6779661 ]), 'torus_bump_118': array([0.23694684, 0.11864407]), 'torus_bump_119': array([0.23895486, 0.6779661 ]), 'torus_bump_120': array([0.24096289, 0.28813559]), 'torus_bump_121': array([0.24297091, 0.93220339]), 'torus_bump_122': array([0.24497894, 0.54237288]), 'torus_bump_123': array([0.24698696, 0.54237288]), 'torus_bump_124': array([0.24899498, 0.3220339 ]), 'torus_bump_125': array([0.25100301, 0.18644068]), 'torus_bump_126': array([0.25301103, 0.49152542]), 'torus_bump_127': array([0.25501906, 0.76271186]), 'torus_bump_128': array([0.25702708, 0.03389831]), 'torus_bump_129': array([0.2590351 , 0.76271186]), 'torus_bump_130': array([0.26104313, 0.98305085]), 'torus_bump_131': array([0.26305115, 0.81355932]), 'torus_bump_132': array([0.26505918, 0.69491525]), 'torus_bump_133': array([0.2670672 , 0.01694915]), 'torus_bump_134': array([0.26907522, 0.84745763]), 'torus_bump_135': array([0.27108325, 0.91525424]), 'torus_bump_136': array([0.27309127, 0.47457627]), 'torus_bump_137': array([0.2750993 , 0.27118644]), 'torus_bump_138': array([0.27710732, 0.6440678 ]), 'torus_bump_139': array([0.27911534, 0.61016949]), 'torus_bump_140': array([0.28112337, 0.11864407]), 'torus_bump_141': array([0.28313139, 0.94915254]), 'torus_bump_142': array([0.28513942, 0.93220339]), 'torus_bump_143': array([0.28714744, 0.05084746]), 'torus_bump_144': array([0.28915547, 0.23728814]), 'torus_bump_145': array([0.29116349, 0.47457627]), 'torus_bump_146': array([0.29317151, 0.08474576]), 'torus_bump_147': array([0.29517954, 0.81355932]), 'torus_bump_148': array([0.29718756, 0.89830508]), 'torus_bump_149': array([0.29919559, 0.77966102]), 'torus_bump_150': array([0.30120361, 0.61016949]), 'torus_bump_151': array([0.30321163, 0.27118644]), 'torus_bump_152': array([0.30521966, 0.49152542]), 'torus_bump_153': array([0.30722768, 0.42372881]), 'torus_bump_154': array([0.30923571, 0.38983051]), 'torus_bump_155': array([0.31124373, 0.94915254]), 'torus_bump_156': array([0.31325175, 0.54237288]), 'torus_bump_157': array([0.31525978, 0.16949153]), 'torus_bump_158': array([0.3172678 , 0.71186441]), 'torus_bump_159': array([0.31927583, 0.86440678]), 'torus_bump_160': array([0.32128385, 0.94915254]), 'torus_bump_161': array([0.32329187, 0.23728814]), 'torus_bump_162': array([0.3252999 , 0.81355932]), 'torus_bump_163': array([0.32730792, 0.28813559]), 'torus_bump_164': array([0.32931595, 0.30508475]), 'torus_bump_165': array([0.33132397, 0.18644068]), 'torus_bump_166': array([0.33333199, 0.3559322 ]), 'torus_bump_167': array([0.33534002, 0.06779661]), 'torus_bump_168': array([0.33734804, 0.05084746]), 'torus_bump_169': array([0.33935607, 0.25423729]), 'torus_bump_170': array([0.34136409, 0.30508475]), 'torus_bump_171': array([0.34337211, 0.50847458]), 'torus_bump_172': array([0.34538014, 0.08474576]), 'torus_bump_173': array([0.34738816, 0.15254237]), 'torus_bump_174': array([0.34939619, 0.76271186]), 'torus_bump_175': array([0.35140421, 0.81355932]), 'torus_bump_176': array([0.35341224, 0.08474576]), 'torus_bump_177': array([0.35542026, 0.86440678]), 'torus_bump_178': array([0.35742828, 0.91525424]), 'torus_bump_179': array([0.35943631, 0.10169492]), 'torus_bump_180': array([0.36144433, 0.20338983]), 'torus_bump_181': array([0.36345236, 0.27118644]), 'torus_bump_182': array([0.36546038, 0.93220339]), 'torus_bump_183': array([0.3674684 , 0.84745763]), 'torus_bump_184': array([0.36947643, 0.62711864]), 'torus_bump_185': array([0.37148445, 0.        ]), 'torus_bump_186': array([0.37349248, 1.        ]), 'torus_bump_187': array([0.3755005 , 0.42372881]), 'torus_bump_188': array([0.37750852, 0.11864407]), 'torus_bump_189': array([0.37951655, 0.11864407]), 'torus_bump_190': array([0.38152457, 0.79661017]), 'torus_bump_191': array([0.3835326, 1.       ]), 'torus_bump_192': array([0.38554062, 0.01694915]), 'torus_bump_193': array([0.38754864, 0.94915254]), 'torus_bump_194': array([0.38955667, 0.88135593]), 'torus_bump_195': array([0.39156469, 0.96610169]), 'torus_bump_196': array([0.39357272, 0.47457627]), 'torus_bump_197': array([0.39558074, 0.16949153]), 'torus_bump_198': array([0.39758876, 0.33898305]), 'torus_bump_199': array([0.39959679, 0.23728814]), 'torus_bump_200': array([0.40160481, 0.49152542]), 'torus_bump_201': array([0.40361284, 0.47457627]), 'torus_bump_202': array([0.40562086, 0.71186441]), 'torus_bump_203': array([0.40762889, 0.6779661 ]), 'torus_bump_204': array([0.40963691, 0.89830508]), 'torus_bump_205': array([0.41164493, 0.10169492]), 'torus_bump_206': array([0.41365296, 0.08474576]), 'torus_bump_207': array([0.41566098, 0.03389831]), 'torus_bump_208': array([0.41766901, 0.77966102]), 'torus_bump_209': array([0.41967703, 0.89830508]), 'torus_bump_210': array([0.42168505, 0.86440678]), 'torus_bump_211': array([0.42369308, 0.55932203]), 'torus_bump_212': array([0.4257011 , 0.89830508]), 'torus_bump_213': array([0.42770913, 0.42372881]), 'torus_bump_214': array([0.42971715, 0.11864407]), 'torus_bump_215': array([0.43172517, 0.13559322]), 'torus_bump_216': array([0.4337332 , 0.50847458]), 'torus_bump_217': array([0.43574122, 0.15254237]), 'torus_bump_218': array([0.43774925, 0.08474576]), 'torus_bump_219': array([0.43975727, 0.98305085]), 'torus_bump_220': array([0.44176529, 0.50847458]), 'torus_bump_221': array([0.44377332, 0.61016949]), 'torus_bump_222': array([0.44578134, 0.11864407]), 'torus_bump_223': array([0.44778937, 0.33898305]), 'torus_bump_224': array([0.44979739, 0.01694915]), 'torus_bump_225': array([0.45180541, 0.66101695]), 'torus_bump_226': array([0.45381344, 0.74576271]), 'torus_bump_227': array([0.45582146, 0.91525424]), 'torus_bump_228': array([0.45782949, 0.83050847]), 'torus_bump_229': array([0.45983751, 0.28813559]), 'torus_bump_230': array([0.46184553, 0.11864407]), 'torus_bump_231': array([0.46385356, 0.98305085]), 'torus_bump_232': array([0.46586158, 0.86440678]), 'torus_bump_233': array([0.46786961, 0.6440678 ]), 'torus_bump_234': array([0.46987763, 0.77966102]), 'torus_bump_235': array([0.47188566, 0.28813559]), 'torus_bump_236': array([0.47389368, 0.84745763]), 'torus_bump_237': array([0.4759017 , 0.61016949]), 'torus_bump_238': array([0.47790973, 0.01694915]), 'torus_bump_239': array([0.47991775, 0.27118644]), 'torus_bump_240': array([0.48192578, 0.55932203]), 'torus_bump_241': array([0.4839338 , 0.57627119]), 'torus_bump_242': array([0.48594182, 0.57627119]), 'torus_bump_243': array([0.48794985, 0.        ]), 'torus_bump_244': array([0.48995787, 0.01694915]), 'torus_bump_245': array([0.4919659 , 0.69491525]), 'torus_bump_246': array([0.49397392, 0.22033898]), 'torus_bump_247': array([0.49598194, 0.44067797]), 'torus_bump_248': array([0.49798997, 0.6779661 ]), 'torus_bump_249': array([0.49999799, 0.16949153]), 'torus_bump_250': array([0.50200602, 0.69491525]), 'torus_bump_251': array([0.50401404, 0.6779661 ]), 'torus_bump_252': array([0.50602206, 0.18644068]), 'torus_bump_253': array([0.50803009, 0.94915254]), 'torus_bump_254': array([0.51003811, 0.57627119]), 'torus_bump_255': array([0.51204614, 0.79661017]), 'torus_bump_256': array([0.51405416, 0.88135593]), 'torus_bump_257': array([0.51606218, 0.62711864]), 'torus_bump_258': array([0.51807021, 0.50847458]), 'torus_bump_259': array([0.52007823, 0.01694915]), 'torus_bump_260': array([0.52208626, 0.33898305]), 'torus_bump_261': array([0.52409428, 0.37288136]), 'torus_bump_262': array([0.5261023 , 0.89830508]), 'torus_bump_263': array([0.52811033, 0.6440678 ]), 'torus_bump_264': array([0.53011835, 0.81355932]), 'torus_bump_265': array([0.53212638, 0.16949153]), 'torus_bump_266': array([0.5341344 , 0.81355932]), 'torus_bump_267': array([0.53614243, 1.        ]), 'torus_bump_268': array([0.53815045, 0.01694915]), 'torus_bump_269': array([0.54015847, 0.84745763]), 'torus_bump_270': array([0.5421665 , 0.54237288]), 'torus_bump_271': array([0.54417452, 0.38983051]), 'torus_bump_272': array([0.54618255, 0.96610169]), 'torus_bump_273': array([0.54819057, 0.27118644]), 'torus_bump_274': array([0.55019859, 0.01694915]), 'torus_bump_275': array([0.55220662, 0.76271186]), 'torus_bump_276': array([0.55421464, 0.06779661]), 'torus_bump_277': array([0.55622267, 0.3220339 ]), 'torus_bump_278': array([0.55823069, 0.15254237]), 'torus_bump_279': array([0.56023871, 1.        ]), 'torus_bump_280': array([0.56224674, 0.28813559]), 'torus_bump_281': array([0.56425476, 0.66101695]), 'torus_bump_282': array([0.56626279, 0.16949153]), 'torus_bump_283': array([0.56827081, 0.81355932]), 'torus_bump_284': array([0.57027883, 0.25423729]), 'torus_bump_285': array([0.57228686, 0.74576271]), 'torus_bump_286': array([0.57429488, 0.93220339]), 'torus_bump_287': array([0.57630291, 0.88135593]), 'torus_bump_288': array([0.57831093, 0.91525424]), 'torus_bump_289': array([0.58031895, 0.98305085]), 'torus_bump_290': array([0.58232698, 0.96610169]), 'torus_bump_291': array([0.584335  , 0.13559322]), 'torus_bump_292': array([0.58634303, 0.44067797]), 'torus_bump_293': array([0.58835105, 0.13559322]), 'torus_bump_294': array([0.59035907, 0.91525424]), 'torus_bump_295': array([0.5923671 , 0.27118644]), 'torus_bump_296': array([0.59437512, 0.57627119]), 'torus_bump_297': array([0.59638315, 0.76271186]), 'torus_bump_298': array([0.59839117, 0.77966102]), 'torus_bump_299': array([0.6003992 , 0.10169492]), 'torus_bump_300': array([0.60240722, 0.11864407]), 'torus_bump_301': array([0.60441524, 0.96610169]), 'torus_bump_302': array([0.60642327, 0.11864407]), 'torus_bump_303': array([0.60843129, 0.98305085]), 'torus_bump_304': array([0.61043932, 0.        ]), 'torus_bump_305': array([0.61244734, 0.11864407]), 'torus_bump_306': array([0.61445536, 0.96610169]), 'torus_bump_307': array([0.61646339, 0.74576271]), 'torus_bump_308': array([0.61847141, 0.59322034]), 'torus_bump_309': array([0.62047944, 0.27118644]), 'torus_bump_310': array([0.62248746, 0.28813559]), 'torus_bump_311': array([0.62449548, 0.98305085]), 'torus_bump_312': array([0.62650351, 0.71186441]), 'torus_bump_313': array([0.62851153, 0.6779661 ]), 'torus_bump_314': array([0.63051956, 0.22033898]), 'torus_bump_315': array([0.63252758, 0.98305085]), 'torus_bump_316': array([0.6345356 , 0.25423729]), 'torus_bump_317': array([0.63654363, 0.23728814]), 'torus_bump_318': array([0.63855165, 0.50847458]), 'torus_bump_319': array([0.64055968, 0.38983051]), 'torus_bump_320': array([0.6425677 , 0.93220339]), 'torus_bump_321': array([0.64457572, 0.6440678 ]), 'torus_bump_322': array([0.64658375, 0.03389831]), 'torus_bump_323': array([0.64859177, 0.08474576]), 'torus_bump_324': array([0.6505998, 0.6779661]), 'torus_bump_325': array([0.65260782, 0.45762712]), 'torus_bump_326': array([0.65461584, 0.44067797]), 'torus_bump_327': array([0.65662387, 0.10169492]), 'torus_bump_328': array([0.65863189, 0.        ]), 'torus_bump_329': array([0.66063992, 0.15254237]), 'torus_bump_330': array([0.66264794, 0.98305085]), 'torus_bump_331': array([0.66465597, 0.06779661]), 'torus_bump_332': array([0.66666399, 0.37288136]), 'torus_bump_333': array([0.66867201, 0.6440678 ]), 'torus_bump_334': array([0.67068004, 0.96610169]), 'torus_bump_335': array([0.67268806, 0.10169492]), 'torus_bump_336': array([0.67469609, 0.94915254]), 'torus_bump_337': array([0.67670411, 0.37288136]), 'torus_bump_338': array([0.67871213, 0.59322034]), 'torus_bump_339': array([0.68072016, 0.93220339]), 'torus_bump_340': array([0.68272818, 0.76271186]), 'torus_bump_341': array([0.68473621, 0.76271186]), 'torus_bump_342': array([0.68674423, 0.88135593]), 'torus_bump_343': array([0.68875225, 0.15254237]), 'torus_bump_344': array([0.69076028, 0.74576271]), 'torus_bump_345': array([0.6927683 , 0.49152542]), 'torus_bump_346': array([0.69477633, 0.96610169]), 'torus_bump_347': array([0.69678435, 0.84745763]), 'torus_bump_348': array([0.69879237, 0.30508475]), 'torus_bump_349': array([0.7008004, 0.3220339]), 'torus_bump_350': array([0.70280842, 0.59322034]), 'torus_bump_351': array([0.70481645, 0.74576271]), 'torus_bump_352': array([0.70682447, 0.94915254]), 'torus_bump_353': array([0.70883249, 0.94915254]), 'torus_bump_354': array([0.71084052, 0.08474576]), 'torus_bump_355': array([0.71284854, 0.6779661 ]), 'torus_bump_356': array([0.71485657, 0.30508475]), 'torus_bump_357': array([0.71686459, 0.37288136]), 'torus_bump_358': array([0.71887261, 0.71186441]), 'torus_bump_359': array([0.72088064, 1.        ]), 'torus_bump_360': array([0.72288866, 0.83050847]), 'torus_bump_361': array([0.72489669, 0.96610169]), 'torus_bump_362': array([0.72690471, 0.06779661]), 'torus_bump_363': array([0.72891274, 0.72881356]), 'torus_bump_364': array([0.73092076, 0.96610169]), 'torus_bump_365': array([0.73292878, 0.49152542]), 'torus_bump_366': array([0.73493681, 0.89830508]), 'torus_bump_367': array([0.73694483, 0.86440678]), 'torus_bump_368': array([0.73895286, 0.47457627]), 'torus_bump_369': array([0.74096088, 0.49152542]), 'torus_bump_370': array([0.7429689, 0.3220339]), 'torus_bump_371': array([0.74497693, 0.91525424]), 'torus_bump_372': array([0.74698495, 0.57627119]), 'torus_bump_373': array([0.74899298, 0.98305085]), 'torus_bump_374': array([0.751001  , 0.83050847]), 'torus_bump_375': array([0.75300902, 0.49152542]), 'torus_bump_376': array([0.75501705, 0.77966102]), 'torus_bump_377': array([0.75702507, 0.76271186]), 'torus_bump_378': array([0.7590331 , 0.72881356]), 'torus_bump_379': array([0.76104112, 0.72881356]), 'torus_bump_380': array([0.76304914, 0.15254237]), 'torus_bump_381': array([0.76505717, 0.01694915]), 'torus_bump_382': array([0.76706519, 0.30508475]), 'torus_bump_383': array([0.76907322, 0.50847458]), 'torus_bump_384': array([0.77108124, 0.76271186]), 'torus_bump_385': array([0.77308926, 0.54237288]), 'torus_bump_386': array([0.77509729, 0.91525424]), 'torus_bump_387': array([0.77710531, 0.66101695]), 'torus_bump_388': array([0.77911334, 0.16949153]), 'torus_bump_389': array([0.78112136, 0.03389831]), 'torus_bump_390': array([0.78312939, 0.6779661 ]), 'torus_bump_391': array([0.78513741, 0.83050847]), 'torus_bump_392': array([0.78714543, 0.28813559]), 'torus_bump_393': array([0.78915346, 0.03389831]), 'torus_bump_394': array([0.79116148, 0.57627119]), 'torus_bump_395': array([0.79316951, 0.66101695]), 'torus_bump_396': array([0.79517753, 0.84745763]), 'torus_bump_397': array([0.79718555, 0.98305085]), 'torus_bump_398': array([0.79919358, 0.        ]), 'torus_bump_399': array([0.8012016 , 0.06779661]), 'torus_bump_400': array([0.80320963, 0.61016949]), 'torus_bump_401': array([0.80521765, 0.        ]), 'torus_bump_402': array([0.80722567, 0.20338983]), 'torus_bump_403': array([0.8092337 , 0.37288136]), 'torus_bump_404': array([0.81124172, 0.13559322]), 'torus_bump_405': array([0.81324975, 0.22033898]), 'torus_bump_406': array([0.81525777, 0.6779661 ]), 'torus_bump_407': array([0.81726579, 0.47457627]), 'torus_bump_408': array([0.81927382, 0.22033898]), 'torus_bump_409': array([0.82128184, 0.6440678 ]), 'torus_bump_410': array([0.82328987, 0.05084746]), 'torus_bump_411': array([0.82529789, 0.44067797]), 'torus_bump_412': array([0.82730591, 0.25423729]), 'torus_bump_413': array([0.82931394, 0.72881356]), 'torus_bump_414': array([0.83132196, 0.        ]), 'torus_bump_415': array([0.83332999, 0.38983051]), 'torus_bump_416': array([0.83533801, 0.62711864]), 'torus_bump_417': array([0.83734603, 0.18644068]), 'torus_bump_418': array([0.83935406, 0.01694915]), 'torus_bump_419': array([0.84136208, 0.83050847]), 'torus_bump_420': array([0.84337011, 0.44067797]), 'torus_bump_421': array([0.84537813, 0.23728814]), 'torus_bump_422': array([0.84738616, 0.91525424]), 'torus_bump_423': array([0.84939418, 0.66101695]), 'torus_bump_424': array([0.8514022 , 0.57627119]), 'torus_bump_425': array([0.85341023, 0.76271186]), 'torus_bump_426': array([0.85541825, 0.03389831]), 'torus_bump_427': array([0.85742628, 0.27118644]), 'torus_bump_428': array([0.8594343 , 0.18644068]), 'torus_bump_429': array([0.86144232, 0.42372881]), 'torus_bump_430': array([0.86345035, 0.93220339]), 'torus_bump_431': array([0.86545837, 0.88135593]), 'torus_bump_432': array([0.8674664 , 0.44067797]), 'torus_bump_433': array([0.86947442, 0.57627119]), 'torus_bump_434': array([0.87148244, 0.06779661]), 'torus_bump_435': array([0.87349047, 0.93220339]), 'torus_bump_436': array([0.87549849, 0.96610169]), 'torus_bump_437': array([0.87750652, 0.10169492]), 'torus_bump_438': array([0.87951454, 0.33898305]), 'torus_bump_439': array([0.88152256, 1.        ]), 'torus_bump_440': array([0.88353059, 0.45762712]), 'torus_bump_441': array([0.88553861, 0.13559322]), 'torus_bump_442': array([0.88754664, 0.23728814]), 'torus_bump_443': array([0.88955466, 0.61016949]), 'torus_bump_444': array([0.89156268, 0.52542373]), 'torus_bump_445': array([0.89357071, 0.55932203]), 'torus_bump_446': array([0.89557873, 0.11864407]), 'torus_bump_447': array([0.89758676, 0.62711864]), 'torus_bump_448': array([0.89959478, 0.11864407]), 'torus_bump_449': array([0.9016028 , 0.55932203]), 'torus_bump_450': array([0.90361083, 0.13559322]), 'torus_bump_451': array([0.90561885, 0.88135593]), 'torus_bump_452': array([0.90762688, 0.03389831]), 'torus_bump_453': array([0.9096349 , 0.42372881]), 'torus_bump_454': array([0.91164293, 0.79661017]), 'torus_bump_455': array([0.91365095, 0.38983051]), 'torus_bump_456': array([0.91565897, 0.03389831]), 'torus_bump_457': array([0.917667  , 0.81355932]), 'torus_bump_458': array([0.91967502, 0.81355932]), 'torus_bump_459': array([0.92168305, 0.74576271]), 'torus_bump_460': array([0.92369107, 0.6779661 ]), 'torus_bump_461': array([0.92569909, 0.27118644]), 'torus_bump_462': array([0.92770712, 0.45762712]), 'torus_bump_463': array([0.92971514, 0.23728814]), 'torus_bump_464': array([0.93172317, 0.84745763]), 'torus_bump_465': array([0.93373119, 0.13559322]), 'torus_bump_466': array([0.93573921, 0.6440678 ]), 'torus_bump_467': array([0.93774724, 0.42372881]), 'torus_bump_468': array([0.93975526, 0.        ]), 'torus_bump_469': array([0.94176329, 0.62711864]), 'torus_bump_470': array([0.94377131, 0.3220339 ]), 'torus_bump_471': array([0.94577933, 0.05084746]), 'torus_bump_472': array([0.94778736, 0.54237288]), 'torus_bump_473': array([0.94979538, 0.6440678 ]), 'torus_bump_474': array([0.95180341, 0.37288136]), 'torus_bump_475': array([0.95381143, 0.23728814]), 'torus_bump_476': array([0.95581945, 0.83050847]), 'torus_bump_477': array([0.95782748, 0.93220339]), 'torus_bump_478': array([0.9598355 , 0.13559322]), 'torus_bump_479': array([0.96184353, 0.72881356]), 'torus_bump_480': array([0.96385155, 0.42372881]), 'torus_bump_481': array([0.96585957, 0.86440678]), 'torus_bump_482': array([0.9678676 , 0.05084746]), 'torus_bump_483': array([0.96987562, 0.61016949]), 'torus_bump_484': array([0.97188365, 0.50847458]), 'torus_bump_485': array([0.97389167, 0.38983051]), 'torus_bump_486': array([0.9758997 , 0.62711864]), 'torus_bump_487': array([0.97790772, 0.16949153]), 'torus_bump_488': array([0.97991574, 0.3220339 ]), 'torus_bump_489': array([0.98192377, 0.61016949]), 'torus_bump_490': array([0.98393179, 0.05084746]), 'torus_bump_491': array([0.98593982, 0.86440678]), 'torus_bump_492': array([0.98794784, 0.71186441]), 'torus_bump_493': array([0.98995586, 0.        ]), 'torus_bump_494': array([0.99196389, 0.05084746]), 'torus_bump_495': array([0.99397191, 0.30508475]), 'torus_bump_496': array([0.99597994, 0.23728814]), 'torus_bump_497': array([0.99798796, 0.89830508]), 'torus_bump_498': array([0.99999598, 0.30508475]), 'torus_bump_499': array([1.00200401, 0.54237288])}\n"
     ]
    }
   ],
   "source": [
    "values = np.array([value[1] for value in labels.values()]).reshape(-1, 1)\n",
    "\n",
    "scaler = MinMaxScaler(feature_range=(0, 1))\n",
    "scaled_values = scaler.fit_transform(values).flatten()\n",
    "\n",
    "for i, (key, value) in enumerate(labels.items()):\n",
    "    value[1] = scaled_values[i]\n",
    "\n",
    "print(labels)"
   ]
  },
  {
   "cell_type": "code",
   "execution_count": 270,
   "metadata": {},
   "outputs": [],
   "source": [
    "torch.save(labels, \"torus_bump_500_two/labels.pt\")\n",
    "\n",
    "\n",
    "# Create an empty DataFrame\n",
    "df = pd.DataFrame(columns=['shape', 'angle', 'thickness'])\n",
    "\n",
    "# Iterate over the items in the labels dictionary\n",
    "for shape, values in labels.items():\n",
    "    # Access the individual values from the NumPy array\n",
    "    value1 = values[0]\n",
    "    value2 = values[1]\n",
    "\n",
    "    # Append a new row with the values to the DataFrame\n",
    "    df = df.append({'shape': shape, 'angle': value1, 'thickness': value2}, ignore_index=True)\n",
    "\n",
    "# Write the DataFrame to an Excel file\n",
    "df.to_csv(\"torus_bump_500_two/torus_bump_labels.csv\")"
   ]
  },
  {
   "cell_type": "code",
   "execution_count": 15,
   "metadata": {},
   "outputs": [],
   "source": [
    "latent_codes = torch.load(\"C:/Users/Jakar/Downloads/Hippocampus_Study/generate_synthetic_data/models_hippo/293/latent_codes.pt\", map_location=torch.device('cpu')) "
   ]
  },
  {
   "cell_type": "code",
   "execution_count": 98,
   "metadata": {},
   "outputs": [],
   "source": [
    "labels1 = torch.load(\"C:/Users/Jakar/Downloads/Hippocampus_Study/generate_synthetic_data/models_hippo/293/ages.pt\", map_location=torch.device('cpu')) "
   ]
  },
  {
   "cell_type": "code",
   "execution_count": 16,
   "metadata": {},
   "outputs": [],
   "source": [
    "ages_predict = torch.load(\"C:/Users/Jakar/Downloads/Hippocampus_Study/generate_synthetic_data/models_hippo/293/293ages_predict.pt\", map_location=torch.device('cpu')) "
   ]
  },
  {
   "cell_type": "code",
   "execution_count": 110,
   "metadata": {},
   "outputs": [],
   "source": [
    "x = np.array(latent_codes[:,0])\n",
    "#x"
   ]
  },
  {
   "cell_type": "code",
   "execution_count": 109,
   "metadata": {},
   "outputs": [],
   "source": [
    "y = np.array(ages_predict.reshape(-1))\n",
    "#y"
   ]
  },
  {
   "cell_type": "code",
   "execution_count": 23,
   "metadata": {},
   "outputs": [
    {
     "data": {
      "image/png": "[encoded data removed]",
      "text/plain": [
       "<Figure size 640x480 with 1 Axes>"
      ]
     },
     "metadata": {},
     "output_type": "display_data"
    }
   ],
   "source": [
    "# plotting\n",
    "plt.title(\"Age vs z[0]\")\n",
    "plt.xlabel(\"Latent Variable z[0]\")\n",
    "plt.ylabel(\"Age\")\n",
    "plt.scatter(x, y, color =\"green\")\n",
    "plt.show()"
   ]
  },
  {
   "cell_type": "code",
   "execution_count": 12,
   "metadata": {},
   "outputs": [],
   "source": [
    "pcd = o3d.io.read_triangle_mesh('C:/Users/Jakar/Downloads/Hippocampus_Study/generate_synthetic_data/torus_bump_500_three/torus_bump_248.ply')"
   ]
  },
  {
   "cell_type": "code",
   "execution_count": 89,
   "metadata": {},
   "outputs": [],
   "source": [
    "pcd = o3d.io.read_triangle_mesh('C:/Users/Jakar/Downloads/Hippocampus_Study/generate_synthetic_data/groomed_data/after_alignment/torus_bump_200.ply')"
   ]
  },
  {
   "cell_type": "code",
   "execution_count": 11,
   "metadata": {},
   "outputs": [],
   "source": [
    "pcd = o3d.io.read_triangle_mesh('C:/Users/Jakar/Downloads/Hippocampus_Study/train_data-20230521T160833Z-001/train_data/ab300_038.ply')"
   ]
  },
  {
   "cell_type": "code",
   "execution_count": 23,
   "metadata": {},
   "outputs": [],
   "source": [
    "pcd = o3d.io.read_triangle_mesh('C:/Users/Jakar/Downloads/Hippocampus_Study/generate_synthetic_data/torus_bump_500_two_scale_binary_bump_variable/torus_bump_003.ply')"
   ]
  },
  {
   "cell_type": "code",
   "execution_count": 10,
   "metadata": {},
   "outputs": [
    {
     "name": "stdout",
     "output_type": "stream",
     "text": [
      "[Open3D WARNING] Read PLY failed: unable to open file: C:/Users/Jakar/Downloads/Hippocampus_Study/generate_synthetic_data/testing/torus_bump_0.ply\n"
     ]
    }
   ],
   "source": [
    "pcd = o3d.io.read_triangle_mesh('C:/Users/Jakar/Downloads/Hippocampus_Study/generate_synthetic_data/testing/torus_bump_0.ply')"
   ]
  },
  {
   "cell_type": "code",
   "execution_count": 15,
   "metadata": {},
   "outputs": [],
   "source": [
    "pcd_no_reg_1 = o3d.io.read_triangle_mesh('C:/Users/Jakar/Downloads/Hippocampus_Study/disease_progression/groomed_data/after_alignment/ab300_100.ply')"
   ]
  },
  {
   "cell_type": "code",
   "execution_count": 16,
   "metadata": {},
   "outputs": [],
   "source": [
    "pcd_no_reg_2 = o3d.io.read_triangle_mesh('C:/Users/Jakar/Downloads/Hippocampus_Study/disease_progression/groomed_data/after_alignment/tle_026.ply')"
   ]
  },
  {
   "cell_type": "code",
   "execution_count": 10,
   "metadata": {},
   "outputs": [],
   "source": [
    "pcd_temp = o3d.io.read_triangle_mesh('C:/Users/Jakar/Downloads/Hippocampus_Study/disease_progression/reg_template/DeterministicAtlas__EstimatedParameters__Template_hippo.ply')"
   ]
  },
  {
   "cell_type": "code",
   "execution_count": 11,
   "metadata": {},
   "outputs": [],
   "source": [
    "pcd_fl1 = o3d.io.read_triangle_mesh('C:/Users/Jakar/Downloads/Hippocampus_Study/disease_progression/hippoData_regstrd_disease_reconstrct_ply/DeterministicAtlas__Reconstruction__hippo__subject_ab300_200.ply')"
   ]
  },
  {
   "cell_type": "code",
   "execution_count": 12,
   "metadata": {},
   "outputs": [],
   "source": [
    "pcd_medoid = o3d.io.read_triangle_mesh('C:/Users/Jakar/Downloads/Hippocampus_Study/disease_progression/whole_roi_3d_test/groomed_data/to_be_added_align_and_register/groomed_data/reference_medoid_shape/tle_012.ply')"
   ]
  },
  {
   "cell_type": "code",
   "execution_count": 13,
   "metadata": {},
   "outputs": [],
   "source": [
    "pcd_fl2 = o3d.io.read_triangle_mesh('C:\\\\Users\\\\Jakar\\\\Downloads\\\\Hippocampus_Study\\\\disease_progression\\\\whole_roi_3d_test\\\\Extra_tle_registered_predicted\\\\ply_files\\\\DeterministicAtlas__Reconstruction__hippo__subject_TLE_005.ply')"
   ]
  },
  {
   "cell_type": "code",
   "execution_count": 24,
   "metadata": {},
   "outputs": [],
   "source": [
    "pcd.compute_vertex_normals()\n",
    "pcd.paint_uniform_color([0.8, 0.8, 0.8])\n",
    "\n",
    "pcd_temp.compute_vertex_normals()\n",
    "pcd_temp.paint_uniform_color([0.8, 0.8, 0.8])\n",
    "\n",
    "pcd_no_reg_1.compute_vertex_normals()\n",
    "pcd_no_reg_1.paint_uniform_color([0.8, 0.8, 0.8])\n",
    "\n",
    "pcd_no_reg_2.compute_vertex_normals()\n",
    "pcd_no_reg_2.paint_uniform_color([0.0, 0.8, 0.0])\n",
    "\n",
    "pcd_fl2.compute_vertex_normals()\n",
    "pcd_fl2.paint_uniform_color([0.0, 0.8, 0.0])\n",
    "\n",
    "pcd_medoid.compute_vertex_normals()\n",
    "pcd_medoid.paint_uniform_color([0.0, 0.8, 0.0])\n",
    "\n",
    "o3d.visualization.draw_geometries([pcd])"
   ]
  },
  {
   "cell_type": "code",
   "execution_count": 49,
   "metadata": {},
   "outputs": [],
   "source": [
    "pcd = o3d.io.read_triangle_mesh(\"C:\\\\Users\\\\Jakar\\\\Downloads\\\\Hippocampus_Study\\\\disease_progression\\\\reg_template\\\\DeterministicAtlas__EstimatedParameters__Template_hippo.ply\")\n",
    "pcd.compute_vertex_normals()\n",
    "pcd.paint_uniform_color([0.8, 0.8, 0.8])\n",
    "o3d.visualization.draw_geometries([pcd])"
   ]
  },
  {
   "cell_type": "code",
   "execution_count": 44,
   "metadata": {},
   "outputs": [
    {
     "name": "stdout",
     "output_type": "stream",
     "text": [
      "Vertices:\n",
      "(6378, 3)\n",
      "Triangles:\n",
      "(12752, 3)\n",
      "Maximum values: [0.5        0.36883196 0.10559965]\n",
      "Minimum values: [-0.5        -0.36883196 -0.10559965]\n"
     ]
    }
   ],
   "source": [
    "#print(np.min(pcd.vertices), np.max(pcd.vertices))\n",
    "print('Vertices:')\n",
    "print(np.asarray(pcd.vertices).shape)\n",
    "print('Triangles:')\n",
    "print(np.asarray(pcd.triangles).shape)\n",
    "max_values = np.amax(pcd.vertices, axis=0)\n",
    "min_values = np.amin(pcd.vertices, axis=0)\n",
    "\n",
    "print(\"Maximum values:\", max_values)\n",
    "print(\"Minimum values:\", min_values)"
   ]
  },
  {
   "cell_type": "code",
   "execution_count": 50,
   "metadata": {},
   "outputs": [
    {
     "name": "stdout",
     "output_type": "stream",
     "text": [
      "Vertices:\n",
      "(6378, 3)\n",
      "Triangles:\n",
      "(12752, 3)\n",
      "Maximum values: [0.50031286 0.34880391 0.09214524]\n",
      "Minimum values: [-0.49410915 -0.33976576 -0.08663015]\n"
     ]
    }
   ],
   "source": [
    "#print(np.min(pcd.vertices), np.max(pcd.vertices))\n",
    "print('Vertices:')\n",
    "print(np.asarray(pcd.vertices).shape)\n",
    "print('Triangles:')\n",
    "print(np.asarray(pcd.triangles).shape)\n",
    "\n",
    "max_values = np.amax(pcd.vertices, axis=0)\n",
    "min_values = np.amin(pcd.vertices, axis=0)\n",
    "\n",
    "print(\"Maximum values:\", max_values)\n",
    "print(\"Minimum values:\", min_values)"
   ]
  },
  {
   "cell_type": "code",
   "execution_count": 113,
   "metadata": {},
   "outputs": [
    {
     "name": "stdout",
     "output_type": "stream",
     "text": [
      "(6378, 3)\n"
     ]
    }
   ],
   "source": [
    "#print(np.min(pcd.vertices), np.max(pcd.vertices))\n",
    "#print('Vertices:')\n",
    "#print(np.asarray(pcd_fl1.vertices))\n",
    "#print('Triangles:')\n",
    "#print(np.asarray(pcd.triangles))\n",
    "print(np.shape(np.asarray(pcd_fl2.vertices)))"
   ]
  },
  {
   "cell_type": "code",
   "execution_count": 496,
   "metadata": {},
   "outputs": [],
   "source": [
    "pcd.compute_vertex_normals()\n",
    "pcd.paint_uniform_color([0.8, 0.8, 0.8])\n",
    "o3d.visualization.draw_geometries([pcd])"
   ]
  },
  {
   "cell_type": "code",
   "execution_count": 98,
   "metadata": {},
   "outputs": [
    {
     "name": "stdout",
     "output_type": "stream",
     "text": [
      "[Open3D WARNING] GLFW Error: WGL: Failed to make context current: The handle is invalid. \n"
     ]
    }
   ],
   "source": [
    "o3d.visualization.draw_geometries([pcd])"
   ]
  },
  {
   "cell_type": "code",
   "execution_count": null,
   "metadata": {},
   "outputs": [],
   "source": [
    "import matplotlib.pyplot as plt\n",
    "from mpl_toolkits.mplot3d import Axes3D\n",
    "\n",
    "# Load the torus shape with bump\n",
    "vertices = np.asarray(pcd.vertices)\n",
    "faces = print(np.asarray(pcd.triangles))\n",
    "\n",
    "fig = plt.figure()\n",
    "ax = fig.add_subplot(111, projection='3d')\n",
    "ax.plot_trisurf(vertices[:, 0], vertices[:, 1], vertices[:, 2], triangles=faces)\n",
    "ax.set_xlabel('X')\n",
    "ax.set_ylabel('Y')\n",
    "ax.set_zlabel('Z')\n",
    "plt.show()"
   ]
  },
  {
   "cell_type": "code",
   "execution_count": null,
   "metadata": {},
   "outputs": [],
   "source": [
    "x_coords = np.linspace(-1, 1, 50)\n",
    "y_coords = np.linspace(-1, 1, 50)\n",
    "z_coords = np.linspace(-1, 1, 50)\n",
    "x = np.stack(np.meshgrid(x_coords, y_coords, z_coords))"
   ]
  },
  {
   "cell_type": "code",
   "execution_count": null,
   "metadata": {},
   "outputs": [],
   "source": [
    "x.shape"
   ]
  },
  {
   "cell_type": "code",
   "execution_count": null,
   "metadata": {},
   "outputs": [],
   "source": [
    "def _length(a):\n",
    "    return np.linalg.norm(a, axis=0)"
   ]
  },
  {
   "cell_type": "code",
   "execution_count": null,
   "metadata": {},
   "outputs": [],
   "source": [
    "def sdf_torus(x, radius, thickness):\n",
    "    q = np.stack([np.linalg.norm(x[[0, 2]], axis=0) - radius, x[1]])\n",
    "    return np.linalg.norm(q, axis=0) - thickness"
   ]
  },
  {
   "cell_type": "code",
   "execution_count": null,
   "metadata": {},
   "outputs": [],
   "source": [
    "_min = np.minimum\n",
    "_max = np.maximum"
   ]
  },
  {
   "cell_type": "code",
   "execution_count": null,
   "metadata": {},
   "outputs": [],
   "source": [
    "def sdf_box(x):\n",
    "    q = np.abs(x) -1\n",
    "    print(q.shape)\n",
    "    return _length(_max(q, 0)) + _min(np.amax(q, axis=0), 1)"
   ]
  },
  {
   "cell_type": "code",
   "execution_count": null,
   "metadata": {},
   "outputs": [],
   "source": [
    "def sdf_box2(x):\n",
    "    q = np.abs(x)-1.5\n",
    "    print(q.shape)\n",
    "    return _length(_max(q, 0)) + _min(np.amax(q, axis=0), 1)"
   ]
  },
  {
   "cell_type": "code",
   "execution_count": null,
   "metadata": {},
   "outputs": [],
   "source": [
    "sdf = sdf_box(x)"
   ]
  },
  {
   "cell_type": "code",
   "execution_count": null,
   "metadata": {},
   "outputs": [],
   "source": [
    "sdf.shape"
   ]
  },
  {
   "cell_type": "code",
   "execution_count": null,
   "metadata": {},
   "outputs": [],
   "source": [
    "verts, faces, normals, values = measure.marching_cubes(sdf)\n",
    "verts = verts - 24.5\n",
    "verts = verts / 12.5"
   ]
  },
  {
   "cell_type": "code",
   "execution_count": null,
   "metadata": {},
   "outputs": [],
   "source": [
    "mp.plot(v=verts, f=faces)"
   ]
  },
  {
   "cell_type": "code",
   "execution_count": null,
   "metadata": {},
   "outputs": [],
   "source": [
    "from scipy.spatial import distance\n",
    "scale = []\n",
    "distances = []\n",
    "center = np.array([0,0,1])\n",
    "\n",
    "for i in range(verts.shape[0]):\n",
    "    \n",
    "    dist = distance.euclidean(center, verts[i])\n",
    "    \n",
    "    if dist < 0.3:\n",
    "        scale.append(True)\n",
    "        distances.append(dist)\n",
    "    else:\n",
    "        scale.append(False)\n",
    "        #distances.append(dist)\n",
    "\n"
   ]
  },
  {
   "cell_type": "code",
   "execution_count": null,
   "metadata": {
    "tags": []
   },
   "outputs": [],
   "source": [
    "len(distances)"
   ]
  },
  {
   "cell_type": "code",
   "execution_count": null,
   "metadata": {},
   "outputs": [],
   "source": [
    "scale_indices = np.nonzero(np.array(scale))[0]"
   ]
  },
  {
   "cell_type": "code",
   "execution_count": null,
   "metadata": {},
   "outputs": [],
   "source": [
    "scale_indices.shape"
   ]
  },
  {
   "cell_type": "code",
   "execution_count": null,
   "metadata": {},
   "outputs": [],
   "source": [
    "scale_indices"
   ]
  },
  {
   "cell_type": "code",
   "execution_count": null,
   "metadata": {},
   "outputs": [],
   "source": [
    "scale_verts = verts[scale_indices]"
   ]
  },
  {
   "cell_type": "code",
   "execution_count": null,
   "metadata": {},
   "outputs": [],
   "source": [
    "scale_verts"
   ]
  },
  {
   "cell_type": "code",
   "execution_count": null,
   "metadata": {},
   "outputs": [],
   "source": [
    "new_verts = []\n",
    "for i in range(scale_verts.shape[0]):\n",
    "    factor = 5 * np.exp(-distances[i]/0.1)\n",
    "    new_verts.append(factor*verts[scale_indices][i][2])\n",
    "    "
   ]
  },
  {
   "cell_type": "code",
   "execution_count": null,
   "metadata": {},
   "outputs": [],
   "source": [
    "new_verts"
   ]
  },
  {
   "cell_type": "code",
   "execution_count": null,
   "metadata": {},
   "outputs": [],
   "source": [
    "x_dist = np.linalg.norm((x - gaussian_center[:, None, None, None]), axis=0)\n",
    "print(x_dist.shape)\n",
    "x_bump = bump_height * np.e ** -(1. / bump_width * x_dist ** 2)"
   ]
  },
  {
   "cell_type": "code",
   "execution_count": null,
   "metadata": {},
   "outputs": [],
   "source": [
    "keep_indices = np.nonzero(np.array(keep))[0]\n",
    "\n",
    "x = np.asarray(box_with_bump.points)[:,0]\n",
    "y = np.asarray(box_with_bump.points)[:,1]\n",
    "z = np.asarray(box_with_bump.points)[:,2]\n",
    "\n",
    "x = x[keep_indices]\n",
    "y = y[keep_indices]\n",
    "z = z[keep_indices]\n",
    "\n",
    "box_with_bump.points = o3d.utility.Vector3dVector(np.stack([x, y, z], axis=1))\n",
    "box_with_bump.estimate_normals()\n",
    "o3d.visualization.draw_geometries([box_with_bump], point_show_normal=True)"
   ]
  },
  {
   "cell_type": "code",
   "execution_count": null,
   "metadata": {},
   "outputs": [],
   "source": [
    "df = pd.DataFrame(verts, columns=[\"x\", \"y\", \"z\"])\n",
    "df.describe()"
   ]
  },
  {
   "cell_type": "code",
   "execution_count": null,
   "metadata": {},
   "outputs": [],
   "source": [
    "df[(df.x == 24) & (df.y == 25) & (df.z == 24)]"
   ]
  },
  {
   "cell_type": "code",
   "execution_count": null,
   "metadata": {},
   "outputs": [],
   "source": [
    "pd.DataFrame(verts).plot.hist()"
   ]
  },
  {
   "cell_type": "code",
   "execution_count": null,
   "metadata": {
    "tags": []
   },
   "outputs": [],
   "source": [
    "verts.shape"
   ]
  },
  {
   "cell_type": "code",
   "execution_count": null,
   "metadata": {},
   "outputs": [],
   "source": [
    "verts[1000] = verts[1000]+20"
   ]
  },
  {
   "cell_type": "code",
   "execution_count": null,
   "metadata": {},
   "outputs": [],
   "source": [
    "mp.plot(v=verts, f=faces)"
   ]
  },
  {
   "cell_type": "code",
   "execution_count": null,
   "metadata": {},
   "outputs": [],
   "source": [
    "pcd = o3d.io.read_point_cloud('my_pts.ply')"
   ]
  },
  {
   "cell_type": "code",
   "execution_count": null,
   "metadata": {},
   "outputs": [],
   "source": [
    "coords = np.linspace(-1, 1, 100)\n",
    "x = np.stack(np.meshgrid(coords, coords, coords))"
   ]
  },
  {
   "cell_type": "code",
   "execution_count": null,
   "metadata": {},
   "outputs": [],
   "source": [
    "x.shape(axis=0)"
   ]
  },
  {
   "cell_type": "code",
   "execution_count": null,
   "metadata": {},
   "outputs": [],
   "source": [
    "q = np.stack([np.linalg.norm(x[[0, 1]], axis=0) - radius, x[2]])\n",
    "return np.linalg.norm(q, axis=0) - thickness"
   ]
  },
  {
   "cell_type": "code",
   "execution_count": null,
   "metadata": {},
   "outputs": [],
   "source": [
    "x[[0, 1]].shape"
   ]
  },
  {
   "cell_type": "code",
   "execution_count": 5,
   "metadata": {},
   "outputs": [],
   "source": [
    "labels = torch.load(\"C:/Users/Jakar/Downloads/Hippocampus_Study/torus_bump_500/torus_bump_500/labels.pt\") "
   ]
  },
  {
   "cell_type": "code",
   "execution_count": 123,
   "metadata": {},
   "outputs": [],
   "source": [
    "#labels"
   ]
  },
  {
   "cell_type": "code",
   "execution_count": 117,
   "metadata": {},
   "outputs": [],
   "source": [
    "def f(x):\n",
    "    return x\n",
    "\n",
    "interact(f, x=10);"
   ]
  },
  {
   "cell_type": "code",
   "execution_count": 3,
   "metadata": {},
   "outputs": [
    {
     "name": "stdout",
     "output_type": "stream",
     "text": [
      "Lowest Age: 18.095890410958905\n",
      "Highest Age: 73.2986301369863\n"
     ]
    }
   ],
   "source": [
    "df = pd.read_excel('TLE.xlsx')\n",
    "# Find the lowest age\n",
    "lowest_age = df['Age'].min()\n",
    "\n",
    "# Find the highest age\n",
    "highest_age = df['Age'].max()\n",
    "\n",
    "print(f\"Lowest Age: {lowest_age}\")\n",
    "print(f\"Highest Age: {highest_age}\")"
   ]
  },
  {
   "cell_type": "code",
   "execution_count": 4,
   "metadata": {},
   "outputs": [],
   "source": [
    "df = pd.read_excel('TLE.xlsx')\n",
    "\n",
    "# Drop rows with missing values in the second column\n",
    "df.dropna(subset=[df.columns[1]], inplace=True)\n",
    "\n",
    "# Create a dictionary using the first column as keys and the second column as values\n",
    "dictionary = dict(zip(df[df.columns[0]].str[:2].str.lower() + df[df.columns[0]].str[2:], df[df.columns[1]]))"
   ]
  },
  {
   "cell_type": "code",
   "execution_count": 5,
   "metadata": {},
   "outputs": [
    {
     "ename": "NameError",
     "evalue": "name 'hippo_labels' is not defined",
     "output_type": "error",
     "traceback": [
      "\u001b[1;31m---------------------------------------------------------------------------\u001b[0m",
      "\u001b[1;31mNameError\u001b[0m                                 Traceback (most recent call last)",
      "Cell \u001b[1;32mIn[5], line 2\u001b[0m\n\u001b[0;32m      1\u001b[0m \u001b[38;5;66;03m# Find the common keys\u001b[39;00m\n\u001b[1;32m----> 2\u001b[0m common_keys \u001b[38;5;241m=\u001b[39m \u001b[38;5;28mset\u001b[39m(\u001b[43mhippo_labels\u001b[49m\u001b[38;5;241m.\u001b[39mkeys())\u001b[38;5;241m.\u001b[39mintersection(dictionary\u001b[38;5;241m.\u001b[39mkeys())\n\u001b[0;32m      4\u001b[0m \u001b[38;5;66;03m# Create a dictionary with common keys and their corresponding values as arrays\u001b[39;00m\n\u001b[0;32m      5\u001b[0m result_dict \u001b[38;5;241m=\u001b[39m {key: [hippo_labels[key], dictionary[key]] \u001b[38;5;28;01mfor\u001b[39;00m key \u001b[38;5;129;01min\u001b[39;00m common_keys}\n",
      "\u001b[1;31mNameError\u001b[0m: name 'hippo_labels' is not defined"
     ]
    }
   ],
   "source": [
    "# Find the common keys\n",
    "common_keys = set(hippo_labels.keys()).intersection(dictionary.keys())\n",
    "\n",
    "# Create a dictionary with common keys and their corresponding values as arrays\n",
    "result_dict = {key: [hippo_labels[key], dictionary[key]] for key in common_keys}\n",
    "\n",
    "# Output the result dictionary\n",
    "l = len(result_dict)"
   ]
  },
  {
   "cell_type": "code",
   "execution_count": 6,
   "metadata": {
    "scrolled": true
   },
   "outputs": [
    {
     "name": "stdout",
     "output_type": "stream",
     "text": [
      "{'tlE002': 0.4975987107171636, 'tlE002_2': 0.531248992747784, 'tlE003': 0.18643029814665593, 'tlE004': 0.2706526994359387, 'tlE005': 0.31803384367445603, 'tlE006': 0.44786462530217563, 'tlE007': 0.7718936341659952, 'tlE007_2': 0.8035132957292507, 'tlE008': 0.6343593875906527, 'tlE008_2': 0.6648186946011282, 'tlE009': 0.5728928283642224, 'tlE010': 0.49276390008058013, 'tlE010_2': 0.5227397260273973, 'tlE013': 0.6499274778404512, 'tlE017': 0.5214826752618856, 'tlE017_2': 0.5500725221595488, 'tlE018': 0.5381466559226431, 'tlE018_2': 0.5672199838839646, 'tlE019': 0.15406929895245772, 'tlE021': 0.5823690572119259, 'tlE021_2': 0.6111200644641418, 'tlE024': 0.3694762288477034, 'tlE024_2': 0.3974536663980661, 'tlE032': 0.3437872683319903, 'tlE032_2': 0.3715068493150685, 'tlE034': 0.5400161160354553, 'tlE040': 0.282610797743755, 'tlE040_2': 0.30978243352135376, 'tlE041': 0.5641901692183723, 'tlE041_2': 0.6055439161966156, 'tlE042': 0.34520547945205476, 'tlE043': 0.4648831587429492, 'tlE043_2': 0.4856083803384368, 'tlE044': 0.26913779210314265, 'tlE044_2': 0.28954069298952456, 'tlE045': 0.1702497985495568, 'tlE045_2': 0.18626913779210313, 'tlE046': 0.46243352135374693, 'tlE046_2': 0.47429492344883156, 'tlE048': 0.403771152296535, 'tlE048_2': 0.42762288477034655, 'tlECT2': 0.49959709911361805, 'tlECT2_2': 0.5312167606768735}\n"
     ]
    }
   ],
   "source": [
    "# Define the range of ages\n",
    "min_age = 5\n",
    "max_age = 90\n",
    "\n",
    "# Create a new dictionary to store the normalized values\n",
    "normalized_data = {}\n",
    "\n",
    "# Normalize each value and store it in the new dictionary\n",
    "for key, value in dictionary.items():\n",
    "    normalized_value = (value - min_age) / (max_age - min_age)\n",
    "    normalized_data[key] = normalized_value\n",
    "\n",
    "# Print the normalized dictionary\n",
    "print(normalized_data)"
   ]
  },
  {
   "cell_type": "code",
   "execution_count": 7,
   "metadata": {},
   "outputs": [
    {
     "name": "stdout",
     "output_type": "stream",
     "text": [
      "Normalized Dictionary: {'tlE002': 0.4975987107171636, 'tlE002_2': 0.531248992747784, 'tlE003': 0.18643029814665593, 'tlE004': 0.2706526994359387, 'tlE005': 0.31803384367445603, 'tlE006': 0.44786462530217563, 'tlE007': 0.7718936341659952, 'tlE007_2': 0.8035132957292507, 'tlE008': 0.6343593875906527, 'tlE008_2': 0.6648186946011282, 'tlE009': 0.5728928283642224, 'tlE010': 0.49276390008058013, 'tlE010_2': 0.5227397260273973, 'tlE013': 0.6499274778404512, 'tlE017': 0.5214826752618856, 'tlE017_2': 0.5500725221595488, 'tlE018': 0.5381466559226431, 'tlE018_2': 0.5672199838839646, 'tlE019': 0.15406929895245772, 'tlE021': 0.5823690572119259, 'tlE021_2': 0.6111200644641418, 'tlE024': 0.3694762288477034, 'tlE024_2': 0.3974536663980661, 'tlE032': 0.3437872683319903, 'tlE032_2': 0.3715068493150685, 'tlE034': 0.5400161160354553, 'tlE040': 0.282610797743755, 'tlE040_2': 0.30978243352135376, 'tlE041': 0.5641901692183723, 'tlE041_2': 0.6055439161966156, 'tlE042': 0.34520547945205476, 'tlE043': 0.4648831587429492, 'tlE043_2': 0.4856083803384368, 'tlE044': 0.26913779210314265, 'tlE044_2': 0.28954069298952456, 'tlE045': 0.1702497985495568, 'tlE045_2': 0.18626913779210313, 'tlE046': 0.46243352135374693, 'tlE046_2': 0.47429492344883156, 'tlE048': 0.403771152296535, 'tlE048_2': 0.42762288477034655, 'tlECT2': 0.49959709911361805, 'tlECT2_2': 0.5312167606768735}\n",
      "Lowest Normalized Value: 0.15406929895245772\n",
      "Highest Normalized Value: 0.8035132957292507\n"
     ]
    }
   ],
   "source": [
    "# Find the lowest and highest normalized values\n",
    "lowest_normalized_value = min(normalized_data.values())\n",
    "highest_normalized_value = max(normalized_data.values())\n",
    "\n",
    "# Print the normalized dictionary and the lowest/highest values\n",
    "print(\"Normalized Dictionary:\", normalized_data)\n",
    "print(f\"Lowest Normalized Value: {lowest_normalized_value}\")\n",
    "print(f\"Highest Normalized Value: {highest_normalized_value}\")"
   ]
  },
  {
   "cell_type": "code",
   "execution_count": null,
   "metadata": {},
   "outputs": [],
   "source": [
    "hippo_labels"
   ]
  },
  {
   "cell_type": "code",
   "execution_count": 13,
   "metadata": {},
   "outputs": [
    {
     "name": "stdout",
     "output_type": "stream",
     "text": [
      "337\n"
     ]
    }
   ],
   "source": [
    "# Filter values greater than 0.15406 and less than 0.80351\n",
    "filtered_values = {key: value for key, value in hippo_labels.items() if 0.15406 < value < 0.80351}\n",
    "\n",
    "# Display the filtered values\n",
    "print(len(filtered_values))"
   ]
  },
  {
   "cell_type": "code",
   "execution_count": 15,
   "metadata": {},
   "outputs": [
    {
     "name": "stdout",
     "output_type": "stream",
     "text": [
      "43\n"
     ]
    }
   ],
   "source": [
    "output_dict={}\n",
    "for key, value in normalized_data.items():\n",
    "    if key.startswith('tlE'):\n",
    "        new_key = 'tle_' + key[3:]\n",
    "        output_dict[new_key] = value\n",
    "    else:\n",
    "        output_dict[key] = value\n",
    "\n",
    "print(len(output_dict))"
   ]
  },
  {
   "cell_type": "code",
   "execution_count": 21,
   "metadata": {},
   "outputs": [
    {
     "name": "stdout",
     "output_type": "stream",
     "text": [
      "43\n"
     ]
    }
   ],
   "source": [
    "# Assuming your original dictionary is called 'your_dictionary'\n",
    "new_dictionary = {}\n",
    "\n",
    "for key, value in normalized_data.items():\n",
    "    new_key = key.lower()  # Convert the key to lowercase\n",
    "    new_dictionary[new_key] = value  # Update the new dictionary with lowercase key\n",
    "\n",
    "# new_dictionary now contains lowercase keys\n",
    "print(len(new_dictionary))"
   ]
  },
  {
   "cell_type": "code",
   "execution_count": 17,
   "metadata": {},
   "outputs": [
    {
     "data": {
      "text/plain": [
       "380"
      ]
     },
     "execution_count": 17,
     "metadata": {},
     "output_type": "execute_result"
    }
   ],
   "source": [
    "hippo_all_tle = {**filtered_values, **output_dict}\n",
    "len(hippo_all_tle)\n",
    "#print(hippo_all_ms)"
   ]
  },
  {
   "cell_type": "code",
   "execution_count": 18,
   "metadata": {},
   "outputs": [],
   "source": [
    "# Assuming your original dictionary is called 'your_dictionary'\n",
    "new_dictionary = {}\n",
    "\n",
    "for idx, (key, age) in enumerate(hippo_all_tle.items()):\n",
    "    if idx >= len(hippo_all_tle) - 43:\n",
    "        new_dictionary[key] = np.array([age, 1])\n",
    "    else:\n",
    "        new_dictionary[key] = np.array([age, 0])\n"
   ]
  },
  {
   "cell_type": "code",
   "execution_count": 19,
   "metadata": {},
   "outputs": [
    {
     "data": {
      "text/plain": [
       "380"
      ]
     },
     "execution_count": 19,
     "metadata": {},
     "output_type": "execute_result"
    }
   ],
   "source": [
    "len(new_dictionary)"
   ]
  },
  {
   "cell_type": "code",
   "execution_count": 20,
   "metadata": {},
   "outputs": [
    {
     "name": "stdout",
     "output_type": "stream",
     "text": [
      "{'ab300_001': array([0.34117647, 0.        ]), 'ab300_002': array([0.30588235, 0.        ]), 'ab300_003': array([0.41176471, 0.        ]), 'ab300_004': array([0.56470588, 0.        ]), 'ab300_005': array([0.16470588, 0.        ]), 'ab300_006': array([0.18823529, 0.        ]), 'ab300_007': array([0.61176471, 0.        ]), 'ab300_008': array([0.32941176, 0.        ]), 'ab300_009': array([0.70588235, 0.        ]), 'ab300_010': array([0.35294118, 0.        ]), 'ab300_011': array([0.72941176, 0.        ]), 'ab300_012': array([0.22352941, 0.        ]), 'ab300_014': array([0.16470588, 0.        ]), 'ab300_015': array([0.34117647, 0.        ]), 'ab300_016': array([0.62352941, 0.        ]), 'ab300_017': array([0.28235294, 0.        ]), 'ab300_018': array([0.2, 0. ]), 'ab300_019': array([0.2, 0. ]), 'ab300_020': array([0.2, 0. ]), 'ab300_021': array([0.56470588, 0.        ]), 'ab300_022': array([0.63529412, 0.        ]), 'ab300_023': array([0.28235294, 0.        ]), 'ab300_024': array([0.42352941, 0.        ]), 'ab300_026': array([0.51764706, 0.        ]), 'ab300_027': array([0.50588235, 0.        ]), 'ab300_029': array([0.71764706, 0.        ]), 'ab300_030': array([0.24705882, 0.        ]), 'ab300_031': array([0.50588235, 0.        ]), 'ab300_032': array([0.24705882, 0.        ]), 'ab300_033': array([0.43529412, 0.        ]), 'ab300_034': array([0.28235294, 0.        ]), 'ab300_035': array([0.65882353, 0.        ]), 'ab300_036': array([0.76470588, 0.        ]), 'ab300_037': array([0.32941176, 0.        ]), 'ab300_038': array([0.35294118, 0.        ]), 'ab300_039': array([0.76470588, 0.        ]), 'ab300_040': array([0.50588235, 0.        ]), 'ab300_041': array([0.29411765, 0.        ]), 'ab300_042': array([0.64705882, 0.        ]), 'ab300_043': array([0.48235294, 0.        ]), 'ab300_044': array([0.18823529, 0.        ]), 'ab300_045': array([0.2, 0. ]), 'ab300_046': array([0.62352941, 0.        ]), 'ab300_047': array([0.25882353, 0.        ]), 'ab300_048': array([0.30588235, 0.        ]), 'ab300_050': array([0.51764706, 0.        ]), 'ab300_051': array([0.24705882, 0.        ]), 'ab300_052': array([0.32941176, 0.        ]), 'ab300_054': array([0.23529412, 0.        ]), 'ab300_055': array([0.42352941, 0.        ]), 'ab300_056': array([0.48235294, 0.        ]), 'ab300_057': array([0.2, 0. ]), 'ab300_058': array([0.62352941, 0.        ]), 'ab300_059': array([0.70588235, 0.        ]), 'ab300_060': array([0.27058824, 0.        ]), 'ab300_061': array([0.2, 0. ]), 'ab300_062': array([0.28235294, 0.        ]), 'ab300_063': array([0.45882353, 0.        ]), 'ab300_064': array([0.31764706, 0.        ]), 'ab300_065': array([0.35294118, 0.        ]), 'ab300_066': array([0.49411765, 0.        ]), 'ab300_067': array([0.54117647, 0.        ]), 'ab300_068': array([0.56470588, 0.        ]), 'ab300_069': array([0.36470588, 0.        ]), 'ab300_070': array([0.21176471, 0.        ]), 'ab300_071': array([0.47058824, 0.        ]), 'ab300_072': array([0.16470588, 0.        ]), 'ab300_074': array([0.22352941, 0.        ]), 'ab300_075': array([0.64705882, 0.        ]), 'ab300_076': array([0.45882353, 0.        ]), 'ab300_077': array([0.64705882, 0.        ]), 'ab300_078': array([0.35294118, 0.        ]), 'ab300_079': array([0.23529412, 0.        ]), 'ab300_080': array([0.31764706, 0.        ]), 'ab300_081': array([0.36470588, 0.        ]), 'ab300_083': array([0.18823529, 0.        ]), 'ab300_085': array([0.27058824, 0.        ]), 'ab300_086': array([0.70588235, 0.        ]), 'ab300_087': array([0.25882353, 0.        ]), 'ab300_088': array([0.48235294, 0.        ]), 'ab300_089': array([0.37647059, 0.        ]), 'ab300_091': array([0.47058824, 0.        ]), 'ab300_092': array([0.42352941, 0.        ]), 'ab300_094': array([0.56470588, 0.        ]), 'ab300_095': array([0.68235294, 0.        ]), 'ab300_097': array([0.27058824, 0.        ]), 'ab300_098': array([0.31764706, 0.        ]), 'ab300_099': array([0.55294118, 0.        ]), 'ab300_100': array([0.51764706, 0.        ]), 'ab300_102': array([0.36470588, 0.        ]), 'ab300_104': array([0.4, 0. ]), 'ab300_105': array([0.38823529, 0.        ]), 'ab300_106': array([0.2, 0. ]), 'ab300_107': array([0.52941176, 0.        ]), 'ab300_110': array([0.36470588, 0.        ]), 'ab300_111': array([0.32941176, 0.        ]), 'ab300_112': array([0.38823529, 0.        ]), 'ab300_114': array([0.22352941, 0.        ]), 'ab300_115': array([0.23529412, 0.        ]), 'ab300_117': array([0.4, 0. ]), 'ab300_118': array([0.78823529, 0.        ]), 'ab300_119': array([0.71764706, 0.        ]), 'ab300_120': array([0.16470588, 0.        ]), 'ab300_121': array([0.22352941, 0.        ]), 'ab300_123': array([0.16470588, 0.        ]), 'ab300_124': array([0.64705882, 0.        ]), 'ab300_125': array([0.49411765, 0.        ]), 'ab300_126': array([0.75294118, 0.        ]), 'ab300_129': array([0.21176471, 0.        ]), 'ab300_130': array([0.54117647, 0.        ]), 'ab300_131': array([0.16470588, 0.        ]), 'ab300_135': array([0.67058824, 0.        ]), 'ab300_136': array([0.57647059, 0.        ]), 'ab300_137': array([0.62352941, 0.        ]), 'ab300_138': array([0.44705882, 0.        ]), 'ab300_140': array([0.68235294, 0.        ]), 'ab300_141': array([0.27058824, 0.        ]), 'ab300_145': array([0.29411765, 0.        ]), 'ab300_146': array([0.72941176, 0.        ]), 'ab300_150': array([0.6, 0. ]), 'ab300_151': array([0.77647059, 0.        ]), 'ab300_152': array([0.30588235, 0.        ]), 'ab300_154': array([0.77647059, 0.        ]), 'ab300_155': array([0.55294118, 0.        ]), 'ab300_158': array([0.55294118, 0.        ]), 'ab300_159': array([0.75294118, 0.        ]), 'ab300_160': array([0.72941176, 0.        ]), 'ab300_161': array([0.8, 0. ]), 'ab300_163': array([0.67058824, 0.        ]), 'ab300_164': array([0.29411765, 0.        ]), 'ab300_165': array([0.65882353, 0.        ]), 'ab300_166': array([0.50588235, 0.        ]), 'ab300_168': array([0.25882353, 0.        ]), 'ab300_169': array([0.32941176, 0.        ]), 'ab300_170': array([0.56470588, 0.        ]), 'ab300_171': array([0.30588235, 0.        ]), 'ab300_172': array([0.37647059, 0.        ]), 'ab300_173': array([0.6, 0. ]), 'ab300_174': array([0.18823529, 0.        ]), 'ab300_175': array([0.62352941, 0.        ]), 'ab300_176': array([0.69411765, 0.        ]), 'ab300_177': array([0.57647059, 0.        ]), 'ab300_178': array([0.44705882, 0.        ]), 'ab300_179': array([0.18823529, 0.        ]), 'ab300_181': array([0.17647059, 0.        ]), 'ab300_182': array([0.17647059, 0.        ]), 'ab300_184': array([0.68235294, 0.        ]), 'ab300_186': array([0.18823529, 0.        ]), 'ab300_187': array([0.32941176, 0.        ]), 'ab300_188': array([0.72941176, 0.        ]), 'ab300_189': array([0.18823529, 0.        ]), 'ab300_190': array([0.16470588, 0.        ]), 'ab300_191': array([0.4, 0. ]), 'ab300_192': array([0.29411765, 0.        ]), 'ab300_193': array([0.22352941, 0.        ]), 'ab300_194': array([0.4, 0. ]), 'ab300_195': array([0.37647059, 0.        ]), 'ab300_196': array([0.30588235, 0.        ]), 'ab300_197': array([0.18823529, 0.        ]), 'ab300_199': array([0.44705882, 0.        ]), 'ab300_201': array([0.56470588, 0.        ]), 'ab300_202': array([0.35294118, 0.        ]), 'ab300_204': array([0.21176471, 0.        ]), 'ab300_205': array([0.34117647, 0.        ]), 'ab300_208': array([0.30588235, 0.        ]), 'ab300_211': array([0.30588235, 0.        ]), 'ab300_212': array([0.44705882, 0.        ]), 'ab300_216': array([0.70588235, 0.        ]), 'ab300_220': array([0.70588235, 0.        ]), 'ab300_221': array([0.21176471, 0.        ]), 'ab300_222': array([0.70588235, 0.        ]), 'ab300_223': array([0.18823529, 0.        ]), 'ab300_228': array([0.69411765, 0.        ]), 'ab300_229': array([0.70588235, 0.        ]), 'ab300_230': array([0.69411765, 0.        ]), 'ab300_231': array([0.38823529, 0.        ]), 'ab300_232': array([0.23529412, 0.        ]), 'ab300_234': array([0.51764706, 0.        ]), 'ab300_237': array([0.2, 0. ]), 'ab300_238': array([0.51764706, 0.        ]), 'ab300_239': array([0.32941176, 0.        ]), 'ab300_240': array([0.56470588, 0.        ]), 'ab300_244': array([0.51764706, 0.        ]), 'ab300_245': array([0.78823529, 0.        ]), 'ab300_246': array([0.6, 0. ]), 'ab300_250': array([0.37647059, 0.        ]), 'ab300_251': array([0.18823529, 0.        ]), 'ab300_252': array([0.78823529, 0.        ]), 'ab300_253': array([0.18823529, 0.        ]), 'ab300_257': array([0.8, 0. ]), 'ab300_258': array([0.22352941, 0.        ]), 'ab300_259': array([0.61176471, 0.        ]), 'ab300_260': array([0.30588235, 0.        ]), 'ab300_263': array([0.37647059, 0.        ]), 'ab300_264': array([0.35294118, 0.        ]), 'ab300_267': array([0.51764706, 0.        ]), 'ab300_268': array([0.49411765, 0.        ]), 'ab300_269': array([0.31764706, 0.        ]), 'ab300_270': array([0.23529412, 0.        ]), 'ab300_281': array([0.74117647, 0.        ]), 'ab300_282': array([0.36470588, 0.        ]), 'ab300_283': array([0.23529412, 0.        ]), 'ab300_285': array([0.28235294, 0.        ]), 'ab300_288': array([0.52941176, 0.        ]), 'ab300_291': array([0.74117647, 0.        ]), 'ab300_292': array([0.2, 0. ]), 'ab300_293': array([0.25882353, 0.        ]), 'ab300_295': array([0.21176471, 0.        ]), 'ab300_296': array([0.16470588, 0.        ]), 'ab300_297': array([0.17647059, 0.        ]), 'ab300_301': array([0.22352941, 0.        ]), 'ab300_305': array([0.18823529, 0.        ]), 'ab300_306': array([0.24705882, 0.        ]), 'ab300_307': array([0.44705882, 0.        ]), 'ab300_308': array([0.2, 0. ]), 'ab300_309': array([0.17647059, 0.        ]), 'ab300_312': array([0.28235294, 0.        ]), 'ab300_313': array([0.21176471, 0.        ]), 'ab300_314': array([0.17647059, 0.        ]), 'ab300_315': array([0.72941176, 0.        ]), 'ab300_316': array([0.23529412, 0.        ]), 'ab300_317': array([0.75294118, 0.        ]), 'ab300_324': array([0.61176471, 0.        ]), 'ab300_328': array([0.78823529, 0.        ]), 'ab300_329': array([0.77647059, 0.        ]), 'ab300_331': array([0.43529412, 0.        ]), 'ab300_332': array([0.57647059, 0.        ]), 'ab300_333': array([0.17647059, 0.        ]), 'ab300_334': array([0.50588235, 0.        ]), 'ab300_336': array([0.17647059, 0.        ]), 'ab300_337': array([0.47058824, 0.        ]), 'ab300_338': array([0.75294118, 0.        ]), 'ab300_343': array([0.42352941, 0.        ]), 'ab300_348': array([0.51764706, 0.        ]), 'ab300_350': array([0.64705882, 0.        ]), 'ab300_364': array([0.74117647, 0.        ]), 'ab300_388': array([0.71764706, 0.        ]), 'ab300_390': array([0.24705882, 0.        ]), 'cbbrain_005': array([0.31764706, 0.        ]), 'cbbrain_006': array([0.63529412, 0.        ]), 'cbbrain_007': array([0.30588235, 0.        ]), 'cbbrain_008': array([0.44705882, 0.        ]), 'cbbrain_009': array([0.18823529, 0.        ]), 'cbbrain_010': array([0.18823529, 0.        ]), 'cbbrain_014': array([0.18823529, 0.        ]), 'cbbrain_015': array([0.17647059, 0.        ]), 'cbbrain_016': array([0.17647059, 0.        ]), 'cbbrain_019': array([0.25882353, 0.        ]), 'cbbrain_021': array([0.27058824, 0.        ]), 'cbbrain_050': array([0.24705882, 0.        ]), 'cbbrain_053': array([0.67058824, 0.        ]), 'cbbrain_056': array([0.23529412, 0.        ]), 'cbbrain_058': array([0.50588235, 0.        ]), 'cbbrain_065': array([0.61176471, 0.        ]), 'cbbrain_066': array([0.2, 0. ]), 'cbbrain_067': array([0.21176471, 0.        ]), 'cbbrain_068': array([0.35294118, 0.        ]), 'cbbrain_074': array([0.22352941, 0.        ]), 'cbbrain_078': array([0.65882353, 0.        ]), 'cbbrain_079': array([0.16470588, 0.        ]), 'cbbrain_080': array([0.17647059, 0.        ]), 'cbbrain_081': array([0.70588235, 0.        ]), 'cbbrain_082': array([0.64705882, 0.        ]), 'cbbrain_084': array([0.67058824, 0.        ]), 'cbbrain_085': array([0.18823529, 0.        ]), 'cbbrain_087': array([0.29411765, 0.        ]), 'cbbrain_088': array([0.16470588, 0.        ]), 'cbbrain_089': array([0.16470588, 0.        ]), 'cbbrain_090': array([0.22352941, 0.        ]), 'cbbrain_091': array([0.38823529, 0.        ]), 'cbbrain_092': array([0.22352941, 0.        ]), 'cbbrain_093': array([0.67058824, 0.        ]), 'cbbrain_094': array([0.22352941, 0.        ]), 'cbbrain_095': array([0.27058824, 0.        ]), 'cbbrain_096': array([0.37647059, 0.        ]), 'cbbrain_097': array([0.37647059, 0.        ]), 'cbbrain_100': array([0.37647059, 0.        ]), 'cbbrain_102': array([0.61176471, 0.        ]), 'cbbrain_104': array([0.76470588, 0.        ]), 'cbbrain_106': array([0.75294118, 0.        ]), 'cbbrain_107': array([0.55294118, 0.        ]), 'cbbrain_110': array([0.37647059, 0.        ]), 'cbbrain_111': array([0.34117647, 0.        ]), 'cbbrain_112': array([0.18823529, 0.        ]), 'cbbrain_115': array([0.74117647, 0.        ]), 'cbbrain_116': array([0.16470588, 0.        ]), 'cbbrain_117': array([0.28235294, 0.        ]), 'cbbrain_121': array([0.23529412, 0.        ]), 'cbbrain_125': array([0.37647059, 0.        ]), 'cbbrain_126': array([0.4, 0. ]), 'cbbrain_127': array([0.55294118, 0.        ]), 'cbbrain_129': array([0.22352941, 0.        ]), 'cbbrain_130': array([0.31764706, 0.        ]), 'cbbrain_132': array([0.45882353, 0.        ]), 'cbbrain_134': array([0.23529412, 0.        ]), 'cbbrain_135': array([0.38823529, 0.        ]), 'cbbrain_139': array([0.32941176, 0.        ]), 'cbbrain_141': array([0.8, 0. ]), 'cbbrain_142': array([0.30588235, 0.        ]), 'cbbrain_143': array([0.2, 0. ]), 'cbbrain_144': array([0.44705882, 0.        ]), 'cbbrain_147': array([0.41176471, 0.        ]), 'cbbrain_148': array([0.18823529, 0.        ]), 'cbbrain_149': array([0.76470588, 0.        ]), 'cbbrain_154': array([0.37647059, 0.        ]), 'cbbrain_155': array([0.49411765, 0.        ]), 'cbbrain_156': array([0.6, 0. ]), 'cbbrain_157': array([0.17647059, 0.        ]), 'cbbrain_158': array([0.38823529, 0.        ]), 'cbbrain_160': array([0.62352941, 0.        ]), 'cbbrain_161': array([0.6, 0. ]), 'cbbrain_162': array([0.28235294, 0.        ]), 'cbbrain_163': array([0.25882353, 0.        ]), 'cbbrain_164': array([0.56470588, 0.        ]), 'cbbrain_165': array([0.30588235, 0.        ]), 'cbbrain_166': array([0.64705882, 0.        ]), 'cbbrain_169': array([0.76470588, 0.        ]), 'cbbrain_170': array([0.75294118, 0.        ]), 'cbbrain_171': array([0.61176471, 0.        ]), 'cbbrain_172': array([0.49411765, 0.        ]), 'cbbrain_173': array([0.45882353, 0.        ]), 'cbbrain_174': array([0.41176471, 0.        ]), 'cbbrain_175': array([0.65882353, 0.        ]), 'cbbrain_177': array([0.29411765, 0.        ]), 'cbbrain_178': array([0.57647059, 0.        ]), 'cbbrain_180': array([0.52941176, 0.        ]), 'cbbrain_184': array([0.25882353, 0.        ]), 'cbbrain_185': array([0.47058824, 0.        ]), 'cbbrain_186': array([0.48235294, 0.        ]), 'cbbrain_193': array([0.54117647, 0.        ]), 'cbbrain_194': array([0.35294118, 0.        ]), 'cbbrain_400': array([0.52941176, 0.        ]), 'cbbrain_401': array([0.76470588, 0.        ]), 'cbbrain_402': array([0.58823529, 0.        ]), 'cbbrain_403': array([0.62352941, 0.        ]), 'cbbrain_404': array([0.70588235, 0.        ]), 'cbbrain_405': array([0.62352941, 0.        ]), 'tle_002': array([0.49759871, 1.        ]), 'tle_002_2': array([0.53124899, 1.        ]), 'tle_003': array([0.1864303, 1.       ]), 'tle_004': array([0.2706527, 1.       ]), 'tle_005': array([0.31803384, 1.        ]), 'tle_006': array([0.44786463, 1.        ]), 'tle_007': array([0.77189363, 1.        ]), 'tle_007_2': array([0.8035133, 1.       ]), 'tle_008': array([0.63435939, 1.        ]), 'tle_008_2': array([0.66481869, 1.        ]), 'tle_009': array([0.57289283, 1.        ]), 'tle_010': array([0.4927639, 1.       ]), 'tle_010_2': array([0.52273973, 1.        ]), 'tle_013': array([0.64992748, 1.        ]), 'tle_017': array([0.52148268, 1.        ]), 'tle_017_2': array([0.55007252, 1.        ]), 'tle_018': array([0.53814666, 1.        ]), 'tle_018_2': array([0.56721998, 1.        ]), 'tle_019': array([0.1540693, 1.       ]), 'tle_021': array([0.58236906, 1.        ]), 'tle_021_2': array([0.61112006, 1.        ]), 'tle_024': array([0.36947623, 1.        ]), 'tle_024_2': array([0.39745367, 1.        ]), 'tle_032': array([0.34378727, 1.        ]), 'tle_032_2': array([0.37150685, 1.        ]), 'tle_034': array([0.54001612, 1.        ]), 'tle_040': array([0.2826108, 1.       ]), 'tle_040_2': array([0.30978243, 1.        ]), 'tle_041': array([0.56419017, 1.        ]), 'tle_041_2': array([0.60554392, 1.        ]), 'tle_042': array([0.34520548, 1.        ]), 'tle_043': array([0.46488316, 1.        ]), 'tle_043_2': array([0.48560838, 1.        ]), 'tle_044': array([0.26913779, 1.        ]), 'tle_044_2': array([0.28954069, 1.        ]), 'tle_045': array([0.1702498, 1.       ]), 'tle_045_2': array([0.18626914, 1.        ]), 'tle_046': array([0.46243352, 1.        ]), 'tle_046_2': array([0.47429492, 1.        ]), 'tle_048': array([0.40377115, 1.        ]), 'tle_048_2': array([0.42762288, 1.        ]), 'tle_CT2': array([0.4995971, 1.       ]), 'tle_CT2_2': array([0.53121676, 1.        ])}\n"
     ]
    }
   ],
   "source": [
    "print(new_dictionary)"
   ]
  },
  {
   "cell_type": "code",
   "execution_count": 21,
   "metadata": {},
   "outputs": [],
   "source": [
    "torch.save(new_dictionary, \"C:\\\\Users\\\\Jakar\\\\Downloads\\\\Hippocampus_Study\\\\disease_progression\\\\hippo_tle_label_age_18_73\\\\labels.pt\")\n",
    "\n",
    "#pd.DataFrame(list(labels.items()), columns=['shape', 'label']).to_csv(\"torus_bump\\\\torus_bump_labels.csv\")\n",
    "\n",
    "# Create an empty DataFrame\n",
    "df = pd.DataFrame(columns=['id', 'age', 'is_disease'])\n",
    "\n",
    "# Iterate over the items in the labels dictionary\n",
    "for ids, values in new_dictionary.items():\n",
    "    # Access the individual values from the NumPy array\n",
    "    value1 = values[0]\n",
    "    value2 = values[1]\n",
    "\n",
    "    # Append a new row with the values to the DataFrame\n",
    "    df = df.append({'id': ids, 'age': value1, 'is_disease': value2}, ignore_index=True)\n",
    "\n",
    "# Write the DataFrame to an Excel file\n",
    "df.to_csv(\"C:\\\\Users\\\\Jakar\\\\Downloads\\\\Hippocampus_Study\\\\disease_progression\\\\hippo_tle_label_age_18_73\\\\hippo_score_labels.csv\")"
   ]
  },
  {
   "cell_type": "code",
   "execution_count": 35,
   "metadata": {},
   "outputs": [],
   "source": [
    "import torch\n",
    "from sklearn.model_selection import train_test_split\n",
    "\n",
    "# Load labels\n",
    "labels = torch.load(\"/home/jakaria/Explaining_Shape_Variability/src/DeepLearning/compute_canada/guided_vae/data/CoMA/raw/hippocampus/labels.pt\")\n",
    "#labels = torch.load(\"C:\\\\Users\\\\Jakar\\\\Downloads\\\\Hippocampus_Study\\\\disease_progression\\\\hippo_ms_label_age_32_71\\\\labels.pt\")\n",
    "# Filter keys starting with \"ms\"\n",
    "ms_keys = [key for key in labels.keys() if key.startswith(\"ms\")]\n",
    "\n",
    "# Split ms_keys into training, validation, and test sets\n",
    "ms_train, ms_test = train_test_split(ms_keys, test_size=0.2, random_state=28)\n",
    "ms_val, ms_test = train_test_split(ms_test, test_size=0.5, random_state=28)\n",
    "\n",
    "# Get non-\"ms\" keys\n",
    "non_ms_keys = [key for key in labels.keys() if not key.startswith(\"ms\")]\n",
    "\n",
    "# Split non-ms_keys into training, validation, and test sets\n",
    "X_train, X_test = train_test_split(non_ms_keys, test_size=0.2, random_state=28)\n",
    "X_val, X_test = train_test_split(X_test, test_size=0.5, random_state=28)\n",
    "\n",
    "# Combine the splits\n",
    "X_train.extend(ms_train)\n",
    "X_val.extend(ms_val)\n",
    "X_test.extend(ms_test)\n",
    "\n",
    "# Create corresponding labels for the splits\n",
    "y_train = [labels[key] for key in X_train]\n",
    "y_val = [labels[key] for key in X_val]\n",
    "y_test = [labels[key] for key in X_test]\n"
   ]
  },
  {
   "cell_type": "code",
   "execution_count": 39,
   "metadata": {},
   "outputs": [
    {
     "name": "stdout",
     "output_type": "stream",
     "text": [
      "[array([0.37647059, 0.        ]), array([0.71764706, 0.        ]), array([0.64705882, 0.        ]), array([0.71764706, 0.        ]), array([0.62352941, 0.        ]), array([0.35294118, 0.        ]), array([0.62352941, 0.        ]), array([0.70588235, 0.        ]), array([0.51764706, 0.        ]), array([0.55294118, 0.        ]), array([0.37647059, 0.        ]), array([0.61176471, 0.        ]), array([0.36470588, 0.        ]), array([0.37647059, 0.        ]), array([0.57647059, 0.        ]), array([0.31764706, 0.        ]), array([0.77647059, 0.        ]), array([0.65882353, 0.        ]), array([0.38823529, 0.        ]), array([0.51764706, 0.        ]), array([0.75294118, 0.        ]), array([0.63529412, 0.        ]), array([0.35294118, 0.        ]), array([0.37647059, 0.        ]), array([0.56470588, 0.        ]), array([0.50588235, 0.        ]), array([0.47058824, 0.        ]), array([0.62352941, 0.        ]), array([0.44705882, 0.        ]), array([0.61176471, 0.        ]), array([0.52941176, 0.        ]), array([0.35294118, 0.        ]), array([0.52941176, 0.        ]), array([0.35294118, 0.        ]), array([0.69411765, 0.        ]), array([0.77647059, 0.        ]), array([0.4, 0. ]), array([0.37647059, 0.        ]), array([0.50588235, 0.        ]), array([0.38823529, 0.        ]), array([0.51764706, 0.        ]), array([0.64705882, 0.        ]), array([0.62352941, 0.        ]), array([0.51764706, 0.        ]), array([0.50588235, 0.        ]), array([0.56470588, 0.        ]), array([0.67058824, 0.        ]), array([0.49411765, 0.        ]), array([0.51764706, 0.        ]), array([0.72941176, 0.        ]), array([0.4, 0. ]), array([0.45882353, 0.        ]), array([0.49411765, 0.        ]), array([0.36470588, 0.        ]), array([0.75294118, 0.        ]), array([0.65882353, 0.        ]), array([0.75294118, 0.        ]), array([0.77647059, 0.        ]), array([0.36470588, 0.        ]), array([0.32941176, 0.        ]), array([0.48235294, 0.        ]), array([0.58823529, 0.        ]), array([0.48235294, 0.        ]), array([0.50588235, 0.        ]), array([0.54117647, 0.        ]), array([0.76470588, 0.        ]), array([0.45882353, 0.        ]), array([0.68235294, 0.        ]), array([0.51764706, 0.        ]), array([0.55294118, 0.        ]), array([0.56470588, 0.        ]), array([0.36470588, 0.        ]), array([0.64705882, 0.        ]), array([0.69411765, 0.        ]), array([0.54117647, 0.        ]), array([0.47058824, 0.        ]), array([0.70588235, 0.        ]), array([0.72941176, 0.        ]), array([0.44705882, 0.        ]), array([0.56470588, 0.        ]), array([0.36470588, 0.        ]), array([0.31764706, 0.        ]), array([0.76470588, 0.        ]), array([0.6, 0. ]), array([0.45882353, 0.        ]), array([0.57647059, 0.        ]), array([0.4, 0. ]), array([0.31764706, 0.        ]), array([0.56470588, 0.        ]), array([0.70588235, 0.        ]), array([0.35294118, 0.        ]), array([0.69411765, 0.        ]), array([0.34117647, 0.        ]), array([0.37647059, 0.        ]), array([0.55294118, 0.        ]), array([0.64705882, 0.        ]), array([0.32941176, 0.        ]), array([0.42352941, 0.        ]), array([0.61176471, 0.        ]), array([0.70588235, 0.        ]), array([0.32941176, 0.        ]), array([0.67058824, 0.        ]), array([0.64705882, 0.        ]), array([0.65882353, 0.        ]), array([0.57647059, 0.        ]), array([0.50588235, 0.        ]), array([0.42352941, 0.        ]), array([0.67058824, 0.        ]), array([0.62352941, 0.        ]), array([0.67058824, 0.        ]), array([0.44705882, 0.        ]), array([0.70588235, 0.        ]), array([0.62352941, 0.        ]), array([0.76470588, 0.        ]), array([0.35294118, 0.        ]), array([0.56470588, 0.        ]), array([0.74117647, 0.        ]), array([0.32941176, 0.        ]), array([0.61176471, 0.        ]), array([0.48235294, 0.        ]), array([0.72941176, 0.        ]), array([0.56470588, 0.        ]), array([0.43529412, 0.        ]), array([0.63529412, 0.        ]), array([0.62352941, 0.        ]), array([0.4, 0. ]), array([0.55294118, 0.        ]), array([0.51764706, 0.        ]), array([0.52941176, 0.        ]), array([0.61176471, 0.        ]), array([0.4, 0. ]), array([0.35294118, 0.        ]), array([0.49411765, 0.        ]), array([0.32941176, 0.        ]), array([0.62352941, 0.        ]), array([0.71764706, 0.        ]), array([0.70588235, 0.        ]), array([0.32941176, 0.        ]), array([0.44705882, 0.        ]), array([0.75294118, 0.        ]), array([0.34117647, 0.        ]), array([0.48235294, 0.        ]), array([0.75294118, 0.        ]), array([0.52941176, 0.        ]), array([0.31764706, 0.        ]), array([0.37647059, 0.        ]), array([0.44705882, 0.        ]), array([0.72941176, 0.        ]), array([0.45882353, 0.        ]), array([0.68235294, 0.        ]), array([0.70588235, 0.        ]), array([0.34117647, 0.        ]), array([0.42352941, 0.        ]), array([0.65882353, 0.        ]), array([0.6, 0. ]), array([0.57647059, 0.        ]), array([0.51764706, 0.        ]), array([0.56470588, 0.        ]), array([0.61176471, 0.        ]), array([0.70588235, 0.        ]), array([0.76470588, 0.        ]), array([0.70588235, 0.        ]), array([0.41176471, 0.        ]), array([0.77647059, 1.        ]), array([0.64705882, 1.        ]), array([0.31764706, 1.        ]), array([0.57647059, 1.        ]), array([0.44705882, 1.        ]), array([0.55294118, 1.        ]), array([0.34117647, 1.        ]), array([0.44705882, 1.        ]), array([0.76470588, 1.        ]), array([0.65882353, 1.        ]), array([0.54117647, 1.        ]), array([0.51764706, 1.        ]), array([0.65882353, 1.        ]), array([0.38823529, 1.        ]), array([0.47058824, 1.        ]), array([0.6, 1. ]), array([0.34117647, 1.        ]), array([0.57647059, 1.        ]), array([0.52941176, 1.        ]), array([0.34117647, 1.        ]), array([0.56470588, 1.        ]), array([0.56470588, 1.        ]), array([0.37647059, 1.        ]), array([0.64705882, 1.        ]), array([0.57647059, 1.        ]), array([0.38823529, 1.        ]), array([0.32941176, 1.        ]), array([0.54117647, 1.        ]), array([0.38823529, 1.        ]), array([0.54117647, 1.        ]), array([0.56470588, 1.        ]), array([0.52941176, 1.        ]), array([0.42352941, 1.        ]), array([0.52941176, 1.        ])]\n"
     ]
    }
   ],
   "source": [
    "print(y_train)"
   ]
  },
  {
   "cell_type": "code",
   "execution_count": 22,
   "metadata": {},
   "outputs": [],
   "source": [
    "labels = torch.load(\"C:\\\\Users\\\\Jakar\\\\Downloads\\\\Hippocampus_Study\\\\disease_progression\\\\hippo_tle_label_age_18_73\\\\labels.pt\")"
   ]
  },
  {
   "cell_type": "code",
   "execution_count": 23,
   "metadata": {},
   "outputs": [
    {
     "data": {
      "text/plain": [
       "{'ab300_001': array([0.34117647, 0.        ]),\n",
       " 'ab300_002': array([0.30588235, 0.        ]),\n",
       " 'ab300_003': array([0.41176471, 0.        ]),\n",
       " 'ab300_004': array([0.56470588, 0.        ]),\n",
       " 'ab300_005': array([0.16470588, 0.        ]),\n",
       " 'ab300_006': array([0.18823529, 0.        ]),\n",
       " 'ab300_007': array([0.61176471, 0.        ]),\n",
       " 'ab300_008': array([0.32941176, 0.        ]),\n",
       " 'ab300_009': array([0.70588235, 0.        ]),\n",
       " 'ab300_010': array([0.35294118, 0.        ]),\n",
       " 'ab300_011': array([0.72941176, 0.        ]),\n",
       " 'ab300_012': array([0.22352941, 0.        ]),\n",
       " 'ab300_014': array([0.16470588, 0.        ]),\n",
       " 'ab300_015': array([0.34117647, 0.        ]),\n",
       " 'ab300_016': array([0.62352941, 0.        ]),\n",
       " 'ab300_017': array([0.28235294, 0.        ]),\n",
       " 'ab300_018': array([0.2, 0. ]),\n",
       " 'ab300_019': array([0.2, 0. ]),\n",
       " 'ab300_020': array([0.2, 0. ]),\n",
       " 'ab300_021': array([0.56470588, 0.        ]),\n",
       " 'ab300_022': array([0.63529412, 0.        ]),\n",
       " 'ab300_023': array([0.28235294, 0.        ]),\n",
       " 'ab300_024': array([0.42352941, 0.        ]),\n",
       " 'ab300_026': array([0.51764706, 0.        ]),\n",
       " 'ab300_027': array([0.50588235, 0.        ]),\n",
       " 'ab300_029': array([0.71764706, 0.        ]),\n",
       " 'ab300_030': array([0.24705882, 0.        ]),\n",
       " 'ab300_031': array([0.50588235, 0.        ]),\n",
       " 'ab300_032': array([0.24705882, 0.        ]),\n",
       " 'ab300_033': array([0.43529412, 0.        ]),\n",
       " 'ab300_034': array([0.28235294, 0.        ]),\n",
       " 'ab300_035': array([0.65882353, 0.        ]),\n",
       " 'ab300_036': array([0.76470588, 0.        ]),\n",
       " 'ab300_037': array([0.32941176, 0.        ]),\n",
       " 'ab300_038': array([0.35294118, 0.        ]),\n",
       " 'ab300_039': array([0.76470588, 0.        ]),\n",
       " 'ab300_040': array([0.50588235, 0.        ]),\n",
       " 'ab300_041': array([0.29411765, 0.        ]),\n",
       " 'ab300_042': array([0.64705882, 0.        ]),\n",
       " 'ab300_043': array([0.48235294, 0.        ]),\n",
       " 'ab300_044': array([0.18823529, 0.        ]),\n",
       " 'ab300_045': array([0.2, 0. ]),\n",
       " 'ab300_046': array([0.62352941, 0.        ]),\n",
       " 'ab300_047': array([0.25882353, 0.        ]),\n",
       " 'ab300_048': array([0.30588235, 0.        ]),\n",
       " 'ab300_050': array([0.51764706, 0.        ]),\n",
       " 'ab300_051': array([0.24705882, 0.        ]),\n",
       " 'ab300_052': array([0.32941176, 0.        ]),\n",
       " 'ab300_054': array([0.23529412, 0.        ]),\n",
       " 'ab300_055': array([0.42352941, 0.        ]),\n",
       " 'ab300_056': array([0.48235294, 0.        ]),\n",
       " 'ab300_057': array([0.2, 0. ]),\n",
       " 'ab300_058': array([0.62352941, 0.        ]),\n",
       " 'ab300_059': array([0.70588235, 0.        ]),\n",
       " 'ab300_060': array([0.27058824, 0.        ]),\n",
       " 'ab300_061': array([0.2, 0. ]),\n",
       " 'ab300_062': array([0.28235294, 0.        ]),\n",
       " 'ab300_063': array([0.45882353, 0.        ]),\n",
       " 'ab300_064': array([0.31764706, 0.        ]),\n",
       " 'ab300_065': array([0.35294118, 0.        ]),\n",
       " 'ab300_066': array([0.49411765, 0.        ]),\n",
       " 'ab300_067': array([0.54117647, 0.        ]),\n",
       " 'ab300_068': array([0.56470588, 0.        ]),\n",
       " 'ab300_069': array([0.36470588, 0.        ]),\n",
       " 'ab300_070': array([0.21176471, 0.        ]),\n",
       " 'ab300_071': array([0.47058824, 0.        ]),\n",
       " 'ab300_072': array([0.16470588, 0.        ]),\n",
       " 'ab300_074': array([0.22352941, 0.        ]),\n",
       " 'ab300_075': array([0.64705882, 0.        ]),\n",
       " 'ab300_076': array([0.45882353, 0.        ]),\n",
       " 'ab300_077': array([0.64705882, 0.        ]),\n",
       " 'ab300_078': array([0.35294118, 0.        ]),\n",
       " 'ab300_079': array([0.23529412, 0.        ]),\n",
       " 'ab300_080': array([0.31764706, 0.        ]),\n",
       " 'ab300_081': array([0.36470588, 0.        ]),\n",
       " 'ab300_083': array([0.18823529, 0.        ]),\n",
       " 'ab300_085': array([0.27058824, 0.        ]),\n",
       " 'ab300_086': array([0.70588235, 0.        ]),\n",
       " 'ab300_087': array([0.25882353, 0.        ]),\n",
       " 'ab300_088': array([0.48235294, 0.        ]),\n",
       " 'ab300_089': array([0.37647059, 0.        ]),\n",
       " 'ab300_091': array([0.47058824, 0.        ]),\n",
       " 'ab300_092': array([0.42352941, 0.        ]),\n",
       " 'ab300_094': array([0.56470588, 0.        ]),\n",
       " 'ab300_095': array([0.68235294, 0.        ]),\n",
       " 'ab300_097': array([0.27058824, 0.        ]),\n",
       " 'ab300_098': array([0.31764706, 0.        ]),\n",
       " 'ab300_099': array([0.55294118, 0.        ]),\n",
       " 'ab300_100': array([0.51764706, 0.        ]),\n",
       " 'ab300_102': array([0.36470588, 0.        ]),\n",
       " 'ab300_104': array([0.4, 0. ]),\n",
       " 'ab300_105': array([0.38823529, 0.        ]),\n",
       " 'ab300_106': array([0.2, 0. ]),\n",
       " 'ab300_107': array([0.52941176, 0.        ]),\n",
       " 'ab300_110': array([0.36470588, 0.        ]),\n",
       " 'ab300_111': array([0.32941176, 0.        ]),\n",
       " 'ab300_112': array([0.38823529, 0.        ]),\n",
       " 'ab300_114': array([0.22352941, 0.        ]),\n",
       " 'ab300_115': array([0.23529412, 0.        ]),\n",
       " 'ab300_117': array([0.4, 0. ]),\n",
       " 'ab300_118': array([0.78823529, 0.        ]),\n",
       " 'ab300_119': array([0.71764706, 0.        ]),\n",
       " 'ab300_120': array([0.16470588, 0.        ]),\n",
       " 'ab300_121': array([0.22352941, 0.        ]),\n",
       " 'ab300_123': array([0.16470588, 0.        ]),\n",
       " 'ab300_124': array([0.64705882, 0.        ]),\n",
       " 'ab300_125': array([0.49411765, 0.        ]),\n",
       " 'ab300_126': array([0.75294118, 0.        ]),\n",
       " 'ab300_129': array([0.21176471, 0.        ]),\n",
       " 'ab300_130': array([0.54117647, 0.        ]),\n",
       " 'ab300_131': array([0.16470588, 0.        ]),\n",
       " 'ab300_135': array([0.67058824, 0.        ]),\n",
       " 'ab300_136': array([0.57647059, 0.        ]),\n",
       " 'ab300_137': array([0.62352941, 0.        ]),\n",
       " 'ab300_138': array([0.44705882, 0.        ]),\n",
       " 'ab300_140': array([0.68235294, 0.        ]),\n",
       " 'ab300_141': array([0.27058824, 0.        ]),\n",
       " 'ab300_145': array([0.29411765, 0.        ]),\n",
       " 'ab300_146': array([0.72941176, 0.        ]),\n",
       " 'ab300_150': array([0.6, 0. ]),\n",
       " 'ab300_151': array([0.77647059, 0.        ]),\n",
       " 'ab300_152': array([0.30588235, 0.        ]),\n",
       " 'ab300_154': array([0.77647059, 0.        ]),\n",
       " 'ab300_155': array([0.55294118, 0.        ]),\n",
       " 'ab300_158': array([0.55294118, 0.        ]),\n",
       " 'ab300_159': array([0.75294118, 0.        ]),\n",
       " 'ab300_160': array([0.72941176, 0.        ]),\n",
       " 'ab300_161': array([0.8, 0. ]),\n",
       " 'ab300_163': array([0.67058824, 0.        ]),\n",
       " 'ab300_164': array([0.29411765, 0.        ]),\n",
       " 'ab300_165': array([0.65882353, 0.        ]),\n",
       " 'ab300_166': array([0.50588235, 0.        ]),\n",
       " 'ab300_168': array([0.25882353, 0.        ]),\n",
       " 'ab300_169': array([0.32941176, 0.        ]),\n",
       " 'ab300_170': array([0.56470588, 0.        ]),\n",
       " 'ab300_171': array([0.30588235, 0.        ]),\n",
       " 'ab300_172': array([0.37647059, 0.        ]),\n",
       " 'ab300_173': array([0.6, 0. ]),\n",
       " 'ab300_174': array([0.18823529, 0.        ]),\n",
       " 'ab300_175': array([0.62352941, 0.        ]),\n",
       " 'ab300_176': array([0.69411765, 0.        ]),\n",
       " 'ab300_177': array([0.57647059, 0.        ]),\n",
       " 'ab300_178': array([0.44705882, 0.        ]),\n",
       " 'ab300_179': array([0.18823529, 0.        ]),\n",
       " 'ab300_181': array([0.17647059, 0.        ]),\n",
       " 'ab300_182': array([0.17647059, 0.        ]),\n",
       " 'ab300_184': array([0.68235294, 0.        ]),\n",
       " 'ab300_186': array([0.18823529, 0.        ]),\n",
       " 'ab300_187': array([0.32941176, 0.        ]),\n",
       " 'ab300_188': array([0.72941176, 0.        ]),\n",
       " 'ab300_189': array([0.18823529, 0.        ]),\n",
       " 'ab300_190': array([0.16470588, 0.        ]),\n",
       " 'ab300_191': array([0.4, 0. ]),\n",
       " 'ab300_192': array([0.29411765, 0.        ]),\n",
       " 'ab300_193': array([0.22352941, 0.        ]),\n",
       " 'ab300_194': array([0.4, 0. ]),\n",
       " 'ab300_195': array([0.37647059, 0.        ]),\n",
       " 'ab300_196': array([0.30588235, 0.        ]),\n",
       " 'ab300_197': array([0.18823529, 0.        ]),\n",
       " 'ab300_199': array([0.44705882, 0.        ]),\n",
       " 'ab300_201': array([0.56470588, 0.        ]),\n",
       " 'ab300_202': array([0.35294118, 0.        ]),\n",
       " 'ab300_204': array([0.21176471, 0.        ]),\n",
       " 'ab300_205': array([0.34117647, 0.        ]),\n",
       " 'ab300_208': array([0.30588235, 0.        ]),\n",
       " 'ab300_211': array([0.30588235, 0.        ]),\n",
       " 'ab300_212': array([0.44705882, 0.        ]),\n",
       " 'ab300_216': array([0.70588235, 0.        ]),\n",
       " 'ab300_220': array([0.70588235, 0.        ]),\n",
       " 'ab300_221': array([0.21176471, 0.        ]),\n",
       " 'ab300_222': array([0.70588235, 0.        ]),\n",
       " 'ab300_223': array([0.18823529, 0.        ]),\n",
       " 'ab300_228': array([0.69411765, 0.        ]),\n",
       " 'ab300_229': array([0.70588235, 0.        ]),\n",
       " 'ab300_230': array([0.69411765, 0.        ]),\n",
       " 'ab300_231': array([0.38823529, 0.        ]),\n",
       " 'ab300_232': array([0.23529412, 0.        ]),\n",
       " 'ab300_234': array([0.51764706, 0.        ]),\n",
       " 'ab300_237': array([0.2, 0. ]),\n",
       " 'ab300_238': array([0.51764706, 0.        ]),\n",
       " 'ab300_239': array([0.32941176, 0.        ]),\n",
       " 'ab300_240': array([0.56470588, 0.        ]),\n",
       " 'ab300_244': array([0.51764706, 0.        ]),\n",
       " 'ab300_245': array([0.78823529, 0.        ]),\n",
       " 'ab300_246': array([0.6, 0. ]),\n",
       " 'ab300_250': array([0.37647059, 0.        ]),\n",
       " 'ab300_251': array([0.18823529, 0.        ]),\n",
       " 'ab300_252': array([0.78823529, 0.        ]),\n",
       " 'ab300_253': array([0.18823529, 0.        ]),\n",
       " 'ab300_257': array([0.8, 0. ]),\n",
       " 'ab300_258': array([0.22352941, 0.        ]),\n",
       " 'ab300_259': array([0.61176471, 0.        ]),\n",
       " 'ab300_260': array([0.30588235, 0.        ]),\n",
       " 'ab300_263': array([0.37647059, 0.        ]),\n",
       " 'ab300_264': array([0.35294118, 0.        ]),\n",
       " 'ab300_267': array([0.51764706, 0.        ]),\n",
       " 'ab300_268': array([0.49411765, 0.        ]),\n",
       " 'ab300_269': array([0.31764706, 0.        ]),\n",
       " 'ab300_270': array([0.23529412, 0.        ]),\n",
       " 'ab300_281': array([0.74117647, 0.        ]),\n",
       " 'ab300_282': array([0.36470588, 0.        ]),\n",
       " 'ab300_283': array([0.23529412, 0.        ]),\n",
       " 'ab300_285': array([0.28235294, 0.        ]),\n",
       " 'ab300_288': array([0.52941176, 0.        ]),\n",
       " 'ab300_291': array([0.74117647, 0.        ]),\n",
       " 'ab300_292': array([0.2, 0. ]),\n",
       " 'ab300_293': array([0.25882353, 0.        ]),\n",
       " 'ab300_295': array([0.21176471, 0.        ]),\n",
       " 'ab300_296': array([0.16470588, 0.        ]),\n",
       " 'ab300_297': array([0.17647059, 0.        ]),\n",
       " 'ab300_301': array([0.22352941, 0.        ]),\n",
       " 'ab300_305': array([0.18823529, 0.        ]),\n",
       " 'ab300_306': array([0.24705882, 0.        ]),\n",
       " 'ab300_307': array([0.44705882, 0.        ]),\n",
       " 'ab300_308': array([0.2, 0. ]),\n",
       " 'ab300_309': array([0.17647059, 0.        ]),\n",
       " 'ab300_312': array([0.28235294, 0.        ]),\n",
       " 'ab300_313': array([0.21176471, 0.        ]),\n",
       " 'ab300_314': array([0.17647059, 0.        ]),\n",
       " 'ab300_315': array([0.72941176, 0.        ]),\n",
       " 'ab300_316': array([0.23529412, 0.        ]),\n",
       " 'ab300_317': array([0.75294118, 0.        ]),\n",
       " 'ab300_324': array([0.61176471, 0.        ]),\n",
       " 'ab300_328': array([0.78823529, 0.        ]),\n",
       " 'ab300_329': array([0.77647059, 0.        ]),\n",
       " 'ab300_331': array([0.43529412, 0.        ]),\n",
       " 'ab300_332': array([0.57647059, 0.        ]),\n",
       " 'ab300_333': array([0.17647059, 0.        ]),\n",
       " 'ab300_334': array([0.50588235, 0.        ]),\n",
       " 'ab300_336': array([0.17647059, 0.        ]),\n",
       " 'ab300_337': array([0.47058824, 0.        ]),\n",
       " 'ab300_338': array([0.75294118, 0.        ]),\n",
       " 'ab300_343': array([0.42352941, 0.        ]),\n",
       " 'ab300_348': array([0.51764706, 0.        ]),\n",
       " 'ab300_350': array([0.64705882, 0.        ]),\n",
       " 'ab300_364': array([0.74117647, 0.        ]),\n",
       " 'ab300_388': array([0.71764706, 0.        ]),\n",
       " 'ab300_390': array([0.24705882, 0.        ]),\n",
       " 'cbbrain_005': array([0.31764706, 0.        ]),\n",
       " 'cbbrain_006': array([0.63529412, 0.        ]),\n",
       " 'cbbrain_007': array([0.30588235, 0.        ]),\n",
       " 'cbbrain_008': array([0.44705882, 0.        ]),\n",
       " 'cbbrain_009': array([0.18823529, 0.        ]),\n",
       " 'cbbrain_010': array([0.18823529, 0.        ]),\n",
       " 'cbbrain_014': array([0.18823529, 0.        ]),\n",
       " 'cbbrain_015': array([0.17647059, 0.        ]),\n",
       " 'cbbrain_016': array([0.17647059, 0.        ]),\n",
       " 'cbbrain_019': array([0.25882353, 0.        ]),\n",
       " 'cbbrain_021': array([0.27058824, 0.        ]),\n",
       " 'cbbrain_050': array([0.24705882, 0.        ]),\n",
       " 'cbbrain_053': array([0.67058824, 0.        ]),\n",
       " 'cbbrain_056': array([0.23529412, 0.        ]),\n",
       " 'cbbrain_058': array([0.50588235, 0.        ]),\n",
       " 'cbbrain_065': array([0.61176471, 0.        ]),\n",
       " 'cbbrain_066': array([0.2, 0. ]),\n",
       " 'cbbrain_067': array([0.21176471, 0.        ]),\n",
       " 'cbbrain_068': array([0.35294118, 0.        ]),\n",
       " 'cbbrain_074': array([0.22352941, 0.        ]),\n",
       " 'cbbrain_078': array([0.65882353, 0.        ]),\n",
       " 'cbbrain_079': array([0.16470588, 0.        ]),\n",
       " 'cbbrain_080': array([0.17647059, 0.        ]),\n",
       " 'cbbrain_081': array([0.70588235, 0.        ]),\n",
       " 'cbbrain_082': array([0.64705882, 0.        ]),\n",
       " 'cbbrain_084': array([0.67058824, 0.        ]),\n",
       " 'cbbrain_085': array([0.18823529, 0.        ]),\n",
       " 'cbbrain_087': array([0.29411765, 0.        ]),\n",
       " 'cbbrain_088': array([0.16470588, 0.        ]),\n",
       " 'cbbrain_089': array([0.16470588, 0.        ]),\n",
       " 'cbbrain_090': array([0.22352941, 0.        ]),\n",
       " 'cbbrain_091': array([0.38823529, 0.        ]),\n",
       " 'cbbrain_092': array([0.22352941, 0.        ]),\n",
       " 'cbbrain_093': array([0.67058824, 0.        ]),\n",
       " 'cbbrain_094': array([0.22352941, 0.        ]),\n",
       " 'cbbrain_095': array([0.27058824, 0.        ]),\n",
       " 'cbbrain_096': array([0.37647059, 0.        ]),\n",
       " 'cbbrain_097': array([0.37647059, 0.        ]),\n",
       " 'cbbrain_100': array([0.37647059, 0.        ]),\n",
       " 'cbbrain_102': array([0.61176471, 0.        ]),\n",
       " 'cbbrain_104': array([0.76470588, 0.        ]),\n",
       " 'cbbrain_106': array([0.75294118, 0.        ]),\n",
       " 'cbbrain_107': array([0.55294118, 0.        ]),\n",
       " 'cbbrain_110': array([0.37647059, 0.        ]),\n",
       " 'cbbrain_111': array([0.34117647, 0.        ]),\n",
       " 'cbbrain_112': array([0.18823529, 0.        ]),\n",
       " 'cbbrain_115': array([0.74117647, 0.        ]),\n",
       " 'cbbrain_116': array([0.16470588, 0.        ]),\n",
       " 'cbbrain_117': array([0.28235294, 0.        ]),\n",
       " 'cbbrain_121': array([0.23529412, 0.        ]),\n",
       " 'cbbrain_125': array([0.37647059, 0.        ]),\n",
       " 'cbbrain_126': array([0.4, 0. ]),\n",
       " 'cbbrain_127': array([0.55294118, 0.        ]),\n",
       " 'cbbrain_129': array([0.22352941, 0.        ]),\n",
       " 'cbbrain_130': array([0.31764706, 0.        ]),\n",
       " 'cbbrain_132': array([0.45882353, 0.        ]),\n",
       " 'cbbrain_134': array([0.23529412, 0.        ]),\n",
       " 'cbbrain_135': array([0.38823529, 0.        ]),\n",
       " 'cbbrain_139': array([0.32941176, 0.        ]),\n",
       " 'cbbrain_141': array([0.8, 0. ]),\n",
       " 'cbbrain_142': array([0.30588235, 0.        ]),\n",
       " 'cbbrain_143': array([0.2, 0. ]),\n",
       " 'cbbrain_144': array([0.44705882, 0.        ]),\n",
       " 'cbbrain_147': array([0.41176471, 0.        ]),\n",
       " 'cbbrain_148': array([0.18823529, 0.        ]),\n",
       " 'cbbrain_149': array([0.76470588, 0.        ]),\n",
       " 'cbbrain_154': array([0.37647059, 0.        ]),\n",
       " 'cbbrain_155': array([0.49411765, 0.        ]),\n",
       " 'cbbrain_156': array([0.6, 0. ]),\n",
       " 'cbbrain_157': array([0.17647059, 0.        ]),\n",
       " 'cbbrain_158': array([0.38823529, 0.        ]),\n",
       " 'cbbrain_160': array([0.62352941, 0.        ]),\n",
       " 'cbbrain_161': array([0.6, 0. ]),\n",
       " 'cbbrain_162': array([0.28235294, 0.        ]),\n",
       " 'cbbrain_163': array([0.25882353, 0.        ]),\n",
       " 'cbbrain_164': array([0.56470588, 0.        ]),\n",
       " 'cbbrain_165': array([0.30588235, 0.        ]),\n",
       " 'cbbrain_166': array([0.64705882, 0.        ]),\n",
       " 'cbbrain_169': array([0.76470588, 0.        ]),\n",
       " 'cbbrain_170': array([0.75294118, 0.        ]),\n",
       " 'cbbrain_171': array([0.61176471, 0.        ]),\n",
       " 'cbbrain_172': array([0.49411765, 0.        ]),\n",
       " 'cbbrain_173': array([0.45882353, 0.        ]),\n",
       " 'cbbrain_174': array([0.41176471, 0.        ]),\n",
       " 'cbbrain_175': array([0.65882353, 0.        ]),\n",
       " 'cbbrain_177': array([0.29411765, 0.        ]),\n",
       " 'cbbrain_178': array([0.57647059, 0.        ]),\n",
       " 'cbbrain_180': array([0.52941176, 0.        ]),\n",
       " 'cbbrain_184': array([0.25882353, 0.        ]),\n",
       " 'cbbrain_185': array([0.47058824, 0.        ]),\n",
       " 'cbbrain_186': array([0.48235294, 0.        ]),\n",
       " 'cbbrain_193': array([0.54117647, 0.        ]),\n",
       " 'cbbrain_194': array([0.35294118, 0.        ]),\n",
       " 'cbbrain_400': array([0.52941176, 0.        ]),\n",
       " 'cbbrain_401': array([0.76470588, 0.        ]),\n",
       " 'cbbrain_402': array([0.58823529, 0.        ]),\n",
       " 'cbbrain_403': array([0.62352941, 0.        ]),\n",
       " 'cbbrain_404': array([0.70588235, 0.        ]),\n",
       " 'cbbrain_405': array([0.62352941, 0.        ]),\n",
       " 'tle_002': array([0.49759871, 1.        ]),\n",
       " 'tle_002_2': array([0.53124899, 1.        ]),\n",
       " 'tle_003': array([0.1864303, 1.       ]),\n",
       " 'tle_004': array([0.2706527, 1.       ]),\n",
       " 'tle_005': array([0.31803384, 1.        ]),\n",
       " 'tle_006': array([0.44786463, 1.        ]),\n",
       " 'tle_007': array([0.77189363, 1.        ]),\n",
       " 'tle_007_2': array([0.8035133, 1.       ]),\n",
       " 'tle_008': array([0.63435939, 1.        ]),\n",
       " 'tle_008_2': array([0.66481869, 1.        ]),\n",
       " 'tle_009': array([0.57289283, 1.        ]),\n",
       " 'tle_010': array([0.4927639, 1.       ]),\n",
       " 'tle_010_2': array([0.52273973, 1.        ]),\n",
       " 'tle_013': array([0.64992748, 1.        ]),\n",
       " 'tle_017': array([0.52148268, 1.        ]),\n",
       " 'tle_017_2': array([0.55007252, 1.        ]),\n",
       " 'tle_018': array([0.53814666, 1.        ]),\n",
       " 'tle_018_2': array([0.56721998, 1.        ]),\n",
       " 'tle_019': array([0.1540693, 1.       ]),\n",
       " 'tle_021': array([0.58236906, 1.        ]),\n",
       " 'tle_021_2': array([0.61112006, 1.        ]),\n",
       " 'tle_024': array([0.36947623, 1.        ]),\n",
       " 'tle_024_2': array([0.39745367, 1.        ]),\n",
       " 'tle_032': array([0.34378727, 1.        ]),\n",
       " 'tle_032_2': array([0.37150685, 1.        ]),\n",
       " 'tle_034': array([0.54001612, 1.        ]),\n",
       " 'tle_040': array([0.2826108, 1.       ]),\n",
       " 'tle_040_2': array([0.30978243, 1.        ]),\n",
       " 'tle_041': array([0.56419017, 1.        ]),\n",
       " 'tle_041_2': array([0.60554392, 1.        ]),\n",
       " 'tle_042': array([0.34520548, 1.        ]),\n",
       " 'tle_043': array([0.46488316, 1.        ]),\n",
       " 'tle_043_2': array([0.48560838, 1.        ]),\n",
       " 'tle_044': array([0.26913779, 1.        ]),\n",
       " 'tle_044_2': array([0.28954069, 1.        ]),\n",
       " 'tle_045': array([0.1702498, 1.       ]),\n",
       " 'tle_045_2': array([0.18626914, 1.        ]),\n",
       " 'tle_046': array([0.46243352, 1.        ]),\n",
       " 'tle_046_2': array([0.47429492, 1.        ]),\n",
       " 'tle_048': array([0.40377115, 1.        ]),\n",
       " 'tle_048_2': array([0.42762288, 1.        ]),\n",
       " 'tle_CT2': array([0.4995971, 1.       ]),\n",
       " 'tle_CT2_2': array([0.53121676, 1.        ])}"
      ]
     },
     "execution_count": 23,
     "metadata": {},
     "output_type": "execute_result"
    }
   ],
   "source": [
    "labels"
   ]
  },
  {
   "cell_type": "code",
   "execution_count": null,
   "metadata": {},
   "outputs": [],
   "source": [
    "torch.save(result_dict, \"new_labels_cognitive_score_hippo/labels.pt\")\n",
    "\n",
    "#pd.DataFrame(list(labels.items()), columns=['shape', 'label']).to_csv(\"torus_bump\\\\torus_bump_labels.csv\")\n",
    "\n",
    "# Create an empty DataFrame\n",
    "df = pd.DataFrame(columns=['shape', 'age', 'PSMT_score'])\n",
    "\n",
    "# Iterate over the items in the labels dictionary\n",
    "for shape, values in result_dict.items():\n",
    "    # Access the individual values from the NumPy array\n",
    "    value1 = values[0]\n",
    "    value2 = values[1]\n",
    "\n",
    "    # Append a new row with the values to the DataFrame\n",
    "    df = df.append({'shape': shape, 'age': value1, 'PSMT_score': value2}, ignore_index=True)\n",
    "\n",
    "# Write the DataFrame to an Excel file\n",
    "df.to_csv(\"new_labels_cognitive_score_hippo/hippo_score_labels.csv\")"
   ]
  },
  {
   "cell_type": "code",
   "execution_count": 119,
   "metadata": {},
   "outputs": [],
   "source": [
    "test = torch.load(\"C:\\\\Users\\\\Jakar\\\\Downloads\\\\Hippocampus_Study\\\\disease_progression\\\\hippo_tle_label\\\\labels.pt\")"
   ]
  },
  {
   "cell_type": "code",
   "execution_count": 20,
   "metadata": {},
   "outputs": [
    {
     "ename": "NameError",
     "evalue": "name 'test' is not defined",
     "output_type": "error",
     "traceback": [
      "\u001b[1;31m---------------------------------------------------------------------------\u001b[0m",
      "\u001b[1;31mNameError\u001b[0m                                 Traceback (most recent call last)",
      "Cell \u001b[1;32mIn[20], line 1\u001b[0m\n\u001b[1;32m----> 1\u001b[0m \u001b[43mtest\u001b[49m\n",
      "\u001b[1;31mNameError\u001b[0m: name 'test' is not defined"
     ]
    }
   ],
   "source": [
    "test"
   ]
  },
  {
   "cell_type": "code",
   "execution_count": 104,
   "metadata": {},
   "outputs": [],
   "source": [
    "# Find the maximum and minimum values of the second element\n",
    "min_val = min(test.values(), key=lambda x: x[1])[1]\n",
    "max_val = max(test.values(), key=lambda x: x[1])[1]\n",
    "\n",
    "# Normalize the second element of each array\n",
    "for key in test:\n",
    "    value = test[key]\n",
    "    normalized_value = (value[1] - min_val) / (max_val - min_val)\n",
    "    value[1] = normalized_value\n",
    "\n",
    "#print(test)"
   ]
  },
  {
   "cell_type": "code",
   "execution_count": null,
   "metadata": {},
   "outputs": [],
   "source": [
    "result_dict = test\n",
    "torch.save(result_dict, \"new_labels_cognitive_score_hippo/labels.pt\")\n",
    "\n",
    "#pd.DataFrame(list(labels.items()), columns=['shape', 'label']).to_csv(\"torus_bump\\\\torus_bump_labels.csv\")\n",
    "\n",
    "# Create an empty DataFrame\n",
    "df = pd.DataFrame(columns=['shape', 'age', 'PSMT_score'])\n",
    "\n",
    "# Iterate over the items in the labels dictionary\n",
    "for shape, values in result_dict.items():\n",
    "    # Access the individual values from the NumPy array\n",
    "    value1 = values[0]\n",
    "    value2 = values[1]\n",
    "\n",
    "    # Append a new row with the values to the DataFrame\n",
    "    df = df.append({'shape': shape, 'age': value1, 'PSMT_score': value2}, ignore_index=True)\n",
    "\n",
    "# Write the DataFrame to an Excel file\n",
    "df.to_csv(\"new_labels_cognitive_score_hippo/hippo_score_labels.csv\")"
   ]
  },
  {
   "cell_type": "code",
   "execution_count": 19,
   "metadata": {},
   "outputs": [],
   "source": [
    "angles_predict = torch.load(\"C:/Users/Jakar/Downloads/Hippocampus_Study/generate_synthetic_data/models_torus/170/angles_predict.pt\", map_location=torch.device('cpu')) "
   ]
  },
  {
   "cell_type": "code",
   "execution_count": null,
   "metadata": {},
   "outputs": [],
   "source": [
    "angles_predict*360.0"
   ]
  },
  {
   "cell_type": "code",
   "execution_count": 20,
   "metadata": {},
   "outputs": [],
   "source": [
    "mesh_predict_np_t = np.load('C:/Users/Jakar/Downloads/Hippocampus_Study/generate_synthetic_data/models_torus/170/mesh_predict.npy')\n",
    "mesh_predict_t = mesh_predict_np_t.tolist()"
   ]
  },
  {
   "cell_type": "code",
   "execution_count": 21,
   "metadata": {},
   "outputs": [
    {
     "data": {
      "text/plain": [
       "(3496, 3)"
      ]
     },
     "execution_count": 21,
     "metadata": {},
     "output_type": "execute_result"
    }
   ],
   "source": [
    "verts = np.array(mesh_predict_t[-4]).squeeze()\n",
    "verts.shape"
   ]
  },
  {
   "cell_type": "code",
   "execution_count": 22,
   "metadata": {},
   "outputs": [],
   "source": [
    "pcd1 = o3d.io.read_triangle_mesh('C:/Users/Jakar/Downloads/Hippocampus_Study/generate_synthetic_data/torus_bump_500_one/template.ply')"
   ]
  },
  {
   "cell_type": "code",
   "execution_count": 23,
   "metadata": {},
   "outputs": [
    {
     "data": {
      "text/plain": [
       "(6992, 3)"
      ]
     },
     "execution_count": 23,
     "metadata": {},
     "output_type": "execute_result"
    }
   ],
   "source": [
    "faces = np.asarray(pcd1.triangles)\n",
    "faces.shape"
   ]
  },
  {
   "cell_type": "code",
   "execution_count": 201,
   "metadata": {},
   "outputs": [
    {
     "data": {
      "text/plain": [
       "True"
      ]
     },
     "execution_count": 201,
     "metadata": {},
     "output_type": "execute_result"
    }
   ],
   "source": [
    "#######################################################\n",
    "igl.write_triangle_mesh(\"C:/Users/Jakar/Downloads/Hippocampus_Study/generate_synthetic_data/models_torus/170/generated_0.ply\", verts, faces)"
   ]
  },
  {
   "cell_type": "code",
   "execution_count": 202,
   "metadata": {},
   "outputs": [],
   "source": [
    "pcd1 = o3d.io.read_triangle_mesh('C:/Users/Jakar/Downloads/Hippocampus_Study/generate_synthetic_data/models_torus/170/generated_0.ply')"
   ]
  },
  {
   "cell_type": "code",
   "execution_count": 24,
   "metadata": {},
   "outputs": [],
   "source": [
    "pcd1.compute_vertex_normals()\n",
    "pcd1.paint_uniform_color([0.8, 0.8, 0.8])\n",
    "o3d.visualization.draw_geometries([pcd1])"
   ]
  },
  {
   "cell_type": "code",
   "execution_count": 405,
   "metadata": {},
   "outputs": [
    {
     "data": {
      "application/vnd.jupyter.widget-view+json": {
       "model_id": "72857ca19ade41098a38ea80716163a2",
       "version_major": 2,
       "version_minor": 0
      },
      "text/plain": [
       "interactive(children=(FloatSlider(value=0.0, description='z0', max=3.0, min=-3.0, step=0.2), FloatSlider(value…"
      ]
     },
     "metadata": {},
     "output_type": "display_data"
    }
   ],
   "source": [
    "z = torch.zeros(16)\n",
    "@interact(**{f'z{i}': FloatSlider(min=-3.0, max=3.0, step=0.2, value=0) for i in range(16)})\n",
    "def update_array(**kwargs):\n",
    "    global z\n",
    "    z = torch.tensor([kwargs[f'z{i}'] for i in range(16)])\n",
    "    return z"
   ]
  },
  {
   "cell_type": "code",
   "execution_count": null,
   "metadata": {},
   "outputs": [],
   "source": [
    "tensor = torch.rand((50, 1))\n",
    "tensor"
   ]
  },
  {
   "cell_type": "code",
   "execution_count": null,
   "metadata": {},
   "outputs": [],
   "source": [
    "tensor[0:5]"
   ]
  },
  {
   "cell_type": "code",
   "execution_count": 421,
   "metadata": {},
   "outputs": [],
   "source": [
    "#z"
   ]
  },
  {
   "cell_type": "code",
   "execution_count": null,
   "metadata": {},
   "outputs": [],
   "source": [
    "import os\n",
    "\n",
    "# Define the directory path\n",
    "directory_path = \"C:\\\\Users\\Jakar\\\\Downloads\\\\Hippocampus_Study\\\\disease_progression\\\\hippoData_regstrd_disease_reconstrct_ply\"\n",
    "\n",
    "# Define the common prefix to remove\n",
    "common_prefix = \"DeterministicAtlas__Reconstruction__hippo__subject_\"\n",
    "\n",
    "# List all files in the directory\n",
    "file_list = os.listdir(directory_path)\n",
    "\n",
    "# Iterate through the files\n",
    "for filename in file_list:\n",
    "    # Check if the file starts with the common prefix\n",
    "    if filename.startswith(common_prefix):\n",
    "        # Extract the remaining part and convert it to lowercase\n",
    "        new_name = filename[len(common_prefix):].lower()\n",
    "        \n",
    "        # Construct the new file path\n",
    "        new_path = os.path.join(directory_path, new_name)\n",
    "        \n",
    "        # Rename the file\n",
    "        os.rename(os.path.join(directory_path, filename), new_path)\n",
    "        \n",
    "        print(f\"Renamed '{filename}' to '{new_name}'\")\n"
   ]
  },
  {
   "cell_type": "code",
   "execution_count": 41,
   "metadata": {},
   "outputs": [],
   "source": [
    "# Load the vertices and faces from the .npy files\n",
    "faces_all = np.load(\"C:\\\\Users\\\\Jakar\\\\Downloads\\\\Hippocampus_Study\\\\disease_progression\\\\save_plots_ms_range\\\\mesh_faces.npy\")\n",
    "vertices_all = np.load(\"C:\\\\Users\\\\Jakar\\\\Downloads\\\\Hippocampus_Study\\\\disease_progression\\\\save_plots_ms_range\\\\mesh_vertices.npy\")"
   ]
  },
  {
   "cell_type": "code",
   "execution_count": 42,
   "metadata": {},
   "outputs": [
    {
     "name": "stdout",
     "output_type": "stream",
     "text": [
      "(16, 6378, 3)\n",
      "16\n"
     ]
    }
   ],
   "source": [
    "print(vertices_all.shape)\n",
    "print(faces_all.shape[0])"
   ]
  },
  {
   "cell_type": "code",
   "execution_count": 47,
   "metadata": {},
   "outputs": [],
   "source": [
    "import open3d.visualization as vis\n",
    "from matplotlib.colors import LinearSegmentedColormap\n",
    "\n",
    "j=1\n",
    "for i in range(0, vertices_all.shape[0], 2):\n",
    "    \n",
    "    mesh2_vertices = vertices_all[i]\n",
    "    mesh2_faces = faces_all[i]\n",
    "    mesh1_vertices = vertices_all[i+1]\n",
    "    mesh1_faces = faces_all[i+1]\n",
    "\n",
    "    # Calculate the distances between corresponding vertices \n",
    "    distances = np.linalg.norm(mesh1_vertices - mesh2_vertices, axis=1)\n",
    "\n",
    "    # Add a small epsilon value to the denominator to avoid division by zero\n",
    "    epsilon = 1e-6\n",
    "    normalized_distances = (distances - distances.min()) / (distances.max() - distances.min() + epsilon)\n",
    "\n",
    "    # Replace NaN values with a specific value (e.g., 0.5 for gray)\n",
    "    normalized_distances[np.isnan(normalized_distances)] = 0.5\n",
    "\n",
    "    # Create Open3D TriangleMesh objects for both meshes\n",
    "    mesh1 = o3d.geometry.TriangleMesh()\n",
    "    mesh1.vertices = o3d.utility.Vector3dVector(mesh1_vertices)\n",
    "    mesh1.triangles = o3d.utility.Vector3iVector(mesh1_faces)\n",
    "\n",
    "    mesh2 = o3d.geometry.TriangleMesh()\n",
    "    mesh2.vertices = o3d.utility.Vector3dVector(mesh2_vertices)\n",
    "    mesh2.triangles = o3d.utility.Vector3iVector(mesh2_faces)\n",
    "\n",
    "    '''\n",
    "    def distance_to_color(distance):\n",
    "        if distance == 0:\n",
    "            return [0, 0, 0.5]  # Dark blue for no distance\n",
    "        elif distance < 0.1:\n",
    "            return [0, 0, 1]  # Solid blue for very low distances\n",
    "        elif distance < 0.2:\n",
    "            return [0.5, 0.5, 1]  # Light blue for low distances\n",
    "        elif distance < 0.4:\n",
    "            return [1, 1, 0.5]  # Light yellow for distances in [0.2, 0.4)\n",
    "        else:\n",
    "            return [1, 1, 0]  # Solid yellow for distances greater than or equal to 0.4\n",
    "\n",
    "\n",
    "    # Map the distances to colors\n",
    "    colors = [distance_to_color(distance) for distance in normalized_distances]\n",
    "    '''\n",
    "\n",
    "    # Define a custom colormap that transitions from dark blue to light blue to light yellow to dark yellow\n",
    "    colors = [(0, 0, 0.5), (0.5, 0.5, 1), (1, 1, 0.5), (1, 1, 0)]\n",
    "    n_bins = 100  # Number of bins in the colormap\n",
    "    cmap_name = \"custom_cmap\"\n",
    "    custom_cmap = LinearSegmentedColormap.from_list(cmap_name, colors, N=n_bins)\n",
    "\n",
    "    # Map the normalized distances to colors using the custom colormap\n",
    "    colors = custom_cmap(normalized_distances)\n",
    "\n",
    "    # Create a blank VertexColors object and set it with colors\n",
    "    mesh1.vertex_colors = o3d.utility.Vector3dVector(np.zeros_like(mesh2_vertices, dtype=float))\n",
    "    for i, color in enumerate(colors):\n",
    "        mesh1.vertex_colors[i] = color[:3]  # Assign RGB color to each vertex\n",
    "\n",
    "\n",
    "    mesh1.compute_vertex_normals()\n",
    "    mesh2.compute_vertex_normals()\n",
    "    mesh2.paint_uniform_color([0, 0, 0.5])\n",
    "\n",
    "    # Visualize the colored mesh2\n",
    "    #o3d.visualization.draw_geometries([mesh1])\n",
    "    o3d.visualization.draw_geometries([mesh2])\n",
    "    #o3d.visualization.draw_geometries([mesh1, mesh2], window_name='Meshes', width=800, height=800)\n",
    "    vis = o3d.visualization.Visualizer()\n",
    "    vis.create_window()\n",
    "    vis.add_geometry(mesh1)\n",
    "    vis.update_geometry(mesh1)\n",
    "    vis.poll_events()\n",
    "    vis.update_renderer()\n",
    "    vis.capture_screen_image(f\"C:\\\\Users\\\\Jakar\\\\Downloads\\\\Hippocampus_Study\\\\disease_progression\\\\save_plots\\\\save_plots\\\\{j}_diseased.png\")\n",
    "    vis.destroy_window()\n",
    "    #mesh2\n",
    "    vis = o3d.visualization.Visualizer()\n",
    "    vis.create_window()\n",
    "    vis.add_geometry(mesh2)\n",
    "    vis.update_geometry(mesh2)\n",
    "    vis.poll_events()\n",
    "    vis.update_renderer()\n",
    "    vis.capture_screen_image(f\"C:\\\\Users\\\\Jakar\\\\Downloads\\\\Hippocampus_Study\\\\disease_progression\\\\save_plots\\\\save_plots\\\\{j}_healthy.png\")\n",
    "    vis.destroy_window()\n",
    "    j=j+1\n",
    "    #if j == 2:\n",
    "        #break"
   ]
  },
  {
   "cell_type": "code",
   "execution_count": 76,
   "metadata": {},
   "outputs": [],
   "source": [
    "vis = o3d.visualization.Visualizer()\n",
    "vis.create_window()\n",
    "vis.add_geometry(mesh1)\n",
    "vis.update_geometry(mesh1)\n",
    "vis.poll_events()\n",
    "vis.update_renderer()\n",
    "vis.capture_screen_image(\"C:\\\\Users\\\\Jakar\\\\Downloads\\\\Hippocampus_Study\\\\disease_progression\\\\save_plots\\\\save_plots\\\\1.png\")\n",
    "vis.destroy_window()"
   ]
  },
  {
   "cell_type": "code",
   "execution_count": 16,
   "metadata": {},
   "outputs": [
    {
     "name": "stdout",
     "output_type": "stream",
     "text": [
      "0.014296832195129387\n"
     ]
    }
   ],
   "source": [
    "print(np.max(distances))"
   ]
  },
  {
   "cell_type": "code",
   "execution_count": 36,
   "metadata": {},
   "outputs": [
    {
     "name": "stderr",
     "output_type": "stream",
     "text": [
      "C:\\Users\\Jakar\\AppData\\Local\\Temp\\ipykernel_32908\\2234274258.py:9: UserWarning: FixedFormatter should only be used together with FixedLocator\n",
      "  cbar.set_ticklabels(['0', '1', '2', '3', '4'])\n"
     ]
    },
    {
     "data": {
      "image/png": "[encoded data removed]",
      "text/plain": [
       "<Figure size 25x1000 with 1 Axes>"
      ]
     },
     "metadata": {},
     "output_type": "display_data"
    }
   ],
   "source": [
    "# Create a Matplotlib figure for the color bar\n",
    "fig_colorbar = plt.figure(figsize=(0.25, 10))  # Adjust the figure size as needed\n",
    "\n",
    "# Create the color bar using Matplotlib\n",
    "colorbar_ax = fig_colorbar.add_subplot(111)\n",
    "cbar = plt.colorbar(plt.cm.ScalarMappable(cmap=custom_cmap), cax=colorbar_ax, orientation='vertical')\n",
    "cbar.set_label('Distance (mm)')# Set custom ticks for the color bar\n",
    "ticks = np.linspace(0, 1, num=5)  # Customize the tick positions (0 to 1 in this example)\n",
    "cbar.set_ticklabels(['0', '1', '2', '3', '4']) \n",
    "cbar.set_ticks(ticks)\n",
    "\n",
    "cbar.ax.tick_params(axis='y', labelsize=30)  # Set the font size of the tick labels\n",
    "cbar.ax.set_ylabel(cbar.ax.get_ylabel(), fontsize=22)  # Set the font size of the color bar label\n",
    "\n",
    "# Display the color bar\n",
    "plt.show()"
   ]
  },
  {
   "cell_type": "code",
   "execution_count": 29,
   "metadata": {},
   "outputs": [
    {
     "data": {
      "image/png": "[encoded data removed]",
      "text/plain": [
       "<Figure size 800x100 with 1 Axes>"
      ]
     },
     "metadata": {},
     "output_type": "display_data"
    }
   ],
   "source": []
  },
  {
   "cell_type": "code",
   "execution_count": 42,
   "metadata": {},
   "outputs": [
    {
     "name": "stdout",
     "output_type": "stream",
     "text": [
      "(6378, 3)\n"
     ]
    }
   ],
   "source": [
    "print(mesh1_vertices.shape)"
   ]
  },
  {
   "cell_type": "code",
   "execution_count": 35,
   "metadata": {},
   "outputs": [
    {
     "data": {
      "application/vnd.jupyter.widget-view+json": {
       "model_id": "ff82b00a91ea4c9c8754410a73ec66de",
       "version_major": 2,
       "version_minor": 0
      },
      "text/plain": [
       "Renderer(camera=PerspectiveCamera(children=(DirectionalLight(color='white', intensity=0.6, position=(-0.004293…"
      ]
     },
     "metadata": {},
     "output_type": "display_data"
    },
    {
     "data": {
      "text/plain": [
       "<meshplot.Viewer.Viewer at 0x1d63ff50970>"
      ]
     },
     "execution_count": 35,
     "metadata": {},
     "output_type": "execute_result"
    }
   ],
   "source": [
    "white_color = [1.0, 1.0, 1.0]\n",
    "grey_color = [0.5, 0.5, 0.5]\n",
    "\n",
    "mp.plot(vertices_all[0], faces_all[0], c=np.array(white_color), return_plot=True)\n",
    "#mp.plot(vertices_all[1], faces_all[1], return_plot=True)"
   ]
  },
  {
   "cell_type": "code",
   "execution_count": 48,
   "metadata": {},
   "outputs": [
    {
     "name": "stdout",
     "output_type": "stream",
     "text": [
      "Original Dimensions: 1920x1053\n",
      "Cropped Dimensions: 563x820\n",
      "\n",
      "Original Dimensions: 1920x1053\n",
      "Cropped Dimensions: 563x820\n",
      "\n",
      "Original Dimensions: 1920x1053\n",
      "Cropped Dimensions: 563x820\n",
      "\n",
      "Original Dimensions: 1920x1053\n",
      "Cropped Dimensions: 563x820\n",
      "\n",
      "Original Dimensions: 1920x1053\n",
      "Cropped Dimensions: 563x820\n",
      "\n",
      "Original Dimensions: 1920x1053\n",
      "Cropped Dimensions: 563x820\n",
      "\n",
      "Original Dimensions: 1920x1053\n",
      "Cropped Dimensions: 563x820\n",
      "\n",
      "Original Dimensions: 1920x1053\n",
      "Cropped Dimensions: 563x820\n",
      "\n",
      "Original Dimensions: 1920x1053\n",
      "Cropped Dimensions: 563x820\n",
      "\n",
      "Original Dimensions: 1920x1053\n",
      "Cropped Dimensions: 563x820\n",
      "\n",
      "Original Dimensions: 1920x1053\n",
      "Cropped Dimensions: 563x820\n",
      "\n",
      "Original Dimensions: 1920x1053\n",
      "Cropped Dimensions: 563x820\n",
      "\n",
      "Original Dimensions: 1920x1053\n",
      "Cropped Dimensions: 563x820\n",
      "\n",
      "Original Dimensions: 1920x1053\n",
      "Cropped Dimensions: 563x820\n",
      "\n",
      "Original Dimensions: 1920x1053\n",
      "Cropped Dimensions: 563x820\n",
      "\n",
      "Original Dimensions: 1920x1053\n",
      "Cropped Dimensions: 563x820\n",
      "\n"
     ]
    }
   ],
   "source": [
    "import cv2\n",
    "import os\n",
    "\n",
    "# Define input and output directories\n",
    "input_directory = \"C:\\\\Users\\\\Jakar\\\\Downloads\\\\Hippocampus_Study\\\\disease_progression\\\\save_plots\\\\save_plots\\\\\"\n",
    "output_directory = \"C:\\\\Users\\\\Jakar\\\\Downloads\\\\Hippocampus_Study\\\\disease_progression\\\\save_plots_ms_range\\\\\"\n",
    "\n",
    "# Create the output directory if it doesn't exist\n",
    "os.makedirs(output_directory, exist_ok=True)\n",
    "\n",
    "# Specify the number of pixels to crop from each side\n",
    "left_crop = 550\n",
    "right_crop = 550\n",
    "top_crop = 250\n",
    "bottom_crop = 240\n",
    "\n",
    "# Loop through the images in the input directory\n",
    "for filename in os.listdir(input_directory):\n",
    "    if filename.endswith((\".jpg\", \".jpeg\", \".png\", \".bmp\")):\n",
    "        # Read the image\n",
    "        image = cv2.imread(os.path.join(input_directory, filename))\n",
    "\n",
    "        if image is not None:\n",
    "            # Get the original dimensions\n",
    "            original_height, original_width = image.shape[:2]\n",
    "            #print(original_height, original_width)\n",
    "            \n",
    "            # Calculate the cropping dimensions\n",
    "            crop_x1 = left_crop\n",
    "            crop_x2 = original_width - right_crop\n",
    "            crop_y1 = top_crop\n",
    "            crop_y2 = original_height - bottom_crop\n",
    "\n",
    "            # Crop the image\n",
    "            cropped_image = image[crop_y1:crop_y2, crop_x1:crop_x2]\n",
    "\n",
    "            # Save the cropped image to the output directory\n",
    "            output_filename = os.path.join(output_directory, filename)\n",
    "            cv2.imwrite(output_filename, cropped_image)\n",
    "\n",
    "            # Display original and cropped dimensions\n",
    "            print(f\"Original Dimensions: {original_width}x{original_height}\")\n",
    "            cropped_width, cropped_height = cropped_image.shape[:2]\n",
    "            print(f\"Cropped Dimensions: {cropped_width}x{cropped_height}\\n\")\n",
    "        else:\n",
    "            print(f\"Unable to read image: {filename}\")"
   ]
  },
  {
   "cell_type": "code",
   "execution_count": 2,
   "metadata": {},
   "outputs": [
    {
     "name": "stdout",
     "output_type": "stream",
     "text": [
      "Mean of A: 8942.35\n",
      "Standard Deviation of A: 506.4182337752068\n",
      "Mean of B: 9183.4\n",
      "Standard Deviation of B: 464.5495022061697\n"
     ]
    }
   ],
   "source": [
    "import numpy as np\n",
    "\n",
    "A = np.array([8200, 8510, 8800, 9205, 9595, 8200, 8510, 8800, 9205, 9595, 8200, 8510, 8800, 9205, 9595, 8520, 8825, 9240, 9522, 9810])\n",
    "B = np.array([8520, 8825, 9240, 9522, 9810, 8520, 8825, 9240, 9522, 9810,8520, 8825, 9240, 9522, 9810, 8520, 8825, 9240, 9522, 9810])\n",
    "\n",
    "mean_A = np.mean(A)\n",
    "std_dev_A = np.std(A)\n",
    "\n",
    "mean_B = np.mean(B)\n",
    "std_dev_B = np.std(B)\n",
    "\n",
    "print(\"Mean of A:\", mean_A)\n",
    "print(\"Standard Deviation of A:\", std_dev_A)\n",
    "print(\"Mean of B:\", mean_B)\n",
    "print(\"Standard Deviation of B:\", std_dev_B)\n"
   ]
  },
  {
   "cell_type": "code",
   "execution_count": 3,
   "metadata": {},
   "outputs": [],
   "source": [
    "ositive_differences = np.random.randint(200, 220, 10)"
   ]
  },
  {
   "cell_type": "code",
   "execution_count": 4,
   "metadata": {},
   "outputs": [
    {
     "data": {
      "text/plain": [
       "array([211, 216, 219, 212, 205, 213, 205, 204, 219, 205])"
      ]
     },
     "execution_count": 4,
     "metadata": {},
     "output_type": "execute_result"
    }
   ],
   "source": [
    "ositive_differences"
   ]
  },
  {
   "cell_type": "code",
   "execution_count": 5,
   "metadata": {},
   "outputs": [
    {
     "name": "stdout",
     "output_type": "stream",
     "text": [
      "Wilcoxon W-statistic: 112.74868987669332\n",
      "P-value: 1.724288365974981e-15\n"
     ]
    }
   ],
   "source": [
    "from scipy.stats import ttest_1samp\n",
    "\n",
    "w_stat, p_value = ttest_1samp(ositive_differences, 0)\n",
    "\n",
    "print(\"Wilcoxon W-statistic:\", w_stat)\n",
    "print(\"P-value:\", p_value)\n"
   ]
  }
 ],
 "metadata": {
  "kernelspec": {
   "display_name": "Python 3 (ipykernel)",
   "language": "python",
   "name": "python3"
  },
  "language_info": {
   "codemirror_mode": {
    "name": "ipython",
    "version": 3
   },
   "file_extension": ".py",
   "mimetype": "text/x-python",
   "name": "python",
   "nbconvert_exporter": "python",
   "pygments_lexer": "ipython3",
   "version": "3.9.16"
  }
 },
 "nbformat": 4,
 "nbformat_minor": 4
}
