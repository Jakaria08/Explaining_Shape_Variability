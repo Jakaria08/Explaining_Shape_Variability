{
 "cells": [
  {
   "cell_type": "code",
   "execution_count": 1,
   "metadata": {
    "tags": []
   },
   "outputs": [
    {
     "name": "stdout",
     "output_type": "stream",
     "text": [
      "Jupyter environment detected. Enabling Open3D WebVisualizer.\n",
      "[Open3D INFO] WebRTC GUI backend enabled.\n",
      "[Open3D INFO] WebRTCWindowSystem: HTTP handshake server disabled.\n"
     ]
    }
   ],
   "source": [
    "import os, sys\n",
    "\n",
    "from math import ceil\n",
    "import pyvista as pv\n",
    "import numpy as np\n",
    "import meshplot as mp\n",
    "import ipywidgets as widgets\n",
    "from ipywidgets import interact, interactive, fixed, interact_manual, FloatSlider\n",
    "from skimage import measure\n",
    "from scipy.ndimage import zoom\n",
    "from scipy.interpolate import interpn\n",
    "from IPython.display import display\n",
    "from einops import rearrange\n",
    "import igl\n",
    "from tqdm import tqdm\n",
    "from sklearn.preprocessing import MinMaxScaler\n",
    "import torch\n",
    "from scipy import stats\n",
    "import matplotlib.pyplot as plt\n",
    "import pandas as pd\n",
    "import open3d as o3d\n",
    "from IPython.display import display\n",
    "import random"
   ]
  },
  {
   "cell_type": "code",
   "execution_count": 2,
   "metadata": {},
   "outputs": [],
   "source": [
    "# Meshplot left an annoying print statement in their code. Using this context manager to supress it...\n",
    "class HiddenPrints:\n",
    "    def __enter__(self):\n",
    "        self._original_stdout = sys.stdout\n",
    "        sys.stdout = open(os.devnull, 'w')\n",
    "\n",
    "    def __exit__(self, exc_type, exc_val, exc_tb):\n",
    "        sys.stdout.close()\n",
    "        sys.stdout = self._original_stdout"
   ]
  },
  {
   "cell_type": "code",
   "execution_count": 12,
   "metadata": {},
   "outputs": [],
   "source": [
    "# Dot product on the first dimension of n-dimensional arrays x and y\n",
    "def dot(x, y):\n",
    "    return np.einsum('i..., i... -> ...', x, y)\n",
    "\n",
    "# Signed distance functions from Inigo Quilez https://iquilezles.org/articles/distfunctions/\n",
    "# You could implement the smooth minimum operation as well to compose shapes together for more complex situations\n",
    "def sdf_sphere(x, radius):\n",
    "    return np.linalg.norm(x, axis=0) - radius\n",
    "\n",
    "def sdf_capsule(x, a, b, r):\n",
    "    xa = coords - a\n",
    "    ba = coords - a\n",
    "    h = np.clip(dot(xa, ba) / dot(ba, ba), 0., 1.)\n",
    "    return np.linalg.norm(xa - ba * h) - r\n",
    "\n",
    "def sdf_torus(x, radius, thickness):\n",
    "    \n",
    "    q = np.stack([np.linalg.norm(x[[0, 1]], axis=0) - radius, x[2]])\n",
    "    return np.linalg.norm(q, axis=0) - thickness\n",
    "\n",
    "# Crop an n-dimensional image with a centered cropping region\n",
    "def center_crop(img, shape):\n",
    "    start = [a // 2 - da // 2 for a, da in zip(img.shape, shape)]\n",
    "    end = [a + b for a, b in zip(start, shape)]\n",
    "    slices = tuple([slice(a, b) for a, b in zip(start, end)])\n",
    "    return img[slices]\n",
    "\n",
    "# Add noise to coordinates\n",
    "def gradient_noise(x, scale, strength, seed=None):\n",
    "    shape = [ceil(s / scale) for s in x.shape[1:]]\n",
    "    if seed:\n",
    "        np.random.seed(seed)\n",
    "    scalar_noise = np.random.randn(*shape)\n",
    "    scalar_noise = zoom(scalar_noise, zoom=scale)\n",
    "    scalar_noise = center_crop(scalar_noise, shape=x.shape[1:])\n",
    "    vector_noise = np.stack(np.gradient(scalar_noise))\n",
    "    return vector_noise * strength\n"
   ]
  },
  {
   "cell_type": "code",
   "execution_count": 10,
   "metadata": {
    "scrolled": false
   },
   "outputs": [
    {
     "data": {
      "application/vnd.jupyter.widget-view+json": {
       "model_id": "384bf59049ea4034b9e6a7b576f8cced",
       "version_major": 2,
       "version_minor": 0
      },
      "text/plain": [
       "interactive(children=(FloatSlider(value=0.15, description='radius', max=0.3, step=0.01), FloatSlider(value=0.0…"
      ]
     },
     "metadata": {},
     "output_type": "display_data"
    }
   ],
   "source": [
    "plot=None\n",
    "@mp.interact(\n",
    "    radius=(0, 0.3, 0.01), \n",
    "    thickness=(0.01, 0.1, 0.01), \n",
    "    noise_scale=(5, 25), \n",
    "    noise_strength=(0.0, 0.4, 0.05),\n",
    "    seed=(1, 100)\n",
    ")\n",
    "def show(radius, thickness, noise_scale, noise_strength, seed):\n",
    "    global plot\n",
    "    global sdf\n",
    "    coords = np.linspace(-1, 1, 100)\n",
    "    x = np.stack(np.meshgrid(coords, coords, coords))\n",
    "    x = x + gradient_noise(x, noise_scale, noise_strength, seed)\n",
    "    sdf = sdf_torus(x, radius, thickness)\n",
    "    verts, faces, normals, values = measure.marching_cubes(sdf, level=0)\n",
    "    \n",
    "    if plot is None:\n",
    "        plot = mp.plot(verts, faces, return_plot=True)\n",
    "    else:\n",
    "        with HiddenPrints():\n",
    "            plot.update_object(vertices=verts, faces=faces)\n",
    "        display(plot._renderer)"
   ]
  },
  {
   "cell_type": "code",
   "execution_count": 11,
   "metadata": {
    "scrolled": false
   },
   "outputs": [
    {
     "data": {
      "application/vnd.jupyter.widget-view+json": {
       "model_id": "18e5e726f76546a1a5325960cf251303",
       "version_major": 2,
       "version_minor": 0
      },
      "text/plain": [
       "interactive(children=(FloatSlider(value=0.25, description='radius', max=0.5, step=0.01), FloatSlider(value=0.0…"
      ]
     },
     "metadata": {},
     "output_type": "display_data"
    }
   ],
   "source": [
    "plot=None\n",
    "@mp.interact(\n",
    "    radius=(0, 0.5, 0.01), \n",
    "    thickness=(0.01, 0.20, 0.01), \n",
    "    noise_scale=(0.0, 20, 1),\n",
    "    noise_strength=(0.0, 10, 1),\n",
    "    seed=(1, 100),\n",
    "    bump_angle=(-1., 1., 0.01),\n",
    "    bump_width=(0.01, 0.02, 0.001),\n",
    "    bump_height=(0.01, 50.),\n",
    "    scale=(0.85, 1.15, 0.01),\n",
    ")\n",
    "def show(radius, thickness, noise_scale, noise_strength, seed, bump_angle, bump_width, bump_height, scale):\n",
    "    global plot\n",
    "    coords = np.linspace(-1, 1, 100)\n",
    "    x = np.stack(np.meshgrid(coords, coords, coords))\n",
    "    sdf = sdf_torus(x, radius, thickness)\n",
    "    verts, faces, normals, values = measure.marching_cubes(sdf, level=0)\n",
    "    \n",
    "    x_warp = gradient_noise(x, noise_scale, noise_strength, seed)\n",
    "    print(x_warp.shape)\n",
    "    \n",
    "    angle = np.pi * bump_angle\n",
    "    gaussian_center = np.array([np.cos(angle), np.sin(angle), 0.]) * radius\n",
    "    print(gaussian_center)\n",
    "    x_dist = np.linalg.norm((x - gaussian_center[:, None, None, None]), axis=0)\n",
    "    print(x_dist.shape)\n",
    "    x_bump = bump_height * np.e ** -(1. / bump_width * x_dist ** 2)\n",
    "    print(x_bump.shape)\n",
    "    x_warp += -np.stack(np.gradient(x_bump))\n",
    "    \n",
    "    x_warp = rearrange(x_warp, 'v h w d -> h w d v')\n",
    "    vertex_noise = interpn([np.arange(100) for _ in range(3)], x_warp, verts)\n",
    "    verts += vertex_noise\n",
    "    \n",
    "    original_center = np.mean(verts, axis=0)\n",
    "    \n",
    "    verts = verts*scale\n",
    "    \n",
    "    new_center = np.mean(verts, axis=0)\n",
    "    displacement_vector = original_center - new_center\n",
    "    verts += displacement_vector\n",
    "    \n",
    "    print(verts.shape)\n",
    "    print(faces.shape)\n",
    "    max_values = np.amax(verts, axis=0)\n",
    "    min_values = np.amin(verts, axis=0)\n",
    "\n",
    "    print(\"Maximum values:\", max_values)\n",
    "    print(\"Minimum values:\", min_values)\n",
    "    if plot is None:\n",
    "        plot = mp.plot(verts, faces, return_plot=True)\n",
    "    else:\n",
    "        with HiddenPrints():\n",
    "            plot.update_object(vertices=verts, faces=faces)\n",
    "        display(plot._renderer)"
   ]
  },
  {
   "cell_type": "markdown",
   "metadata": {},
   "source": [
    "## Save torus data into file"
   ]
  },
  {
   "cell_type": "code",
   "execution_count": null,
   "metadata": {
    "tags": []
   },
   "outputs": [],
   "source": [
    "radius=0.25 \n",
    "thickness=0.10\n",
    "noise_scale=16\n",
    "noise_strength=10\n",
    "seed=50\n",
    "bump_width=.01\n",
    "bump_height=25\n",
    "\n",
    "feature_range_bump_height = np.linspace(20, 45, 300, endpoint=False)\n",
    "feature_range_scale = np.linspace(0.85, 1.15, 300, endpoint=False)\n",
    "feature_range_angle = np.linspace(-1, 1, 5000, endpoint=False)\n",
    "\n",
    "scaler = MinMaxScaler()\n",
    "scaler.fit(feature_range_angle.reshape(-1, 1))\n",
    "\n",
    "scaler_s = MinMaxScaler()\n",
    "scaler_s.fit(feature_range_scale.reshape(-1, 1))\n",
    "\n",
    "scaler_b = MinMaxScaler()\n",
    "scaler_b.fit(feature_range_bump_height.reshape(-1, 1))\n",
    "\n",
    "labels = {}\n",
    "\n",
    "for idx, bump_angle in tqdm(enumerate(np.linspace(-1, 1, 5000))):\n",
    "    coords = np.linspace(-1, 1, 100)\n",
    "    x = np.stack(np.meshgrid(coords, coords, coords))\n",
    "    \n",
    "    filepath = f\"torus_bump_5000_two_scale_binary_bump_variable_noise_fixed_angle/torus_bump_{idx:04d}.ply\"\n",
    "    filename = filepath.split(\"/\")[-1].split(\".\")[0]\n",
    "    \n",
    "    scale = random.choice(feature_range_scale)\n",
    "    bump_height = random.choice(feature_range_bump_height)\n",
    "    print(scale)\n",
    "    print(bump_height)\n",
    "    sdf = sdf_torus(x, radius, thickness)\n",
    "    \n",
    "    \n",
    "    verts, faces, normals, values = measure.marching_cubes(sdf, level=0)  \n",
    "    \n",
    "    s = scaler_s.transform(np.array([scale]).reshape(-1,1)).item()\n",
    "    b = scaler_b.transform(np.array([bump_height]).reshape(-1,1)).item()\n",
    "    \n",
    "    bump_width = 0.001 if idx % 2 == 0 else 0.01\n",
    "    bump_angle = 1\n",
    "    \n",
    "    labels[filename] = np.array([idx % 2, bump_angle, s, b])\n",
    "    \n",
    "    print(labels[filename])\n",
    "    print(len(verts))\n",
    "    print(len(faces))\n",
    "\n",
    "    x_warp = gradient_noise(x, noise_scale, noise_strength) #### no seed, random noise\n",
    "    angle = np.pi * bump_angle\n",
    "    gaussian_center = np.array([np.cos(angle), np.sin(angle), 0]) * radius\n",
    "    x_dist = np.linalg.norm((x - gaussian_center[:, None, None, None]), axis=0)\n",
    "    x_bump = bump_height * np.e ** -(1. / bump_width * x_dist ** 2)\n",
    "\n",
    "    x_warp += -np.stack(np.gradient(x_bump))\n",
    "\n",
    "    x_warp = rearrange(x_warp, 'v h w d -> h w d v')\n",
    "    vertex_noise = interpn([np.arange(100) for _ in range(3)], x_warp, verts)\n",
    "   \n",
    "    verts += vertex_noise\n",
    "    \n",
    "    original_center = np.mean(verts, axis=0)\n",
    "    \n",
    "    verts = verts*scale\n",
    "    \n",
    "    new_center = np.mean(verts, axis=0)\n",
    "    displacement_vector = original_center - new_center\n",
    "    verts += displacement_vector\n",
    "\n",
    "    igl.write_triangle_mesh(filepath, verts, faces)\n",
    "    \n",
    "torch.save(labels, \"torus_bump_5000_two_scale_binary_bump_variable_noise_fixed_angle/labels.pt\")\n",
    "\n",
    "\n",
    "# Create an empty DataFrame\n",
    "df = pd.DataFrame(columns=['shape', 'is_bump', 'angle', 'scale', 'bump_height'])\n",
    "\n",
    "# Iterate over the items in the labels dictionary\n",
    "for shape, values in labels.items():\n",
    "    # Access the individual values from the NumPy array\n",
    "    value1 = values[0]\n",
    "    value2 = values[1]\n",
    "    value3 = values[2]\n",
    "    value4 = values[3]\n",
    "\n",
    "    # Append a new row with the values to the DataFrame\n",
    "    df = df.append({'shape': shape, 'is_bump': value1, 'angle': value2, 'scale': value3, 'bump_height': value4}, ignore_index=True)\n",
    "\n",
    "# Write the DataFrame to an Excel file\n",
    "df.to_csv(\"torus_bump_5000_two_scale_binary_bump_variable_noise_fixed_angle/torus_bump_labels.csv\")"
   ]
  },
  {
   "cell_type": "code",
   "execution_count": 292,
   "metadata": {},
   "outputs": [
    {
     "data": {
      "text/plain": [
       "0.5084745762711864"
      ]
     },
     "execution_count": 292,
     "metadata": {},
     "output_type": "execute_result"
    }
   ],
   "source": [
    "scaler_t = MinMaxScaler()\n",
    "scaler_t.fit(feature_range_thickness.reshape(-1, 1))\n",
    "t = scaler_t.transform(np.array([0.1]).reshape(-1,1)).item()\n",
    "t"
   ]
  },
  {
   "cell_type": "markdown",
   "metadata": {
    "tags": []
   },
   "source": [
    "## Save template into file"
   ]
  },
  {
   "cell_type": "code",
   "execution_count": 5,
   "metadata": {},
   "outputs": [
    {
     "name": "stdout",
     "output_type": "stream",
     "text": [
      "(3496, 3)\n",
      "(6992, 3)\n"
     ]
    },
    {
     "data": {
      "text/plain": [
       "True"
      ]
     },
     "execution_count": 5,
     "metadata": {},
     "output_type": "execute_result"
    }
   ],
   "source": [
    "radius=0.25\n",
    "thickness=0.10\n",
    "noise_scale=16\n",
    "noise_strength=10\n",
    "seed=50\n",
    "bump_width=0.001\n",
    "bump_height=0.001\n",
    "bump_angle = 1\n",
    "\n",
    "coords = np.linspace(-1, 1, 100)\n",
    "x = np.stack(np.meshgrid(coords, coords, coords))\n",
    "sdf = sdf_torus(x, radius, thickness)\n",
    "verts, faces, normals, values = measure.marching_cubes(sdf, level=0)    \n",
    "\n",
    "x_warp = gradient_noise(x, noise_scale, noise_strength) # no seed, random noise\n",
    "\n",
    "angle = np.pi * bump_angle\n",
    "gaussian_center = gaussian_center = np.array([np.cos(angle), np.sin(angle), 0]) * radius\n",
    "x_dist = np.linalg.norm((x - gaussian_center[:, None, None, None]), axis=0)\n",
    "x_bump = bump_height * np.e ** -(1. / bump_width * x_dist ** 2)\n",
    "x_warp += -np.stack(np.gradient(x_bump))\n",
    "\n",
    "x_warp = rearrange(x_warp, 'v h w d -> h w d v')\n",
    "vertex_noise = interpn([np.arange(100) for _ in range(3)], x_warp, verts)\n",
    "verts += vertex_noise\n",
    "\n",
    "#scaler = MinMaxScaler(feature_range=(-0.5, 0.5))\n",
    "#verts = scaler.fit_transform(verts)\n",
    "print(verts.shape)\n",
    "print(faces.shape)\n",
    "\n",
    "igl.write_triangle_mesh(f\"torus_bump_5000_two_scale_binary_bump_variable_noise_fixed_angle/template/template.ply\", verts, faces)"
   ]
  },
  {
   "cell_type": "markdown",
   "metadata": {},
   "source": [
    "## Save (min-max-scaled) labels into file"
   ]
  },
  {
   "cell_type": "code",
   "execution_count": null,
   "metadata": {},
   "outputs": [],
   "source": [
    "scaler = MinMaxScaler()\n",
    "labels = scaler.fit_transform(np.linspace(0, 1, 500).reshape(-1,1))\n",
    "torch.save(labels.reshape(-1), \"torus_bump_500_two/labels.pt\")"
   ]
  },
  {
   "cell_type": "code",
   "execution_count": 459,
   "metadata": {},
   "outputs": [
    {
     "name": "stderr",
     "output_type": "stream",
     "text": [
      "100%|██████████| 500/500 [00:00<?, ?it/s]\n"
     ]
    }
   ],
   "source": [
    "labels = {}\n",
    "feature_range = np.linspace(-1, 1, 500)\n",
    "i=0\n",
    "for x in tqdm(feature_range):\n",
    "    filename = f'torus_bump_{i}'\n",
    "    labels[filename] = x\n",
    "    i = i+1\n",
    "\n",
    "torch.save(labels, \"C:/Users/Jakar/Downloads/Hippocampus_Study/torus_bump_500/torus_bump_500/labels.pt\")\n",
    "pd.DataFrame(list(labels.items()), columns=['shape', 'label']).to_csv(\"C:/Users/Jakar/Downloads/Hippocampus_Study/torus_bump_500/torus_bump_500/torus_bump_labels.csv\")"
   ]
  }
 ],
 "metadata": {
  "kernelspec": {
   "display_name": "Python 3 (ipykernel)",
   "language": "python",
   "name": "python3"
  },
  "language_info": {
   "codemirror_mode": {
    "name": "ipython",
    "version": 3
   },
   "file_extension": ".py",
   "mimetype": "text/x-python",
   "name": "python",
   "nbconvert_exporter": "python",
   "pygments_lexer": "ipython3",
   "version": "3.9.16"
  }
 },
 "nbformat": 4,
 "nbformat_minor": 4
}
