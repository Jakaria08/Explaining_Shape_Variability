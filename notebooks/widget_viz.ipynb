{
 "cells": [
  {
   "cell_type": "markdown",
   "id": "5216439d",
   "metadata": {},
   "source": [
    "# SpiralNet++ Visualizations"
   ]
  },
  {
   "cell_type": "code",
   "execution_count": 1,
   "id": "9a2724ad-484c-421e-bc05-0fed52c5237e",
   "metadata": {},
   "outputs": [],
   "source": [
    "import os\n",
    "import torch\n",
    "import trimesh\n",
    "import ipywidgets\n",
    "import numpy as np\n",
    "import meshplot as mp\n",
    "import ipywidgets as widgets\n",
    "\n",
    "import matplotlib.pyplot as plt\n",
    "%matplotlib inline\n",
    "\n",
    "from ipywidgets import interact\n",
    "from IPython.display import display"
   ]
  },
  {
   "cell_type": "markdown",
   "id": "09b91653-df9e-4893-9092-828ac17dffcf",
   "metadata": {},
   "source": [
    "## Load vertices"
   ]
  },
  {
   "cell_type": "code",
   "execution_count": 2,
   "id": "84e57a0b-5a34-4917-8006-6efab2207b42",
   "metadata": {},
   "outputs": [],
   "source": [
    "def get_vertices(directory: str, substring: str):\n",
    "    strings = [item for item in os.listdir(directory) if substring in item]\n",
    "    \n",
    "    data = []\n",
    "    for i in range(len(strings)):\n",
    "        data.append(torch.load(f\"./hippocampus/prediction_{i}.pt\").detach().numpy())\n",
    "    \n",
    "    return np.vstack(data)\n",
    "\n",
    "vertices = get_vertices(directory=\"./hippocampus/\", substring=\"prediction\")"
   ]
  },
  {
   "cell_type": "markdown",
   "id": "720077a7-157e-4cd2-a87a-b98dab51ca72",
   "metadata": {},
   "source": [
    "## Load faces"
   ]
  },
  {
   "cell_type": "code",
   "execution_count": 3,
   "id": "da1bd4c0-76ac-460c-a638-c3e436e6ff00",
   "metadata": {},
   "outputs": [],
   "source": [
    "def get_faces(directory: str):\n",
    "    return torch.load(f\"{directory}faces.pt\")#\n",
    "\n",
    "faces = get_faces(\"./hippocampus/\")"
   ]
  },
  {
   "cell_type": "markdown",
   "id": "0165e289",
   "metadata": {},
   "source": [
    "## Load mean and std"
   ]
  },
  {
   "cell_type": "code",
   "execution_count": 4,
   "id": "9597abf6-ac5a-4b01-85ec-01a44f43f82a",
   "metadata": {},
   "outputs": [],
   "source": [
    "def get_mean_std(directory: str):\n",
    "    mean = torch.load(f\"{directory}mean.pt\").detach().numpy()\n",
    "    std = torch.load (f\"{directory}std.pt\").detach().numpy()\n",
    "    \n",
    "    return mean, std\n",
    "    \n",
    "mean, std = get_mean_std(\"./hippocampus/\")"
   ]
  },
  {
   "cell_type": "markdown",
   "id": "51e54470",
   "metadata": {},
   "source": [
    "## Interactive visualization"
   ]
  },
  {
   "cell_type": "code",
   "execution_count": 5,
   "id": "80354334-11f3-4c20-96ab-bebd2c313475",
   "metadata": {},
   "outputs": [
    {
     "name": "stderr",
     "output_type": "stream",
     "text": [
      "/home/hannes/anaconda3/envs/spiralnet/lib/python3.9/site-packages/jupyter_client/session.py:716: UserWarning: Message serialization failed with:\n",
      "Out of range float values are not JSON compliant\n",
      "Supporting this message is deprecated in jupyter-client 7, please make sure your message is JSON-compliant\n",
      "  content = self.pack(content)\n"
     ]
    },
    {
     "data": {
      "application/vnd.jupyter.widget-view+json": {
       "model_id": "77cd1a6ecae74bd29e6b7141a60bf4c7",
       "version_major": 2,
       "version_minor": 0
      },
      "text/plain": [
       "Renderer(camera=PerspectiveCamera(children=(DirectionalLight(color='white', intensity=0.6, position=(0.3770980…"
      ]
     },
     "metadata": {},
     "output_type": "display_data"
    }
   ],
   "source": [
    "def browse_predictions(vertices: np.ndarray, faces: np.ndarray, mean: np.ndarray, std: np.ndarray, lib: str = \"meshplot\"):\n",
    "    \n",
    "    n = vertices.shape[0]\n",
    "    \n",
    "    def view_predictions(i):  \n",
    "        \n",
    "        temp = (vertices[i]*std)+mean\n",
    "        \n",
    "        if lib == \"meshplot\":\n",
    "        \n",
    "            #Meshplot\n",
    "            p.update_object(vertices=temp)\n",
    "        \n",
    "        else:\n",
    "        \n",
    "            #Trimesh\n",
    "            mesh = trimesh.base.Trimesh(vertices=temp, faces=faces)\n",
    "            scene = trimesh.Scene([mesh])\n",
    "            scene.show()\n",
    "    \n",
    "    interact(view_predictions, i=(0,n-1))\n",
    "\n",
    "vertices = (vertices *std) + mean\n",
    "p = mp.plot(v=vertices[0], f=faces, return_plot=True)"
   ]
  },
  {
   "cell_type": "code",
   "execution_count": 6,
   "id": "3105b919-af76-44ce-9356-c33febc0cd51",
   "metadata": {},
   "outputs": [
    {
     "data": {
      "application/vnd.jupyter.widget-view+json": {
       "model_id": "1a6df6be59dc48b4a370afa200243424",
       "version_major": 2,
       "version_minor": 0
      },
      "text/plain": [
       "interactive(children=(IntSlider(value=224, description='i', max=449), Output()), _dom_classes=('widget-interac…"
      ]
     },
     "metadata": {},
     "output_type": "display_data"
    }
   ],
   "source": [
    "browse_predictions(vertices[:,:,:], faces, mean, std)"
   ]
  }
 ],
 "metadata": {
  "kernelspec": {
   "display_name": "Python 3 (ipykernel)",
   "language": "python",
   "name": "python3"
  },
  "language_info": {
   "codemirror_mode": {
    "name": "ipython",
    "version": 3
   },
   "file_extension": ".py",
   "mimetype": "text/x-python",
   "name": "python",
   "nbconvert_exporter": "python",
   "pygments_lexer": "ipython3",
   "version": "3.9.12"
  }
 },
 "nbformat": 4,
 "nbformat_minor": 5
}
