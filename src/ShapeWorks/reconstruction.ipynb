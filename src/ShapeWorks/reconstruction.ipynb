{
 "cells": [
  {
   "cell_type": "code",
   "execution_count": 12,
   "id": "0271ee05-391f-4718-a62b-548fa82a04c6",
   "metadata": {},
   "outputs": [],
   "source": [
    "import os\n",
    "import igl\n",
    "import subprocess\n",
    "import numpy as np \n",
    "import shapeworks as sw\n",
    "import meshplot as mp\n",
    "import matplotlib.pyplot as plt\n",
    "\n",
    "from glob import glob\n",
    "from tqdm import tqdm\n",
    "from sklearn.decomposition import PCA\n",
    "\n",
    "from ipywidgets import interact, widgets"
   ]
  },
  {
   "cell_type": "code",
   "execution_count": 53,
   "id": "3d1b1468-e05d-4587-a526-63df7c54177d",
   "metadata": {},
   "outputs": [],
   "source": [
    "def warp_mesh(mesh, particles):\n",
    "    warper = sw.MeshWarper()\n",
    "    warper.generateWarp(mesh, particles.reshape(-1,3))\n",
    "    warped_mesh = warper.buildMesh(particles.reshape(-1,3))\n",
    "    \n",
    "    return warped_mesh"
   ]
  },
  {
   "cell_type": "markdown",
   "id": "4deaa20a-5430-4ad3-ab3f-da32a61280b8",
   "metadata": {},
   "source": [
    "## Load particles"
   ]
  },
  {
   "cell_type": "code",
   "execution_count": 49,
   "id": "81dac57a-42c6-42ed-ae97-9ac821443b6c",
   "metadata": {},
   "outputs": [
    {
     "name": "stderr",
     "output_type": "stream",
     "text": [
      "100%|███████████████████████████████████████████████████████████████████████████| 100/100 [00:00<00:00, 258.65it/s]\n"
     ]
    }
   ],
   "source": [
    "particle_list = []\n",
    "\n",
    "for particles_path in tqdm(sorted(glob(\"shape_model/hippocampus_particles/*left_local.particles\"))):\n",
    "    particles = sw.ParticleSystem([particles_path]).ShapeAsPointSet(0)\n",
    "    particle_list.append(particles.flatten())\n",
    "\n",
    "original_particles = np.array(particle_list)"
   ]
  },
  {
   "cell_type": "markdown",
   "id": "e6e096cc-2dc6-4554-8b1e-a4803cca1528",
   "metadata": {},
   "source": [
    "## Load meshes"
   ]
  },
  {
   "cell_type": "code",
   "execution_count": 42,
   "id": "7effe383-4fa1-4965-a3ff-f64b2925021e",
   "metadata": {},
   "outputs": [
    {
     "name": "stderr",
     "output_type": "stream",
     "text": [
      "100%|████████████████████████████████████████████████████████████████████████████| 100/100 [00:03<00:00, 32.24it/s]\n"
     ]
    }
   ],
   "source": [
    "mesh_list = []\n",
    "\n",
    "for mesh_path in tqdm(sorted(glob(\"groomed/meshes/data/*left.vtk\"))):\n",
    "    mesh = sw.Mesh(mesh_path)\n",
    "    mesh_list.append(mesh)"
   ]
  },
  {
   "cell_type": "markdown",
   "id": "d2f620cd-fb07-4ea3-ab20-4de119578c5a",
   "metadata": {},
   "source": [
    "## Fit PCA"
   ]
  },
  {
   "cell_type": "code",
   "execution_count": 43,
   "id": "c45ec68f-2790-4d2a-9c5b-ef3cb11ec861",
   "metadata": {},
   "outputs": [],
   "source": [
    "pca = PCA(n_components=16)\n",
    "pca.fit(particle_array)\n",
    "\n",
    "exp_var_pca = pca.explained_variance_ratio_\n",
    "cum_sum_eigenvalues = np.cumsum(exp_var_pca)"
   ]
  },
  {
   "cell_type": "code",
   "execution_count": 44,
   "id": "7198cec0-d890-4b0e-8047-023353bb4dd4",
   "metadata": {},
   "outputs": [
    {
     "data": {
      "image/png": "[encoded data removed]",
      "text/plain": [
       "<Figure size 1000x500 with 1 Axes>"
      ]
     },
     "metadata": {},
     "output_type": "display_data"
    }
   ],
   "source": [
    "plt.figure(figsize=(10,5))\n",
    "plt.bar(range(0,len(exp_var_pca)), exp_var_pca, alpha=0.5, align='center', label='Individual explained variance')\n",
    "plt.step(range(0,len(cum_sum_eigenvalues)), cum_sum_eigenvalues, where='mid',label='Cumulative explained variance')\n",
    "plt.ylabel('Explained variance ratio')\n",
    "plt.xlabel('Principal component index')\n",
    "plt.legend(loc='center right')\n",
    "plt.tight_layout()\n",
    "plt.show()"
   ]
  },
  {
   "cell_type": "markdown",
   "id": "5006a298-26eb-438a-ade3-5ac8ebd4a09a",
   "metadata": {
    "tags": []
   },
   "source": [
    "## Original particle reconstruction"
   ]
  },
  {
   "cell_type": "code",
   "execution_count": 64,
   "id": "2acea2e8-ad69-4aa3-bbbd-f269b800d5f8",
   "metadata": {},
   "outputs": [],
   "source": [
    "recon_dir = 'orig_particle_reconstruction/'\n",
    "if not os.path.exists(recon_dir):\n",
    "    os.makedirs(recon_dir)"
   ]
  },
  {
   "cell_type": "code",
   "execution_count": 67,
   "id": "e9d06b25-16f0-4a5d-b207-48a44c4b89c4",
   "metadata": {},
   "outputs": [
    {
     "name": "stderr",
     "output_type": "stream",
     "text": [
      "100it [02:37,  1.58s/it]\n"
     ]
    }
   ],
   "source": [
    "meshes = sorted(glob(\"groomed/meshes/data/*left.vtk\"))\n",
    "particles = sorted(glob(\"shape_model/hippocampus_particles/*left_local.particles\"))\n",
    "\n",
    "for i, mesh_path in tqdm(enumerate(meshes)):\n",
    "    mesh_name = mesh_path.split(\"\\\\\")[-1].replace('vtk', \"\")\n",
    "    mesh = sw.Mesh(mesh_path)\n",
    "    particle = sw.ParticleSystem([particles[i]]).ShapeAsPointSet(0)\n",
    "    mesh = warp_mesh(mesh, particle)\n",
    "    mesh.write(f\"{recon_dir}{mesh_name}.ply\")\n",
    "                   "
   ]
  },
  {
   "cell_type": "code",
   "execution_count": 70,
   "id": "7d94ad5e-2017-4503-9191-ff562dc579a1",
   "metadata": {},
   "outputs": [
    {
     "data": {
      "application/vnd.jupyter.widget-view+json": {
       "model_id": "d1d23f562770413cbb2b4550098f07fb",
       "version_major": 2,
       "version_minor": 0
      },
      "text/plain": [
       "Renderer(camera=PerspectiveCamera(children=(DirectionalLight(color='white', intensity=0.6, position=(89.228000…"
      ]
     },
     "metadata": {},
     "output_type": "display_data"
    },
    {
     "data": {
      "application/vnd.jupyter.widget-view+json": {
       "model_id": "fa54b04e204d42d785a89755a96cd2bc",
       "version_major": 2,
       "version_minor": 0
      },
      "text/plain": [
       "interactive(children=(IntSlider(value=0, description='i'), Output()), _dom_classes=('widget-interact',))"
      ]
     },
     "metadata": {},
     "output_type": "display_data"
    }
   ],
   "source": [
    "meshes = sorted(glob(\"orig_particle_reconstruction/*.ply\"))\n",
    "\n",
    "vertices, faces = igl.read_triangle_mesh(meshes[0])\n",
    "p = mp.plot(vertices, faces)\n",
    "\n",
    "@interact(i=widgets.IntSlider(value=0, min=0, max=len(meshes), step=1))\n",
    "def plot_surface_reconstruction(i):\n",
    "    vertices, faces = igl.read_triangle_mesh(meshes[i])\n",
    "    p.update_object(vertices=vertices, faces=faces)\n"
   ]
  },
  {
   "cell_type": "markdown",
   "id": "461962a2-a130-4f2a-953a-9916e04254cc",
   "metadata": {},
   "source": [
    "## PCA particle reconstruction"
   ]
  },
  {
   "cell_type": "code",
   "execution_count": 75,
   "id": "08929253-077a-45ec-9a98-cd30c2a1c2f7",
   "metadata": {},
   "outputs": [],
   "source": [
    "pca_recon_dir = 'pca_particle_reconstruction/'\n",
    "if not os.path.exists(pca_recon_dir):\n",
    "    os.makedirs(pca_recon_dir)"
   ]
  },
  {
   "cell_type": "code",
   "execution_count": 76,
   "id": "e7873638-301e-47f5-b72f-7840f94a62a6",
   "metadata": {},
   "outputs": [],
   "source": [
    "pca_latent = pca.transform(original_particles)\n",
    "recon_particles = pca.inverse_transform(pca_latent)\n",
    "recon_particles = recon_particles.reshape(pca_latent.shape[0], -1)"
   ]
  },
  {
   "cell_type": "code",
   "execution_count": 78,
   "id": "ba3500f9-54a7-4ef6-a4da-a5c95d620421",
   "metadata": {},
   "outputs": [
    {
     "name": "stderr",
     "output_type": "stream",
     "text": [
      "100it [02:35,  1.55s/it]\n"
     ]
    }
   ],
   "source": [
    "meshes = sorted(glob(\"groomed/meshes/data/*left.vtk\"))\n",
    "particles = sorted(glob(\"shape_model/hippocampus_particles/*left_local.particles\"))\n",
    "\n",
    "for i, mesh_path in tqdm(enumerate(meshes)):\n",
    "    mesh_name = mesh_path.split(\"\\\\\")[-1].replace('vtk', \"\")\n",
    "    mesh = sw.Mesh(mesh_path)\n",
    "    mesh = warp_mesh(mesh, recon_particles[i])\n",
    "    mesh.write(f\"{pca_recon_dir}{mesh_name}.ply\")"
   ]
  },
  {
   "cell_type": "code",
   "execution_count": 79,
   "id": "b7866957-25cd-405a-8fbd-050f231c15cf",
   "metadata": {},
   "outputs": [
    {
     "data": {
      "application/vnd.jupyter.widget-view+json": {
       "model_id": "5f1e5e12f96e45b0b4f00a5c351d5650",
       "version_major": 2,
       "version_minor": 0
      },
      "text/plain": [
       "Renderer(camera=PerspectiveCamera(children=(DirectionalLight(color='white', intensity=0.6, position=(89.160797…"
      ]
     },
     "metadata": {},
     "output_type": "display_data"
    },
    {
     "data": {
      "application/vnd.jupyter.widget-view+json": {
       "model_id": "5cf07d8b8ed745579b585ba680ee8531",
       "version_major": 2,
       "version_minor": 0
      },
      "text/plain": [
       "interactive(children=(IntSlider(value=0, description='i'), Output()), _dom_classes=('widget-interact',))"
      ]
     },
     "metadata": {},
     "output_type": "display_data"
    }
   ],
   "source": [
    "meshes = sorted(glob(\"pca_particle_reconstruction/*.ply\"))\n",
    "\n",
    "vertices, faces = igl.read_triangle_mesh(meshes[0])\n",
    "p = mp.plot(vertices, faces)\n",
    "\n",
    "@interact(i=widgets.IntSlider(value=0, min=0, max=len(meshes), step=1))\n",
    "def plot_surface_reconstruction(i):\n",
    "    vertices, faces = igl.read_triangle_mesh(meshes[i])\n",
    "    p.update_object(vertices=vertices, faces=faces)"
   ]
  },
  {
   "cell_type": "markdown",
   "id": "6cc45a97-5982-4ac6-895b-7f46b15c6547",
   "metadata": {},
   "source": [
    "## Reconstruction difference"
   ]
  },
  {
   "cell_type": "code",
   "execution_count": 82,
   "id": "f09d17ed-3dfb-4f6c-9a44-16effb67ee99",
   "metadata": {},
   "outputs": [],
   "source": [
    "orig_meshes = sorted(glob(\"orig_particle_reconstruction/*.ply\"))\n",
    "recon_meshes = sorted(glob(\"pca_particle_reconstruction/*.ply\"))"
   ]
  },
  {
   "cell_type": "code",
   "execution_count": 85,
   "id": "4081286a-aab2-4ba6-afdf-7581b0ee7f94",
   "metadata": {},
   "outputs": [
    {
     "ename": "ValueError",
     "evalue": "operands could not be broadcast together with shapes (4824,3) (4821,3) ",
     "output_type": "error",
     "traceback": [
      "\u001b[1;31m---------------------------------------------------------------------------\u001b[0m",
      "\u001b[1;31mValueError\u001b[0m                                Traceback (most recent call last)",
      "\u001b[1;32m~\\AppData\\Local\\Temp\\ipykernel_9752\\1735088060.py\u001b[0m in \u001b[0;36m<module>\u001b[1;34m\u001b[0m\n\u001b[0;32m      2\u001b[0m \u001b[0mvertices_r\u001b[0m\u001b[1;33m,\u001b[0m \u001b[0mfaces_r\u001b[0m \u001b[1;33m=\u001b[0m \u001b[0migl\u001b[0m\u001b[1;33m.\u001b[0m\u001b[0mread_triangle_mesh\u001b[0m\u001b[1;33m(\u001b[0m\u001b[0mrecon_meshes\u001b[0m\u001b[1;33m[\u001b[0m\u001b[1;36m0\u001b[0m\u001b[1;33m]\u001b[0m\u001b[1;33m)\u001b[0m\u001b[1;33m\u001b[0m\u001b[1;33m\u001b[0m\u001b[0m\n\u001b[0;32m      3\u001b[0m \u001b[1;33m\u001b[0m\u001b[0m\n\u001b[1;32m----> 4\u001b[1;33m \u001b[0mdiff\u001b[0m \u001b[1;33m=\u001b[0m \u001b[0mvertices_o\u001b[0m \u001b[1;33m-\u001b[0m \u001b[0mvertices_r\u001b[0m\u001b[1;33m\u001b[0m\u001b[1;33m\u001b[0m\u001b[0m\n\u001b[0m\u001b[0;32m      5\u001b[0m \u001b[0mdist\u001b[0m \u001b[1;33m=\u001b[0m \u001b[0mnp\u001b[0m\u001b[1;33m.\u001b[0m\u001b[0mlinalg\u001b[0m\u001b[1;33m.\u001b[0m\u001b[0mnorm\u001b[0m\u001b[1;33m(\u001b[0m\u001b[0mdiff\u001b[0m\u001b[1;33m,\u001b[0m \u001b[0maxis\u001b[0m\u001b[1;33m=\u001b[0m\u001b[1;36m1\u001b[0m\u001b[1;33m)\u001b[0m\u001b[1;33m\u001b[0m\u001b[1;33m\u001b[0m\u001b[0m\n",
      "\u001b[1;31mValueError\u001b[0m: operands could not be broadcast together with shapes (4824,3) (4821,3) "
     ]
    }
   ],
   "source": [
    "vertices_o, faces_o = igl.read_triangle_mesh(orig_meshes[0])\n",
    "vertices_r, faces_r = igl.read_triangle_mesh(recon_meshes[0])\n",
    "\n",
    "diff = vertices_o - vertices_r\n",
    "dist = np.linalg.norm(diff, axis=1)"
   ]
  },
  {
   "cell_type": "code",
   "execution_count": null,
   "id": "caf784af-6548-49cf-aa62-7aa75bfb32be",
   "metadata": {},
   "outputs": [],
   "source": []
  }
 ],
 "metadata": {
  "kernelspec": {
   "display_name": "Python 3 (ipykernel)",
   "language": "python",
   "name": "python3"
  },
  "language_info": {
   "codemirror_mode": {
    "name": "ipython",
    "version": 3
   },
   "file_extension": ".py",
   "mimetype": "text/x-python",
   "name": "python",
   "nbconvert_exporter": "python",
   "pygments_lexer": "ipython3",
   "version": "3.7.12"
  }
 },
 "nbformat": 4,
 "nbformat_minor": 5
}
