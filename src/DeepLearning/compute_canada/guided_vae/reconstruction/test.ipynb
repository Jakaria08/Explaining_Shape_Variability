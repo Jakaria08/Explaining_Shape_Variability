{
 "cells": [
  {
   "cell_type": "code",
   "execution_count": 5,
   "metadata": {},
   "outputs": [],
   "source": [
    "import torch\n",
    "from reconstruction import AE\n",
    "from datasets import MeshData\n",
    "from utils import utils, DataLoader, mesh_sampling, sap\n",
    "import numpy as np\n",
    "import pyvista as pv\n",
    "from skimage import measure\n",
    "from ipywidgets import interact, interactive, fixed, interact_manual, FloatSlider\n",
    "from IPython.display import display\n",
    "import meshplot as mp\n",
    "import os, sys\n",
    "from math import ceil\n",
    "from scipy.ndimage import zoom\n",
    "import open3d as o3d"
   ]
  },
  {
   "cell_type": "code",
   "execution_count": 6,
   "metadata": {},
   "outputs": [],
   "source": [
    "# Meshplot left an annoying print statement in their code. Using this context manager to supress it...\n",
    "class HiddenPrints:\n",
    "    def __enter__(self):\n",
    "        self._original_stdout = sys.stdout\n",
    "        sys.stdout = open(os.devnull, 'w')\n",
    "\n",
    "    def __exit__(self, exc_type, exc_val, exc_tb):\n",
    "        sys.stdout.close()\n",
    "        sys.stdout = self._original_stdout"
   ]
  },
  {
   "cell_type": "code",
   "execution_count": 9,
   "metadata": {},
   "outputs": [
    {
     "data": {
      "text/plain": [
       "AE(\n",
       "  (en_layers): ModuleList(\n",
       "    (0): SpiralEnblock(\n",
       "      (conv): SpiralConv(3, 8, seq_length=9)\n",
       "    )\n",
       "    (1-2): 2 x SpiralEnblock(\n",
       "      (conv): SpiralConv(8, 8, seq_length=9)\n",
       "    )\n",
       "    (3): SpiralEnblock(\n",
       "      (conv): SpiralConv(8, 16, seq_length=9)\n",
       "    )\n",
       "    (4): Linear(in_features=2848, out_features=32, bias=True)\n",
       "  )\n",
       "  (de_layers): ModuleList(\n",
       "    (0): Linear(in_features=16, out_features=2848, bias=True)\n",
       "    (1): SpiralDeblock(\n",
       "      (conv): SpiralConv(16, 16, seq_length=9)\n",
       "    )\n",
       "    (2): SpiralDeblock(\n",
       "      (conv): SpiralConv(16, 8, seq_length=9)\n",
       "    )\n",
       "    (3-4): 2 x SpiralDeblock(\n",
       "      (conv): SpiralConv(8, 8, seq_length=9)\n",
       "    )\n",
       "    (5): SpiralConv(8, 3, seq_length=9)\n",
       "  )\n",
       "  (cls_sq): Sequential(\n",
       "    (0): Linear(in_features=1, out_features=8, bias=True)\n",
       "    (1): BatchNorm1d(8, eps=1e-05, momentum=0.1, affine=True, track_running_stats=True)\n",
       "    (2): LeakyReLU(negative_slope=0.2, inplace=True)\n",
       "    (3): Linear(in_features=8, out_features=8, bias=True)\n",
       "    (4): BatchNorm1d(8, eps=1e-05, momentum=0.1, affine=True, track_running_stats=True)\n",
       "    (5): LeakyReLU(negative_slope=0.2, inplace=True)\n",
       "    (6): Linear(in_features=8, out_features=1, bias=True)\n",
       "    (7): Sigmoid()\n",
       "  )\n",
       "  (reg_sq_2): Sequential(\n",
       "    (0): Linear(in_features=1, out_features=8, bias=True)\n",
       "    (1): BatchNorm1d(8, eps=1e-05, momentum=0.1, affine=True, track_running_stats=True)\n",
       "    (2): LeakyReLU(negative_slope=0.2, inplace=True)\n",
       "    (3): Linear(in_features=8, out_features=8, bias=True)\n",
       "    (4): BatchNorm1d(8, eps=1e-05, momentum=0.1, affine=True, track_running_stats=True)\n",
       "    (5): LeakyReLU(negative_slope=0.2, inplace=True)\n",
       "    (6): Linear(in_features=8, out_features=1, bias=True)\n",
       "  )\n",
       ")"
      ]
     },
     "execution_count": 9,
     "metadata": {},
     "output_type": "execute_result"
    }
   ],
   "source": [
    "device = torch.device('cuda', 0)\n",
    "# Set the path to the saved model directory\n",
    "#model_path = \"/home/jakaria/torus_bump_500_three_scale_binary_bump_variable_noise_fixed_angle/models_classification_regression_contrastive_loss_only/models/199\"\n",
    "model_path = \"/home/jakaria/Explaining_Shape_Variability/src/DeepLearning/compute_canada/guided_vae/data/CoMA/raw/hippocampus/models/0\"\n",
    "# Load the saved model\n",
    "model_state_dict = torch.load(f\"{model_path}/model_state_dict.pt\")\n",
    "in_channels = torch.load(f\"{model_path}/in_channels.pt\")\n",
    "out_channels = torch.load(f\"{model_path}/out_channels.pt\")\n",
    "latent_channels = torch.load(f\"{model_path}/latent_channels.pt\")\n",
    "spiral_indices_list = torch.load(f\"{model_path}/spiral_indices_list.pt\")\n",
    "up_transform_list = torch.load(f\"{model_path}/up_transform_list.pt\")\n",
    "down_transform_list = torch.load(f\"{model_path}/down_transform_list.pt\")\n",
    "std = torch.load(f\"{model_path}/std.pt\")\n",
    "mean = torch.load(f\"{model_path}/mean.pt\")\n",
    "template_face = torch.load(f\"{model_path}/faces.pt\")\n",
    "\n",
    "# Create an instance of the model\n",
    "model = AE(in_channels, out_channels, latent_channels,\n",
    "           spiral_indices_list, down_transform_list,\n",
    "           up_transform_list)\n",
    "model.load_state_dict(model_state_dict)\n",
    "model.to(device)\n",
    "# Set the model to evaluation mode\n",
    "model.eval()"
   ]
  },
  {
   "cell_type": "code",
   "execution_count": 11,
   "metadata": {},
   "outputs": [
    {
     "data": {
      "application/vnd.jupyter.widget-view+json": {
       "model_id": "000ed20c982942258d27975cf6773b7f",
       "version_major": 2,
       "version_minor": 0
      },
      "text/plain": [
       "interactive(children=(FloatSlider(value=0.0, description='z[0]', max=1.0, min=-1.0, step=0.2), FloatSlider(val…"
      ]
     },
     "metadata": {},
     "output_type": "display_data"
    }
   ],
   "source": [
    "rotation_matrix = np.array([[np.cos(np.pi), -np.sin(np.pi), 0],\n",
    "                            [np.sin(np.pi), np.cos(np.pi), 0],\n",
    "                            [0, 0, 1]]) #z axic\n",
    "z = torch.zeros(16)\n",
    "plot=None\n",
    "@mp.interact(**{f'z[{i}]': FloatSlider(min=-1, max=1, step=0.2, value=0) for i in range(16)})\n",
    "def show(**kwargs):\n",
    "    global plot\n",
    "    global z\n",
    "    z = torch.tensor([kwargs[f'z[{i}]'] for i in range(16)])\n",
    "    with torch.no_grad():\n",
    "        z = z.to(device)\n",
    "        #print(z)\n",
    "        pred = model.decoder(z)\n",
    "\n",
    "        reshaped_pred = (pred.view(-1, 3).cpu() * std) + mean\n",
    "        reshaped_pred = reshaped_pred.cpu().numpy()\n",
    "        print(reshaped_pred.shape)\n",
    "\n",
    "    verts = reshaped_pred\n",
    "    #verts = o3d.utility.Vector3dVector(np.dot(np.asarray(verts), rotation_matrix.T))\n",
    "    verts = np.dot(np.asarray(verts), rotation_matrix.T)\n",
    "\n",
    "    pcd = o3d.io.read_triangle_mesh('/home/jakaria/Explaining_Shape_Variability/src/DeepLearning/compute_canada/guided_vae/data/CoMA/raw/hippocampus/template/template.ply')\n",
    "    faces = np.asarray(pcd.triangles)\n",
    "    #print(verts)\n",
    "    #print(faces)\n",
    "\n",
    "    # Define a threshold for separating the objects based on x-values\n",
    "    x_threshold = 0.0\n",
    "\n",
    "    # Separate vertices and faces for the first object (x < x_threshold)\n",
    "    verts_object1 = verts[verts[:, 0] < x_threshold]\n",
    "    faces_object1 = [face for face in faces if (verts[face, 0] < x_threshold).all()]\n",
    "\n",
    "    # Separate vertices and faces for the second object (x >= x_threshold)\n",
    "    verts_object2 = verts[verts[:, 0] >= x_threshold]\n",
    "    faces_object2 = [face for face in faces if (verts[face, 0] >= x_threshold).all()]\n",
    "\n",
    "    # Convert lists to NumPy arrays\n",
    "    verts_object1 = np.array(verts_object1)\n",
    "    faces_object1 = np.array(faces_object1)\n",
    "    verts_object2 = np.array(verts_object2)\n",
    "    faces_object2 = np.array(faces_object2)\n",
    "\n",
    "\n",
    "    print(verts_object1.shape)\n",
    "    print(faces_object1.shape)\n",
    "\n",
    "    #o3d.visualization.draw_geometries([tri_mesh])\n",
    "    #o3d.visualization.draw_plotly([point_cloud])\n",
    "    \n",
    "    #with np.printoptions(threshold=np.inf):\n",
    "        #print(verts_object1)\n",
    "\n",
    "    white_color = [1.0, 1.0, 1.0]\n",
    "    grey_color = [0.5, 0.5, 0.5]\n",
    "\n",
    "    if plot is None:\n",
    "        #plot = mp.plot(verts_object1)\n",
    "        plot = mp.plot(verts, faces, c=np.array(white_color), return_plot=True)\n",
    "    else:\n",
    "        with HiddenPrints():\n",
    "            plot.update_object(vertices=verts, faces=faces)\n",
    "            #plot.update_object(vertices=verts_object1)\n",
    "        display(plot._renderer)\n"
   ]
  },
  {
   "cell_type": "code",
   "execution_count": null,
   "metadata": {},
   "outputs": [],
   "source": [
    "latent_channels = torch.load(f\"{model_path}/latent_channels.pt\")\n",
    "angles = torch.load(f\"{model_path}/angles.pt\")"
   ]
  },
  {
   "cell_type": "code",
   "execution_count": null,
   "metadata": {},
   "outputs": [],
   "source": [
    "import torch\n",
    "\n",
    "# Sample flattened labels\n",
    "y_expanded = torch.tensor([[1.0, 0.95, 0.9, 0.2]])\n",
    "threshold = 0.05001\n",
    "\n",
    "abs_diff_matrix = torch.abs(y_expanded - y_expanded.t())\n",
    "same_class_mask = abs_diff_matrix <= threshold\n",
    "\n",
    "print(abs_diff_matrix)\n",
    "print(same_class_mask)\n"
   ]
  },
  {
   "cell_type": "code",
   "execution_count": null,
   "metadata": {},
   "outputs": [],
   "source": [
    "model_path_root = \"/home/jakaria/torus_bump_500_three_scale_binary_bump_variable_noise_fixed_angle/models_classification_regression_only_correlation_loss/models\"\n",
    "trials = torch.load(f\"{model_path_root}/intermediate_trials.pt\")\n",
    "trials"
   ]
  },
  {
   "cell_type": "code",
   "execution_count": 12,
   "metadata": {},
   "outputs": [],
   "source": [
    "import numpy as np\n",
    "import os\n",
    "import torch\n",
    "import meshplot as mp\n",
    "from ipywidgets import interact, FloatSlider\n",
    "from scipy.spatial import distance\n",
    "import open3d as o3d\n",
    "from skimage import measure\n",
    "from contextlib import contextmanager"
   ]
  },
  {
   "cell_type": "code",
   "execution_count": 13,
   "metadata": {},
   "outputs": [],
   "source": [
    "# Function to calculate distance between two point clouds (meshes)\n",
    "def calculate_distance(mesh1, mesh2):\n",
    "    return distance.directed_hausdorff(mesh1.vertices, mesh2.vertices)[0]\n",
    "\n",
    "# Create a directory to save plots and results\n",
    "output_dir = \"/home/jakaria/save_plots_tle\"\n",
    "os.makedirs(output_dir, exist_ok=True)\n",
    "\n",
    "# Function to save plots\n",
    "def save_plot(plot, filename):\n",
    "    plot.save(os.path.join(output_dir, filename))\n",
    "\n",
    "def calculate_volume_voxelization(mesh):\n",
    "    voxel_grid = o3d.geometry.VoxelGrid.create_from_triangle_mesh(mesh, voxel_size=0.001)\n",
    "    voxel_count = len(voxel_grid.get_voxels())\n",
    "    voxel_volume = voxel_grid.voxel_size ** 3\n",
    "    volume = voxel_count * voxel_volume\n",
    "    return volume\n",
    "\n",
    "white_color = [1.0, 1.0, 1.0]\n",
    "grey_color = [0.5, 0.5, 0.5]"
   ]
  },
  {
   "cell_type": "code",
   "execution_count": 14,
   "metadata": {},
   "outputs": [],
   "source": [
    "# Function to visualize, save plots, and calculate distances and volumes\n",
    "def visualize_and_save(z0, z1):\n",
    "    global plot\n",
    "    global z\n",
    "\n",
    "    z[0] = z0\n",
    "    z[1] = z1\n",
    "\n",
    "    with torch.no_grad():\n",
    "        z = z.to(device)\n",
    "        pred = model.decoder(z)\n",
    "\n",
    "        reshaped_pred = (pred.view(-1, 3).cpu() * std) + mean\n",
    "        verts = reshaped_pred.cpu().numpy()\n",
    "\n",
    "    verts = np.dot(np.asarray(verts), rotation_matrix.T)\n",
    "\n",
    "    pcd = o3d.io.read_triangle_mesh('/home/jakaria/Explaining_Shape_Variability/src/DeepLearning/compute_canada/guided_vae/data/CoMA/raw/hippocampus/template/template.ply')\n",
    "    faces = np.asarray(pcd.triangles)\n",
    "\n",
    "    white_color = [1.0, 1.0, 1.0]\n",
    "    grey_color = [0.5, 0.5, 0.5]\n",
    "     \n",
    "    #mp.subplot(verts, faces, c=np.array(white_color), s=[2, 2, 0])\n",
    "    #plot = mp.plot(verts, faces, c=np.array(white_color), return_plot=True)\n",
    "    #save_plot(plot, f'z0_{z0:.1f}_z1_{z1:.1f}.png')\n",
    "    #print(verts.shape, faces.shape)\n",
    "    return verts, faces"
   ]
  },
  {
   "cell_type": "code",
   "execution_count": 15,
   "metadata": {},
   "outputs": [],
   "source": [
    "# Sample and save plots for different z[0] values while fixing z[1]\n",
    "verts_all = []\n",
    "faces_all = []\n",
    "for z1_value in np.arange(-1, 1.2, 0.2):\n",
    "        for z0_value in [-1, 1]:\n",
    "             verts, faces = visualize_and_save(z0_value, z1_value)\n",
    "             verts_all.append(verts)\n",
    "             faces_all.append(faces)\n",
    "             mesh = o3d.geometry.TriangleMesh()\n",
    "             mesh.vertices = o3d.utility.Vector3dVector(verts)\n",
    "             mesh.triangles = o3d.utility.Vector3iVector(faces)\n",
    "             volume = calculate_volume_voxelization(mesh)\n",
    "             #print(volume)\n",
    "             # Save volumes to a text file\n",
    "             with open(os.path.join(output_dir, 'volumes.txt'), 'a') as f:\n",
    "                  f.write(f'z0_{z0_value:.1f}_z1_{z1_value:.1f}: {volume*1e7:.1f}\\n')"
   ]
  },
  {
   "cell_type": "code",
   "execution_count": 16,
   "metadata": {},
   "outputs": [
    {
     "name": "stdout",
     "output_type": "stream",
     "text": [
      "z0_-1.0_z1_range_-0.60_-0.40 (Average Volume): 5925.2\n",
      "z0_-1.0_z1_range_-0.40_-0.20 (Average Volume): 6042.4\n",
      "z0_-1.0_z1_range_-0.20_0.00 (Average Volume): 6149.5\n",
      "z0_-1.0_z1_range_0.00_0.20 (Average Volume): 6242.5\n",
      "z0_-1.0_z1_range_0.20_0.40 (Average Volume): 6325.4\n",
      "z0_-1.0_z1_range_0.40_0.60 (Average Volume): 6395.5\n",
      "z0_1.0_z1_range_-0.60_-0.40 (Average Volume): 5671.2\n",
      "z0_1.0_z1_range_-0.40_-0.20 (Average Volume): 5790.3\n",
      "z0_1.0_z1_range_-0.20_0.00 (Average Volume): 5898.3\n",
      "z0_1.0_z1_range_0.00_0.20 (Average Volume): 5993.5\n",
      "z0_1.0_z1_range_0.20_0.40 (Average Volume): 6082.7\n",
      "z0_1.0_z1_range_0.40_0.60 (Average Volume): 6162.6\n",
      "[-2.5403714285714358e-05]\n",
      "[-2.5403714285714358e-05, -2.5211666666666668e-05]\n",
      "[-2.5403714285714358e-05, -2.5211666666666668e-05, -2.51153333333333e-05]\n",
      "[-2.5403714285714358e-05, -2.5211666666666668e-05, -2.51153333333333e-05, -2.4897047619047556e-05]\n",
      "[-2.5403714285714358e-05, -2.5211666666666668e-05, -2.51153333333333e-05, -2.4897047619047556e-05, -2.4267523809523768e-05]\n",
      "[-2.5403714285714358e-05, -2.5211666666666668e-05, -2.51153333333333e-05, -2.4897047619047556e-05, -2.4267523809523768e-05, -2.32820952380952e-05]\n"
     ]
    }
   ],
   "source": [
    "# Sample and save plots for different z0 and z1 values\n",
    "volume_z0_m1 = []\n",
    "volume_z0_p1 = []\n",
    "volume_differences = []\n",
    "\n",
    "# Define the range and increment for z1 values\n",
    "z1_start = -0.6\n",
    "z1_end = 0.7\n",
    "z1_increment = 0.01\n",
    "\n",
    "# Define the ranges for which you want to calculate average volumes\n",
    "z1_ranges = [\n",
    "    (-0.6, -0.4),\n",
    "    (-0.4, -0.2),\n",
    "    (-0.2, 0.0),\n",
    "    (0.0, 0.2),\n",
    "    (0.2, 0.4),\n",
    "    (0.4, 0.6),\n",
    "]\n",
    "\n",
    "for z0_value in [-1, 1]:\n",
    "    for z1_range in z1_ranges:\n",
    "        z1_range_start, z1_range_end = z1_range\n",
    "        volumes_for_z1_range = []\n",
    "\n",
    "        for z1_value in np.arange(z1_range_start, z1_range_end + z1_increment, z1_increment):\n",
    "            verts, faces = visualize_and_save(z0_value, z1_value)\n",
    "            #verts_all.append(verts)\n",
    "            #faces_all.append(faces)\n",
    "            mesh = o3d.geometry.TriangleMesh()\n",
    "            mesh.vertices = o3d.utility.Vector3dVector(verts)\n",
    "            mesh.triangles = o3d.utility.Vector3iVector(faces)\n",
    "            volume = calculate_volume_voxelization(mesh)\n",
    "            volumes_for_z1_range.append(volume)\n",
    "\n",
    "        # Calculate and print the average volume for the current z1 range\n",
    "        average_volume = sum(volumes_for_z1_range) / len(volumes_for_z1_range)\n",
    "\n",
    "        if z0_value == -1:\n",
    "            volume_z0_m1.append(average_volume)\n",
    "\n",
    "        if z0_value == 1:\n",
    "            volume_z0_p1.append(average_volume)\n",
    "        \n",
    "        # Print and save the average volume without detailed range information\n",
    "        print(f'z0_{z0_value:.1f}_z1_range_{z1_range_start:.2f}_{z1_range_end:.2f} (Average Volume): {average_volume*1e7:.1f}')\n",
    "\n",
    "        # Save average volumes to a text file\n",
    "        with open(os.path.join(output_dir, 'average_volumes.txt'), 'a') as f:\n",
    "            f.write(f'z0_{z0_value:.1f}_z1_range_{z1_range_start:.2f}_{z1_range_end:.2f} (Average Volume): {average_volume*1e7:.1f}\\n')\n",
    "\n",
    "# Calculate and store individual volume differences for each range\n",
    "for i in range(len(z1_ranges)):\n",
    "    volume_difference = volume_z0_p1[i] - volume_z0_m1[i]\n",
    "    volume_differences.append(volume_difference)\n",
    "    print(volume_differences)\n"
   ]
  },
  {
   "cell_type": "code",
   "execution_count": 18,
   "metadata": {},
   "outputs": [
    {
     "name": "stdout",
     "output_type": "stream",
     "text": [
      "[254.03714285714358, 252.11666666666667, 251.153333333333, 248.97047619047555, 242.6752380952377, 232.820952380952]\n"
     ]
    }
   ],
   "source": [
    "volume_differences = []\n",
    "for i in range(len(z1_ranges)):\n",
    "    volume_difference = (volume_z0_m1[i] - volume_z0_p1[i])*1e7\n",
    "    volume_differences.append(volume_difference)\n",
    "print(volume_differences)"
   ]
  },
  {
   "cell_type": "code",
   "execution_count": 20,
   "metadata": {},
   "outputs": [
    {
     "ename": "ValueError",
     "evalue": "x, y, and format string must not be None",
     "output_type": "error",
     "traceback": [
      "\u001b[0;31m---------------------------------------------------------------------------\u001b[0m",
      "\u001b[0;31mValueError\u001b[0m                                Traceback (most recent call last)",
      "\u001b[1;32m/home/jakaria/Explaining_Shape_Variability/src/DeepLearning/compute_canada/guided_vae/reconstruction/test.ipynb Cell 14\u001b[0m line \u001b[0;36m1\n\u001b[1;32m     <a href='vscode-notebook-cell://ssh-remote%2Baot.cs.ualberta.ca/home/jakaria/Explaining_Shape_Variability/src/DeepLearning/compute_canada/guided_vae/reconstruction/test.ipynb#X16sdnNjb2RlLXJlbW90ZQ%3D%3D?line=13'>14</a>\u001b[0m volume_differences\u001b[39m=\u001b[39mvolume_differences\u001b[39m.\u001b[39mreverse()\n\u001b[1;32m     <a href='vscode-notebook-cell://ssh-remote%2Baot.cs.ualberta.ca/home/jakaria/Explaining_Shape_Variability/src/DeepLearning/compute_canada/guided_vae/reconstruction/test.ipynb#X16sdnNjb2RlLXJlbW90ZQ%3D%3D?line=14'>15</a>\u001b[0m plt\u001b[39m.\u001b[39mfigure(figsize\u001b[39m=\u001b[39m(\u001b[39m10\u001b[39m, \u001b[39m6\u001b[39m))\n\u001b[0;32m---> <a href='vscode-notebook-cell://ssh-remote%2Baot.cs.ualberta.ca/home/jakaria/Explaining_Shape_Variability/src/DeepLearning/compute_canada/guided_vae/reconstruction/test.ipynb#X16sdnNjb2RlLXJlbW90ZQ%3D%3D?line=15'>16</a>\u001b[0m plt\u001b[39m.\u001b[39;49mplot(volume_differences, marker\u001b[39m=\u001b[39;49m\u001b[39m'\u001b[39;49m\u001b[39mo\u001b[39;49m\u001b[39m'\u001b[39;49m, linestyle\u001b[39m=\u001b[39;49m\u001b[39m'\u001b[39;49m\u001b[39m-\u001b[39;49m\u001b[39m'\u001b[39;49m, color\u001b[39m=\u001b[39;49m\u001b[39m'\u001b[39;49m\u001b[39mb\u001b[39;49m\u001b[39m'\u001b[39;49m)\n\u001b[1;32m     <a href='vscode-notebook-cell://ssh-remote%2Baot.cs.ualberta.ca/home/jakaria/Explaining_Shape_Variability/src/DeepLearning/compute_canada/guided_vae/reconstruction/test.ipynb#X16sdnNjb2RlLXJlbW90ZQ%3D%3D?line=16'>17</a>\u001b[0m plt\u001b[39m.\u001b[39mtitle(\u001b[39m'\u001b[39m\u001b[39mVolume Differences vs. Age Ranges\u001b[39m\u001b[39m'\u001b[39m)\n\u001b[1;32m     <a href='vscode-notebook-cell://ssh-remote%2Baot.cs.ualberta.ca/home/jakaria/Explaining_Shape_Variability/src/DeepLearning/compute_canada/guided_vae/reconstruction/test.ipynb#X16sdnNjb2RlLXJlbW90ZQ%3D%3D?line=17'>18</a>\u001b[0m plt\u001b[39m.\u001b[39mxlabel(\u001b[39m'\u001b[39m\u001b[39mAge Range\u001b[39m\u001b[39m'\u001b[39m)\n",
      "File \u001b[0;32m~/anaconda3/envs/pytorch_geo/lib/python3.10/site-packages/matplotlib/pyplot.py:2812\u001b[0m, in \u001b[0;36mplot\u001b[0;34m(scalex, scaley, data, *args, **kwargs)\u001b[0m\n\u001b[1;32m   2810\u001b[0m \u001b[39m@_copy_docstring_and_deprecators\u001b[39m(Axes\u001b[39m.\u001b[39mplot)\n\u001b[1;32m   2811\u001b[0m \u001b[39mdef\u001b[39;00m \u001b[39mplot\u001b[39m(\u001b[39m*\u001b[39margs, scalex\u001b[39m=\u001b[39m\u001b[39mTrue\u001b[39;00m, scaley\u001b[39m=\u001b[39m\u001b[39mTrue\u001b[39;00m, data\u001b[39m=\u001b[39m\u001b[39mNone\u001b[39;00m, \u001b[39m*\u001b[39m\u001b[39m*\u001b[39mkwargs):\n\u001b[0;32m-> 2812\u001b[0m     \u001b[39mreturn\u001b[39;00m gca()\u001b[39m.\u001b[39;49mplot(\n\u001b[1;32m   2813\u001b[0m         \u001b[39m*\u001b[39;49margs, scalex\u001b[39m=\u001b[39;49mscalex, scaley\u001b[39m=\u001b[39;49mscaley,\n\u001b[1;32m   2814\u001b[0m         \u001b[39m*\u001b[39;49m\u001b[39m*\u001b[39;49m({\u001b[39m\"\u001b[39;49m\u001b[39mdata\u001b[39;49m\u001b[39m\"\u001b[39;49m: data} \u001b[39mif\u001b[39;49;00m data \u001b[39mis\u001b[39;49;00m \u001b[39mnot\u001b[39;49;00m \u001b[39mNone\u001b[39;49;00m \u001b[39melse\u001b[39;49;00m {}), \u001b[39m*\u001b[39;49m\u001b[39m*\u001b[39;49mkwargs)\n",
      "File \u001b[0;32m~/anaconda3/envs/pytorch_geo/lib/python3.10/site-packages/matplotlib/axes/_axes.py:1688\u001b[0m, in \u001b[0;36mAxes.plot\u001b[0;34m(self, scalex, scaley, data, *args, **kwargs)\u001b[0m\n\u001b[1;32m   1445\u001b[0m \u001b[39m\"\"\"\u001b[39;00m\n\u001b[1;32m   1446\u001b[0m \u001b[39mPlot y versus x as lines and/or markers.\u001b[39;00m\n\u001b[1;32m   1447\u001b[0m \n\u001b[0;32m   (...)\u001b[0m\n\u001b[1;32m   1685\u001b[0m \u001b[39m(``'green'``) or hex strings (``'#008000'``).\u001b[39;00m\n\u001b[1;32m   1686\u001b[0m \u001b[39m\"\"\"\u001b[39;00m\n\u001b[1;32m   1687\u001b[0m kwargs \u001b[39m=\u001b[39m cbook\u001b[39m.\u001b[39mnormalize_kwargs(kwargs, mlines\u001b[39m.\u001b[39mLine2D)\n\u001b[0;32m-> 1688\u001b[0m lines \u001b[39m=\u001b[39m [\u001b[39m*\u001b[39m\u001b[39mself\u001b[39m\u001b[39m.\u001b[39m_get_lines(\u001b[39m*\u001b[39margs, data\u001b[39m=\u001b[39mdata, \u001b[39m*\u001b[39m\u001b[39m*\u001b[39mkwargs)]\n\u001b[1;32m   1689\u001b[0m \u001b[39mfor\u001b[39;00m line \u001b[39min\u001b[39;00m lines:\n\u001b[1;32m   1690\u001b[0m     \u001b[39mself\u001b[39m\u001b[39m.\u001b[39madd_line(line)\n",
      "File \u001b[0;32m~/anaconda3/envs/pytorch_geo/lib/python3.10/site-packages/matplotlib/axes/_base.py:311\u001b[0m, in \u001b[0;36m_process_plot_var_args.__call__\u001b[0;34m(self, data, *args, **kwargs)\u001b[0m\n\u001b[1;32m    309\u001b[0m     this \u001b[39m+\u001b[39m\u001b[39m=\u001b[39m args[\u001b[39m0\u001b[39m],\n\u001b[1;32m    310\u001b[0m     args \u001b[39m=\u001b[39m args[\u001b[39m1\u001b[39m:]\n\u001b[0;32m--> 311\u001b[0m \u001b[39myield from\u001b[39;00m \u001b[39mself\u001b[39;49m\u001b[39m.\u001b[39;49m_plot_args(\n\u001b[1;32m    312\u001b[0m     this, kwargs, ambiguous_fmt_datakey\u001b[39m=\u001b[39;49mambiguous_fmt_datakey)\n",
      "File \u001b[0;32m~/anaconda3/envs/pytorch_geo/lib/python3.10/site-packages/matplotlib/axes/_base.py:465\u001b[0m, in \u001b[0;36m_process_plot_var_args._plot_args\u001b[0;34m(self, tup, kwargs, return_kwargs, ambiguous_fmt_datakey)\u001b[0m\n\u001b[1;32m    462\u001b[0m \u001b[39m# Don't allow any None value; these would be up-converted to one\u001b[39;00m\n\u001b[1;32m    463\u001b[0m \u001b[39m# element array of None which causes problems downstream.\u001b[39;00m\n\u001b[1;32m    464\u001b[0m \u001b[39mif\u001b[39;00m \u001b[39many\u001b[39m(v \u001b[39mis\u001b[39;00m \u001b[39mNone\u001b[39;00m \u001b[39mfor\u001b[39;00m v \u001b[39min\u001b[39;00m tup):\n\u001b[0;32m--> 465\u001b[0m     \u001b[39mraise\u001b[39;00m \u001b[39mValueError\u001b[39;00m(\u001b[39m\"\u001b[39m\u001b[39mx, y, and format string must not be None\u001b[39m\u001b[39m\"\u001b[39m)\n\u001b[1;32m    467\u001b[0m kw \u001b[39m=\u001b[39m {}\n\u001b[1;32m    468\u001b[0m \u001b[39mfor\u001b[39;00m prop_name, val \u001b[39min\u001b[39;00m \u001b[39mzip\u001b[39m((\u001b[39m'\u001b[39m\u001b[39mlinestyle\u001b[39m\u001b[39m'\u001b[39m, \u001b[39m'\u001b[39m\u001b[39mmarker\u001b[39m\u001b[39m'\u001b[39m, \u001b[39m'\u001b[39m\u001b[39mcolor\u001b[39m\u001b[39m'\u001b[39m),\n\u001b[1;32m    469\u001b[0m                           (linestyle, marker, color)):\n",
      "\u001b[0;31mValueError\u001b[0m: x, y, and format string must not be None"
     ]
    },
    {
     "data": {
      "image/png": "[encoded data removed]",
      "text/plain": [
       "<Figure size 1000x600 with 1 Axes>"
      ]
     },
     "metadata": {},
     "output_type": "display_data"
    }
   ],
   "source": [
    "import matplotlib.pyplot as plt\n",
    "# Create custom x-axis labels\n",
    "#TLE 18 to 73\n",
    "age_ranges = [\n",
    "    (18, 26),\n",
    "    (27, 35),\n",
    "    (36, 44),\n",
    "    (45, 53),\n",
    "    (54, 62),\n",
    "    (63, 71),\n",
    "]\n",
    "# Create custom x-axis labels\n",
    "x_axis_labels = [f'{start}-{end}' for start, end in age_ranges]\n",
    "volume_differences\n",
    "plt.figure(figsize=(10, 6))\n",
    "plt.plot(volume_differences, marker='o', linestyle='-', color='b')\n",
    "plt.title('Volume Differences vs. Age Ranges')\n",
    "plt.xlabel('Age Range')\n",
    "plt.ylabel('Volume Differences ($mm^3$)')\n",
    "plt.xticks(range(len(z1_ranges)), x_axis_labels, rotation=45)\n",
    "plt.grid(True)\n",
    "plt.tight_layout()\n",
    "\n",
    "# Show the plot\n",
    "plt.show()"
   ]
  },
  {
   "cell_type": "code",
   "execution_count": 10,
   "metadata": {},
   "outputs": [
    {
     "data": {
      "application/vnd.jupyter.widget-view+json": {
       "model_id": "6a9011027e4e4004b9c5e996d61eaa5e",
       "version_major": 2,
       "version_minor": 0
      },
      "text/plain": [
       "Renderer(camera=PerspectiveCamera(children=(DirectionalLight(color='white', intensity=0.6, position=(-0.004293…"
      ]
     },
     "metadata": {},
     "output_type": "display_data"
    },
    {
     "data": {
      "application/vnd.jupyter.widget-view+json": {
       "model_id": "98144725a00646baa084cde6f45fecf8",
       "version_major": 2,
       "version_minor": 0
      },
      "text/plain": [
       "Renderer(camera=PerspectiveCamera(children=(DirectionalLight(color='white', intensity=0.6, position=(-0.002791…"
      ]
     },
     "metadata": {},
     "output_type": "display_data"
    }
   ],
   "source": [
    "for i in range(2):\n",
    "    mp.plot(verts_all[i], faces_all[i], c=np.array(white_color))"
   ]
  },
  {
   "cell_type": "code",
   "execution_count": null,
   "metadata": {},
   "outputs": [],
   "source": [
    "# Define file paths for saving vertices and faces\n",
    "vertices_file = os.path.join(output_dir,\"mesh_vertices.npy\")\n",
    "faces_file = os.path.join(output_dir,\"mesh_faces.npy\")\n",
    "\n",
    "\n",
    "# Save vertices and faces to separate .npy files\n",
    "np.save(vertices_file, verts_all)\n",
    "np.save(faces_file, faces_all)"
   ]
  },
  {
   "cell_type": "code",
   "execution_count": null,
   "metadata": {},
   "outputs": [],
   "source": [
    "# Calculate the distances between corresponding vertices\n",
    "distances = np.linalg.norm(verts_all[1] - verts_all[0], axis=1)\n",
    "\n",
    "# Create Open3D TriangleMesh objects\n",
    "mesh1 = o3d.geometry.TriangleMesh()\n",
    "mesh1.vertices = o3d.utility.Vector3dVector(verts_all[1])\n",
    "mesh1.compute_vertex_normals()\n",
    "\n",
    "mesh2 = o3d.geometry.TriangleMesh()\n",
    "mesh2.vertices = o3d.utility.Vector3dVector(verts_all[0])\n",
    "mesh2.compute_vertex_normals()\n",
    "\n",
    "# Create a color mapping based on distances\n",
    "# You can adjust the color thresholds as needed\n",
    "color_map = o3d.visualization.draw_plotly([mesh1, mesh2])\n",
    "\n",
    "# Normalize distances to the range [0, 1] for colormap mapping\n",
    "normalized_distances = (distances - distances.min()) / (distances.max() - distances.min())\n",
    "\n",
    "# Map distances to colors using the colormap\n",
    "colors = np.asarray(color_map(normalized_distances))[:, :3]  # Extract RGB values\n",
    "\n",
    "# Set the base color of mesh2 to white (or any other base color)\n",
    "mesh2.paint_uniform_color([1, 1, 1])\n",
    "\n",
    "# Assign the calculated colors to the faces of mesh2\n",
    "mesh2.vertex_colors = o3d.utility.Vector3dVector(colors)\n",
    "\n",
    "# Visualize both meshes\n",
    "o3d.visualization.draw_plotly([mesh1, mesh2])"
   ]
  },
  {
   "cell_type": "code",
   "execution_count": null,
   "metadata": {},
   "outputs": [],
   "source": [
    "\n",
    "# Calculate distance between meshes and create color-coded plots\n",
    "z[1] = 0.2  # Set a specific value for z[1]\n",
    "distances = np.zeros((len(np.arange(-1, 1.2, 0.2)), len([-1, 1])))\n",
    "for i, z0_value in enumerate([-1, 1]):\n",
    "    for j, z1_value in enumerate(np.arange(-1, 1.2, 0.2)):\n",
    "        visualize_and_save(z0_value, z1_value)\n",
    "        mesh1 = o3d.geometry.TriangleMesh.create_from_points(verts)\n",
    "        mesh2 = o3d.geometry.TriangleMesh.create_from_points(verts)\n",
    "        distances[j, i] = calculate_distance(mesh1, mesh2)\n",
    "\n",
    "# Save distances as a color-coded plot\n",
    "import matplotlib.pyplot as plt\n",
    "plt.imshow(distances, cmap='viridis', origin='lower', extent=[-1, 1, -1, 1])\n",
    "plt.colorbar(label='Distance')\n",
    "plt.xlabel('z[0]')\n",
    "plt.ylabel('z[1]')\n",
    "plt.title('Distance Heatmap')\n",
    "plt.savefig(os.path.join(output_dir, 'distance_heatmap.png'))\n"
   ]
  },
  {
   "cell_type": "code",
   "execution_count": 17,
   "metadata": {},
   "outputs": [
    {
     "data": {
      "text/plain": [
       "-0.54"
      ]
     },
     "execution_count": 17,
     "metadata": {},
     "output_type": "execute_result"
    }
   ],
   "source": [
    "np.interp(0.77, [0,1], [1,-1])"
   ]
  },
  {
   "cell_type": "code",
   "execution_count": 16,
   "metadata": {},
   "outputs": [
    {
     "data": {
      "text/plain": [
       "0.7"
      ]
     },
     "execution_count": 16,
     "metadata": {},
     "output_type": "execute_result"
    }
   ],
   "source": [
    "np.interp(0.15, [0,1], [1,-1])"
   ]
  },
  {
   "cell_type": "code",
   "execution_count": 4,
   "metadata": {},
   "outputs": [
    {
     "name": "stdout",
     "output_type": "stream",
     "text": [
      "{'ab300_001': array([0.34117647, 0.        ]), 'ab300_002': array([0.30588235, 0.        ]), 'ab300_003': array([0.41176471, 0.        ]), 'ab300_004': array([0.56470588, 0.        ]), 'ab300_005': array([0.16470588, 0.        ]), 'ab300_006': array([0.18823529, 0.        ]), 'ab300_007': array([0.61176471, 0.        ]), 'ab300_008': array([0.32941176, 0.        ]), 'ab300_009': array([0.70588235, 0.        ]), 'ab300_010': array([0.35294118, 0.        ]), 'ab300_011': array([0.72941176, 0.        ]), 'ab300_012': array([0.22352941, 0.        ]), 'ab300_013': array([0.15294118, 0.        ]), 'ab300_014': array([0.16470588, 0.        ]), 'ab300_015': array([0.34117647, 0.        ]), 'ab300_016': array([0.62352941, 0.        ]), 'ab300_017': array([0.28235294, 0.        ]), 'ab300_018': array([0.2, 0. ]), 'ab300_019': array([0.2, 0. ]), 'ab300_020': array([0.2, 0. ]), 'ab300_021': array([0.56470588, 0.        ]), 'ab300_022': array([0.63529412, 0.        ]), 'ab300_023': array([0.28235294, 0.        ]), 'ab300_024': array([0.42352941, 0.        ]), 'ab300_025': array([0.09411765, 0.        ]), 'ab300_026': array([0.51764706, 0.        ]), 'ab300_027': array([0.50588235, 0.        ]), 'ab300_028': array([0.07058824, 0.        ]), 'ab300_029': array([0.71764706, 0.        ]), 'ab300_030': array([0.24705882, 0.        ]), 'ab300_031': array([0.50588235, 0.        ]), 'ab300_032': array([0.24705882, 0.        ]), 'ab300_033': array([0.43529412, 0.        ]), 'ab300_034': array([0.28235294, 0.        ]), 'ab300_035': array([0.65882353, 0.        ]), 'ab300_036': array([0.76470588, 0.        ]), 'ab300_037': array([0.32941176, 0.        ]), 'ab300_038': array([0.35294118, 0.        ]), 'ab300_039': array([0.76470588, 0.        ]), 'ab300_040': array([0.50588235, 0.        ]), 'ab300_041': array([0.29411765, 0.        ]), 'ab300_042': array([0.64705882, 0.        ]), 'ab300_043': array([0.48235294, 0.        ]), 'ab300_044': array([0.18823529, 0.        ]), 'ab300_045': array([0.2, 0. ]), 'ab300_046': array([0.62352941, 0.        ]), 'ab300_047': array([0.25882353, 0.        ]), 'ab300_048': array([0.30588235, 0.        ]), 'ab300_050': array([0.51764706, 0.        ]), 'ab300_051': array([0.24705882, 0.        ]), 'ab300_052': array([0.32941176, 0.        ]), 'ab300_053': array([0.15294118, 0.        ]), 'ab300_054': array([0.23529412, 0.        ]), 'ab300_055': array([0.42352941, 0.        ]), 'ab300_056': array([0.48235294, 0.        ]), 'ab300_057': array([0.2, 0. ]), 'ab300_058': array([0.62352941, 0.        ]), 'ab300_059': array([0.70588235, 0.        ]), 'ab300_060': array([0.27058824, 0.        ]), 'ab300_061': array([0.2, 0. ]), 'ab300_062': array([0.28235294, 0.        ]), 'ab300_063': array([0.45882353, 0.        ]), 'ab300_064': array([0.31764706, 0.        ]), 'ab300_065': array([0.35294118, 0.        ]), 'ab300_066': array([0.49411765, 0.        ]), 'ab300_067': array([0.54117647, 0.        ]), 'ab300_068': array([0.56470588, 0.        ]), 'ab300_069': array([0.36470588, 0.        ]), 'ab300_070': array([0.21176471, 0.        ]), 'ab300_071': array([0.47058824, 0.        ]), 'ab300_072': array([0.16470588, 0.        ]), 'ab300_073': array([0.12941176, 0.        ]), 'ab300_074': array([0.22352941, 0.        ]), 'ab300_075': array([0.64705882, 0.        ]), 'ab300_076': array([0.45882353, 0.        ]), 'ab300_077': array([0.64705882, 0.        ]), 'ab300_078': array([0.35294118, 0.        ]), 'ab300_079': array([0.23529412, 0.        ]), 'ab300_080': array([0.31764706, 0.        ]), 'ab300_081': array([0.36470588, 0.        ]), 'ab300_082': array([0., 0.]), 'ab300_083': array([0.18823529, 0.        ]), 'ab300_084': array([0.82352941, 0.        ]), 'ab300_085': array([0.27058824, 0.        ]), 'ab300_086': array([0.70588235, 0.        ]), 'ab300_087': array([0.25882353, 0.        ]), 'ab300_088': array([0.48235294, 0.        ]), 'ab300_089': array([0.37647059, 0.        ]), 'ab300_090': array([0.85882353, 0.        ]), 'ab300_091': array([0.47058824, 0.        ]), 'ab300_092': array([0.42352941, 0.        ]), 'ab300_094': array([0.56470588, 0.        ]), 'ab300_095': array([0.68235294, 0.        ]), 'ab300_096': array([0.90588235, 0.        ]), 'ab300_097': array([0.27058824, 0.        ]), 'ab300_098': array([0.31764706, 0.        ]), 'ab300_099': array([0.55294118, 0.        ]), 'ab300_100': array([0.51764706, 0.        ]), 'ab300_101': array([0.01176471, 0.        ]), 'ab300_102': array([0.36470588, 0.        ]), 'ab300_103': array([0.04705882, 0.        ]), 'ab300_104': array([0.4, 0. ]), 'ab300_105': array([0.38823529, 0.        ]), 'ab300_106': array([0.2, 0. ]), 'ab300_107': array([0.52941176, 0.        ]), 'ab300_110': array([0.36470588, 0.        ]), 'ab300_111': array([0.32941176, 0.        ]), 'ab300_112': array([0.38823529, 0.        ]), 'ab300_113': array([0.02352941, 0.        ]), 'ab300_114': array([0.22352941, 0.        ]), 'ab300_115': array([0.23529412, 0.        ]), 'ab300_116': array([0.82352941, 0.        ]), 'ab300_117': array([0.4, 0. ]), 'ab300_118': array([0.78823529, 0.        ]), 'ab300_119': array([0.71764706, 0.        ]), 'ab300_120': array([0.16470588, 0.        ]), 'ab300_121': array([0.22352941, 0.        ]), 'ab300_122': array([0.81176471, 0.        ]), 'ab300_123': array([0.16470588, 0.        ]), 'ab300_124': array([0.64705882, 0.        ]), 'ab300_125': array([0.49411765, 0.        ]), 'ab300_126': array([0.75294118, 0.        ]), 'ab300_127': array([0.89411765, 0.        ]), 'ab300_128': array([1., 0.]), 'ab300_129': array([0.21176471, 0.        ]), 'ab300_130': array([0.54117647, 0.        ]), 'ab300_131': array([0.16470588, 0.        ]), 'ab300_132': array([0.14117647, 0.        ]), 'ab300_133': array([0.04705882, 0.        ]), 'ab300_134': array([0.01176471, 0.        ]), 'ab300_135': array([0.67058824, 0.        ]), 'ab300_136': array([0.57647059, 0.        ]), 'ab300_137': array([0.62352941, 0.        ]), 'ab300_138': array([0.44705882, 0.        ]), 'ab300_139': array([0.83529412, 0.        ]), 'ab300_140': array([0.68235294, 0.        ]), 'ab300_141': array([0.27058824, 0.        ]), 'ab300_142': array([0.91764706, 0.        ]), 'ab300_143': array([0.88235294, 0.        ]), 'ab300_144': array([1., 0.]), 'ab300_145': array([0.29411765, 0.        ]), 'ab300_146': array([0.72941176, 0.        ]), 'ab300_147': array([0.81176471, 0.        ]), 'ab300_149': array([0.15294118, 0.        ]), 'ab300_150': array([0.6, 0. ]), 'ab300_151': array([0.77647059, 0.        ]), 'ab300_152': array([0.30588235, 0.        ]), 'ab300_154': array([0.77647059, 0.        ]), 'ab300_155': array([0.55294118, 0.        ]), 'ab300_156': array([0.98823529, 0.        ]), 'ab300_157': array([0.92941176, 0.        ]), 'ab300_158': array([0.55294118, 0.        ]), 'ab300_159': array([0.75294118, 0.        ]), 'ab300_160': array([0.72941176, 0.        ]), 'ab300_161': array([0.8, 0. ]), 'ab300_162': array([0.81176471, 0.        ]), 'ab300_163': array([0.67058824, 0.        ]), 'ab300_164': array([0.29411765, 0.        ]), 'ab300_165': array([0.65882353, 0.        ]), 'ab300_166': array([0.50588235, 0.        ]), 'ab300_168': array([0.25882353, 0.        ]), 'ab300_169': array([0.32941176, 0.        ]), 'ab300_170': array([0.56470588, 0.        ]), 'ab300_171': array([0.30588235, 0.        ]), 'ab300_172': array([0.37647059, 0.        ]), 'ab300_173': array([0.6, 0. ]), 'ab300_174': array([0.18823529, 0.        ]), 'ab300_175': array([0.62352941, 0.        ]), 'ab300_176': array([0.69411765, 0.        ]), 'ab300_177': array([0.57647059, 0.        ]), 'ab300_178': array([0.44705882, 0.        ]), 'ab300_179': array([0.18823529, 0.        ]), 'ab300_180': array([0.09411765, 0.        ]), 'ab300_181': array([0.17647059, 0.        ]), 'ab300_182': array([0.17647059, 0.        ]), 'ab300_183': array([0.15294118, 0.        ]), 'ab300_184': array([0.68235294, 0.        ]), 'ab300_185': array([0.85882353, 0.        ]), 'ab300_186': array([0.18823529, 0.        ]), 'ab300_187': array([0.32941176, 0.        ]), 'ab300_188': array([0.72941176, 0.        ]), 'ab300_189': array([0.18823529, 0.        ]), 'ab300_190': array([0.16470588, 0.        ]), 'ab300_191': array([0.4, 0. ]), 'ab300_192': array([0.29411765, 0.        ]), 'ab300_193': array([0.22352941, 0.        ]), 'ab300_194': array([0.4, 0. ]), 'ab300_195': array([0.37647059, 0.        ]), 'ab300_196': array([0.30588235, 0.        ]), 'ab300_197': array([0.18823529, 0.        ]), 'ab300_198': array([0.04705882, 0.        ]), 'ab300_199': array([0.44705882, 0.        ]), 'ab300_200': array([0.01176471, 0.        ]), 'ab300_201': array([0.56470588, 0.        ]), 'ab300_202': array([0.35294118, 0.        ]), 'ab300_203': array([0.03529412, 0.        ]), 'ab300_204': array([0.21176471, 0.        ]), 'ab300_205': array([0.34117647, 0.        ]), 'ab300_208': array([0.30588235, 0.        ]), 'ab300_211': array([0.30588235, 0.        ]), 'ab300_212': array([0.44705882, 0.        ]), 'ab300_213': array([0.10588235, 0.        ]), 'ab300_214': array([0.04705882, 0.        ]), 'ab300_215': array([0.03529412, 0.        ]), 'ab300_216': array([0.70588235, 0.        ]), 'ab300_218': array([0.03529412, 0.        ]), 'ab300_219': array([0.07058824, 0.        ]), 'ab300_220': array([0.70588235, 0.        ]), 'ab300_221': array([0.21176471, 0.        ]), 'ab300_222': array([0.70588235, 0.        ]), 'ab300_223': array([0.18823529, 0.        ]), 'ab300_225': array([0.08235294, 0.        ]), 'ab300_226': array([0.04705882, 0.        ]), 'ab300_227': array([0.85882353, 0.        ]), 'ab300_228': array([0.69411765, 0.        ]), 'ab300_229': array([0.70588235, 0.        ]), 'ab300_230': array([0.69411765, 0.        ]), 'ab300_231': array([0.38823529, 0.        ]), 'ab300_232': array([0.23529412, 0.        ]), 'ab300_233': array([0.81176471, 0.        ]), 'ab300_234': array([0.51764706, 0.        ]), 'ab300_237': array([0.2, 0. ]), 'ab300_238': array([0.51764706, 0.        ]), 'ab300_239': array([0.32941176, 0.        ]), 'ab300_240': array([0.56470588, 0.        ]), 'ab300_241': array([0.82352941, 0.        ]), 'ab300_242': array([0.03529412, 0.        ]), 'ab300_243': array([0.01176471, 0.        ]), 'ab300_244': array([0.51764706, 0.        ]), 'ab300_245': array([0.78823529, 0.        ]), 'ab300_246': array([0.6, 0. ]), 'ab300_248': array([0.03529412, 0.        ]), 'ab300_249': array([0.05882353, 0.        ]), 'ab300_250': array([0.37647059, 0.        ]), 'ab300_251': array([0.18823529, 0.        ]), 'ab300_252': array([0.78823529, 0.        ]), 'ab300_253': array([0.18823529, 0.        ]), 'ab300_257': array([0.8, 0. ]), 'ab300_258': array([0.22352941, 0.        ]), 'ab300_259': array([0.61176471, 0.        ]), 'ab300_260': array([0.30588235, 0.        ]), 'ab300_261': array([0.05882353, 0.        ]), 'ab300_263': array([0.37647059, 0.        ]), 'ab300_264': array([0.35294118, 0.        ]), 'ab300_265': array([0.82352941, 0.        ]), 'ab300_266': array([0.82352941, 0.        ]), 'ab300_267': array([0.51764706, 0.        ]), 'ab300_268': array([0.49411765, 0.        ]), 'ab300_269': array([0.31764706, 0.        ]), 'ab300_270': array([0.23529412, 0.        ]), 'ab300_271': array([0.83529412, 0.        ]), 'ab300_273': array([0.03529412, 0.        ]), 'ab300_274': array([0.12941176, 0.        ]), 'ab300_275': array([0.11764706, 0.        ]), 'ab300_276': array([0.04705882, 0.        ]), 'ab300_277': array([0.12941176, 0.        ]), 'ab300_278': array([0.03529412, 0.        ]), 'ab300_279': array([0.01176471, 0.        ]), 'ab300_280': array([0.04705882, 0.        ]), 'ab300_281': array([0.74117647, 0.        ]), 'ab300_282': array([0.36470588, 0.        ]), 'ab300_283': array([0.23529412, 0.        ]), 'ab300_284': array([0.03529412, 0.        ]), 'ab300_285': array([0.28235294, 0.        ]), 'ab300_286': array([0.94117647, 0.        ]), 'ab300_287': array([0.11764706, 0.        ]), 'ab300_288': array([0.52941176, 0.        ]), 'ab300_289': array([0.88235294, 0.        ]), 'ab300_290': array([0.15294118, 0.        ]), 'ab300_291': array([0.74117647, 0.        ]), 'ab300_292': array([0.2, 0. ]), 'ab300_293': array([0.25882353, 0.        ]), 'ab300_294': array([0.15294118, 0.        ]), 'ab300_295': array([0.21176471, 0.        ]), 'ab300_296': array([0.16470588, 0.        ]), 'ab300_297': array([0.17647059, 0.        ]), 'ab300_299': array([0.02352941, 0.        ]), 'ab300_301': array([0.22352941, 0.        ]), 'ab300_303': array([0.05882353, 0.        ]), 'ab300_304': array([0.89411765, 0.        ]), 'ab300_305': array([0.18823529, 0.        ]), 'ab300_306': array([0.24705882, 0.        ]), 'ab300_307': array([0.44705882, 0.        ]), 'ab300_308': array([0.2, 0. ]), 'ab300_309': array([0.17647059, 0.        ]), 'ab300_310': array([0.04705882, 0.        ]), 'ab300_311': array([0.07058824, 0.        ]), 'ab300_312': array([0.28235294, 0.        ]), 'ab300_313': array([0.21176471, 0.        ]), 'ab300_314': array([0.17647059, 0.        ]), 'ab300_315': array([0.72941176, 0.        ]), 'ab300_316': array([0.23529412, 0.        ]), 'ab300_317': array([0.75294118, 0.        ]), 'ab300_318': array([0.14117647, 0.        ]), 'ab300_319': array([0.15294118, 0.        ]), 'ab300_320': array([0.04705882, 0.        ]), 'ab300_321': array([0.07058824, 0.        ]), 'ab300_322': array([0.12941176, 0.        ]), 'ab300_323': array([0.05882353, 0.        ]), 'ab300_324': array([0.61176471, 0.        ]), 'ab300_325': array([0.05882353, 0.        ]), 'ab300_327': array([0.04705882, 0.        ]), 'ab300_328': array([0.78823529, 0.        ]), 'ab300_329': array([0.77647059, 0.        ]), 'ab300_331': array([0.43529412, 0.        ]), 'ab300_332': array([0.57647059, 0.        ]), 'ab300_333': array([0.17647059, 0.        ]), 'ab300_334': array([0.50588235, 0.        ]), 'ab300_335': array([0.15294118, 0.        ]), 'ab300_336': array([0.17647059, 0.        ]), 'ab300_337': array([0.47058824, 0.        ]), 'ab300_338': array([0.75294118, 0.        ]), 'ab300_339': array([0.11764706, 0.        ]), 'ab300_340': array([0.09411765, 0.        ]), 'ab300_341': array([0.10588235, 0.        ]), 'ab300_342': array([0.14117647, 0.        ]), 'ab300_343': array([0.42352941, 0.        ]), 'ab300_344': array([0.04705882, 0.        ]), 'ab300_345': array([0.05882353, 0.        ]), 'ab300_346': array([0.11764706, 0.        ]), 'ab300_347': array([0.09411765, 0.        ]), 'ab300_348': array([0.51764706, 0.        ]), 'ab300_350': array([0.64705882, 0.        ]), 'ab300_351': array([0.05882353, 0.        ]), 'ab300_352': array([0.03529412, 0.        ]), 'ab300_354': array([0.04705882, 0.        ]), 'ab300_356': array([0.03529412, 0.        ]), 'ab300_357': array([0.02352941, 0.        ]), 'ab300_358': array([0.01176471, 0.        ]), 'ab300_359': array([0.03529412, 0.        ]), 'ab300_360': array([0.11764706, 0.        ]), 'ab300_361': array([0.03529412, 0.        ]), 'ab300_362': array([0.01176471, 0.        ]), 'ab300_364': array([0.74117647, 0.        ]), 'ab300_365': array([0.10588235, 0.        ]), 'ab300_366': array([0.07058824, 0.        ]), 'ab300_367': array([0.01176471, 0.        ]), 'ab300_368': array([0.03529412, 0.        ]), 'ab300_369': array([0.88235294, 0.        ]), 'ab300_370': array([0.11764706, 0.        ]), 'ab300_372': array([0.14117647, 0.        ]), 'ab300_373': array([0.11764706, 0.        ]), 'ab300_374': array([0.03529412, 0.        ]), 'ab300_375': array([0.82352941, 0.        ]), 'ab300_376': array([0.82352941, 0.        ]), 'ab300_377': array([0.04705882, 0.        ]), 'ab300_378': array([0.07058824, 0.        ]), 'ab300_379': array([0.12941176, 0.        ]), 'ab300_380': array([0.10588235, 0.        ]), 'ab300_382': array([0.02352941, 0.        ]), 'ab300_383': array([0.02352941, 0.        ]), 'ab300_384': array([0.08235294, 0.        ]), 'ab300_385': array([0.12941176, 0.        ]), 'ab300_387': array([0.11764706, 0.        ]), 'ab300_388': array([0.71764706, 0.        ]), 'ab300_389': array([0.89411765, 0.        ]), 'ab300_390': array([0.24705882, 0.        ]), 'cbbrain_004': array([0.11764706, 0.        ]), 'cbbrain_005': array([0.31764706, 0.        ]), 'cbbrain_006': array([0.63529412, 0.        ]), 'cbbrain_007': array([0.30588235, 0.        ]), 'cbbrain_008': array([0.44705882, 0.        ]), 'cbbrain_009': array([0.18823529, 0.        ]), 'cbbrain_010': array([0.18823529, 0.        ]), 'cbbrain_011': array([0.03529412, 0.        ]), 'cbbrain_012': array([0.05882353, 0.        ]), 'cbbrain_013': array([0., 0.]), 'cbbrain_014': array([0.18823529, 0.        ]), 'cbbrain_015': array([0.17647059, 0.        ]), 'cbbrain_016': array([0.17647059, 0.        ]), 'cbbrain_017': array([0.12941176, 0.        ]), 'cbbrain_019': array([0.25882353, 0.        ]), 'cbbrain_021': array([0.27058824, 0.        ]), 'cbbrain_022': array([0.15294118, 0.        ]), 'cbbrain_025': array([0.04705882, 0.        ]), 'cbbrain_026': array([0., 0.]), 'cbbrain_027': array([0.07058824, 0.        ]), 'cbbrain_029': array([0.12941176, 0.        ]), 'cbbrain_031': array([0.01176471, 0.        ]), 'cbbrain_032': array([0.01176471, 0.        ]), 'cbbrain_042': array([0.11764706, 0.        ]), 'cbbrain_043': array([0.14117647, 0.        ]), 'cbbrain_048': array([0.01176471, 0.        ]), 'cbbrain_049': array([0.15294118, 0.        ]), 'cbbrain_050': array([0.24705882, 0.        ]), 'cbbrain_051': array([0.15294118, 0.        ]), 'cbbrain_052': array([0.14117647, 0.        ]), 'cbbrain_053': array([0.67058824, 0.        ]), 'cbbrain_054': array([0.81176471, 0.        ]), 'cbbrain_055': array([0.15294118, 0.        ]), 'cbbrain_056': array([0.23529412, 0.        ]), 'cbbrain_058': array([0.50588235, 0.        ]), 'cbbrain_059': array([0.09411765, 0.        ]), 'cbbrain_060': array([0.15294118, 0.        ]), 'cbbrain_061': array([0.10588235, 0.        ]), 'cbbrain_062': array([0.01176471, 0.        ]), 'cbbrain_065': array([0.61176471, 0.        ]), 'cbbrain_066': array([0.2, 0. ]), 'cbbrain_067': array([0.21176471, 0.        ]), 'cbbrain_068': array([0.35294118, 0.        ]), 'cbbrain_074': array([0.22352941, 0.        ]), 'cbbrain_077': array([0.10588235, 0.        ]), 'cbbrain_078': array([0.65882353, 0.        ]), 'cbbrain_079': array([0.16470588, 0.        ]), 'cbbrain_080': array([0.17647059, 0.        ]), 'cbbrain_081': array([0.70588235, 0.        ]), 'cbbrain_082': array([0.64705882, 0.        ]), 'cbbrain_084': array([0.67058824, 0.        ]), 'cbbrain_085': array([0.18823529, 0.        ]), 'cbbrain_087': array([0.29411765, 0.        ]), 'cbbrain_088': array([0.16470588, 0.        ]), 'cbbrain_089': array([0.16470588, 0.        ]), 'cbbrain_090': array([0.22352941, 0.        ]), 'cbbrain_091': array([0.38823529, 0.        ]), 'cbbrain_092': array([0.22352941, 0.        ]), 'cbbrain_093': array([0.67058824, 0.        ]), 'cbbrain_094': array([0.22352941, 0.        ]), 'cbbrain_095': array([0.27058824, 0.        ]), 'cbbrain_096': array([0.37647059, 0.        ]), 'cbbrain_097': array([0.37647059, 0.        ]), 'cbbrain_098': array([0.01176471, 0.        ]), 'cbbrain_099': array([0.03529412, 0.        ]), 'cbbrain_100': array([0.37647059, 0.        ]), 'cbbrain_101': array([0.14117647, 0.        ]), 'cbbrain_102': array([0.61176471, 0.        ]), 'cbbrain_103': array([0.05882353, 0.        ]), 'cbbrain_104': array([0.76470588, 0.        ]), 'cbbrain_105': array([0.11764706, 0.        ]), 'cbbrain_106': array([0.75294118, 0.        ]), 'cbbrain_107': array([0.55294118, 0.        ]), 'cbbrain_109': array([0.12941176, 0.        ]), 'cbbrain_110': array([0.37647059, 0.        ]), 'cbbrain_111': array([0.34117647, 0.        ]), 'cbbrain_112': array([0.18823529, 0.        ]), 'cbbrain_113': array([0.09411765, 0.        ]), 'cbbrain_114': array([0.07058824, 0.        ]), 'cbbrain_115': array([0.74117647, 0.        ]), 'cbbrain_116': array([0.16470588, 0.        ]), 'cbbrain_117': array([0.28235294, 0.        ]), 'cbbrain_118': array([0.05882353, 0.        ]), 'cbbrain_119': array([0.01176471, 0.        ]), 'cbbrain_120': array([0.03529412, 0.        ]), 'cbbrain_121': array([0.23529412, 0.        ]), 'cbbrain_123': array([0.08235294, 0.        ]), 'cbbrain_124': array([0.04705882, 0.        ]), 'cbbrain_125': array([0.37647059, 0.        ]), 'cbbrain_126': array([0.4, 0. ]), 'cbbrain_127': array([0.55294118, 0.        ]), 'cbbrain_129': array([0.22352941, 0.        ]), 'cbbrain_130': array([0.31764706, 0.        ]), 'cbbrain_132': array([0.45882353, 0.        ]), 'cbbrain_133': array([0.15294118, 0.        ]), 'cbbrain_134': array([0.23529412, 0.        ]), 'cbbrain_135': array([0.38823529, 0.        ]), 'cbbrain_137': array([0.01176471, 0.        ]), 'cbbrain_138': array([0.04705882, 0.        ]), 'cbbrain_139': array([0.32941176, 0.        ]), 'cbbrain_141': array([0.8, 0. ]), 'cbbrain_142': array([0.30588235, 0.        ]), 'cbbrain_143': array([0.2, 0. ]), 'cbbrain_144': array([0.44705882, 0.        ]), 'cbbrain_145': array([0.05882353, 0.        ]), 'cbbrain_146': array([0.02352941, 0.        ]), 'cbbrain_147': array([0.41176471, 0.        ]), 'cbbrain_148': array([0.18823529, 0.        ]), 'cbbrain_149': array([0.76470588, 0.        ]), 'cbbrain_152': array([0.08235294, 0.        ]), 'cbbrain_153': array([0.11764706, 0.        ]), 'cbbrain_154': array([0.37647059, 0.        ]), 'cbbrain_155': array([0.49411765, 0.        ]), 'cbbrain_156': array([0.6, 0. ]), 'cbbrain_157': array([0.17647059, 0.        ]), 'cbbrain_158': array([0.38823529, 0.        ]), 'cbbrain_159': array([0.01176471, 0.        ]), 'cbbrain_160': array([0.62352941, 0.        ]), 'cbbrain_161': array([0.6, 0. ]), 'cbbrain_162': array([0.28235294, 0.        ]), 'cbbrain_163': array([0.25882353, 0.        ]), 'cbbrain_164': array([0.56470588, 0.        ]), 'cbbrain_165': array([0.30588235, 0.        ]), 'cbbrain_166': array([0.64705882, 0.        ]), 'cbbrain_168': array([0.11764706, 0.        ]), 'cbbrain_169': array([0.76470588, 0.        ]), 'cbbrain_170': array([0.75294118, 0.        ]), 'cbbrain_171': array([0.61176471, 0.        ]), 'cbbrain_172': array([0.49411765, 0.        ]), 'cbbrain_173': array([0.45882353, 0.        ]), 'cbbrain_174': array([0.41176471, 0.        ]), 'cbbrain_175': array([0.65882353, 0.        ]), 'cbbrain_177': array([0.29411765, 0.        ]), 'cbbrain_178': array([0.57647059, 0.        ]), 'cbbrain_180': array([0.52941176, 0.        ]), 'cbbrain_181': array([0.01176471, 0.        ]), 'cbbrain_182': array([0.04705882, 0.        ]), 'cbbrain_184': array([0.25882353, 0.        ]), 'cbbrain_185': array([0.47058824, 0.        ]), 'cbbrain_186': array([0.48235294, 0.        ]), 'cbbrain_187': array([0.07058824, 0.        ]), 'cbbrain_188': array([0.04705882, 0.        ]), 'cbbrain_189': array([0.12941176, 0.        ]), 'cbbrain_191': array([0.07058824, 0.        ]), 'cbbrain_192': array([0.12941176, 0.        ]), 'cbbrain_193': array([0.54117647, 0.        ]), 'cbbrain_194': array([0.35294118, 0.        ]), 'cbbrain_400': array([0.52941176, 0.        ]), 'cbbrain_401': array([0.76470588, 0.        ]), 'cbbrain_402': array([0.58823529, 0.        ]), 'cbbrain_403': array([0.62352941, 0.        ]), 'cbbrain_404': array([0.70588235, 0.        ]), 'cbbrain_405': array([0.62352941, 0.        ]), 'tle_002': array([0.49759871, 1.        ]), 'tle_002_2': array([0.53124899, 1.        ]), 'tle_003': array([0.1864303, 1.       ]), 'tle_004': array([0.2706527, 1.       ]), 'tle_005': array([0.31803384, 1.        ]), 'tle_006': array([0.44786463, 1.        ]), 'tle_007': array([0.77189363, 1.        ]), 'tle_007_2': array([0.8035133, 1.       ]), 'tle_008': array([0.63435939, 1.        ]), 'tle_008_2': array([0.66481869, 1.        ]), 'tle_009': array([0.57289283, 1.        ]), 'tle_010': array([0.4927639, 1.       ]), 'tle_010_2': array([0.52273973, 1.        ]), 'tle_013': array([0.64992748, 1.        ]), 'tle_017': array([0.52148268, 1.        ]), 'tle_017_2': array([0.55007252, 1.        ]), 'tle_018': array([0.53814666, 1.        ]), 'tle_018_2': array([0.56721998, 1.        ]), 'tle_019': array([0.1540693, 1.       ]), 'tle_021': array([0.58236906, 1.        ]), 'tle_021_2': array([0.61112006, 1.        ]), 'tle_024': array([0.36947623, 1.        ]), 'tle_024_2': array([0.39745367, 1.        ]), 'tle_032': array([0.34378727, 1.        ]), 'tle_032_2': array([0.37150685, 1.        ]), 'tle_034': array([0.54001612, 1.        ]), 'tle_040': array([0.2826108, 1.       ]), 'tle_040_2': array([0.30978243, 1.        ]), 'tle_041': array([0.56419017, 1.        ]), 'tle_041_2': array([0.60554392, 1.        ]), 'tle_042': array([0.34520548, 1.        ]), 'tle_043': array([0.46488316, 1.        ]), 'tle_043_2': array([0.48560838, 1.        ]), 'tle_044': array([0.26913779, 1.        ]), 'tle_044_2': array([0.28954069, 1.        ]), 'tle_045': array([0.1702498, 1.       ]), 'tle_045_2': array([0.18626914, 1.        ]), 'tle_046': array([0.46243352, 1.        ]), 'tle_046_2': array([0.47429492, 1.        ]), 'tle_048': array([0.40377115, 1.        ]), 'tle_048_2': array([0.42762288, 1.        ]), 'tle_CT2': array([0.4995971, 1.       ]), 'tle_CT2_2': array([0.53121676, 1.        ])}\n"
     ]
    }
   ],
   "source": [
    "test = torch.load('/home/jakaria/Explaining_Shape_Variability/src/DeepLearning/compute_canada/guided_vae/data/CoMA/raw/hippocampus/labels.pt')\n",
    "print(test)"
   ]
  }
 ],
 "metadata": {
  "kernelspec": {
   "display_name": "pytorch_geo",
   "language": "python",
   "name": "python3"
  },
  "language_info": {
   "codemirror_mode": {
    "name": "ipython",
    "version": 3
   },
   "file_extension": ".py",
   "mimetype": "text/x-python",
   "name": "python",
   "nbconvert_exporter": "python",
   "pygments_lexer": "ipython3",
   "version": "3.10.9"
  },
  "orig_nbformat": 4
 },
 "nbformat": 4,
 "nbformat_minor": 2
}
