{
 "cells": [
  {
   "cell_type": "code",
   "execution_count": 2,
   "metadata": {},
   "outputs": [
    {
     "name": "stdout",
     "output_type": "stream",
     "text": [
      "Jupyter environment detected. Enabling Open3D WebVisualizer.\n",
      "[Open3D INFO] WebRTC GUI backend enabled.\n",
      "[Open3D INFO] WebRTCWindowSystem: HTTP handshake server disabled.\n"
     ]
    }
   ],
   "source": [
    "import torch\n",
    "from reconstruction import AE\n",
    "from datasets import MeshData\n",
    "from utils import utils, DataLoader, mesh_sampling, sap\n",
    "import numpy as np\n",
    "import pyvista as pv\n",
    "from skimage import measure\n",
    "from ipywidgets import interact, interactive, fixed, interact_manual, FloatSlider\n",
    "from IPython.display import display\n",
    "import meshplot as mp\n",
    "import os, sys\n",
    "from math import ceil\n",
    "from scipy.ndimage import zoom\n",
    "import open3d as o3d"
   ]
  },
  {
   "cell_type": "code",
   "execution_count": 3,
   "metadata": {},
   "outputs": [],
   "source": [
    "# Meshplot left an annoying print statement in their code. Using this context manager to supress it...\n",
    "class HiddenPrints:\n",
    "    def __enter__(self):\n",
    "        self._original_stdout = sys.stdout\n",
    "        sys.stdout = open(os.devnull, 'w')\n",
    "\n",
    "    def __exit__(self, exc_type, exc_val, exc_tb):\n",
    "        sys.stdout.close()\n",
    "        sys.stdout = self._original_stdout"
   ]
  },
  {
   "cell_type": "code",
   "execution_count": 3,
   "metadata": {},
   "outputs": [
    {
     "data": {
      "text/plain": [
       "AE(\n",
       "  (en_layers): ModuleList(\n",
       "    (0): SpiralEnblock(\n",
       "      (conv): SpiralConv(3, 24, seq_length=9)\n",
       "    )\n",
       "    (1-2): 2 x SpiralEnblock(\n",
       "      (conv): SpiralConv(24, 24, seq_length=9)\n",
       "    )\n",
       "    (3): SpiralEnblock(\n",
       "      (conv): SpiralConv(24, 48, seq_length=9)\n",
       "    )\n",
       "    (4): Linear(in_features=4704, out_features=24, bias=True)\n",
       "  )\n",
       "  (de_layers): ModuleList(\n",
       "    (0): Linear(in_features=12, out_features=4704, bias=True)\n",
       "    (1): SpiralDeblock(\n",
       "      (conv): SpiralConv(48, 48, seq_length=9)\n",
       "    )\n",
       "    (2): SpiralDeblock(\n",
       "      (conv): SpiralConv(48, 24, seq_length=9)\n",
       "    )\n",
       "    (3-4): 2 x SpiralDeblock(\n",
       "      (conv): SpiralConv(24, 24, seq_length=9)\n",
       "    )\n",
       "    (5): SpiralConv(24, 3, seq_length=9)\n",
       "  )\n",
       "  (cls_sq): Sequential(\n",
       "    (0): Linear(in_features=1, out_features=8, bias=True)\n",
       "    (1): BatchNorm1d(8, eps=1e-05, momentum=0.1, affine=True, track_running_stats=True)\n",
       "    (2): LeakyReLU(negative_slope=0.2, inplace=True)\n",
       "    (3): Linear(in_features=8, out_features=8, bias=True)\n",
       "    (4): BatchNorm1d(8, eps=1e-05, momentum=0.1, affine=True, track_running_stats=True)\n",
       "    (5): LeakyReLU(negative_slope=0.2, inplace=True)\n",
       "    (6): Linear(in_features=8, out_features=1, bias=True)\n",
       "    (7): Sigmoid()\n",
       "  )\n",
       "  (reg_sq_2): Sequential(\n",
       "    (0): Linear(in_features=1, out_features=8, bias=True)\n",
       "    (1): BatchNorm1d(8, eps=1e-05, momentum=0.1, affine=True, track_running_stats=True)\n",
       "    (2): LeakyReLU(negative_slope=0.2, inplace=True)\n",
       "    (3): Linear(in_features=8, out_features=8, bias=True)\n",
       "    (4): BatchNorm1d(8, eps=1e-05, momentum=0.1, affine=True, track_running_stats=True)\n",
       "    (5): LeakyReLU(negative_slope=0.2, inplace=True)\n",
       "    (6): Linear(in_features=8, out_features=1, bias=True)\n",
       "  )\n",
       ")"
      ]
     },
     "execution_count": 3,
     "metadata": {},
     "output_type": "execute_result"
    }
   ],
   "source": [
    "device = torch.device('cuda', 0)\n",
    "# Set the path to the saved model directory\n",
    "#model_path = \"/home/jakaria/torus_bump_500_three_scale_binary_bump_variable_noise_fixed_angle/models_classification_regression_only_correlation_loss/models/65\"\n",
    "model_path = \"/home/jakaria/Explaining_Shape_Variability/src/DeepLearning/compute_canada/guided_vae/data/CoMA/raw/torus/models_corr/7\"\n",
    "# Load the saved model\n",
    "model_state_dict = torch.load(f\"{model_path}/model_state_dict.pt\")\n",
    "in_channels = torch.load(f\"{model_path}/in_channels.pt\")\n",
    "out_channels = torch.load(f\"{model_path}/out_channels.pt\")\n",
    "latent_channels = torch.load(f\"{model_path}/latent_channels.pt\")\n",
    "spiral_indices_list = torch.load(f\"{model_path}/spiral_indices_list.pt\")\n",
    "up_transform_list = torch.load(f\"{model_path}/up_transform_list.pt\")\n",
    "down_transform_list = torch.load(f\"{model_path}/down_transform_list.pt\")\n",
    "std = torch.load(f\"{model_path}/std.pt\")\n",
    "mean = torch.load(f\"{model_path}/mean.pt\")\n",
    "template_face = torch.load(f\"{model_path}/faces.pt\")\n",
    "\n",
    "# Create an instance of the model\n",
    "model = AE(in_channels, out_channels, latent_channels,\n",
    "           spiral_indices_list, down_transform_list,\n",
    "           up_transform_list)\n",
    "model.load_state_dict(model_state_dict)\n",
    "model.to(device)\n",
    "# Set the model to evaluation mode\n",
    "model.eval()"
   ]
  },
  {
   "cell_type": "code",
   "execution_count": 8,
   "metadata": {},
   "outputs": [
    {
     "data": {
      "application/vnd.jupyter.widget-view+json": {
       "model_id": "3d112197ae6b4dfbb64b5426d47440c3",
       "version_major": 2,
       "version_minor": 0
      },
      "text/plain": [
       "interactive(children=(FloatSlider(value=0.0, description='z[0]', max=1.5, min=-1.5, step=0.2), FloatSlider(val…"
      ]
     },
     "metadata": {},
     "output_type": "display_data"
    }
   ],
   "source": [
    "z = torch.zeros(12)\n",
    "plot=None\n",
    "@mp.interact(**{f'z[{i}]': FloatSlider(min=-1.5, max=1.5, step=0.2, value=0) for i in range(12)})\n",
    "def show(**kwargs):\n",
    "    global plot\n",
    "    global z\n",
    "    z = torch.tensor([kwargs[f'z[{i}]'] for i in range(12)])\n",
    "    with torch.no_grad():\n",
    "        z = z.to(device)\n",
    "        #print(z)\n",
    "        pred = model.decoder(z)\n",
    "\n",
    "        reshaped_pred = (pred.view(-1, 3).cpu() * std) + mean\n",
    "        reshaped_pred = reshaped_pred.cpu().numpy()\n",
    "        print(reshaped_pred.shape)\n",
    "\n",
    "    verts = reshaped_pred\n",
    "    pcd = o3d.io.read_triangle_mesh('/home/jakaria/Explaining_Shape_Variability/src/DeepLearning/compute_canada/guided_vae/data/CoMA/raw/torus/template/template.ply')\n",
    "    faces = np.asarray(pcd.triangles)\n",
    "\n",
    "    if plot is None:\n",
    "        plot = mp.plot(verts, faces, return_plot=True)\n",
    "    else:\n",
    "        with HiddenPrints():\n",
    "            plot.update_object(vertices=verts, faces=faces)\n",
    "        display(plot._renderer)"
   ]
  },
  {
   "cell_type": "code",
   "execution_count": null,
   "metadata": {},
   "outputs": [],
   "source": [
    "latent_channels = torch.load(f\"{model_path}/latent_channels.pt\")\n",
    "angles = torch.load(f\"{model_path}/angles.pt\")"
   ]
  },
  {
   "cell_type": "code",
   "execution_count": 24,
   "metadata": {},
   "outputs": [
    {
     "name": "stdout",
     "output_type": "stream",
     "text": [
      "tensor([[0.0000, 0.0500, 0.1000, 0.8000],\n",
      "        [0.0500, 0.0000, 0.0500, 0.7500],\n",
      "        [0.1000, 0.0500, 0.0000, 0.7000],\n",
      "        [0.8000, 0.7500, 0.7000, 0.0000]])\n",
      "tensor([[ True,  True, False, False],\n",
      "        [ True,  True,  True, False],\n",
      "        [False,  True,  True, False],\n",
      "        [False, False, False,  True]])\n"
     ]
    }
   ],
   "source": [
    "import torch\n",
    "\n",
    "# Sample flattened labels\n",
    "y_expanded = torch.tensor([[1.0, 0.95, 0.9, 0.2]])\n",
    "threshold = 0.05001\n",
    "\n",
    "abs_diff_matrix = torch.abs(y_expanded - y_expanded.t())\n",
    "same_class_mask = abs_diff_matrix <= threshold\n",
    "\n",
    "print(abs_diff_matrix)\n",
    "print(same_class_mask)\n"
   ]
  },
  {
   "cell_type": "code",
   "execution_count": 7,
   "metadata": {},
   "outputs": [],
   "source": [
    "model_path_root = \"/home/jakaria/torus_bump_5000_two_scale_binary_bump_variable_noise_fixed_angle/models_con_inhib_19-11-23_without_lambda1-2/\"\n",
    "trials = torch.load(f\"{model_path_root}/intermediate_trials.pt\")"
   ]
  },
  {
   "cell_type": "code",
   "execution_count": 8,
   "metadata": {},
   "outputs": [
    {
     "data": {
      "text/plain": [
       "FrozenTrial(number=196, state=TrialState.COMPLETE, values=[357.08770751953125, 0.41000000000000003, 0.9592963793411143], datetime_start=datetime.datetime(2023, 11, 14, 6, 35, 52, 595268), datetime_complete=datetime.datetime(2023, 11, 14, 6, 40, 25, 825007), params={'epochs': 400, 'batch_size': 4, 'w_cls': 34, 'beta': 0.21125819643916915, 'learning_rate': 0.00019176245642204008, 'learning_rate_decay': 0.72, 'delta': 0.30000000000000004, 'decay_step': 14, 'latent_channels': 16, 'temperature': 81, 'sequence_length': 30, 'dilation': 2, 'out_channel': 24}, user_attrs={}, system_attrs={'nsga2:generation': 3}, intermediate_values={}, distributions={'epochs': IntDistribution(high=400, log=False, low=100, step=100), 'batch_size': IntDistribution(high=32, log=False, low=4, step=4), 'w_cls': IntDistribution(high=100, log=False, low=1, step=1), 'beta': FloatDistribution(high=0.3, log=True, low=0.001, step=None), 'learning_rate': FloatDistribution(high=0.001, log=True, low=0.0001, step=None), 'learning_rate_decay': FloatDistribution(high=0.99, log=False, low=0.7, step=0.01), 'delta': FloatDistribution(high=0.9, log=False, low=0.1, step=0.1), 'decay_step': IntDistribution(high=50, log=False, low=1, step=1), 'latent_channels': IntDistribution(high=16, log=False, low=12, step=4), 'temperature': IntDistribution(high=181, log=False, low=1, step=20), 'sequence_length': IntDistribution(high=50, log=False, low=5, step=1), 'dilation': IntDistribution(high=2, log=False, low=1, step=1), 'out_channel': IntDistribution(high=32, log=False, low=8, step=8)}, trial_id=196, value=None)"
      ]
     },
     "execution_count": 8,
     "metadata": {},
     "output_type": "execute_result"
    }
   ],
   "source": [
    "trials[196]"
   ]
  },
  {
   "cell_type": "code",
   "execution_count": 4,
   "metadata": {},
   "outputs": [],
   "source": [
    "model_path_root = \"/home/jakaria/Explaining_Shape_Variability/src/DeepLearning/compute_canada/guided_vae/data/CoMA/raw/torus/models_con_inhib_lambda_n/\"\n",
    "trials = torch.load(f\"{model_path_root}/intermediate_trials.pt\")"
   ]
  },
  {
   "cell_type": "code",
   "execution_count": 6,
   "metadata": {},
   "outputs": [
    {
     "data": {
      "text/plain": [
       "[FrozenTrial(number=0, state=TrialState.COMPLETE, values=[356.6120910644531, 0.32599999999999996, 0.951632621677345], datetime_start=datetime.datetime(2023, 11, 19, 17, 58, 53, 65275), datetime_complete=datetime.datetime(2023, 11, 19, 18, 3, 47, 101416), params={'lambda1': 0.55}, user_attrs={}, system_attrs={'nsga2:generation': 0}, intermediate_values={}, distributions={'lambda1': FloatDistribution(high=0.95, log=False, low=0.05, step=0.05)}, trial_id=0, value=None),\n",
       " FrozenTrial(number=1, state=TrialState.COMPLETE, values=[357.5674133300781, 0.29000000000000004, 0.9479491074810836], datetime_start=datetime.datetime(2023, 11, 19, 18, 3, 47, 102031), datetime_complete=datetime.datetime(2023, 11, 19, 18, 8, 34, 873927), params={'lambda1': 0.15000000000000002}, user_attrs={}, system_attrs={'nsga2:generation': 0}, intermediate_values={}, distributions={'lambda1': FloatDistribution(high=0.95, log=False, low=0.05, step=0.05)}, trial_id=1, value=None),\n",
       " FrozenTrial(number=2, state=TrialState.COMPLETE, values=[357.0597229003906, 0.31399999999999995, 0.9544417748102548], datetime_start=datetime.datetime(2023, 11, 19, 18, 8, 34, 874655), datetime_complete=datetime.datetime(2023, 11, 19, 18, 13, 38, 718181), params={'lambda1': 0.6500000000000001}, user_attrs={}, system_attrs={'nsga2:generation': 0}, intermediate_values={}, distributions={'lambda1': FloatDistribution(high=0.95, log=False, low=0.05, step=0.05)}, trial_id=2, value=None),\n",
       " FrozenTrial(number=3, state=TrialState.COMPLETE, values=[357.6268310546875, 0.18000000000000005, 0.9529413789196282], datetime_start=datetime.datetime(2023, 11, 19, 18, 13, 38, 718967), datetime_complete=datetime.datetime(2023, 11, 19, 18, 18, 25, 450279), params={'lambda1': 0.6500000000000001}, user_attrs={}, system_attrs={'nsga2:generation': 0}, intermediate_values={}, distributions={'lambda1': FloatDistribution(high=0.95, log=False, low=0.05, step=0.05)}, trial_id=3, value=None),\n",
       " FrozenTrial(number=4, state=TrialState.COMPLETE, values=[356.3505859375, 0.348, 0.9527925034459479], datetime_start=datetime.datetime(2023, 11, 19, 18, 18, 25, 451130), datetime_complete=datetime.datetime(2023, 11, 19, 18, 23, 16, 374756), params={'lambda1': 0.9000000000000001}, user_attrs={}, system_attrs={'nsga2:generation': 0}, intermediate_values={}, distributions={'lambda1': FloatDistribution(high=0.95, log=False, low=0.05, step=0.05)}, trial_id=4, value=None),\n",
       " FrozenTrial(number=5, state=TrialState.COMPLETE, values=[357.8187255859375, 0.28, 0.959590438573524], datetime_start=datetime.datetime(2023, 11, 19, 18, 23, 16, 375687), datetime_complete=datetime.datetime(2023, 11, 19, 18, 28, 2, 162229), params={'lambda1': 0.35000000000000003}, user_attrs={}, system_attrs={'nsga2:generation': 0}, intermediate_values={}, distributions={'lambda1': FloatDistribution(high=0.95, log=False, low=0.05, step=0.05)}, trial_id=5, value=None),\n",
       " FrozenTrial(number=6, state=TrialState.COMPLETE, values=[358.0934143066406, 0.30400000000000005, 0.9578013486351767], datetime_start=datetime.datetime(2023, 11, 19, 18, 28, 2, 163191), datetime_complete=datetime.datetime(2023, 11, 19, 18, 32, 47, 63398), params={'lambda1': 0.2}, user_attrs={}, system_attrs={'nsga2:generation': 0}, intermediate_values={}, distributions={'lambda1': FloatDistribution(high=0.95, log=False, low=0.05, step=0.05)}, trial_id=6, value=None),\n",
       " FrozenTrial(number=7, state=TrialState.COMPLETE, values=[357.7281494140625, 0.32199999999999995, 0.9549354728983173], datetime_start=datetime.datetime(2023, 11, 19, 18, 32, 47, 64446), datetime_complete=datetime.datetime(2023, 11, 19, 18, 37, 35, 708418), params={'lambda1': 0.3}, user_attrs={}, system_attrs={'nsga2:generation': 0}, intermediate_values={}, distributions={'lambda1': FloatDistribution(high=0.95, log=False, low=0.05, step=0.05)}, trial_id=7, value=None),\n",
       " FrozenTrial(number=8, state=TrialState.COMPLETE, values=[362.8180236816406, 0.252, 0.9444881430803203], datetime_start=datetime.datetime(2023, 11, 19, 18, 37, 35, 709514), datetime_complete=datetime.datetime(2023, 11, 19, 18, 42, 34, 269328), params={'lambda1': 0.05}, user_attrs={}, system_attrs={'nsga2:generation': 0}, intermediate_values={}, distributions={'lambda1': FloatDistribution(high=0.95, log=False, low=0.05, step=0.05)}, trial_id=8, value=None),\n",
       " FrozenTrial(number=9, state=TrialState.COMPLETE, values=[356.2106628417969, 0.22799999999999998, 0.9521845402602851], datetime_start=datetime.datetime(2023, 11, 19, 18, 42, 34, 270469), datetime_complete=datetime.datetime(2023, 11, 19, 18, 47, 14, 181000), params={'lambda1': 0.95}, user_attrs={}, system_attrs={'nsga2:generation': 0}, intermediate_values={}, distributions={'lambda1': FloatDistribution(high=0.95, log=False, low=0.05, step=0.05)}, trial_id=9, value=None),\n",
       " FrozenTrial(number=10, state=TrialState.COMPLETE, values=[356.50445556640625, 0.23199999999999998, 0.9442237136227221], datetime_start=datetime.datetime(2023, 11, 19, 18, 47, 14, 182235), datetime_complete=datetime.datetime(2023, 11, 19, 18, 52, 0, 394925), params={'lambda1': 0.9000000000000001}, user_attrs={}, system_attrs={'nsga2:generation': 0}, intermediate_values={}, distributions={'lambda1': FloatDistribution(high=0.95, log=False, low=0.05, step=0.05)}, trial_id=10, value=None),\n",
       " FrozenTrial(number=11, state=TrialState.COMPLETE, values=[357.8729248046875, 0.31000000000000005, 0.9599402335028016], datetime_start=datetime.datetime(2023, 11, 19, 18, 52, 0, 396335), datetime_complete=datetime.datetime(2023, 11, 19, 18, 56, 41, 433316), params={'lambda1': 0.25}, user_attrs={}, system_attrs={'nsga2:generation': 0}, intermediate_values={}, distributions={'lambda1': FloatDistribution(high=0.95, log=False, low=0.05, step=0.05)}, trial_id=11, value=None),\n",
       " FrozenTrial(number=12, state=TrialState.COMPLETE, values=[357.8875732421875, 0.258, 0.955249896469759], datetime_start=datetime.datetime(2023, 11, 19, 18, 56, 41, 434654), datetime_complete=datetime.datetime(2023, 11, 19, 19, 1, 39, 136607), params={'lambda1': 0.25}, user_attrs={}, system_attrs={'nsga2:generation': 0}, intermediate_values={}, distributions={'lambda1': FloatDistribution(high=0.95, log=False, low=0.05, step=0.05)}, trial_id=12, value=None),\n",
       " FrozenTrial(number=13, state=TrialState.COMPLETE, values=[357.9768981933594, 0.33999999999999997, 0.9390185669293709], datetime_start=datetime.datetime(2023, 11, 19, 19, 1, 39, 138049), datetime_complete=datetime.datetime(2023, 11, 19, 19, 6, 34, 388856), params={'lambda1': 0.25}, user_attrs={}, system_attrs={'nsga2:generation': 0}, intermediate_values={}, distributions={'lambda1': FloatDistribution(high=0.95, log=False, low=0.05, step=0.05)}, trial_id=13, value=None),\n",
       " FrozenTrial(number=14, state=TrialState.COMPLETE, values=[357.37152099609375, 0.29800000000000004, 0.93930454252574], datetime_start=datetime.datetime(2023, 11, 19, 19, 6, 34, 390583), datetime_complete=datetime.datetime(2023, 11, 19, 19, 11, 18, 275847), params={'lambda1': 0.1}, user_attrs={}, system_attrs={'nsga2:generation': 0}, intermediate_values={}, distributions={'lambda1': FloatDistribution(high=0.95, log=False, low=0.05, step=0.05)}, trial_id=14, value=None),\n",
       " FrozenTrial(number=15, state=TrialState.COMPLETE, values=[356.6163330078125, 0.33199999999999996, 0.95915452087556], datetime_start=datetime.datetime(2023, 11, 19, 19, 11, 18, 277372), datetime_complete=datetime.datetime(2023, 11, 19, 19, 16, 28, 418345), params={'lambda1': 0.45}, user_attrs={}, system_attrs={'nsga2:generation': 0}, intermediate_values={}, distributions={'lambda1': FloatDistribution(high=0.95, log=False, low=0.05, step=0.05)}, trial_id=15, value=None),\n",
       " FrozenTrial(number=16, state=TrialState.COMPLETE, values=[356.88934326171875, 0.33199999999999996, 0.9574005027643923], datetime_start=datetime.datetime(2023, 11, 19, 19, 16, 28, 419958), datetime_complete=datetime.datetime(2023, 11, 19, 19, 21, 39, 587689), params={'lambda1': 0.8500000000000001}, user_attrs={}, system_attrs={'nsga2:generation': 0}, intermediate_values={}, distributions={'lambda1': FloatDistribution(high=0.95, log=False, low=0.05, step=0.05)}, trial_id=16, value=None),\n",
       " FrozenTrial(number=17, state=TrialState.COMPLETE, values=[357.1363525390625, 0.262, 0.945340257065215], datetime_start=datetime.datetime(2023, 11, 19, 19, 21, 39, 589425), datetime_complete=datetime.datetime(2023, 11, 19, 19, 26, 45, 443132), params={'lambda1': 0.4}, user_attrs={}, system_attrs={'nsga2:generation': 0}, intermediate_values={}, distributions={'lambda1': FloatDistribution(high=0.95, log=False, low=0.05, step=0.05)}, trial_id=17, value=None),\n",
       " FrozenTrial(number=18, state=TrialState.COMPLETE, values=[357.8746643066406, 0.388, 0.955065264167214], datetime_start=datetime.datetime(2023, 11, 19, 19, 26, 45, 445291), datetime_complete=datetime.datetime(2023, 11, 19, 19, 31, 59, 31049), params={'lambda1': 0.2}, user_attrs={}, system_attrs={'nsga2:generation': 0}, intermediate_values={}, distributions={'lambda1': FloatDistribution(high=0.95, log=False, low=0.05, step=0.05)}, trial_id=18, value=None),\n",
       " FrozenTrial(number=19, state=TrialState.COMPLETE, values=[357.294677734375, 0.30800000000000005, 0.9589513120729772], datetime_start=datetime.datetime(2023, 11, 19, 19, 31, 59, 32907), datetime_complete=datetime.datetime(2023, 11, 19, 19, 36, 53, 647945), params={'lambda1': 0.6500000000000001}, user_attrs={}, system_attrs={'nsga2:generation': 0}, intermediate_values={}, distributions={'lambda1': FloatDistribution(high=0.95, log=False, low=0.05, step=0.05)}, trial_id=19, value=None),\n",
       " FrozenTrial(number=20, state=TrialState.COMPLETE, values=[356.4642639160156, 0.264, 0.9498331707424086], datetime_start=datetime.datetime(2023, 11, 19, 19, 36, 53, 649807), datetime_complete=datetime.datetime(2023, 11, 19, 19, 42, 16, 733746), params={'lambda1': 0.55}, user_attrs={}, system_attrs={'nsga2:generation': 0}, intermediate_values={}, distributions={'lambda1': FloatDistribution(high=0.95, log=False, low=0.05, step=0.05)}, trial_id=20, value=None),\n",
       " FrozenTrial(number=21, state=TrialState.COMPLETE, values=[358.0458984375, 0.242, 0.9514264641766165], datetime_start=datetime.datetime(2023, 11, 19, 19, 42, 16, 735912), datetime_complete=datetime.datetime(2023, 11, 19, 19, 47, 44, 396505), params={'lambda1': 0.1}, user_attrs={}, system_attrs={'nsga2:generation': 0}, intermediate_values={}, distributions={'lambda1': FloatDistribution(high=0.95, log=False, low=0.05, step=0.05)}, trial_id=21, value=None),\n",
       " FrozenTrial(number=22, state=TrialState.COMPLETE, values=[357.3822937011719, 0.32399999999999995, 0.9543395099997956], datetime_start=datetime.datetime(2023, 11, 19, 19, 47, 44, 398910), datetime_complete=datetime.datetime(2023, 11, 19, 19, 53, 8, 244121), params={'lambda1': 0.3}, user_attrs={}, system_attrs={'nsga2:generation': 0}, intermediate_values={}, distributions={'lambda1': FloatDistribution(high=0.95, log=False, low=0.05, step=0.05)}, trial_id=22, value=None),\n",
       " FrozenTrial(number=23, state=TrialState.COMPLETE, values=[357.5447082519531, 0.362, 0.9461523914950225], datetime_start=datetime.datetime(2023, 11, 19, 19, 53, 8, 246562), datetime_complete=datetime.datetime(2023, 11, 19, 19, 58, 35, 560311), params={'lambda1': 0.4}, user_attrs={}, system_attrs={'nsga2:generation': 0}, intermediate_values={}, distributions={'lambda1': FloatDistribution(high=0.95, log=False, low=0.05, step=0.05)}, trial_id=23, value=None),\n",
       " FrozenTrial(number=24, state=TrialState.COMPLETE, values=[356.3011779785156, 0.29000000000000004, 0.9536070251613271], datetime_start=datetime.datetime(2023, 11, 19, 19, 58, 35, 562949), datetime_complete=datetime.datetime(2023, 11, 19, 20, 3, 55, 9985), params={'lambda1': 0.9000000000000001}, user_attrs={}, system_attrs={'nsga2:generation': 0}, intermediate_values={}, distributions={'lambda1': FloatDistribution(high=0.95, log=False, low=0.05, step=0.05)}, trial_id=24, value=None),\n",
       " FrozenTrial(number=25, state=TrialState.COMPLETE, values=[357.44866943359375, 0.29200000000000004, 0.9385942043579782], datetime_start=datetime.datetime(2023, 11, 19, 20, 3, 55, 12533), datetime_complete=datetime.datetime(2023, 11, 19, 20, 9, 21, 351929), params={'lambda1': 0.25}, user_attrs={}, system_attrs={'nsga2:generation': 0}, intermediate_values={}, distributions={'lambda1': FloatDistribution(high=0.95, log=False, low=0.05, step=0.05)}, trial_id=25, value=None),\n",
       " FrozenTrial(number=26, state=TrialState.COMPLETE, values=[358.2012023925781, 0.32399999999999995, 0.95571515417605], datetime_start=datetime.datetime(2023, 11, 19, 20, 9, 21, 354564), datetime_complete=datetime.datetime(2023, 11, 19, 20, 14, 40, 337145), params={'lambda1': 0.2}, user_attrs={}, system_attrs={'nsga2:generation': 0}, intermediate_values={}, distributions={'lambda1': FloatDistribution(high=0.95, log=False, low=0.05, step=0.05)}, trial_id=26, value=None),\n",
       " FrozenTrial(number=27, state=TrialState.COMPLETE, values=[357.3316345214844, 0.29200000000000004, 0.9543969719768166], datetime_start=datetime.datetime(2023, 11, 19, 20, 14, 40, 339774), datetime_complete=datetime.datetime(2023, 11, 19, 20, 20, 6, 190361), params={'lambda1': 0.6500000000000001}, user_attrs={}, system_attrs={'nsga2:generation': 0}, intermediate_values={}, distributions={'lambda1': FloatDistribution(high=0.95, log=False, low=0.05, step=0.05)}, trial_id=27, value=None),\n",
       " FrozenTrial(number=28, state=TrialState.COMPLETE, values=[362.9327697753906, 0.274, 0.9461712286141571], datetime_start=datetime.datetime(2023, 11, 19, 20, 20, 6, 193057), datetime_complete=datetime.datetime(2023, 11, 19, 20, 25, 43, 719299), params={'lambda1': 0.05}, user_attrs={}, system_attrs={'nsga2:generation': 0}, intermediate_values={}, distributions={'lambda1': FloatDistribution(high=0.95, log=False, low=0.05, step=0.05)}, trial_id=28, value=None),\n",
       " FrozenTrial(number=29, state=TrialState.COMPLETE, values=[356.64398193359375, 0.27, 0.9577948066674633], datetime_start=datetime.datetime(2023, 11, 19, 20, 25, 43, 722037), datetime_complete=datetime.datetime(2023, 11, 19, 20, 31, 4, 46964), params={'lambda1': 0.8}, user_attrs={}, system_attrs={'nsga2:generation': 0}, intermediate_values={}, distributions={'lambda1': FloatDistribution(high=0.95, log=False, low=0.05, step=0.05)}, trial_id=29, value=None),\n",
       " FrozenTrial(number=30, state=TrialState.COMPLETE, values=[357.5148010253906, 0.276, 0.9471224800803413], datetime_start=datetime.datetime(2023, 11, 19, 20, 31, 4, 49890), datetime_complete=datetime.datetime(2023, 11, 19, 20, 36, 2, 42835), params={'lambda1': 0.15000000000000002}, user_attrs={}, system_attrs={'nsga2:generation': 0}, intermediate_values={}, distributions={'lambda1': FloatDistribution(high=0.95, log=False, low=0.05, step=0.05)}, trial_id=30, value=None),\n",
       " FrozenTrial(number=31, state=TrialState.COMPLETE, values=[357.2848815917969, 0.278, 0.9511850243230349], datetime_start=datetime.datetime(2023, 11, 19, 20, 36, 2, 45621), datetime_complete=datetime.datetime(2023, 11, 19, 20, 40, 58, 331557), params={'lambda1': 0.2}, user_attrs={}, system_attrs={'nsga2:generation': 0}, intermediate_values={}, distributions={'lambda1': FloatDistribution(high=0.95, log=False, low=0.05, step=0.05)}, trial_id=31, value=None),\n",
       " FrozenTrial(number=32, state=TrialState.COMPLETE, values=[357.791259765625, 0.28800000000000003, 0.9588615720573044], datetime_start=datetime.datetime(2023, 11, 19, 20, 40, 58, 334197), datetime_complete=datetime.datetime(2023, 11, 19, 20, 45, 53, 930403), params={'lambda1': 0.15000000000000002}, user_attrs={}, system_attrs={'nsga2:generation': 0}, intermediate_values={}, distributions={'lambda1': FloatDistribution(high=0.95, log=False, low=0.05, step=0.05)}, trial_id=32, value=None),\n",
       " FrozenTrial(number=33, state=TrialState.COMPLETE, values=[356.79913330078125, 0.33599999999999997, 0.9398104012597096], datetime_start=datetime.datetime(2023, 11, 19, 20, 45, 53, 933032), datetime_complete=datetime.datetime(2023, 11, 19, 20, 50, 41, 64574), params={'lambda1': 0.7500000000000001}, user_attrs={}, system_attrs={'nsga2:generation': 0}, intermediate_values={}, distributions={'lambda1': FloatDistribution(high=0.95, log=False, low=0.05, step=0.05)}, trial_id=33, value=None),\n",
       " FrozenTrial(number=34, state=TrialState.COMPLETE, values=[356.6340026855469, 0.29600000000000004, 0.9593939702291977], datetime_start=datetime.datetime(2023, 11, 19, 20, 50, 41, 67392), datetime_complete=datetime.datetime(2023, 11, 19, 20, 55, 33, 831801), params={'lambda1': 0.8}, user_attrs={}, system_attrs={'nsga2:generation': 0}, intermediate_values={}, distributions={'lambda1': FloatDistribution(high=0.95, log=False, low=0.05, step=0.05)}, trial_id=34, value=None),\n",
       " FrozenTrial(number=35, state=TrialState.COMPLETE, values=[357.00634765625, 0.266, 0.9511275034967834], datetime_start=datetime.datetime(2023, 11, 19, 20, 55, 33, 834465), datetime_complete=datetime.datetime(2023, 11, 19, 21, 0, 23, 959029), params={'lambda1': 0.6000000000000001}, user_attrs={}, system_attrs={'nsga2:generation': 0}, intermediate_values={}, distributions={'lambda1': FloatDistribution(high=0.95, log=False, low=0.05, step=0.05)}, trial_id=35, value=None),\n",
       " FrozenTrial(number=36, state=TrialState.COMPLETE, values=[357.2301940917969, 0.258, 0.9496877279690038], datetime_start=datetime.datetime(2023, 11, 19, 21, 0, 23, 961821), datetime_complete=datetime.datetime(2023, 11, 19, 21, 5, 11, 713491), params={'lambda1': 0.7000000000000001}, user_attrs={}, system_attrs={'nsga2:generation': 0}, intermediate_values={}, distributions={'lambda1': FloatDistribution(high=0.95, log=False, low=0.05, step=0.05)}, trial_id=36, value=None),\n",
       " FrozenTrial(number=37, state=TrialState.COMPLETE, values=[356.50390625, 0.33199999999999996, 0.9615421049077313], datetime_start=datetime.datetime(2023, 11, 19, 21, 5, 11, 716285), datetime_complete=datetime.datetime(2023, 11, 19, 21, 10, 2, 80174), params={'lambda1': 0.7000000000000001}, user_attrs={}, system_attrs={'nsga2:generation': 0}, intermediate_values={}, distributions={'lambda1': FloatDistribution(high=0.95, log=False, low=0.05, step=0.05)}, trial_id=37, value=None),\n",
       " FrozenTrial(number=38, state=TrialState.COMPLETE, values=[357.6143798828125, 0.33399999999999996, 0.957579246211176], datetime_start=datetime.datetime(2023, 11, 19, 21, 10, 2, 82984), datetime_complete=datetime.datetime(2023, 11, 19, 21, 14, 34, 914506), params={'lambda1': 0.45}, user_attrs={}, system_attrs={'nsga2:generation': 0}, intermediate_values={}, distributions={'lambda1': FloatDistribution(high=0.95, log=False, low=0.05, step=0.05)}, trial_id=38, value=None),\n",
       " FrozenTrial(number=39, state=TrialState.COMPLETE, values=[357.4725036621094, 0.29600000000000004, 0.9612874098300684], datetime_start=datetime.datetime(2023, 11, 19, 21, 14, 34, 917567), datetime_complete=datetime.datetime(2023, 11, 19, 21, 19, 1, 536313), params={'lambda1': 0.25}, user_attrs={}, system_attrs={'nsga2:generation': 0}, intermediate_values={}, distributions={'lambda1': FloatDistribution(high=0.95, log=False, low=0.05, step=0.05)}, trial_id=39, value=None)]"
      ]
     },
     "execution_count": 6,
     "metadata": {},
     "output_type": "execute_result"
    }
   ],
   "source": [
    "trials"
   ]
  }
 ],
 "metadata": {
  "kernelspec": {
   "display_name": "pytorch_geo",
   "language": "python",
   "name": "python3"
  },
  "language_info": {
   "codemirror_mode": {
    "name": "ipython",
    "version": 3
   },
   "file_extension": ".py",
   "mimetype": "text/x-python",
   "name": "python",
   "nbconvert_exporter": "python",
   "pygments_lexer": "ipython3",
   "version": "3.10.9"
  },
  "orig_nbformat": 4
 },
 "nbformat": 4,
 "nbformat_minor": 2
}
