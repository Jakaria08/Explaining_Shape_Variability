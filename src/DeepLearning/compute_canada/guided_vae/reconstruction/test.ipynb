{
 "cells": [
  {
   "cell_type": "code",
   "execution_count": null,
   "metadata": {},
   "outputs": [],
   "source": [
    "import torch\n",
    "from reconstruction import AE\n",
    "from datasets import MeshData\n",
    "from utils import utils, DataLoader, mesh_sampling, sap\n",
    "import numpy as np\n",
    "import pyvista as pv\n",
    "from skimage import measure\n",
    "import ipywidgets\n",
    "from IPython.display import display\n",
    "import meshplot as mp\n",
    "import os, sys\n",
    "from math import ceil"
   ]
  },
  {
   "cell_type": "code",
   "execution_count": null,
   "metadata": {},
   "outputs": [],
   "source": [
    "# Meshplot left an annoying print statement in their code. Using this context manager to supress it...\n",
    "class HiddenPrints:\n",
    "    def __enter__(self):\n",
    "        self._original_stdout = sys.stdout\n",
    "        sys.stdout = open(os.devnull, 'w')\n",
    "\n",
    "    def __exit__(self, exc_type, exc_val, exc_tb):\n",
    "        sys.stdout.close()\n",
    "        sys.stdout = self._original_stdout"
   ]
  },
  {
   "cell_type": "code",
   "execution_count": 6,
   "metadata": {},
   "outputs": [],
   "source": [
    "# Dot product on the first dimension of n-dimensional arrays x and y\n",
    "def dot(x, y):\n",
    "    return np.einsum('i..., i... -> ...', x, y)\n",
    "\n",
    "# Signed distance functions from Inigo Quilez https://iquilezles.org/articles/distfunctions/\n",
    "# You could implement the smooth minimum operation as well to compose shapes together for more complex situations\n",
    "def sdf_sphere(x, radius):\n",
    "    return np.linalg.norm(x, axis=0) - radius\n",
    "\n",
    "\n",
    "def sdf_torus(x, radius, thickness):\n",
    "    \n",
    "    q = np.stack([np.linalg.norm(x[[0, 1]], axis=0) - radius, x[2]])\n",
    "    return np.linalg.norm(q, axis=0) - thickness\n",
    "\n",
    "# Crop an n-dimensional image with a centered cropping region\n",
    "def center_crop(img, shape):\n",
    "    start = [a // 2 - da // 2 for a, da in zip(img.shape, shape)]\n",
    "    end = [a + b for a, b in zip(start, shape)]\n",
    "    slices = tuple([slice(a, b) for a, b in zip(start, end)])\n",
    "    return img[slices]\n",
    "\n",
    "# Add noise to coordinates\n",
    "def gradient_noise(x, scale, strength, seed=None):\n",
    "    shape = [ceil(s / scale) for s in x.shape[1:]]\n",
    "    if seed:\n",
    "        np.random.seed(seed)\n",
    "    scalar_noise = np.random.randn(*shape)\n",
    "    scalar_noise = zoom(scalar_noise, zoom=scale)\n",
    "    scalar_noise = center_crop(scalar_noise, shape=x.shape[1:])\n",
    "    vector_noise = np.stack(np.gradient(scalar_noise))\n",
    "    return vector_noise * strength\n"
   ]
  },
  {
   "cell_type": "code",
   "execution_count": 9,
   "metadata": {},
   "outputs": [
    {
     "data": {
      "application/vnd.jupyter.widget-view+json": {
       "model_id": "dcf92646cb1a4f73b3a0b508516439c1",
       "version_major": 2,
       "version_minor": 0
      },
      "text/plain": [
       "FloatSlider(value=0.1, max=0.3, step=0.01)"
      ]
     },
     "metadata": {},
     "output_type": "display_data"
    },
    {
     "data": {
      "application/vnd.jupyter.widget-view+json": {
       "model_id": "9ea03462a34c48bfaabcebaed95cc382",
       "version_major": 2,
       "version_minor": 0
      },
      "text/plain": [
       "FloatSlider(value=0.05, max=0.1, min=0.01, step=0.01)"
      ]
     },
     "metadata": {},
     "output_type": "display_data"
    },
    {
     "data": {
      "application/vnd.jupyter.widget-view+json": {
       "model_id": "196bd14bea9446119332b4b37b5ec049",
       "version_major": 2,
       "version_minor": 0
      },
      "text/plain": [
       "IntSlider(value=10, max=25, min=5)"
      ]
     },
     "metadata": {},
     "output_type": "display_data"
    },
    {
     "data": {
      "application/vnd.jupyter.widget-view+json": {
       "model_id": "78cb15bcb61b4c0fa21696d9150095e4",
       "version_major": 2,
       "version_minor": 0
      },
      "text/plain": [
       "FloatSlider(value=0.2, max=0.4, step=0.05)"
      ]
     },
     "metadata": {},
     "output_type": "display_data"
    },
    {
     "data": {
      "application/vnd.jupyter.widget-view+json": {
       "model_id": "691d90c53b46414da09a5b034c81e9d2",
       "version_major": 2,
       "version_minor": 0
      },
      "text/plain": [
       "IntSlider(value=1, min=1)"
      ]
     },
     "metadata": {},
     "output_type": "display_data"
    },
    {
     "data": {
      "application/vnd.jupyter.widget-view+json": {
       "model_id": "90531c2b58b741f3a0329e1d3b3e2bd0",
       "version_major": 2,
       "version_minor": 0
      },
      "text/plain": [
       "Button(description='Show', style=ButtonStyle())"
      ]
     },
     "metadata": {},
     "output_type": "display_data"
    }
   ],
   "source": [
    "plot=None\n",
    "@mp.interact(\n",
    "    radius=(0, 0.3, 0.01), \n",
    "    thickness=(0.01, 0.1, 0.01), \n",
    "    noise_scale=(5, 25), \n",
    "    noise_strength=(0.0, 0.4, 0.05),\n",
    "    seed=(1, 100)\n",
    ")\n",
    "def show(radius, thickness, noise_scale, noise_strength, seed):\n",
    "    global plot\n",
    "    global sdf\n",
    "    coords = np.linspace(-1, 1, 100)\n",
    "    x = np.stack(np.meshgrid(coords, coords, coords))\n",
    "    x = x + gradient_noise(x, noise_scale, noise_strength, seed)\n",
    "    sdf = sdf_torus(x, radius, thickness)\n",
    "    verts, faces, normals, values = measure.marching_cubes(sdf, level=0)\n",
    "    \n",
    "    if plot is None:\n",
    "        plot = mp.plot(verts, faces, return_plot=True)\n",
    "    else:\n",
    "        with HiddenPrints():\n",
    "            plot.update_object(vertices=verts, faces=faces)\n",
    "        display(plot._renderer)"
   ]
  }
 ],
 "metadata": {
  "kernelspec": {
   "display_name": "pytorch_geo",
   "language": "python",
   "name": "python3"
  },
  "language_info": {
   "codemirror_mode": {
    "name": "ipython",
    "version": 3
   },
   "file_extension": ".py",
   "mimetype": "text/x-python",
   "name": "python",
   "nbconvert_exporter": "python",
   "pygments_lexer": "ipython3",
   "version": "3.10.9"
  },
  "orig_nbformat": 4
 },
 "nbformat": 4,
 "nbformat_minor": 2
}
