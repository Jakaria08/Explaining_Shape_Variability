{
 "cells": [
  {
   "cell_type": "code",
   "execution_count": 1,
   "metadata": {},
   "outputs": [
    {
     "name": "stdout",
     "output_type": "stream",
     "text": [
      "Jupyter environment detected. Enabling Open3D WebVisualizer.\n",
      "[Open3D INFO] WebRTC GUI backend enabled.\n",
      "[Open3D INFO] WebRTCWindowSystem: HTTP handshake server disabled.\n"
     ]
    }
   ],
   "source": [
    "import torch\n",
    "from reconstruction import AE\n",
    "from datasets import MeshData\n",
    "from utils import utils, DataLoader, mesh_sampling, sap\n",
    "import numpy as np\n",
    "import pyvista as pv\n",
    "from skimage import measure\n",
    "from ipywidgets import interact, interactive, fixed, interact_manual, FloatSlider\n",
    "from IPython.display import display\n",
    "import meshplot as mp\n",
    "import os, sys\n",
    "from math import ceil\n",
    "from scipy.ndimage import zoom\n",
    "import open3d as o3d"
   ]
  },
  {
   "cell_type": "code",
   "execution_count": 2,
   "metadata": {},
   "outputs": [],
   "source": [
    "# Meshplot left an annoying print statement in their code. Using this context manager to supress it...\n",
    "class HiddenPrints:\n",
    "    def __enter__(self):\n",
    "        self._original_stdout = sys.stdout\n",
    "        sys.stdout = open(os.devnull, 'w')\n",
    "\n",
    "    def __exit__(self, exc_type, exc_val, exc_tb):\n",
    "        sys.stdout.close()\n",
    "        sys.stdout = self._original_stdout"
   ]
  },
  {
   "cell_type": "code",
   "execution_count": 3,
   "metadata": {},
   "outputs": [
    {
     "data": {
      "text/plain": [
       "AE(\n",
       "  (en_layers): ModuleList(\n",
       "    (0): SpiralEnblock(\n",
       "      (conv): SpiralConv(3, 32, seq_length=9)\n",
       "    )\n",
       "    (1-2): 2 x SpiralEnblock(\n",
       "      (conv): SpiralConv(32, 32, seq_length=9)\n",
       "    )\n",
       "    (3): SpiralEnblock(\n",
       "      (conv): SpiralConv(32, 64, seq_length=9)\n",
       "    )\n",
       "    (4): Linear(in_features=6272, out_features=24, bias=True)\n",
       "  )\n",
       "  (de_layers): ModuleList(\n",
       "    (0): Linear(in_features=12, out_features=6272, bias=True)\n",
       "    (1): SpiralDeblock(\n",
       "      (conv): SpiralConv(64, 64, seq_length=9)\n",
       "    )\n",
       "    (2): SpiralDeblock(\n",
       "      (conv): SpiralConv(64, 32, seq_length=9)\n",
       "    )\n",
       "    (3-4): 2 x SpiralDeblock(\n",
       "      (conv): SpiralConv(32, 32, seq_length=9)\n",
       "    )\n",
       "    (5): SpiralConv(32, 3, seq_length=9)\n",
       "  )\n",
       "  (cls_sq): Sequential(\n",
       "    (0): Linear(in_features=1, out_features=8, bias=True)\n",
       "    (1): BatchNorm1d(8, eps=1e-05, momentum=0.1, affine=True, track_running_stats=True)\n",
       "    (2): LeakyReLU(negative_slope=0.2, inplace=True)\n",
       "    (3): Linear(in_features=8, out_features=8, bias=True)\n",
       "    (4): BatchNorm1d(8, eps=1e-05, momentum=0.1, affine=True, track_running_stats=True)\n",
       "    (5): LeakyReLU(negative_slope=0.2, inplace=True)\n",
       "    (6): Linear(in_features=8, out_features=1, bias=True)\n",
       "    (7): Sigmoid()\n",
       "  )\n",
       "  (reg_sq_2): Sequential(\n",
       "    (0): Linear(in_features=1, out_features=8, bias=True)\n",
       "    (1): BatchNorm1d(8, eps=1e-05, momentum=0.1, affine=True, track_running_stats=True)\n",
       "    (2): LeakyReLU(negative_slope=0.2, inplace=True)\n",
       "    (3): Linear(in_features=8, out_features=8, bias=True)\n",
       "    (4): BatchNorm1d(8, eps=1e-05, momentum=0.1, affine=True, track_running_stats=True)\n",
       "    (5): LeakyReLU(negative_slope=0.2, inplace=True)\n",
       "    (6): Linear(in_features=8, out_features=1, bias=True)\n",
       "  )\n",
       ")"
      ]
     },
     "execution_count": 3,
     "metadata": {},
     "output_type": "execute_result"
    }
   ],
   "source": [
    "device = torch.device('cuda', 0)\n",
    "# Set the path to the saved model directory\n",
    "#model_path = \"/home/jakaria/torus_bump_500_three_scale_binary_bump_variable_noise_fixed_angle/models_classification_regression_only_correlation_loss/models/65\"\n",
    "model_path = \"/home/jakaria/Explaining_Shape_Variability/src/DeepLearning/compute_canada/guided_vae/data/CoMA/raw/torus/models/8\"\n",
    "# Load the saved model\n",
    "model_state_dict = torch.load(f\"{model_path}/model_state_dict.pt\")\n",
    "in_channels = torch.load(f\"{model_path}/in_channels.pt\")\n",
    "out_channels = torch.load(f\"{model_path}/out_channels.pt\")\n",
    "latent_channels = torch.load(f\"{model_path}/latent_channels.pt\")\n",
    "spiral_indices_list = torch.load(f\"{model_path}/spiral_indices_list.pt\")\n",
    "up_transform_list = torch.load(f\"{model_path}/up_transform_list.pt\")\n",
    "down_transform_list = torch.load(f\"{model_path}/down_transform_list.pt\")\n",
    "std = torch.load(f\"{model_path}/std.pt\")\n",
    "mean = torch.load(f\"{model_path}/mean.pt\")\n",
    "template_face = torch.load(f\"{model_path}/faces.pt\")\n",
    "\n",
    "# Create an instance of the model\n",
    "model = AE(in_channels, out_channels, latent_channels,\n",
    "           spiral_indices_list, down_transform_list,\n",
    "           up_transform_list)\n",
    "model.load_state_dict(model_state_dict)\n",
    "model.to(device)\n",
    "# Set the model to evaluation mode\n",
    "model.eval()"
   ]
  },
  {
   "cell_type": "code",
   "execution_count": 4,
   "metadata": {},
   "outputs": [
    {
     "data": {
      "application/vnd.jupyter.widget-view+json": {
       "model_id": "9267e77c6cdb47908d0003834d58b207",
       "version_major": 2,
       "version_minor": 0
      },
      "text/plain": [
       "interactive(children=(FloatSlider(value=0.0, description='z[0]', max=1.0, min=-1.0, step=0.2), FloatSlider(val…"
      ]
     },
     "metadata": {},
     "output_type": "display_data"
    }
   ],
   "source": [
    "z = torch.zeros(12)\n",
    "plot=None\n",
    "@mp.interact(**{f'z[{i}]': FloatSlider(min=-1, max=1, step=0.2, value=0) for i in range(12)})\n",
    "def show(**kwargs):\n",
    "    global plot\n",
    "    global z\n",
    "    z = torch.tensor([kwargs[f'z[{i}]'] for i in range(12)])\n",
    "    with torch.no_grad():\n",
    "        z = z.to(device)\n",
    "        #print(z)\n",
    "        pred = model.decoder(z)\n",
    "\n",
    "        reshaped_pred = (pred.view(-1, 3).cpu() * std) + mean\n",
    "        reshaped_pred = reshaped_pred.cpu().numpy()\n",
    "        print(reshaped_pred.shape)\n",
    "\n",
    "    verts = reshaped_pred\n",
    "    pcd = o3d.io.read_triangle_mesh('/home/jakaria/Explaining_Shape_Variability/src/DeepLearning/compute_canada/guided_vae/data/CoMA/raw/torus/template/template.ply')\n",
    "    faces = np.asarray(pcd.triangles)\n",
    "\n",
    "    if plot is None:\n",
    "        plot = mp.plot(verts, faces, return_plot=True)\n",
    "    else:\n",
    "        with HiddenPrints():\n",
    "            plot.update_object(vertices=verts, faces=faces)\n",
    "        display(plot._renderer)"
   ]
  },
  {
   "cell_type": "code",
   "execution_count": null,
   "metadata": {},
   "outputs": [],
   "source": [
    "latent_channels = torch.load(f\"{model_path}/latent_channels.pt\")\n",
    "angles = torch.load(f\"{model_path}/angles.pt\")"
   ]
  },
  {
   "cell_type": "code",
   "execution_count": 24,
   "metadata": {},
   "outputs": [
    {
     "name": "stdout",
     "output_type": "stream",
     "text": [
      "tensor([[0.0000, 0.0500, 0.1000, 0.8000],\n",
      "        [0.0500, 0.0000, 0.0500, 0.7500],\n",
      "        [0.1000, 0.0500, 0.0000, 0.7000],\n",
      "        [0.8000, 0.7500, 0.7000, 0.0000]])\n",
      "tensor([[ True,  True, False, False],\n",
      "        [ True,  True,  True, False],\n",
      "        [False,  True,  True, False],\n",
      "        [False, False, False,  True]])\n"
     ]
    }
   ],
   "source": [
    "import torch\n",
    "\n",
    "# Sample flattened labels\n",
    "y_expanded = torch.tensor([[1.0, 0.95, 0.9, 0.2]])\n",
    "threshold = 0.05001\n",
    "\n",
    "abs_diff_matrix = torch.abs(y_expanded - y_expanded.t())\n",
    "same_class_mask = abs_diff_matrix <= threshold\n",
    "\n",
    "print(abs_diff_matrix)\n",
    "print(same_class_mask)\n"
   ]
  },
  {
   "cell_type": "code",
   "execution_count": 5,
   "metadata": {},
   "outputs": [],
   "source": [
    "model_path_root = \"/home/jakaria/torus_bump_500_three_scale_binary_bump_variable_noise_fixed_angle/models_classification_regression_contrastive_loss_only/models\"\n",
    "trials = torch.load(f\"{model_path_root}/intermediate_trials.pt\")"
   ]
  },
  {
   "cell_type": "code",
   "execution_count": 8,
   "metadata": {},
   "outputs": [
    {
     "data": {
      "text/plain": [
       "FrozenTrial(number=62, state=TrialState.COMPLETE, values=[359.70452880859375, 0.24, 0.8731854306434195], datetime_start=datetime.datetime(2023, 8, 30, 12, 9, 10, 683892), datetime_complete=datetime.datetime(2023, 8, 30, 12, 11, 6, 141935), params={'epochs': 300, 'batch_size': 20, 'w_cls': 63, 'beta': 0.006145902872613284, 'learning_rate': 0.00014669194595000342, 'learning_rate_decay': 0.96, 'decay_step': 13, 'latent_channels': 12, 'temperature': 61, 'sequence_length': 12, 'dilation': 2, 'out_channel': 32}, user_attrs={}, system_attrs={'nsga2:generation': 1}, intermediate_values={}, distributions={'epochs': IntDistribution(high=400, log=False, low=100, step=100), 'batch_size': IntDistribution(high=32, log=False, low=4, step=4), 'w_cls': IntDistribution(high=100, log=False, low=1, step=1), 'beta': FloatDistribution(high=0.3, log=True, low=0.001, step=None), 'learning_rate': FloatDistribution(high=0.001, log=True, low=0.0001, step=None), 'learning_rate_decay': FloatDistribution(high=0.99, log=False, low=0.7, step=0.01), 'decay_step': IntDistribution(high=50, log=False, low=1, step=1), 'latent_channels': IntDistribution(high=16, log=False, low=12, step=4), 'temperature': IntDistribution(high=181, log=False, low=1, step=20), 'sequence_length': IntDistribution(high=50, log=False, low=5, step=1), 'dilation': IntDistribution(high=2, log=False, low=1, step=1), 'out_channel': IntDistribution(high=32, log=False, low=8, step=8)}, trial_id=62, value=None)"
      ]
     },
     "execution_count": 8,
     "metadata": {},
     "output_type": "execute_result"
    }
   ],
   "source": [
    "trials[62]"
   ]
  }
 ],
 "metadata": {
  "kernelspec": {
   "display_name": "pytorch_geo",
   "language": "python",
   "name": "python3"
  },
  "language_info": {
   "codemirror_mode": {
    "name": "ipython",
    "version": 3
   },
   "file_extension": ".py",
   "mimetype": "text/x-python",
   "name": "python",
   "nbconvert_exporter": "python",
   "pygments_lexer": "ipython3",
   "version": "3.10.9"
  },
  "orig_nbformat": 4
 },
 "nbformat": 4,
 "nbformat_minor": 2
}
