{
 "cells": [
  {
   "cell_type": "code",
   "execution_count": 2,
   "metadata": {},
   "outputs": [
    {
     "name": "stdout",
     "output_type": "stream",
     "text": [
      "Jupyter environment detected. Enabling Open3D WebVisualizer.\n",
      "[Open3D INFO] WebRTC GUI backend enabled.\n",
      "[Open3D INFO] WebRTCWindowSystem: HTTP handshake server disabled.\n"
     ]
    }
   ],
   "source": [
    "import torch\n",
    "from reconstruction import AE\n",
    "from datasets import MeshData\n",
    "from utils import utils, DataLoader, mesh_sampling, sap\n",
    "import numpy as np\n",
    "import pyvista as pv\n",
    "from skimage import measure\n",
    "from ipywidgets import interact, interactive, fixed, interact_manual, FloatSlider\n",
    "from IPython.display import display\n",
    "import meshplot as mp\n",
    "import os, sys\n",
    "from math import ceil\n",
    "from scipy.ndimage import zoom\n",
    "import open3d as o3d"
   ]
  },
  {
   "cell_type": "code",
   "execution_count": 5,
   "metadata": {},
   "outputs": [],
   "source": [
    "# Meshplot left an annoying print statement in their code. Using this context manager to supress it...\n",
    "class HiddenPrints:\n",
    "    def __enter__(self):\n",
    "        self._original_stdout = sys.stdout\n",
    "        sys.stdout = open(os.devnull, 'w')\n",
    "\n",
    "    def __exit__(self, exc_type, exc_val, exc_tb):\n",
    "        sys.stdout.close()\n",
    "        sys.stdout = self._original_stdout"
   ]
  },
  {
   "cell_type": "code",
   "execution_count": 3,
   "metadata": {},
   "outputs": [
    {
     "data": {
      "text/plain": [
       "AE(\n",
       "  (en_layers): ModuleList(\n",
       "    (0): SpiralEnblock(\n",
       "      (conv): SpiralConv(3, 8, seq_length=9)\n",
       "    )\n",
       "    (1-2): 2 x SpiralEnblock(\n",
       "      (conv): SpiralConv(8, 8, seq_length=9)\n",
       "    )\n",
       "    (3): SpiralEnblock(\n",
       "      (conv): SpiralConv(8, 16, seq_length=9)\n",
       "    )\n",
       "    (4): Linear(in_features=2848, out_features=32, bias=True)\n",
       "  )\n",
       "  (de_layers): ModuleList(\n",
       "    (0): Linear(in_features=16, out_features=2848, bias=True)\n",
       "    (1): SpiralDeblock(\n",
       "      (conv): SpiralConv(16, 16, seq_length=9)\n",
       "    )\n",
       "    (2): SpiralDeblock(\n",
       "      (conv): SpiralConv(16, 8, seq_length=9)\n",
       "    )\n",
       "    (3-4): 2 x SpiralDeblock(\n",
       "      (conv): SpiralConv(8, 8, seq_length=9)\n",
       "    )\n",
       "    (5): SpiralConv(8, 3, seq_length=9)\n",
       "  )\n",
       "  (cls_sq): Sequential(\n",
       "    (0): Linear(in_features=1, out_features=8, bias=True)\n",
       "    (1): BatchNorm1d(8, eps=1e-05, momentum=0.1, affine=True, track_running_stats=True)\n",
       "    (2): LeakyReLU(negative_slope=0.2, inplace=True)\n",
       "    (3): Linear(in_features=8, out_features=8, bias=True)\n",
       "    (4): BatchNorm1d(8, eps=1e-05, momentum=0.1, affine=True, track_running_stats=True)\n",
       "    (5): LeakyReLU(negative_slope=0.2, inplace=True)\n",
       "    (6): Linear(in_features=8, out_features=1, bias=True)\n",
       "    (7): Sigmoid()\n",
       "  )\n",
       "  (reg_sq_2): Sequential(\n",
       "    (0): Linear(in_features=1, out_features=8, bias=True)\n",
       "    (1): BatchNorm1d(8, eps=1e-05, momentum=0.1, affine=True, track_running_stats=True)\n",
       "    (2): LeakyReLU(negative_slope=0.2, inplace=True)\n",
       "    (3): Linear(in_features=8, out_features=8, bias=True)\n",
       "    (4): BatchNorm1d(8, eps=1e-05, momentum=0.1, affine=True, track_running_stats=True)\n",
       "    (5): LeakyReLU(negative_slope=0.2, inplace=True)\n",
       "    (6): Linear(in_features=8, out_features=1, bias=True)\n",
       "  )\n",
       ")"
      ]
     },
     "execution_count": 3,
     "metadata": {},
     "output_type": "execute_result"
    }
   ],
   "source": [
    "device = torch.device('cuda', 0)\n",
    "# Set the path to the saved model directory\n",
    "#model_path = \"/home/jakaria/torus_bump_500_three_scale_binary_bump_variable_noise_fixed_angle/models_classification_regression_contrastive_loss_only/models/199\"\n",
    "model_path = \"/home/jakaria/Explaining_Shape_Variability/src/DeepLearning/compute_canada/guided_vae/data/CoMA/raw/hippocampus/models/6\"\n",
    "# Load the saved model\n",
    "model_state_dict = torch.load(f\"{model_path}/model_state_dict.pt\")\n",
    "in_channels = torch.load(f\"{model_path}/in_channels.pt\")\n",
    "out_channels = torch.load(f\"{model_path}/out_channels.pt\")\n",
    "latent_channels = torch.load(f\"{model_path}/latent_channels.pt\")\n",
    "spiral_indices_list = torch.load(f\"{model_path}/spiral_indices_list.pt\")\n",
    "up_transform_list = torch.load(f\"{model_path}/up_transform_list.pt\")\n",
    "down_transform_list = torch.load(f\"{model_path}/down_transform_list.pt\")\n",
    "std = torch.load(f\"{model_path}/std.pt\")\n",
    "mean = torch.load(f\"{model_path}/mean.pt\")\n",
    "template_face = torch.load(f\"{model_path}/faces.pt\")\n",
    "\n",
    "# Create an instance of the model\n",
    "model = AE(in_channels, out_channels, latent_channels,\n",
    "           spiral_indices_list, down_transform_list,\n",
    "           up_transform_list)\n",
    "model.load_state_dict(model_state_dict)\n",
    "model.to(device)\n",
    "# Set the model to evaluation mode\n",
    "model.eval()"
   ]
  },
  {
   "cell_type": "code",
   "execution_count": 6,
   "metadata": {},
   "outputs": [
    {
     "data": {
      "application/vnd.jupyter.widget-view+json": {
       "model_id": "a610088b28ec4a599bec43a066242915",
       "version_major": 2,
       "version_minor": 0
      },
      "text/plain": [
       "interactive(children=(FloatSlider(value=0.0, description='z[0]', max=1.0, min=-1.0, step=0.2), FloatSlider(val…"
      ]
     },
     "metadata": {},
     "output_type": "display_data"
    }
   ],
   "source": [
    "rotation_matrix = np.array([[np.cos(np.pi), -np.sin(np.pi), 0],\n",
    "                            [np.sin(np.pi), np.cos(np.pi), 0],\n",
    "                            [0, 0, 1]]) #z axic\n",
    "z = torch.zeros(16)\n",
    "plot=None\n",
    "@mp.interact(**{f'z[{i}]': FloatSlider(min=-1, max=1, step=0.2, value=0) for i in range(16)})\n",
    "def show(**kwargs):\n",
    "    global plot\n",
    "    global z\n",
    "    z = torch.tensor([kwargs[f'z[{i}]'] for i in range(16)])\n",
    "    with torch.no_grad():\n",
    "        z = z.to(device)\n",
    "        #print(z)\n",
    "        pred = model.decoder(z)\n",
    "\n",
    "        reshaped_pred = (pred.view(-1, 3).cpu() * std) + mean\n",
    "        reshaped_pred = reshaped_pred.cpu().numpy()\n",
    "        print(reshaped_pred.shape)\n",
    "\n",
    "    verts = reshaped_pred\n",
    "    #verts = o3d.utility.Vector3dVector(np.dot(np.asarray(verts), rotation_matrix.T))\n",
    "    verts = np.dot(np.asarray(verts), rotation_matrix.T)\n",
    "\n",
    "    pcd = o3d.io.read_triangle_mesh('/home/jakaria/Explaining_Shape_Variability/src/DeepLearning/compute_canada/guided_vae/data/CoMA/raw/hippocampus/template/template.ply')\n",
    "    faces = np.asarray(pcd.triangles)\n",
    "    #print(verts)\n",
    "    #print(faces)\n",
    "\n",
    "    # Define a threshold for separating the objects based on x-values\n",
    "    x_threshold = 0.0\n",
    "\n",
    "    # Separate vertices and faces for the first object (x < x_threshold)\n",
    "    verts_object1 = verts[verts[:, 0] < x_threshold]\n",
    "    faces_object1 = [face for face in faces if (verts[face, 0] < x_threshold).all()]\n",
    "\n",
    "    # Separate vertices and faces for the second object (x >= x_threshold)\n",
    "    verts_object2 = verts[verts[:, 0] >= x_threshold]\n",
    "    faces_object2 = [face for face in faces if (verts[face, 0] >= x_threshold).all()]\n",
    "\n",
    "    # Convert lists to NumPy arrays\n",
    "    verts_object1 = np.array(verts_object1)\n",
    "    faces_object1 = np.array(faces_object1)\n",
    "    verts_object2 = np.array(verts_object2)\n",
    "    faces_object2 = np.array(faces_object2)\n",
    "\n",
    "\n",
    "    print(verts_object1.shape)\n",
    "    print(faces_object1.shape)\n",
    "\n",
    "    #o3d.visualization.draw_geometries([tri_mesh])\n",
    "    #o3d.visualization.draw_plotly([point_cloud])\n",
    "    \n",
    "    #with np.printoptions(threshold=np.inf):\n",
    "        #print(verts_object1)\n",
    "\n",
    "    white_color = [1.0, 1.0, 1.0]\n",
    "    grey_color = [0.5, 0.5, 0.5]\n",
    "\n",
    "    if plot is None:\n",
    "        #plot = mp.plot(verts_object1)\n",
    "        plot = mp.plot(verts, faces, c=np.array(white_color), return_plot=True)\n",
    "    else:\n",
    "        with HiddenPrints():\n",
    "            plot.update_object(vertices=verts, faces=faces)\n",
    "            #plot.update_object(vertices=verts_object1)\n",
    "        display(plot._renderer)\n"
   ]
  },
  {
   "cell_type": "code",
   "execution_count": null,
   "metadata": {},
   "outputs": [],
   "source": [
    "latent_channels = torch.load(f\"{model_path}/latent_channels.pt\")\n",
    "angles = torch.load(f\"{model_path}/angles.pt\")"
   ]
  },
  {
   "cell_type": "code",
   "execution_count": null,
   "metadata": {},
   "outputs": [],
   "source": [
    "import torch\n",
    "\n",
    "# Sample flattened labels\n",
    "y_expanded = torch.tensor([[1.0, 0.95, 0.9, 0.2]])\n",
    "threshold = 0.05001\n",
    "\n",
    "abs_diff_matrix = torch.abs(y_expanded - y_expanded.t())\n",
    "same_class_mask = abs_diff_matrix <= threshold\n",
    "\n",
    "print(abs_diff_matrix)\n",
    "print(same_class_mask)\n"
   ]
  },
  {
   "cell_type": "code",
   "execution_count": null,
   "metadata": {},
   "outputs": [],
   "source": [
    "model_path_root = \"/home/jakaria/torus_bump_500_three_scale_binary_bump_variable_noise_fixed_angle/models_classification_regression_only_correlation_loss/models\"\n",
    "trials = torch.load(f\"{model_path_root}/intermediate_trials.pt\")\n",
    "trials"
   ]
  },
  {
   "cell_type": "code",
   "execution_count": 7,
   "metadata": {},
   "outputs": [],
   "source": [
    "import numpy as np\n",
    "import os\n",
    "import torch\n",
    "import meshplot as mp\n",
    "from ipywidgets import interact, FloatSlider\n",
    "from scipy.spatial import distance\n",
    "import open3d as o3d\n",
    "from skimage import measure\n",
    "from contextlib import contextmanager"
   ]
  },
  {
   "cell_type": "code",
   "execution_count": 10,
   "metadata": {},
   "outputs": [],
   "source": [
    "# Function to calculate distance between two point clouds (meshes)\n",
    "def calculate_distance(mesh1, mesh2):\n",
    "    return distance.directed_hausdorff(mesh1.vertices, mesh2.vertices)[0]\n",
    "\n",
    "# Create a directory to save plots and results\n",
    "output_dir = \"/home/jakaria/save_plots_tle\"\n",
    "os.makedirs(output_dir, exist_ok=True)\n",
    "\n",
    "# Function to save plots\n",
    "def save_plot(plot, filename):\n",
    "    plot.save(os.path.join(output_dir, filename))\n",
    "\n",
    "def calculate_volume_voxelization(mesh):\n",
    "    voxel_grid = o3d.geometry.VoxelGrid.create_from_triangle_mesh(mesh, voxel_size=0.001)\n",
    "    voxel_count = len(voxel_grid.get_voxels())\n",
    "    voxel_volume = voxel_grid.voxel_size ** 3\n",
    "    volume = voxel_count * voxel_volume\n",
    "    return volume\n",
    "\n",
    "white_color = [1.0, 1.0, 1.0]\n",
    "grey_color = [0.5, 0.5, 0.5]"
   ]
  },
  {
   "cell_type": "code",
   "execution_count": 11,
   "metadata": {},
   "outputs": [],
   "source": [
    "# Function to visualize, save plots, and calculate distances and volumes\n",
    "def visualize_and_save(z0, z1):\n",
    "    global plot\n",
    "    global z\n",
    "\n",
    "    z[0] = z0\n",
    "    z[1] = z1\n",
    "\n",
    "    with torch.no_grad():\n",
    "        z = z.to(device)\n",
    "        pred = model.decoder(z)\n",
    "\n",
    "        reshaped_pred = (pred.view(-1, 3).cpu() * std) + mean\n",
    "        verts = reshaped_pred.cpu().numpy()\n",
    "\n",
    "    verts = np.dot(np.asarray(verts), rotation_matrix.T)\n",
    "\n",
    "    pcd = o3d.io.read_triangle_mesh('/home/jakaria/Explaining_Shape_Variability/src/DeepLearning/compute_canada/guided_vae/data/CoMA/raw/hippocampus/template/template.ply')\n",
    "    faces = np.asarray(pcd.triangles)\n",
    "\n",
    "    white_color = [1.0, 1.0, 1.0]\n",
    "    grey_color = [0.5, 0.5, 0.5]\n",
    "     \n",
    "    #mp.subplot(verts, faces, c=np.array(white_color), s=[2, 2, 0])\n",
    "    #plot = mp.plot(verts, faces, c=np.array(white_color), return_plot=True)\n",
    "    #save_plot(plot, f'z0_{z0:.1f}_z1_{z1:.1f}.png')\n",
    "    #print(verts.shape, faces.shape)\n",
    "    return verts, faces"
   ]
  },
  {
   "cell_type": "code",
   "execution_count": 12,
   "metadata": {},
   "outputs": [],
   "source": [
    "# Sample and save plots for different z[0] values while fixing z[1]\n",
    "verts_all = []\n",
    "faces_all = []\n",
    "for z1_value in np.arange(-1, 1.2, 0.2):\n",
    "        for z0_value in [-1, 1]:\n",
    "             verts, faces = visualize_and_save(z0_value, z1_value)\n",
    "             verts_all.append(verts)\n",
    "             faces_all.append(faces)\n",
    "             mesh = o3d.geometry.TriangleMesh()\n",
    "             mesh.vertices = o3d.utility.Vector3dVector(verts)\n",
    "             mesh.triangles = o3d.utility.Vector3iVector(faces)\n",
    "             volume = calculate_volume_voxelization(mesh)\n",
    "             #print(volume)\n",
    "             # Save volumes to a text file\n",
    "             with open(os.path.join(output_dir, 'volumes.txt'), 'a') as f:\n",
    "                  f.write(f'z0_{z0_value:.1f}_z1_{z1_value:.1f}: {volume*1e7:.1f}\\n')"
   ]
  },
  {
   "cell_type": "code",
   "execution_count": 10,
   "metadata": {},
   "outputs": [
    {
     "name": "stdout",
     "output_type": "stream",
     "text": [
      "z0_-1.0_z1_range_-0.80_-0.60 (Average Volume): 6601.1\n",
      "z0_-1.0_z1_range_-0.60_-0.40 (Average Volume): 6490.9\n",
      "z0_-1.0_z1_range_-0.40_-0.20 (Average Volume): 6369.9\n",
      "z0_-1.0_z1_range_-0.20_0.00 (Average Volume): 6235.8\n",
      "z0_-1.0_z1_range_0.00_0.20 (Average Volume): 6092.8\n",
      "z0_-1.0_z1_range_0.20_0.40 (Average Volume): 5927.4\n",
      "z0_1.0_z1_range_-0.80_-0.60 (Average Volume): 6730.2\n",
      "z0_1.0_z1_range_-0.60_-0.40 (Average Volume): 6627.1\n",
      "z0_1.0_z1_range_-0.40_-0.20 (Average Volume): 6511.8\n",
      "z0_1.0_z1_range_-0.20_0.00 (Average Volume): 6380.6\n",
      "z0_1.0_z1_range_0.00_0.20 (Average Volume): 6229.2\n",
      "z0_1.0_z1_range_0.20_0.40 (Average Volume): 6043.8\n",
      "[1.29040909090908e-05]\n",
      "[1.29040909090908e-05, 1.3617761904762102e-05]\n",
      "[1.29040909090908e-05, 1.3617761904762102e-05, 1.4187428571428486e-05]\n",
      "[1.29040909090908e-05, 1.3617761904762102e-05, 1.4187428571428486e-05, 1.447614285714281e-05]\n",
      "[1.29040909090908e-05, 1.3617761904762102e-05, 1.4187428571428486e-05, 1.447614285714281e-05, 1.3639047619047454e-05]\n",
      "[1.29040909090908e-05, 1.3617761904762102e-05, 1.4187428571428486e-05, 1.447614285714281e-05, 1.3639047619047454e-05, 1.1636714285714216e-05]\n"
     ]
    }
   ],
   "source": [
    "# Sample and save plots for different z0 and z1 values\n",
    "volume_z0_m1 = []\n",
    "volume_z0_p1 = []\n",
    "volume_differences = []\n",
    "\n",
    "# Define the range and increment for z1 values\n",
    "z1_start = -0.6\n",
    "z1_end = 0.7\n",
    "z1_increment = 0.01\n",
    "\n",
    "# Define the ranges for which you want to calculate average volumes\n",
    "z1_ranges = [\n",
    "    (-0.6, -0.4),\n",
    "    (-0.4, -0.2),\n",
    "    (-0.2, 0.0),\n",
    "    (0.0, 0.2),\n",
    "    (0.2, 0.4),\n",
    "    (0.4, 0.6),\n",
    "]\n",
    "\n",
    "for z0_value in [-1, 1]:\n",
    "    for z1_range in z1_ranges:\n",
    "        z1_range_start, z1_range_end = z1_range\n",
    "        volumes_for_z1_range = []\n",
    "\n",
    "        for z1_value in np.arange(z1_range_start, z1_range_end + z1_increment, z1_increment):\n",
    "            verts, faces = visualize_and_save(z0_value, z1_value)\n",
    "            #verts_all.append(verts)\n",
    "            #faces_all.append(faces)\n",
    "            mesh = o3d.geometry.TriangleMesh()\n",
    "            mesh.vertices = o3d.utility.Vector3dVector(verts)\n",
    "            mesh.triangles = o3d.utility.Vector3iVector(faces)\n",
    "            volume = calculate_volume_voxelization(mesh)\n",
    "            volumes_for_z1_range.append(volume)\n",
    "\n",
    "        # Calculate and print the average volume for the current z1 range\n",
    "        average_volume = sum(volumes_for_z1_range) / len(volumes_for_z1_range)\n",
    "\n",
    "        if z0_value == -1:\n",
    "            volume_z0_m1.append(average_volume)\n",
    "\n",
    "        if z0_value == 1:\n",
    "            volume_z0_p1.append(average_volume)\n",
    "        \n",
    "        # Print and save the average volume without detailed range information\n",
    "        print(f'z0_{z0_value:.1f}_z1_range_{z1_range_start:.2f}_{z1_range_end:.2f} (Average Volume): {average_volume*1e7:.1f}')\n",
    "\n",
    "        # Save average volumes to a text file\n",
    "        with open(os.path.join(output_dir, 'average_volumes.txt'), 'a') as f:\n",
    "            f.write(f'z0_{z0_value:.1f}_z1_range_{z1_range_start:.2f}_{z1_range_end:.2f} (Average Volume): {average_volume*1e7:.1f}\\n')\n",
    "\n",
    "# Calculate and store individual volume differences for each range\n",
    "for i in range(len(z1_ranges)):\n",
    "    volume_difference = volume_z0_p1[i] - volume_z0_m1[i]\n",
    "    volume_differences.append(volume_difference)\n",
    "    print(volume_differences)\n"
   ]
  },
  {
   "cell_type": "code",
   "execution_count": 17,
   "metadata": {},
   "outputs": [
    {
     "name": "stdout",
     "output_type": "stream",
     "text": [
      "[129.040909090908, 136.17761904762102, 141.87428571428487, 144.7614285714281, 136.39047619047454, 116.36714285714217]\n"
     ]
    }
   ],
   "source": [
    "volume_differences = []\n",
    "for i in range(len(z1_ranges)):\n",
    "    volume_difference = (volume_z0_p1[i] - volume_z0_m1[i])*1e7\n",
    "    volume_differences.append(volume_difference)\n",
    "print(volume_differences)"
   ]
  },
  {
   "cell_type": "code",
   "execution_count": 1,
   "metadata": {},
   "outputs": [
    {
     "ename": "NameError",
     "evalue": "name 'volume_differences' is not defined",
     "output_type": "error",
     "traceback": [
      "\u001b[0;31m---------------------------------------------------------------------------\u001b[0m",
      "\u001b[0;31mNameError\u001b[0m                                 Traceback (most recent call last)",
      "\u001b[1;32m/home/jakaria/Explaining_Shape_Variability/src/DeepLearning/compute_canada/guided_vae/reconstruction/test.ipynb Cell 14\u001b[0m line \u001b[0;36m1\n\u001b[1;32m     <a href='vscode-notebook-cell://ssh-remote%2Baot.cs.ualberta.ca/home/jakaria/Explaining_Shape_Variability/src/DeepLearning/compute_canada/guided_vae/reconstruction/test.ipynb#X16sdnNjb2RlLXJlbW90ZQ%3D%3D?line=12'>13</a>\u001b[0m x_axis_labels \u001b[39m=\u001b[39m [\u001b[39mf\u001b[39m\u001b[39m'\u001b[39m\u001b[39m{\u001b[39;00mstart\u001b[39m}\u001b[39;00m\u001b[39m-\u001b[39m\u001b[39m{\u001b[39;00mend\u001b[39m}\u001b[39;00m\u001b[39m'\u001b[39m \u001b[39mfor\u001b[39;00m start, end \u001b[39min\u001b[39;00m age_ranges]\n\u001b[1;32m     <a href='vscode-notebook-cell://ssh-remote%2Baot.cs.ualberta.ca/home/jakaria/Explaining_Shape_Variability/src/DeepLearning/compute_canada/guided_vae/reconstruction/test.ipynb#X16sdnNjb2RlLXJlbW90ZQ%3D%3D?line=14'>15</a>\u001b[0m plt\u001b[39m.\u001b[39mfigure(figsize\u001b[39m=\u001b[39m(\u001b[39m10\u001b[39m, \u001b[39m6\u001b[39m))\n\u001b[0;32m---> <a href='vscode-notebook-cell://ssh-remote%2Baot.cs.ualberta.ca/home/jakaria/Explaining_Shape_Variability/src/DeepLearning/compute_canada/guided_vae/reconstruction/test.ipynb#X16sdnNjb2RlLXJlbW90ZQ%3D%3D?line=15'>16</a>\u001b[0m plt\u001b[39m.\u001b[39mplot(volume_differences, marker\u001b[39m=\u001b[39m\u001b[39m'\u001b[39m\u001b[39mo\u001b[39m\u001b[39m'\u001b[39m, linestyle\u001b[39m=\u001b[39m\u001b[39m'\u001b[39m\u001b[39m-\u001b[39m\u001b[39m'\u001b[39m, color\u001b[39m=\u001b[39m\u001b[39m'\u001b[39m\u001b[39mb\u001b[39m\u001b[39m'\u001b[39m)\n\u001b[1;32m     <a href='vscode-notebook-cell://ssh-remote%2Baot.cs.ualberta.ca/home/jakaria/Explaining_Shape_Variability/src/DeepLearning/compute_canada/guided_vae/reconstruction/test.ipynb#X16sdnNjb2RlLXJlbW90ZQ%3D%3D?line=16'>17</a>\u001b[0m plt\u001b[39m.\u001b[39mtitle(\u001b[39m'\u001b[39m\u001b[39mVolume Differences vs. Age Ranges\u001b[39m\u001b[39m'\u001b[39m)\n\u001b[1;32m     <a href='vscode-notebook-cell://ssh-remote%2Baot.cs.ualberta.ca/home/jakaria/Explaining_Shape_Variability/src/DeepLearning/compute_canada/guided_vae/reconstruction/test.ipynb#X16sdnNjb2RlLXJlbW90ZQ%3D%3D?line=17'>18</a>\u001b[0m plt\u001b[39m.\u001b[39mxlabel(\u001b[39m'\u001b[39m\u001b[39mAge Range\u001b[39m\u001b[39m'\u001b[39m)\n",
      "\u001b[0;31mNameError\u001b[0m: name 'volume_differences' is not defined"
     ]
    },
    {
     "data": {
      "text/plain": [
       "<Figure size 1000x600 with 0 Axes>"
      ]
     },
     "metadata": {},
     "output_type": "display_data"
    }
   ],
   "source": [
    "import matplotlib.pyplot as plt\n",
    "# Create custom x-axis labels\n",
    "#TLE 18 to 73\n",
    "age_ranges = [\n",
    "    (18, 26),\n",
    "    (27, 35),\n",
    "    (36, 44),\n",
    "    (45, 53),\n",
    "    (54, 62),\n",
    "    (63, 71),\n",
    "]\n",
    "# Create custom x-axis labels\n",
    "x_axis_labels = [f'{start}-{end}' for start, end in age_ranges]\n",
    "\n",
    "plt.figure(figsize=(10, 6))\n",
    "plt.plot(volume_differences, marker='o', linestyle='-', color='b')\n",
    "plt.title('Volume Differences vs. Age Ranges')\n",
    "plt.xlabel('Age Range')\n",
    "plt.ylabel('Volume Differences ($mm^3$)')\n",
    "plt.xticks(range(len(z1_ranges)), x_axis_labels, rotation=45)\n",
    "plt.grid(True)\n",
    "plt.tight_layout()\n",
    "\n",
    "# Show the plot\n",
    "plt.show()"
   ]
  },
  {
   "cell_type": "code",
   "execution_count": 10,
   "metadata": {},
   "outputs": [
    {
     "data": {
      "application/vnd.jupyter.widget-view+json": {
       "model_id": "6a9011027e4e4004b9c5e996d61eaa5e",
       "version_major": 2,
       "version_minor": 0
      },
      "text/plain": [
       "Renderer(camera=PerspectiveCamera(children=(DirectionalLight(color='white', intensity=0.6, position=(-0.004293…"
      ]
     },
     "metadata": {},
     "output_type": "display_data"
    },
    {
     "data": {
      "application/vnd.jupyter.widget-view+json": {
       "model_id": "98144725a00646baa084cde6f45fecf8",
       "version_major": 2,
       "version_minor": 0
      },
      "text/plain": [
       "Renderer(camera=PerspectiveCamera(children=(DirectionalLight(color='white', intensity=0.6, position=(-0.002791…"
      ]
     },
     "metadata": {},
     "output_type": "display_data"
    }
   ],
   "source": [
    "for i in range(2):\n",
    "    mp.plot(verts_all[i], faces_all[i], c=np.array(white_color))"
   ]
  },
  {
   "cell_type": "code",
   "execution_count": null,
   "metadata": {},
   "outputs": [],
   "source": [
    "# Define file paths for saving vertices and faces\n",
    "vertices_file = os.path.join(output_dir,\"mesh_vertices.npy\")\n",
    "faces_file = os.path.join(output_dir,\"mesh_faces.npy\")\n",
    "\n",
    "\n",
    "# Save vertices and faces to separate .npy files\n",
    "np.save(vertices_file, verts_all)\n",
    "np.save(faces_file, faces_all)"
   ]
  },
  {
   "cell_type": "code",
   "execution_count": null,
   "metadata": {},
   "outputs": [],
   "source": [
    "# Calculate the distances between corresponding vertices\n",
    "distances = np.linalg.norm(verts_all[1] - verts_all[0], axis=1)\n",
    "\n",
    "# Create Open3D TriangleMesh objects\n",
    "mesh1 = o3d.geometry.TriangleMesh()\n",
    "mesh1.vertices = o3d.utility.Vector3dVector(verts_all[1])\n",
    "mesh1.compute_vertex_normals()\n",
    "\n",
    "mesh2 = o3d.geometry.TriangleMesh()\n",
    "mesh2.vertices = o3d.utility.Vector3dVector(verts_all[0])\n",
    "mesh2.compute_vertex_normals()\n",
    "\n",
    "# Create a color mapping based on distances\n",
    "# You can adjust the color thresholds as needed\n",
    "color_map = o3d.visualization.draw_plotly([mesh1, mesh2])\n",
    "\n",
    "# Normalize distances to the range [0, 1] for colormap mapping\n",
    "normalized_distances = (distances - distances.min()) / (distances.max() - distances.min())\n",
    "\n",
    "# Map distances to colors using the colormap\n",
    "colors = np.asarray(color_map(normalized_distances))[:, :3]  # Extract RGB values\n",
    "\n",
    "# Set the base color of mesh2 to white (or any other base color)\n",
    "mesh2.paint_uniform_color([1, 1, 1])\n",
    "\n",
    "# Assign the calculated colors to the faces of mesh2\n",
    "mesh2.vertex_colors = o3d.utility.Vector3dVector(colors)\n",
    "\n",
    "# Visualize both meshes\n",
    "o3d.visualization.draw_plotly([mesh1, mesh2])"
   ]
  },
  {
   "cell_type": "code",
   "execution_count": null,
   "metadata": {},
   "outputs": [],
   "source": [
    "\n",
    "# Calculate distance between meshes and create color-coded plots\n",
    "z[1] = 0.2  # Set a specific value for z[1]\n",
    "distances = np.zeros((len(np.arange(-1, 1.2, 0.2)), len([-1, 1])))\n",
    "for i, z0_value in enumerate([-1, 1]):\n",
    "    for j, z1_value in enumerate(np.arange(-1, 1.2, 0.2)):\n",
    "        visualize_and_save(z0_value, z1_value)\n",
    "        mesh1 = o3d.geometry.TriangleMesh.create_from_points(verts)\n",
    "        mesh2 = o3d.geometry.TriangleMesh.create_from_points(verts)\n",
    "        distances[j, i] = calculate_distance(mesh1, mesh2)\n",
    "\n",
    "# Save distances as a color-coded plot\n",
    "import matplotlib.pyplot as plt\n",
    "plt.imshow(distances, cmap='viridis', origin='lower', extent=[-1, 1, -1, 1])\n",
    "plt.colorbar(label='Distance')\n",
    "plt.xlabel('z[0]')\n",
    "plt.ylabel('z[1]')\n",
    "plt.title('Distance Heatmap')\n",
    "plt.savefig(os.path.join(output_dir, 'distance_heatmap.png'))\n"
   ]
  },
  {
   "cell_type": "code",
   "execution_count": 17,
   "metadata": {},
   "outputs": [
    {
     "data": {
      "text/plain": [
       "-0.54"
      ]
     },
     "execution_count": 17,
     "metadata": {},
     "output_type": "execute_result"
    }
   ],
   "source": [
    "np.interp(0.77, [0,1], [1,-1])"
   ]
  },
  {
   "cell_type": "code",
   "execution_count": 16,
   "metadata": {},
   "outputs": [
    {
     "data": {
      "text/plain": [
       "0.7"
      ]
     },
     "execution_count": 16,
     "metadata": {},
     "output_type": "execute_result"
    }
   ],
   "source": [
    "np.interp(0.15, [0,1], [1,-1])"
   ]
  }
 ],
 "metadata": {
  "kernelspec": {
   "display_name": "pytorch_geo",
   "language": "python",
   "name": "python3"
  },
  "language_info": {
   "codemirror_mode": {
    "name": "ipython",
    "version": 3
   },
   "file_extension": ".py",
   "mimetype": "text/x-python",
   "name": "python",
   "nbconvert_exporter": "python",
   "pygments_lexer": "ipython3",
   "version": "3.10.9"
  },
  "orig_nbformat": 4
 },
 "nbformat": 4,
 "nbformat_minor": 2
}
