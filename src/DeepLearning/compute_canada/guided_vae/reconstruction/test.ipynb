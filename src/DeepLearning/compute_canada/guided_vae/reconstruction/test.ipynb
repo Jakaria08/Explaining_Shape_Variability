{
 "cells": [
  {
   "cell_type": "code",
   "execution_count": 1,
   "metadata": {},
   "outputs": [
    {
     "name": "stdout",
     "output_type": "stream",
     "text": [
      "Jupyter environment detected. Enabling Open3D WebVisualizer.\n",
      "[Open3D INFO] WebRTC GUI backend enabled.\n",
      "[Open3D INFO] WebRTCWindowSystem: HTTP handshake server disabled.\n"
     ]
    }
   ],
   "source": [
    "import torch\n",
    "from reconstruction import AE\n",
    "from datasets import MeshData\n",
    "from utils import utils, DataLoader, mesh_sampling, sap\n",
    "import numpy as np\n",
    "import pyvista as pv\n",
    "from skimage import measure\n",
    "from ipywidgets import interact, interactive, fixed, interact_manual, FloatSlider\n",
    "from IPython.display import display\n",
    "import meshplot as mp\n",
    "import os, sys\n",
    "from math import ceil\n",
    "from scipy.ndimage import zoom\n",
    "import open3d as o3d"
   ]
  },
  {
   "cell_type": "code",
   "execution_count": 2,
   "metadata": {},
   "outputs": [],
   "source": [
    "# Meshplot left an annoying print statement in their code. Using this context manager to supress it...\n",
    "class HiddenPrints:\n",
    "    def __enter__(self):\n",
    "        self._original_stdout = sys.stdout\n",
    "        sys.stdout = open(os.devnull, 'w')\n",
    "\n",
    "    def __exit__(self, exc_type, exc_val, exc_tb):\n",
    "        sys.stdout.close()\n",
    "        sys.stdout = self._original_stdout"
   ]
  },
  {
   "cell_type": "code",
   "execution_count": 3,
   "metadata": {},
   "outputs": [
    {
     "data": {
      "text/plain": [
       "AE(\n",
       "  (en_layers): ModuleList(\n",
       "    (0): SpiralEnblock(\n",
       "      (conv): SpiralConv(3, 32, seq_length=9)\n",
       "    )\n",
       "    (1-2): 2 x SpiralEnblock(\n",
       "      (conv): SpiralConv(32, 32, seq_length=9)\n",
       "    )\n",
       "    (3): SpiralEnblock(\n",
       "      (conv): SpiralConv(32, 64, seq_length=9)\n",
       "    )\n",
       "    (4): Linear(in_features=11392, out_features=24, bias=True)\n",
       "  )\n",
       "  (de_layers): ModuleList(\n",
       "    (0): Linear(in_features=12, out_features=11392, bias=True)\n",
       "    (1): SpiralDeblock(\n",
       "      (conv): SpiralConv(64, 64, seq_length=9)\n",
       "    )\n",
       "    (2): SpiralDeblock(\n",
       "      (conv): SpiralConv(64, 32, seq_length=9)\n",
       "    )\n",
       "    (3-4): 2 x SpiralDeblock(\n",
       "      (conv): SpiralConv(32, 32, seq_length=9)\n",
       "    )\n",
       "    (5): SpiralConv(32, 3, seq_length=9)\n",
       "  )\n",
       "  (cls_sq): Sequential(\n",
       "    (0): Linear(in_features=1, out_features=8, bias=True)\n",
       "    (1): BatchNorm1d(8, eps=1e-05, momentum=0.1, affine=True, track_running_stats=True)\n",
       "    (2): LeakyReLU(negative_slope=0.2, inplace=True)\n",
       "    (3): Linear(in_features=8, out_features=8, bias=True)\n",
       "    (4): BatchNorm1d(8, eps=1e-05, momentum=0.1, affine=True, track_running_stats=True)\n",
       "    (5): LeakyReLU(negative_slope=0.2, inplace=True)\n",
       "    (6): Linear(in_features=8, out_features=1, bias=True)\n",
       "    (7): Sigmoid()\n",
       "  )\n",
       "  (reg_sq_2): Sequential(\n",
       "    (0): Linear(in_features=1, out_features=8, bias=True)\n",
       "    (1): BatchNorm1d(8, eps=1e-05, momentum=0.1, affine=True, track_running_stats=True)\n",
       "    (2): LeakyReLU(negative_slope=0.2, inplace=True)\n",
       "    (3): Linear(in_features=8, out_features=8, bias=True)\n",
       "    (4): BatchNorm1d(8, eps=1e-05, momentum=0.1, affine=True, track_running_stats=True)\n",
       "    (5): LeakyReLU(negative_slope=0.2, inplace=True)\n",
       "    (6): Linear(in_features=8, out_features=1, bias=True)\n",
       "  )\n",
       ")"
      ]
     },
     "execution_count": 3,
     "metadata": {},
     "output_type": "execute_result"
    }
   ],
   "source": [
    "device = torch.device('cuda', 0)\n",
    "# Set the path to the saved model directory\n",
    "#model_path = \"/home/jakaria/torus_bump_500_three_scale_binary_bump_variable_noise_fixed_angle/models_classification_regression_contrastive_loss_only/models/199\"\n",
    "model_path = \"/home/jakaria/Explaining_Shape_Variability/src/DeepLearning/compute_canada/guided_vae/data/CoMA/raw/hippocampus/models/5\"\n",
    "# Load the saved model\n",
    "model_state_dict = torch.load(f\"{model_path}/model_state_dict.pt\")\n",
    "in_channels = torch.load(f\"{model_path}/in_channels.pt\")\n",
    "out_channels = torch.load(f\"{model_path}/out_channels.pt\")\n",
    "latent_channels = torch.load(f\"{model_path}/latent_channels.pt\")\n",
    "spiral_indices_list = torch.load(f\"{model_path}/spiral_indices_list.pt\")\n",
    "up_transform_list = torch.load(f\"{model_path}/up_transform_list.pt\")\n",
    "down_transform_list = torch.load(f\"{model_path}/down_transform_list.pt\")\n",
    "std = torch.load(f\"{model_path}/std.pt\")\n",
    "mean = torch.load(f\"{model_path}/mean.pt\")\n",
    "template_face = torch.load(f\"{model_path}/faces.pt\")\n",
    "\n",
    "# Create an instance of the model\n",
    "model = AE(in_channels, out_channels, latent_channels,\n",
    "           spiral_indices_list, down_transform_list,\n",
    "           up_transform_list)\n",
    "model.load_state_dict(model_state_dict)\n",
    "model.to(device)\n",
    "# Set the model to evaluation mode\n",
    "model.eval()"
   ]
  },
  {
   "cell_type": "code",
   "execution_count": 22,
   "metadata": {},
   "outputs": [
    {
     "data": {
      "application/vnd.jupyter.widget-view+json": {
       "model_id": "5512bc5138cc49ef987a0d39577577d4",
       "version_major": 2,
       "version_minor": 0
      },
      "text/plain": [
       "interactive(children=(FloatSlider(value=0.0, description='z[0]', max=1.0, min=-1.0, step=0.2), FloatSlider(val…"
      ]
     },
     "metadata": {},
     "output_type": "display_data"
    }
   ],
   "source": [
    "rotation_matrix = np.array([[np.cos(np.pi), -np.sin(np.pi), 0],\n",
    "                            [np.sin(np.pi), np.cos(np.pi), 0],\n",
    "                            [0, 0, 1]]) #z axic\n",
    "z = torch.zeros(12)\n",
    "plot=None\n",
    "@mp.interact(**{f'z[{i}]': FloatSlider(min=-1, max=1, step=0.2, value=0) for i in range(12)})\n",
    "def show(**kwargs):\n",
    "    global plot\n",
    "    global z\n",
    "    z = torch.tensor([kwargs[f'z[{i}]'] for i in range(12)])\n",
    "    with torch.no_grad():\n",
    "        z = z.to(device)\n",
    "        #print(z)\n",
    "        pred = model.decoder(z)\n",
    "\n",
    "        reshaped_pred = (pred.view(-1, 3).cpu() * std) + mean\n",
    "        reshaped_pred = reshaped_pred.cpu().numpy()\n",
    "        print(reshaped_pred.shape)\n",
    "\n",
    "    verts = reshaped_pred\n",
    "    #verts = o3d.utility.Vector3dVector(np.dot(np.asarray(verts), rotation_matrix.T))\n",
    "    verts = np.dot(np.asarray(verts), rotation_matrix.T)\n",
    "\n",
    "    pcd = o3d.io.read_triangle_mesh('/home/jakaria/Explaining_Shape_Variability/src/DeepLearning/compute_canada/guided_vae/data/CoMA/raw/hippocampus/template/template.ply')\n",
    "    faces = np.asarray(pcd.triangles)\n",
    "    #print(verts)\n",
    "    #print(faces)\n",
    "\n",
    "    # Define a threshold for separating the objects based on x-values\n",
    "    x_threshold = 0.0\n",
    "\n",
    "    # Separate vertices and faces for the first object (x < x_threshold)\n",
    "    verts_object1 = verts[verts[:, 0] < x_threshold]\n",
    "    faces_object1 = [face for face in faces if (verts[face, 0] < x_threshold).all()]\n",
    "\n",
    "    # Separate vertices and faces for the second object (x >= x_threshold)\n",
    "    verts_object2 = verts[verts[:, 0] >= x_threshold]\n",
    "    faces_object2 = [face for face in faces if (verts[face, 0] >= x_threshold).all()]\n",
    "\n",
    "    # Convert lists to NumPy arrays\n",
    "    verts_object1 = np.array(verts_object1)\n",
    "    faces_object1 = np.array(faces_object1)\n",
    "    verts_object2 = np.array(verts_object2)\n",
    "    faces_object2 = np.array(faces_object2)\n",
    "\n",
    "\n",
    "    print(verts_object1.shape)\n",
    "    print(faces_object1.shape)\n",
    "\n",
    "    #o3d.visualization.draw_geometries([tri_mesh])\n",
    "    #o3d.visualization.draw_plotly([point_cloud])\n",
    "    \n",
    "    #with np.printoptions(threshold=np.inf):\n",
    "        #print(verts_object1)\n",
    "\n",
    "    white_color = [1.0, 1.0, 1.0]\n",
    "    grey_color = [0.5, 0.5, 0.5]\n",
    "\n",
    "    if plot is None:\n",
    "        #plot = mp.plot(verts_object1)\n",
    "        plot = mp.plot(verts, faces, c=np.array(white_color), return_plot=True)\n",
    "    else:\n",
    "        with HiddenPrints():\n",
    "            plot.update_object(vertices=verts, faces=faces)\n",
    "            #plot.update_object(vertices=verts_object1)\n",
    "        display(plot._renderer)\n"
   ]
  },
  {
   "cell_type": "code",
   "execution_count": null,
   "metadata": {},
   "outputs": [],
   "source": [
    "latent_channels = torch.load(f\"{model_path}/latent_channels.pt\")\n",
    "angles = torch.load(f\"{model_path}/angles.pt\")"
   ]
  },
  {
   "cell_type": "code",
   "execution_count": 13,
   "metadata": {},
   "outputs": [
    {
     "name": "stdout",
     "output_type": "stream",
     "text": [
      "tensor([[0.0000, 0.0500, 0.1000, 0.8000],\n",
      "        [0.0500, 0.0000, 0.0500, 0.7500],\n",
      "        [0.1000, 0.0500, 0.0000, 0.7000],\n",
      "        [0.8000, 0.7500, 0.7000, 0.0000]])\n",
      "tensor([[ True,  True, False, False],\n",
      "        [ True,  True,  True, False],\n",
      "        [False,  True,  True, False],\n",
      "        [False, False, False,  True]])\n"
     ]
    }
   ],
   "source": [
    "import torch\n",
    "\n",
    "# Sample flattened labels\n",
    "y_expanded = torch.tensor([[1.0, 0.95, 0.9, 0.2]])\n",
    "threshold = 0.05001\n",
    "\n",
    "abs_diff_matrix = torch.abs(y_expanded - y_expanded.t())\n",
    "same_class_mask = abs_diff_matrix <= threshold\n",
    "\n",
    "print(abs_diff_matrix)\n",
    "print(same_class_mask)\n"
   ]
  },
  {
   "cell_type": "code",
   "execution_count": 5,
   "metadata": {},
   "outputs": [],
   "source": [
    "model_path_root = \"/home/jakaria/torus_bump_500_three_scale_binary_bump_variable_noise_fixed_angle/models_classification_regression_only_correlation_loss/models\"\n",
    "trials = torch.load(f\"{model_path_root}/intermediate_trials.pt\")\n",
    "trials"
   ]
  },
  {
   "cell_type": "code",
   "execution_count": 18,
   "metadata": {},
   "outputs": [],
   "source": [
    "import numpy as np\n",
    "import os\n",
    "import torch\n",
    "import meshplot as mp\n",
    "from ipywidgets import interact, FloatSlider\n",
    "from scipy.spatial import distance\n",
    "import open3d as o3d\n",
    "from skimage import measure\n",
    "from contextlib import contextmanager"
   ]
  },
  {
   "cell_type": "code",
   "execution_count": 19,
   "metadata": {},
   "outputs": [],
   "source": [
    "# Function to calculate distance between two point clouds (meshes)\n",
    "def calculate_distance(mesh1, mesh2):\n",
    "    return distance.directed_hausdorff(mesh1.vertices, mesh2.vertices)[0]\n",
    "\n",
    "# Create a directory to save plots and results\n",
    "output_dir = \"/home/jakaria/save_plots\"\n",
    "os.makedirs(output_dir, exist_ok=True)\n",
    "\n",
    "# Function to save plots\n",
    "def save_plot(plot, filename):\n",
    "    plot.save(os.path.join(output_dir, filename))\n",
    "\n",
    "def calculate_volume_voxelization(mesh):\n",
    "    voxel_grid = o3d.geometry.VoxelGrid.create_from_triangle_mesh(mesh, voxel_size=0.001)\n",
    "    voxel_count = len(voxel_grid.get_voxels())\n",
    "    voxel_volume = voxel_grid.voxel_size ** 3\n",
    "    volume = voxel_count * voxel_volume\n",
    "    return volume\n",
    "\n",
    "white_color = [1.0, 1.0, 1.0]\n",
    "grey_color = [0.5, 0.5, 0.5]"
   ]
  },
  {
   "cell_type": "code",
   "execution_count": 41,
   "metadata": {},
   "outputs": [],
   "source": [
    "# Function to visualize, save plots, and calculate distances and volumes\n",
    "def visualize_and_save(z0, z1):\n",
    "    global plot\n",
    "    global z\n",
    "\n",
    "    z[0] = z0\n",
    "    z[1] = z1\n",
    "\n",
    "    with torch.no_grad():\n",
    "        z = z.to(device)\n",
    "        pred = model.decoder(z)\n",
    "\n",
    "        reshaped_pred = (pred.view(-1, 3).cpu() * std) + mean\n",
    "        verts = reshaped_pred.cpu().numpy()\n",
    "\n",
    "    verts = np.dot(np.asarray(verts), rotation_matrix.T)\n",
    "\n",
    "    pcd = o3d.io.read_triangle_mesh('/home/jakaria/Explaining_Shape_Variability/src/DeepLearning/compute_canada/guided_vae/data/CoMA/raw/hippocampus/template/template.ply')\n",
    "    faces = np.asarray(pcd.triangles)\n",
    "\n",
    "    white_color = [1.0, 1.0, 1.0]\n",
    "    grey_color = [0.5, 0.5, 0.5]\n",
    "     \n",
    "    #mp.subplot(verts, faces, c=np.array(white_color), s=[2, 2, 0])\n",
    "    #plot = mp.plot(verts, faces, c=np.array(white_color), return_plot=True)\n",
    "    #save_plot(plot, f'z0_{z0:.1f}_z1_{z1:.1f}.png')\n",
    "    #print(verts.shape, faces.shape)\n",
    "    return verts, faces"
   ]
  },
  {
   "cell_type": "code",
   "execution_count": 43,
   "metadata": {},
   "outputs": [],
   "source": [
    "# Sample and save plots for different z[0] values while fixing z[1]\n",
    "verts_all = []\n",
    "faces_all = []\n",
    "for z1_value in np.arange(-1, 1.2, 0.2):\n",
    "        for z0_value in [-1, 1]:\n",
    "             verts, faces = visualize_and_save(z0_value, z1_value)\n",
    "             verts_all.append(verts)\n",
    "             faces_all.append(faces)\n",
    "             mesh = o3d.geometry.TriangleMesh()\n",
    "             mesh.vertices = o3d.utility.Vector3dVector(verts)\n",
    "             mesh.triangles = o3d.utility.Vector3iVector(faces)\n",
    "             volume = calculate_volume_voxelization(mesh)\n",
    "             #print(volume)\n",
    "             # Save volumes to a text file\n",
    "             with open(os.path.join(output_dir, 'volumes.txt'), 'a') as f:\n",
    "                  f.write(f'z0_{z0_value:.1f}_z1_{z1_value:.1f}: {volume*1e7:.1f}\\n')"
   ]
  },
  {
   "cell_type": "code",
   "execution_count": 44,
   "metadata": {},
   "outputs": [
    {
     "ename": "NameError",
     "evalue": "name 'white_color' is not defined",
     "output_type": "error",
     "traceback": [
      "\u001b[0;31m---------------------------------------------------------------------------\u001b[0m",
      "\u001b[0;31mNameError\u001b[0m                                 Traceback (most recent call last)",
      "\u001b[1;32m/home/jakaria/Explaining_Shape_Variability/src/DeepLearning/compute_canada/guided_vae/reconstruction/test.ipynb Cell 12\u001b[0m line \u001b[0;36m1\n\u001b[0;32m----> <a href='vscode-notebook-cell://ssh-remote%2Baot.cs.ualberta.ca/home/jakaria/Explaining_Shape_Variability/src/DeepLearning/compute_canada/guided_vae/reconstruction/test.ipynb#X15sdnNjb2RlLXJlbW90ZQ%3D%3D?line=0'>1</a>\u001b[0m mp\u001b[39m.\u001b[39msubplot(verts, faces, c\u001b[39m=\u001b[39mnp\u001b[39m.\u001b[39marray(white_color), s\u001b[39m=\u001b[39m[\u001b[39m2\u001b[39m, \u001b[39m11\u001b[39m, \u001b[39m0\u001b[39m])\n",
      "\u001b[0;31mNameError\u001b[0m: name 'white_color' is not defined"
     ]
    }
   ],
   "source": [
    "mp.subplot(verts, faces, c=np.array(white_color), s=[2, 11, 0])"
   ]
  },
  {
   "cell_type": "code",
   "execution_count": null,
   "metadata": {},
   "outputs": [],
   "source": [
    "\n",
    "# Calculate distance between meshes and create color-coded plots\n",
    "z[1] = 0.2  # Set a specific value for z[1]\n",
    "distances = np.zeros((len(np.arange(-1, 1.2, 0.2)), len([-1, 1])))\n",
    "for i, z0_value in enumerate([-1, 1]):\n",
    "    for j, z1_value in enumerate(np.arange(-1, 1.2, 0.2)):\n",
    "        visualize_and_save(z0_value, z1_value)\n",
    "        mesh1 = o3d.geometry.TriangleMesh.create_from_points(verts)\n",
    "        mesh2 = o3d.geometry.TriangleMesh.create_from_points(verts)\n",
    "        distances[j, i] = calculate_distance(mesh1, mesh2)\n",
    "\n",
    "# Save distances as a color-coded plot\n",
    "import matplotlib.pyplot as plt\n",
    "plt.imshow(distances, cmap='viridis', origin='lower', extent=[-1, 1, -1, 1])\n",
    "plt.colorbar(label='Distance')\n",
    "plt.xlabel('z[0]')\n",
    "plt.ylabel('z[1]')\n",
    "plt.title('Distance Heatmap')\n",
    "plt.savefig(os.path.join(output_dir, 'distance_heatmap.png'))\n"
   ]
  }
 ],
 "metadata": {
  "kernelspec": {
   "display_name": "pytorch_geo",
   "language": "python",
   "name": "python3"
  },
  "language_info": {
   "codemirror_mode": {
    "name": "ipython",
    "version": 3
   },
   "file_extension": ".py",
   "mimetype": "text/x-python",
   "name": "python",
   "nbconvert_exporter": "python",
   "pygments_lexer": "ipython3",
   "version": "3.10.9"
  },
  "orig_nbformat": 4
 },
 "nbformat": 4,
 "nbformat_minor": 2
}
